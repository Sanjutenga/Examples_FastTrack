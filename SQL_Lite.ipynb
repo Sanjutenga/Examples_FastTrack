{
 "cells": [
  {
   "cell_type": "code",
   "execution_count": 2,
   "id": "ee5fcbe8",
   "metadata": {},
   "outputs": [],
   "source": [
    "import sqlite3   # importing drivers  sql is inmemory database   [.db]  -- Structured format"
   ]
  },
  {
   "cell_type": "code",
   "execution_count": 3,
   "id": "06d2ec0a",
   "metadata": {},
   "outputs": [],
   "source": [
    "db = sqlite3.connect(\"ineuron.db\")  # creating the .db file in local"
   ]
  },
  {
   "cell_type": "code",
   "execution_count": 4,
   "id": "2db45c24",
   "metadata": {},
   "outputs": [
    {
     "data": {
      "text/plain": [
       "'C:\\\\Users\\\\bhavi\\\\PythonFull'"
      ]
     },
     "execution_count": 4,
     "metadata": {},
     "output_type": "execute_result"
    }
   ],
   "source": [
    "pwd"
   ]
  },
  {
   "cell_type": "code",
   "execution_count": 5,
   "id": "4631e91c",
   "metadata": {},
   "outputs": [],
   "source": [
    "db = sqlite3.connect(\"rattuuu.db\")"
   ]
  },
  {
   "cell_type": "code",
   "execution_count": 6,
   "id": "540e3d2f",
   "metadata": {},
   "outputs": [
    {
     "name": "stdout",
     "output_type": "stream",
     "text": [
      " Volume in drive C is Windows\n",
      " Volume Serial Number is 9048-2C9E\n",
      "\n",
      " Directory of C:\\Users\\bhavi\\PythonFull\n",
      "\n",
      "21-11-2022  02:02 PM    <DIR>          .\n",
      "20-11-2022  02:01 PM    <DIR>          ..\n",
      "21-11-2022  01:43 PM    <DIR>          .ipynb_checkpoints\n",
      "03-09-2022  03:49 AM           269,312 _cairo.pyd\n",
      "03-09-2022  03:51 AM         1,249,792 _mforms.pyd\n",
      "09-11-2022  11:42 AM             3,985 Advance_PythonAssignment_2.ipynb\n",
      "10-11-2022  08:14 AM             2,844 Advance_PythonAssignment_3.ipynb\n",
      "11-11-2022  08:02 PM               992 Advance_PythonAssignment_4.ipynb\n",
      "03-09-2022  03:48 AM           144,896 Aga.Controls.dll\n",
      "06-05-2022  12:33 PM           806,400 antlr4-runtime.dll\n",
      "11-11-2022  01:23 PM             3,584 Assignment_8.ipynb\n",
      "10-11-2022  11:37 AM             4,929 Assignment_9.ipynb\n",
      "29-08-2022  02:51 PM         6,248,608 authentication_kerberos_client.dll\n",
      "29-08-2022  02:51 PM            53,920 authentication_ldap_sasl_client.dll\n",
      "03-09-2022  03:49 AM           555,008 base.dll\n",
      "03-09-2022  03:48 AM           115,200 base.windows.dll\n",
      "03-09-2022  03:49 AM           388,608 base.wr.dll\n",
      "03-09-2022  03:49 AM            47,049 cairo.py\n",
      "03-09-2022  03:50 AM           101,376 cdbc.dll\n",
      "03-09-2022  03:52 AM           224,256 db.mysql.diff.reporting.wbp.dll\n",
      "03-09-2022  03:52 AM           428,032 db.mysql.editors.wbp.be.dll\n",
      "03-09-2022  03:53 AM           280,064 db.mysql.editors.wbp.fe.dll\n",
      "03-09-2022  03:53 AM         3,024,384 db.mysql.editors.wbp.wr.dll\n",
      "03-09-2022  03:51 AM           519,168 db.mysql.grt.dll\n",
      "03-09-2022  03:51 AM         1,317,888 db.mysql.parser.grt.dll\n",
      "03-09-2022  03:50 AM           103,424 db.mysql.query.grt.dll\n",
      "03-09-2022  03:53 AM         2,312,704 db.mysql.sqlparser.grt.dll\n",
      "03-09-2022  03:51 AM           861,696 db.mysql.wbp.dll\n",
      "03-09-2022  03:51 AM           223,232 db.search.wbp.dll\n",
      "03-09-2022  03:42 AM             1,503 db_utils.py\n",
      "25-08-2022  11:27 AM        25,337,344 gdal.dll\n",
      "10-11-2022  09:03 AM                 0 glass.data\n",
      "10-11-2022  09:12 AM            11,903 glass1.txt\n",
      "31-05-2022  12:26 PM         1,503,232 glib-2.0-0.dll\n",
      "31-05-2022  12:26 PM            18,432 gmodule-2.0-0.dll\n",
      "31-05-2022  12:26 PM           395,264 gobject-2.0-0.dll\n",
      "03-09-2022  03:52 AM            90,624 grt.db.fe.dll\n",
      "03-09-2022  03:49 AM           856,576 grt.dll\n",
      "03-09-2022  03:42 AM            16,085 grt_python_debugger.py\n",
      "31-05-2022  12:26 PM            10,752 gthread-2.0-0.dll\n",
      "05-08-2020  11:27 AM           242,176 HTMLRenderer.dll\n",
      "05-08-2020  02:49 PM           939,008 iconv.dll\n",
      "21-11-2022  01:59 PM                 0 ineuron.db\n",
      "15-11-2022  06:08 PM           116,516 Internal_Python_DECORATOR_MAP_FILTER.ipynb\n",
      "03-05-2022  08:24 AM           921,600 libcairo.dll\n",
      "05-07-2022  03:01 PM         2,869,760 libcrypto-1_1-x64.dll\n",
      "03-05-2022  08:27 AM           195,072 libpng16.dll\n",
      "05-07-2022  03:01 PM           687,616 libssl-1_1-x64.dll\n",
      "29-08-2022  04:57 AM         1,412,608 libxml2.dll\n",
      "03-09-2022  03:42 AM           288,731 License.txt\n",
      "03-09-2022  03:51 AM           126,368 mforms.py\n",
      "03-09-2022  03:50 AM         4,170,240 mforms.wr.dll\n",
      "18-11-2022  08:38 PM           230,602 MONGO_DB.ipynb\n",
      "21-11-2022  12:49 PM           122,127 MongoDB_part2.ipynb\n",
      "03-09-2022  03:49 AM            90,624 mtemplate.dll\n",
      "08-11-2022  12:20 PM             2,605 mydict.py\n",
      "03-09-2022  03:49 AM           452,608 mysql.canvas.dll\n",
      "29-08-2022  02:51 PM         7,322,216 mysql.exe\n",
      "03-09-2022  03:50 AM         1,016,320 mysql.forms.dll\n",
      "03-09-2022  03:42 AM             2,725 mysql_system_status.vbs\n",
      "03-09-2022  03:42 AM             2,545 mysql_system_status_rmt.vbs\n",
      "02-09-2022  05:15 AM         9,449,472 mysqlcppconn-9-vs14.dll\n",
      "03-09-2022  03:51 AM           116,736 MySQLCsUtilities.dll\n",
      "29-08-2022  02:51 PM         7,280,752 mysqldump.exe\n",
      "03-09-2022  03:42 AM            38,396 mysqlwbmeb.py\n",
      "03-09-2022  03:42 AM            45,941 mysqlwbmeb.vbs\n",
      "03-09-2022  03:53 AM           511,488 MySQLWorkbench.exe\n",
      "03-09-2022  03:42 AM               184 MySQLWorkbench.exe.config\n",
      "03-09-2022  03:42 AM            82,726 MySQLWorkbenchDoc.ico\n",
      "25-08-2022  11:27 AM           115,712 ogr2ogr.exe\n",
      "25-08-2022  11:27 AM           117,760 ogrinfo.exe\n",
      "09-11-2022  01:11 AM            96,549 OOPS-Concept.ipynb\n",
      "03-09-2022  03:49 AM         3,695,616 parsers.dll\n",
      "22-08-2022  10:00 AM           243,200 pcre.dll\n",
      "22-08-2022  10:00 AM            52,224 pcrecpp.dll\n",
      "19-03-2021  09:27 PM           585,728 pixman-1-0.dll\n",
      "24-08-2022  05:43 PM            94,208 python.exe\n",
      "24-08-2022  05:43 PM         4,610,048 python37.dll\n",
      "21-11-2022  02:02 PM                 0 rattuuu.db\n",
      "03-09-2022  03:42 AM             2,999 README.md\n",
      "03-09-2022  03:49 AM         1,574,912 Scintilla.dll\n",
      "03-09-2022  03:42 AM             1,024 shell_snippets.py.txt\n",
      "10-11-2022  09:55 AM            82,955 SQL.ipynb\n",
      "21-11-2022  02:01 PM             1,037 SQL_Lite.ipynb\n",
      "10-11-2022  04:18 AM             2,775 SQL3.ipynb\n",
      "03-09-2022  03:51 AM            84,480 sqlide.fe.dll\n",
      "24-08-2022  07:02 PM         1,170,944 sqlite3.dll\n",
      "20-07-2022  08:35 PM           372,224 ssh.dll\n",
      "03-09-2022  03:42 AM            25,889 sshtunnel.py\n",
      "10-11-2022  10:04 AM                72 Untitled.ipynb\n",
      "03-09-2022  03:51 AM            34,816 utilities.grt.dll\n",
      "25-08-2022  09:11 AM           161,280 vsqlite++.dll\n",
      "03-09-2022  03:51 AM           128,000 wb.model.editors.wbp.be.dll\n",
      "03-09-2022  03:53 AM           102,400 wb.model.editors.wbp.fe.dll\n",
      "03-09-2022  03:52 AM         3,017,216 wb.model.editors.wbp.wr.dll\n",
      "03-09-2022  03:51 AM           263,168 wb.model.grt.dll\n",
      "03-09-2022  03:51 AM           105,472 wb.model.snippets.wbp.dll\n",
      "03-09-2022  03:51 AM            79,872 wb.printing.wbp.be.dll\n",
      "03-09-2022  03:53 AM            77,824 wb.printing.wbp.fe.dll\n",
      "03-09-2022  03:53 AM           893,440 wb.printing.wbp.wr.dll\n",
      "03-09-2022  03:42 AM            11,963 wb.py\n",
      "03-09-2022  03:49 AM            18,944 wbadminhelper.exe\n",
      "03-09-2022  03:42 AM             9,130 wbadminhelper.py\n",
      "03-09-2022  03:49 AM           271,872 WBControls.dll\n",
      "03-09-2022  03:42 AM               184 WBControls.dll.config\n",
      "03-09-2022  03:49 AM         7,152,128 wbcopytables.exe\n",
      "03-09-2022  03:52 AM           196,096 WbPlugins.dll\n",
      "03-09-2022  03:52 AM         4,971,520 wbprivate.be.dll\n",
      "03-09-2022  03:52 AM         4,890,624 wbprivate.wr.dll\n",
      "03-09-2022  03:50 AM         3,347,968 wbpublic.be.dll\n",
      "03-09-2022  03:51 AM         5,105,152 wbpublic.wr.dll\n",
      "03-09-2022  03:49 AM           140,800 wbssh.dll\n",
      "03-05-2022  08:26 AM           101,888 zip.dll\n",
      "03-05-2022  07:47 AM            83,968 zlib.dll\n",
      "             111 File(s)    130,366,909 bytes\n",
      "               3 Dir(s)  434,562,904,064 bytes free\n"
     ]
    }
   ],
   "source": [
    "ls"
   ]
  },
  {
   "cell_type": "code",
   "execution_count": 7,
   "id": "74751dc7",
   "metadata": {},
   "outputs": [],
   "source": [
    "import sqlite3"
   ]
  },
  {
   "cell_type": "code",
   "execution_count": 8,
   "id": "2e032074",
   "metadata": {},
   "outputs": [],
   "source": [
    "db = sqlite3.connect('rat.db')"
   ]
  },
  {
   "cell_type": "code",
   "execution_count": 9,
   "id": "8d7a898b",
   "metadata": {},
   "outputs": [
    {
     "name": "stdout",
     "output_type": "stream",
     "text": [
      " Volume in drive C is Windows\n",
      " Volume Serial Number is 9048-2C9E\n",
      "\n",
      " Directory of C:\\Users\\bhavi\\PythonFull\n",
      "\n",
      "21-11-2022  02:17 PM    <DIR>          .\n",
      "20-11-2022  02:01 PM    <DIR>          ..\n",
      "21-11-2022  01:43 PM    <DIR>          .ipynb_checkpoints\n",
      "03-09-2022  03:49 AM           269,312 _cairo.pyd\n",
      "03-09-2022  03:51 AM         1,249,792 _mforms.pyd\n",
      "09-11-2022  11:42 AM             3,985 Advance_PythonAssignment_2.ipynb\n",
      "10-11-2022  08:14 AM             2,844 Advance_PythonAssignment_3.ipynb\n",
      "11-11-2022  08:02 PM               992 Advance_PythonAssignment_4.ipynb\n",
      "03-09-2022  03:48 AM           144,896 Aga.Controls.dll\n",
      "06-05-2022  12:33 PM           806,400 antlr4-runtime.dll\n",
      "11-11-2022  01:23 PM             3,584 Assignment_8.ipynb\n",
      "10-11-2022  11:37 AM             4,929 Assignment_9.ipynb\n",
      "29-08-2022  02:51 PM         6,248,608 authentication_kerberos_client.dll\n",
      "29-08-2022  02:51 PM            53,920 authentication_ldap_sasl_client.dll\n",
      "03-09-2022  03:49 AM           555,008 base.dll\n",
      "03-09-2022  03:48 AM           115,200 base.windows.dll\n",
      "03-09-2022  03:49 AM           388,608 base.wr.dll\n",
      "03-09-2022  03:49 AM            47,049 cairo.py\n",
      "03-09-2022  03:50 AM           101,376 cdbc.dll\n",
      "03-09-2022  03:52 AM           224,256 db.mysql.diff.reporting.wbp.dll\n",
      "03-09-2022  03:52 AM           428,032 db.mysql.editors.wbp.be.dll\n",
      "03-09-2022  03:53 AM           280,064 db.mysql.editors.wbp.fe.dll\n",
      "03-09-2022  03:53 AM         3,024,384 db.mysql.editors.wbp.wr.dll\n",
      "03-09-2022  03:51 AM           519,168 db.mysql.grt.dll\n",
      "03-09-2022  03:51 AM         1,317,888 db.mysql.parser.grt.dll\n",
      "03-09-2022  03:50 AM           103,424 db.mysql.query.grt.dll\n",
      "03-09-2022  03:53 AM         2,312,704 db.mysql.sqlparser.grt.dll\n",
      "03-09-2022  03:51 AM           861,696 db.mysql.wbp.dll\n",
      "03-09-2022  03:51 AM           223,232 db.search.wbp.dll\n",
      "03-09-2022  03:42 AM             1,503 db_utils.py\n",
      "25-08-2022  11:27 AM        25,337,344 gdal.dll\n",
      "10-11-2022  09:03 AM                 0 glass.data\n",
      "10-11-2022  09:12 AM            11,903 glass1.txt\n",
      "31-05-2022  12:26 PM         1,503,232 glib-2.0-0.dll\n",
      "31-05-2022  12:26 PM            18,432 gmodule-2.0-0.dll\n",
      "31-05-2022  12:26 PM           395,264 gobject-2.0-0.dll\n",
      "03-09-2022  03:52 AM            90,624 grt.db.fe.dll\n",
      "03-09-2022  03:49 AM           856,576 grt.dll\n",
      "03-09-2022  03:42 AM            16,085 grt_python_debugger.py\n",
      "31-05-2022  12:26 PM            10,752 gthread-2.0-0.dll\n",
      "05-08-2020  11:27 AM           242,176 HTMLRenderer.dll\n",
      "05-08-2020  02:49 PM           939,008 iconv.dll\n",
      "21-11-2022  01:59 PM                 0 ineuron.db\n",
      "15-11-2022  06:08 PM           116,516 Internal_Python_DECORATOR_MAP_FILTER.ipynb\n",
      "03-05-2022  08:24 AM           921,600 libcairo.dll\n",
      "05-07-2022  03:01 PM         2,869,760 libcrypto-1_1-x64.dll\n",
      "03-05-2022  08:27 AM           195,072 libpng16.dll\n",
      "05-07-2022  03:01 PM           687,616 libssl-1_1-x64.dll\n",
      "29-08-2022  04:57 AM         1,412,608 libxml2.dll\n",
      "03-09-2022  03:42 AM           288,731 License.txt\n",
      "03-09-2022  03:51 AM           126,368 mforms.py\n",
      "03-09-2022  03:50 AM         4,170,240 mforms.wr.dll\n",
      "18-11-2022  08:38 PM           230,602 MONGO_DB.ipynb\n",
      "21-11-2022  12:49 PM           122,127 MongoDB_part2.ipynb\n",
      "03-09-2022  03:49 AM            90,624 mtemplate.dll\n",
      "08-11-2022  12:20 PM             2,605 mydict.py\n",
      "03-09-2022  03:49 AM           452,608 mysql.canvas.dll\n",
      "29-08-2022  02:51 PM         7,322,216 mysql.exe\n",
      "03-09-2022  03:50 AM         1,016,320 mysql.forms.dll\n",
      "03-09-2022  03:42 AM             2,725 mysql_system_status.vbs\n",
      "03-09-2022  03:42 AM             2,545 mysql_system_status_rmt.vbs\n",
      "02-09-2022  05:15 AM         9,449,472 mysqlcppconn-9-vs14.dll\n",
      "03-09-2022  03:51 AM           116,736 MySQLCsUtilities.dll\n",
      "29-08-2022  02:51 PM         7,280,752 mysqldump.exe\n",
      "03-09-2022  03:42 AM            38,396 mysqlwbmeb.py\n",
      "03-09-2022  03:42 AM            45,941 mysqlwbmeb.vbs\n",
      "03-09-2022  03:53 AM           511,488 MySQLWorkbench.exe\n",
      "03-09-2022  03:42 AM               184 MySQLWorkbench.exe.config\n",
      "03-09-2022  03:42 AM            82,726 MySQLWorkbenchDoc.ico\n",
      "25-08-2022  11:27 AM           115,712 ogr2ogr.exe\n",
      "25-08-2022  11:27 AM           117,760 ogrinfo.exe\n",
      "09-11-2022  01:11 AM            96,549 OOPS-Concept.ipynb\n",
      "03-09-2022  03:49 AM         3,695,616 parsers.dll\n",
      "22-08-2022  10:00 AM           243,200 pcre.dll\n",
      "22-08-2022  10:00 AM            52,224 pcrecpp.dll\n",
      "19-03-2021  09:27 PM           585,728 pixman-1-0.dll\n",
      "24-08-2022  05:43 PM            94,208 python.exe\n",
      "24-08-2022  05:43 PM         4,610,048 python37.dll\n",
      "21-11-2022  02:17 PM                 0 rat.db\n",
      "21-11-2022  02:02 PM                 0 rattuuu.db\n",
      "03-09-2022  03:42 AM             2,999 README.md\n",
      "03-09-2022  03:49 AM         1,574,912 Scintilla.dll\n",
      "03-09-2022  03:42 AM             1,024 shell_snippets.py.txt\n",
      "10-11-2022  09:55 AM            82,955 SQL.ipynb\n",
      "21-11-2022  02:17 PM             9,902 SQL_Lite.ipynb\n",
      "10-11-2022  04:18 AM             2,775 SQL3.ipynb\n",
      "03-09-2022  03:51 AM            84,480 sqlide.fe.dll\n",
      "24-08-2022  07:02 PM         1,170,944 sqlite3.dll\n",
      "20-07-2022  08:35 PM           372,224 ssh.dll\n",
      "03-09-2022  03:42 AM            25,889 sshtunnel.py\n",
      "10-11-2022  10:04 AM                72 Untitled.ipynb\n",
      "03-09-2022  03:51 AM            34,816 utilities.grt.dll\n",
      "25-08-2022  09:11 AM           161,280 vsqlite++.dll\n",
      "03-09-2022  03:51 AM           128,000 wb.model.editors.wbp.be.dll\n",
      "03-09-2022  03:53 AM           102,400 wb.model.editors.wbp.fe.dll\n",
      "03-09-2022  03:52 AM         3,017,216 wb.model.editors.wbp.wr.dll\n",
      "03-09-2022  03:51 AM           263,168 wb.model.grt.dll\n",
      "03-09-2022  03:51 AM           105,472 wb.model.snippets.wbp.dll\n",
      "03-09-2022  03:51 AM            79,872 wb.printing.wbp.be.dll\n",
      "03-09-2022  03:53 AM            77,824 wb.printing.wbp.fe.dll\n",
      "03-09-2022  03:53 AM           893,440 wb.printing.wbp.wr.dll\n",
      "03-09-2022  03:42 AM            11,963 wb.py\n",
      "03-09-2022  03:49 AM            18,944 wbadminhelper.exe\n",
      "03-09-2022  03:42 AM             9,130 wbadminhelper.py\n",
      "03-09-2022  03:49 AM           271,872 WBControls.dll\n",
      "03-09-2022  03:42 AM               184 WBControls.dll.config\n",
      "03-09-2022  03:49 AM         7,152,128 wbcopytables.exe\n",
      "03-09-2022  03:52 AM           196,096 WbPlugins.dll\n",
      "03-09-2022  03:52 AM         4,971,520 wbprivate.be.dll\n",
      "03-09-2022  03:52 AM         4,890,624 wbprivate.wr.dll\n",
      "03-09-2022  03:50 AM         3,347,968 wbpublic.be.dll\n",
      "03-09-2022  03:51 AM         5,105,152 wbpublic.wr.dll\n",
      "03-09-2022  03:49 AM           140,800 wbssh.dll\n",
      "03-05-2022  08:26 AM           101,888 zip.dll\n",
      "03-05-2022  07:47 AM            83,968 zlib.dll\n",
      "             112 File(s)    130,375,774 bytes\n",
      "               3 Dir(s)  434,524,594,176 bytes free\n"
     ]
    }
   ],
   "source": [
    "ls    # directory of path of currect dir listdir"
   ]
  },
  {
   "cell_type": "code",
   "execution_count": 10,
   "id": "d8baf113",
   "metadata": {},
   "outputs": [],
   "source": [
    "import sqlite3"
   ]
  },
  {
   "cell_type": "code",
   "execution_count": 11,
   "id": "fe900528",
   "metadata": {},
   "outputs": [],
   "source": [
    "db = sqlite3.connect(\"doroman.db\")"
   ]
  },
  {
   "cell_type": "code",
   "execution_count": 12,
   "id": "9b3fcecf",
   "metadata": {},
   "outputs": [
    {
     "name": "stdout",
     "output_type": "stream",
     "text": [
      " Volume in drive C is Windows\n",
      " Volume Serial Number is 9048-2C9E\n",
      "\n",
      " Directory of C:\\Users\\bhavi\\PythonFull\n",
      "\n",
      "21-11-2022  03:43 PM    <DIR>          .\n",
      "20-11-2022  02:01 PM    <DIR>          ..\n",
      "21-11-2022  01:43 PM    <DIR>          .ipynb_checkpoints\n",
      "03-09-2022  03:49 AM           269,312 _cairo.pyd\n",
      "03-09-2022  03:51 AM         1,249,792 _mforms.pyd\n",
      "09-11-2022  11:42 AM             3,985 Advance_PythonAssignment_2.ipynb\n",
      "10-11-2022  08:14 AM             2,844 Advance_PythonAssignment_3.ipynb\n",
      "11-11-2022  08:02 PM               992 Advance_PythonAssignment_4.ipynb\n",
      "03-09-2022  03:48 AM           144,896 Aga.Controls.dll\n",
      "06-05-2022  12:33 PM           806,400 antlr4-runtime.dll\n",
      "11-11-2022  01:23 PM             3,584 Assignment_8.ipynb\n",
      "10-11-2022  11:37 AM             4,929 Assignment_9.ipynb\n",
      "29-08-2022  02:51 PM         6,248,608 authentication_kerberos_client.dll\n",
      "29-08-2022  02:51 PM            53,920 authentication_ldap_sasl_client.dll\n",
      "03-09-2022  03:49 AM           555,008 base.dll\n",
      "03-09-2022  03:48 AM           115,200 base.windows.dll\n",
      "03-09-2022  03:49 AM           388,608 base.wr.dll\n",
      "03-09-2022  03:49 AM            47,049 cairo.py\n",
      "03-09-2022  03:50 AM           101,376 cdbc.dll\n",
      "03-09-2022  03:52 AM           224,256 db.mysql.diff.reporting.wbp.dll\n",
      "03-09-2022  03:52 AM           428,032 db.mysql.editors.wbp.be.dll\n",
      "03-09-2022  03:53 AM           280,064 db.mysql.editors.wbp.fe.dll\n",
      "03-09-2022  03:53 AM         3,024,384 db.mysql.editors.wbp.wr.dll\n",
      "03-09-2022  03:51 AM           519,168 db.mysql.grt.dll\n",
      "03-09-2022  03:51 AM         1,317,888 db.mysql.parser.grt.dll\n",
      "03-09-2022  03:50 AM           103,424 db.mysql.query.grt.dll\n",
      "03-09-2022  03:53 AM         2,312,704 db.mysql.sqlparser.grt.dll\n",
      "03-09-2022  03:51 AM           861,696 db.mysql.wbp.dll\n",
      "03-09-2022  03:51 AM           223,232 db.search.wbp.dll\n",
      "03-09-2022  03:42 AM             1,503 db_utils.py\n",
      "21-11-2022  03:43 PM                 0 doroman.db\n",
      "25-08-2022  11:27 AM        25,337,344 gdal.dll\n",
      "10-11-2022  09:03 AM                 0 glass.data\n",
      "10-11-2022  09:12 AM            11,903 glass1.txt\n",
      "31-05-2022  12:26 PM         1,503,232 glib-2.0-0.dll\n",
      "31-05-2022  12:26 PM            18,432 gmodule-2.0-0.dll\n",
      "31-05-2022  12:26 PM           395,264 gobject-2.0-0.dll\n",
      "03-09-2022  03:52 AM            90,624 grt.db.fe.dll\n",
      "03-09-2022  03:49 AM           856,576 grt.dll\n",
      "03-09-2022  03:42 AM            16,085 grt_python_debugger.py\n",
      "31-05-2022  12:26 PM            10,752 gthread-2.0-0.dll\n",
      "05-08-2020  11:27 AM           242,176 HTMLRenderer.dll\n",
      "05-08-2020  02:49 PM           939,008 iconv.dll\n",
      "21-11-2022  01:59 PM                 0 ineuron.db\n",
      "15-11-2022  06:08 PM           116,516 Internal_Python_DECORATOR_MAP_FILTER.ipynb\n",
      "03-05-2022  08:24 AM           921,600 libcairo.dll\n",
      "05-07-2022  03:01 PM         2,869,760 libcrypto-1_1-x64.dll\n",
      "03-05-2022  08:27 AM           195,072 libpng16.dll\n",
      "05-07-2022  03:01 PM           687,616 libssl-1_1-x64.dll\n",
      "29-08-2022  04:57 AM         1,412,608 libxml2.dll\n",
      "03-09-2022  03:42 AM           288,731 License.txt\n",
      "03-09-2022  03:51 AM           126,368 mforms.py\n",
      "03-09-2022  03:50 AM         4,170,240 mforms.wr.dll\n",
      "18-11-2022  08:38 PM           230,602 MONGO_DB.ipynb\n",
      "21-11-2022  12:49 PM           122,127 MongoDB_part2.ipynb\n",
      "03-09-2022  03:49 AM            90,624 mtemplate.dll\n",
      "08-11-2022  12:20 PM             2,605 mydict.py\n",
      "03-09-2022  03:49 AM           452,608 mysql.canvas.dll\n",
      "29-08-2022  02:51 PM         7,322,216 mysql.exe\n",
      "03-09-2022  03:50 AM         1,016,320 mysql.forms.dll\n",
      "03-09-2022  03:42 AM             2,725 mysql_system_status.vbs\n",
      "03-09-2022  03:42 AM             2,545 mysql_system_status_rmt.vbs\n",
      "02-09-2022  05:15 AM         9,449,472 mysqlcppconn-9-vs14.dll\n",
      "03-09-2022  03:51 AM           116,736 MySQLCsUtilities.dll\n",
      "29-08-2022  02:51 PM         7,280,752 mysqldump.exe\n",
      "03-09-2022  03:42 AM            38,396 mysqlwbmeb.py\n",
      "03-09-2022  03:42 AM            45,941 mysqlwbmeb.vbs\n",
      "03-09-2022  03:53 AM           511,488 MySQLWorkbench.exe\n",
      "03-09-2022  03:42 AM               184 MySQLWorkbench.exe.config\n",
      "03-09-2022  03:42 AM            82,726 MySQLWorkbenchDoc.ico\n",
      "25-08-2022  11:27 AM           115,712 ogr2ogr.exe\n",
      "25-08-2022  11:27 AM           117,760 ogrinfo.exe\n",
      "09-11-2022  01:11 AM            96,549 OOPS-Concept.ipynb\n",
      "03-09-2022  03:49 AM         3,695,616 parsers.dll\n",
      "22-08-2022  10:00 AM           243,200 pcre.dll\n",
      "22-08-2022  10:00 AM            52,224 pcrecpp.dll\n",
      "19-03-2021  09:27 PM           585,728 pixman-1-0.dll\n",
      "24-08-2022  05:43 PM            94,208 python.exe\n",
      "24-08-2022  05:43 PM         4,610,048 python37.dll\n",
      "21-11-2022  02:17 PM                 0 rat.db\n",
      "21-11-2022  02:02 PM                 0 rattuuu.db\n",
      "03-09-2022  03:42 AM             2,999 README.md\n",
      "03-09-2022  03:49 AM         1,574,912 Scintilla.dll\n",
      "03-09-2022  03:42 AM             1,024 shell_snippets.py.txt\n",
      "10-11-2022  09:55 AM            82,955 SQL.ipynb\n",
      "21-11-2022  02:19 PM            18,337 SQL_Lite.ipynb\n",
      "10-11-2022  04:18 AM             2,775 SQL3.ipynb\n",
      "03-09-2022  03:51 AM            84,480 sqlide.fe.dll\n",
      "24-08-2022  07:02 PM         1,170,944 sqlite3.dll\n",
      "20-07-2022  08:35 PM           372,224 ssh.dll\n",
      "03-09-2022  03:42 AM            25,889 sshtunnel.py\n",
      "10-11-2022  10:04 AM                72 Untitled.ipynb\n",
      "03-09-2022  03:51 AM            34,816 utilities.grt.dll\n",
      "25-08-2022  09:11 AM           161,280 vsqlite++.dll\n",
      "03-09-2022  03:51 AM           128,000 wb.model.editors.wbp.be.dll\n",
      "03-09-2022  03:53 AM           102,400 wb.model.editors.wbp.fe.dll\n",
      "03-09-2022  03:52 AM         3,017,216 wb.model.editors.wbp.wr.dll\n",
      "03-09-2022  03:51 AM           263,168 wb.model.grt.dll\n",
      "03-09-2022  03:51 AM           105,472 wb.model.snippets.wbp.dll\n",
      "03-09-2022  03:51 AM            79,872 wb.printing.wbp.be.dll\n",
      "03-09-2022  03:53 AM            77,824 wb.printing.wbp.fe.dll\n",
      "03-09-2022  03:53 AM           893,440 wb.printing.wbp.wr.dll\n",
      "03-09-2022  03:42 AM            11,963 wb.py\n",
      "03-09-2022  03:49 AM            18,944 wbadminhelper.exe\n",
      "03-09-2022  03:42 AM             9,130 wbadminhelper.py\n",
      "03-09-2022  03:49 AM           271,872 WBControls.dll\n",
      "03-09-2022  03:42 AM               184 WBControls.dll.config\n",
      "03-09-2022  03:49 AM         7,152,128 wbcopytables.exe\n",
      "03-09-2022  03:52 AM           196,096 WbPlugins.dll\n",
      "03-09-2022  03:52 AM         4,971,520 wbprivate.be.dll\n",
      "03-09-2022  03:52 AM         4,890,624 wbprivate.wr.dll\n",
      "03-09-2022  03:50 AM         3,347,968 wbpublic.be.dll\n",
      "03-09-2022  03:51 AM         5,105,152 wbpublic.wr.dll\n",
      "03-09-2022  03:49 AM           140,800 wbssh.dll\n",
      "03-05-2022  08:26 AM           101,888 zip.dll\n",
      "03-05-2022  07:47 AM            83,968 zlib.dll\n",
      "             113 File(s)    130,384,209 bytes\n",
      "               3 Dir(s)  434,276,225,024 bytes free\n"
     ]
    }
   ],
   "source": [
    "%ls"
   ]
  },
  {
   "cell_type": "code",
   "execution_count": 25,
   "id": "96b06ac0",
   "metadata": {},
   "outputs": [],
   "source": [
    "import sqlite3"
   ]
  },
  {
   "cell_type": "code",
   "execution_count": 26,
   "id": "1577dd88",
   "metadata": {},
   "outputs": [],
   "source": [
    "db = sqlite3.connect(\"sqlfile.db\")"
   ]
  },
  {
   "cell_type": "code",
   "execution_count": 27,
   "id": "8921597a",
   "metadata": {},
   "outputs": [
    {
     "name": "stdout",
     "output_type": "stream",
     "text": [
      " Volume in drive C is Windows\n",
      " Volume Serial Number is 9048-2C9E\n",
      "\n",
      " Directory of C:\\Users\\bhavi\\PythonFull\n",
      "\n",
      "21-11-2022  03:50 PM    <DIR>          .\n",
      "20-11-2022  02:01 PM    <DIR>          ..\n",
      "21-11-2022  01:43 PM    <DIR>          .ipynb_checkpoints\n",
      "03-09-2022  03:49 AM           269,312 _cairo.pyd\n",
      "03-09-2022  03:51 AM         1,249,792 _mforms.pyd\n",
      "09-11-2022  11:42 AM             3,985 Advance_PythonAssignment_2.ipynb\n",
      "10-11-2022  08:14 AM             2,844 Advance_PythonAssignment_3.ipynb\n",
      "11-11-2022  08:02 PM               992 Advance_PythonAssignment_4.ipynb\n",
      "03-09-2022  03:48 AM           144,896 Aga.Controls.dll\n",
      "06-05-2022  12:33 PM           806,400 antlr4-runtime.dll\n",
      "11-11-2022  01:23 PM             3,584 Assignment_8.ipynb\n",
      "10-11-2022  11:37 AM             4,929 Assignment_9.ipynb\n",
      "29-08-2022  02:51 PM         6,248,608 authentication_kerberos_client.dll\n",
      "29-08-2022  02:51 PM            53,920 authentication_ldap_sasl_client.dll\n",
      "03-09-2022  03:49 AM           555,008 base.dll\n",
      "03-09-2022  03:48 AM           115,200 base.windows.dll\n",
      "03-09-2022  03:49 AM           388,608 base.wr.dll\n",
      "03-09-2022  03:49 AM            47,049 cairo.py\n",
      "03-09-2022  03:50 AM           101,376 cdbc.dll\n",
      "03-09-2022  03:52 AM           224,256 db.mysql.diff.reporting.wbp.dll\n",
      "03-09-2022  03:52 AM           428,032 db.mysql.editors.wbp.be.dll\n",
      "03-09-2022  03:53 AM           280,064 db.mysql.editors.wbp.fe.dll\n",
      "03-09-2022  03:53 AM         3,024,384 db.mysql.editors.wbp.wr.dll\n",
      "03-09-2022  03:51 AM           519,168 db.mysql.grt.dll\n",
      "03-09-2022  03:51 AM         1,317,888 db.mysql.parser.grt.dll\n",
      "03-09-2022  03:50 AM           103,424 db.mysql.query.grt.dll\n",
      "03-09-2022  03:53 AM         2,312,704 db.mysql.sqlparser.grt.dll\n",
      "03-09-2022  03:51 AM           861,696 db.mysql.wbp.dll\n",
      "03-09-2022  03:51 AM           223,232 db.search.wbp.dll\n",
      "03-09-2022  03:42 AM             1,503 db_utils.py\n",
      "21-11-2022  03:43 PM                 0 doroman.db\n",
      "25-08-2022  11:27 AM        25,337,344 gdal.dll\n",
      "10-11-2022  09:03 AM                 0 glass.data\n",
      "10-11-2022  09:12 AM            11,903 glass1.txt\n",
      "31-05-2022  12:26 PM         1,503,232 glib-2.0-0.dll\n",
      "31-05-2022  12:26 PM            18,432 gmodule-2.0-0.dll\n",
      "31-05-2022  12:26 PM           395,264 gobject-2.0-0.dll\n",
      "03-09-2022  03:52 AM            90,624 grt.db.fe.dll\n",
      "03-09-2022  03:49 AM           856,576 grt.dll\n",
      "03-09-2022  03:42 AM            16,085 grt_python_debugger.py\n",
      "31-05-2022  12:26 PM            10,752 gthread-2.0-0.dll\n",
      "05-08-2020  11:27 AM           242,176 HTMLRenderer.dll\n",
      "05-08-2020  02:49 PM           939,008 iconv.dll\n",
      "21-11-2022  01:59 PM                 0 ineuron.db\n",
      "15-11-2022  06:08 PM           116,516 Internal_Python_DECORATOR_MAP_FILTER.ipynb\n",
      "03-05-2022  08:24 AM           921,600 libcairo.dll\n",
      "05-07-2022  03:01 PM         2,869,760 libcrypto-1_1-x64.dll\n",
      "03-05-2022  08:27 AM           195,072 libpng16.dll\n",
      "05-07-2022  03:01 PM           687,616 libssl-1_1-x64.dll\n",
      "29-08-2022  04:57 AM         1,412,608 libxml2.dll\n",
      "03-09-2022  03:42 AM           288,731 License.txt\n",
      "03-09-2022  03:51 AM           126,368 mforms.py\n",
      "03-09-2022  03:50 AM         4,170,240 mforms.wr.dll\n",
      "18-11-2022  08:38 PM           230,602 MONGO_DB.ipynb\n",
      "21-11-2022  12:49 PM           122,127 MongoDB_part2.ipynb\n",
      "03-09-2022  03:49 AM            90,624 mtemplate.dll\n",
      "08-11-2022  12:20 PM             2,605 mydict.py\n",
      "03-09-2022  03:49 AM           452,608 mysql.canvas.dll\n",
      "29-08-2022  02:51 PM         7,322,216 mysql.exe\n",
      "03-09-2022  03:50 AM         1,016,320 mysql.forms.dll\n",
      "03-09-2022  03:42 AM             2,725 mysql_system_status.vbs\n",
      "03-09-2022  03:42 AM             2,545 mysql_system_status_rmt.vbs\n",
      "02-09-2022  05:15 AM         9,449,472 mysqlcppconn-9-vs14.dll\n",
      "03-09-2022  03:51 AM           116,736 MySQLCsUtilities.dll\n",
      "29-08-2022  02:51 PM         7,280,752 mysqldump.exe\n",
      "03-09-2022  03:42 AM            38,396 mysqlwbmeb.py\n",
      "03-09-2022  03:42 AM            45,941 mysqlwbmeb.vbs\n",
      "03-09-2022  03:53 AM           511,488 MySQLWorkbench.exe\n",
      "03-09-2022  03:42 AM               184 MySQLWorkbench.exe.config\n",
      "03-09-2022  03:42 AM            82,726 MySQLWorkbenchDoc.ico\n",
      "25-08-2022  11:27 AM           115,712 ogr2ogr.exe\n",
      "25-08-2022  11:27 AM           117,760 ogrinfo.exe\n",
      "09-11-2022  01:11 AM            96,549 OOPS-Concept.ipynb\n",
      "03-09-2022  03:49 AM         3,695,616 parsers.dll\n",
      "22-08-2022  10:00 AM           243,200 pcre.dll\n",
      "22-08-2022  10:00 AM            52,224 pcrecpp.dll\n",
      "19-03-2021  09:27 PM           585,728 pixman-1-0.dll\n",
      "24-08-2022  05:43 PM            94,208 python.exe\n",
      "24-08-2022  05:43 PM         4,610,048 python37.dll\n",
      "21-11-2022  02:17 PM                 0 rat.db\n",
      "21-11-2022  02:02 PM                 0 rattuuu.db\n",
      "03-09-2022  03:42 AM             2,999 README.md\n",
      "03-09-2022  03:49 AM         1,574,912 Scintilla.dll\n",
      "03-09-2022  03:42 AM             1,024 shell_snippets.py.txt\n",
      "10-11-2022  09:55 AM            82,955 SQL.ipynb\n",
      "21-11-2022  03:50 PM            36,963 SQL_Lite.ipynb\n",
      "10-11-2022  04:18 AM             2,775 SQL3.ipynb\n",
      "21-11-2022  03:48 PM                 0 sqlfile.db\n",
      "03-09-2022  03:51 AM            84,480 sqlide.fe.dll\n",
      "24-08-2022  07:02 PM         1,170,944 sqlite3.dll\n",
      "20-07-2022  08:35 PM           372,224 ssh.dll\n",
      "03-09-2022  03:42 AM            25,889 sshtunnel.py\n",
      "10-11-2022  10:04 AM                72 Untitled.ipynb\n",
      "03-09-2022  03:51 AM            34,816 utilities.grt.dll\n",
      "25-08-2022  09:11 AM           161,280 vsqlite++.dll\n",
      "03-09-2022  03:51 AM           128,000 wb.model.editors.wbp.be.dll\n",
      "03-09-2022  03:53 AM           102,400 wb.model.editors.wbp.fe.dll\n",
      "03-09-2022  03:52 AM         3,017,216 wb.model.editors.wbp.wr.dll\n",
      "03-09-2022  03:51 AM           263,168 wb.model.grt.dll\n",
      "03-09-2022  03:51 AM           105,472 wb.model.snippets.wbp.dll\n",
      "03-09-2022  03:51 AM            79,872 wb.printing.wbp.be.dll\n",
      "03-09-2022  03:53 AM            77,824 wb.printing.wbp.fe.dll\n",
      "03-09-2022  03:53 AM           893,440 wb.printing.wbp.wr.dll\n",
      "03-09-2022  03:42 AM            11,963 wb.py\n",
      "03-09-2022  03:49 AM            18,944 wbadminhelper.exe\n",
      "03-09-2022  03:42 AM             9,130 wbadminhelper.py\n",
      "03-09-2022  03:49 AM           271,872 WBControls.dll\n",
      "03-09-2022  03:42 AM               184 WBControls.dll.config\n",
      "03-09-2022  03:49 AM         7,152,128 wbcopytables.exe\n",
      "03-09-2022  03:52 AM           196,096 WbPlugins.dll\n",
      "03-09-2022  03:52 AM         4,971,520 wbprivate.be.dll\n",
      "03-09-2022  03:52 AM         4,890,624 wbprivate.wr.dll\n",
      "03-09-2022  03:50 AM         3,347,968 wbpublic.be.dll\n",
      "03-09-2022  03:51 AM         5,105,152 wbpublic.wr.dll\n",
      "03-09-2022  03:49 AM           140,800 wbssh.dll\n",
      "03-05-2022  08:26 AM           101,888 zip.dll\n",
      "03-05-2022  07:47 AM            83,968 zlib.dll\n",
      "             114 File(s)    130,402,835 bytes\n",
      "               3 Dir(s)  434,275,266,560 bytes free\n"
     ]
    }
   ],
   "source": [
    "ls"
   ]
  },
  {
   "cell_type": "code",
   "execution_count": 33,
   "id": "1f114dff",
   "metadata": {},
   "outputs": [],
   "source": [
    "c = db.cursor()"
   ]
  },
  {
   "cell_type": "code",
   "execution_count": 34,
   "id": "bbfaf8c2",
   "metadata": {},
   "outputs": [
    {
     "data": {
      "text/plain": [
       "<sqlite3.Cursor at 0x20068d8c960>"
      ]
     },
     "execution_count": 34,
     "metadata": {},
     "output_type": "execute_result"
    }
   ],
   "source": [
    "c.execute('create table rapid(name text,marks int, batch real)')"
   ]
  },
  {
   "cell_type": "code",
   "execution_count": 18,
   "id": "49f55f29",
   "metadata": {},
   "outputs": [
    {
     "name": "stdout",
     "output_type": "stream",
     "text": [
      " Volume in drive C is Windows\n",
      " Volume Serial Number is 9048-2C9E\n",
      "\n",
      " Directory of C:\\Users\\bhavi\\PythonFull\n",
      "\n",
      "21-11-2022  03:50 PM    <DIR>          .\n",
      "20-11-2022  02:01 PM    <DIR>          ..\n",
      "21-11-2022  01:43 PM    <DIR>          .ipynb_checkpoints\n",
      "03-09-2022  03:49 AM           269,312 _cairo.pyd\n",
      "03-09-2022  03:51 AM         1,249,792 _mforms.pyd\n",
      "09-11-2022  11:42 AM             3,985 Advance_PythonAssignment_2.ipynb\n",
      "10-11-2022  08:14 AM             2,844 Advance_PythonAssignment_3.ipynb\n",
      "11-11-2022  08:02 PM               992 Advance_PythonAssignment_4.ipynb\n",
      "03-09-2022  03:48 AM           144,896 Aga.Controls.dll\n",
      "06-05-2022  12:33 PM           806,400 antlr4-runtime.dll\n",
      "11-11-2022  01:23 PM             3,584 Assignment_8.ipynb\n",
      "10-11-2022  11:37 AM             4,929 Assignment_9.ipynb\n",
      "29-08-2022  02:51 PM         6,248,608 authentication_kerberos_client.dll\n",
      "29-08-2022  02:51 PM            53,920 authentication_ldap_sasl_client.dll\n",
      "03-09-2022  03:49 AM           555,008 base.dll\n",
      "03-09-2022  03:48 AM           115,200 base.windows.dll\n",
      "03-09-2022  03:49 AM           388,608 base.wr.dll\n",
      "03-09-2022  03:49 AM            47,049 cairo.py\n",
      "03-09-2022  03:50 AM           101,376 cdbc.dll\n",
      "03-09-2022  03:52 AM           224,256 db.mysql.diff.reporting.wbp.dll\n",
      "03-09-2022  03:52 AM           428,032 db.mysql.editors.wbp.be.dll\n",
      "03-09-2022  03:53 AM           280,064 db.mysql.editors.wbp.fe.dll\n",
      "03-09-2022  03:53 AM         3,024,384 db.mysql.editors.wbp.wr.dll\n",
      "03-09-2022  03:51 AM           519,168 db.mysql.grt.dll\n",
      "03-09-2022  03:51 AM         1,317,888 db.mysql.parser.grt.dll\n",
      "03-09-2022  03:50 AM           103,424 db.mysql.query.grt.dll\n",
      "03-09-2022  03:53 AM         2,312,704 db.mysql.sqlparser.grt.dll\n",
      "03-09-2022  03:51 AM           861,696 db.mysql.wbp.dll\n",
      "03-09-2022  03:51 AM           223,232 db.search.wbp.dll\n",
      "03-09-2022  03:42 AM             1,503 db_utils.py\n",
      "21-11-2022  03:43 PM                 0 doroman.db\n",
      "25-08-2022  11:27 AM        25,337,344 gdal.dll\n",
      "10-11-2022  09:03 AM                 0 glass.data\n",
      "10-11-2022  09:12 AM            11,903 glass1.txt\n",
      "31-05-2022  12:26 PM         1,503,232 glib-2.0-0.dll\n",
      "31-05-2022  12:26 PM            18,432 gmodule-2.0-0.dll\n",
      "31-05-2022  12:26 PM           395,264 gobject-2.0-0.dll\n",
      "03-09-2022  03:52 AM            90,624 grt.db.fe.dll\n",
      "03-09-2022  03:49 AM           856,576 grt.dll\n",
      "03-09-2022  03:42 AM            16,085 grt_python_debugger.py\n",
      "31-05-2022  12:26 PM            10,752 gthread-2.0-0.dll\n",
      "05-08-2020  11:27 AM           242,176 HTMLRenderer.dll\n",
      "05-08-2020  02:49 PM           939,008 iconv.dll\n",
      "21-11-2022  01:59 PM                 0 ineuron.db\n",
      "15-11-2022  06:08 PM           116,516 Internal_Python_DECORATOR_MAP_FILTER.ipynb\n",
      "03-05-2022  08:24 AM           921,600 libcairo.dll\n",
      "05-07-2022  03:01 PM         2,869,760 libcrypto-1_1-x64.dll\n",
      "03-05-2022  08:27 AM           195,072 libpng16.dll\n",
      "05-07-2022  03:01 PM           687,616 libssl-1_1-x64.dll\n",
      "29-08-2022  04:57 AM         1,412,608 libxml2.dll\n",
      "03-09-2022  03:42 AM           288,731 License.txt\n",
      "03-09-2022  03:51 AM           126,368 mforms.py\n",
      "03-09-2022  03:50 AM         4,170,240 mforms.wr.dll\n",
      "18-11-2022  08:38 PM           230,602 MONGO_DB.ipynb\n",
      "21-11-2022  12:49 PM           122,127 MongoDB_part2.ipynb\n",
      "03-09-2022  03:49 AM            90,624 mtemplate.dll\n",
      "08-11-2022  12:20 PM             2,605 mydict.py\n",
      "03-09-2022  03:49 AM           452,608 mysql.canvas.dll\n",
      "29-08-2022  02:51 PM         7,322,216 mysql.exe\n",
      "03-09-2022  03:50 AM         1,016,320 mysql.forms.dll\n",
      "03-09-2022  03:42 AM             2,725 mysql_system_status.vbs\n",
      "03-09-2022  03:42 AM             2,545 mysql_system_status_rmt.vbs\n",
      "02-09-2022  05:15 AM         9,449,472 mysqlcppconn-9-vs14.dll\n",
      "03-09-2022  03:51 AM           116,736 MySQLCsUtilities.dll\n",
      "29-08-2022  02:51 PM         7,280,752 mysqldump.exe\n",
      "03-09-2022  03:42 AM            38,396 mysqlwbmeb.py\n",
      "03-09-2022  03:42 AM            45,941 mysqlwbmeb.vbs\n",
      "03-09-2022  03:53 AM           511,488 MySQLWorkbench.exe\n",
      "03-09-2022  03:42 AM               184 MySQLWorkbench.exe.config\n",
      "03-09-2022  03:42 AM            82,726 MySQLWorkbenchDoc.ico\n",
      "25-08-2022  11:27 AM           115,712 ogr2ogr.exe\n",
      "25-08-2022  11:27 AM           117,760 ogrinfo.exe\n",
      "09-11-2022  01:11 AM            96,549 OOPS-Concept.ipynb\n",
      "03-09-2022  03:49 AM         3,695,616 parsers.dll\n",
      "22-08-2022  10:00 AM           243,200 pcre.dll\n",
      "22-08-2022  10:00 AM            52,224 pcrecpp.dll\n",
      "19-03-2021  09:27 PM           585,728 pixman-1-0.dll\n",
      "24-08-2022  05:43 PM            94,208 python.exe\n",
      "24-08-2022  05:43 PM         4,610,048 python37.dll\n",
      "21-11-2022  02:17 PM                 0 rat.db\n",
      "21-11-2022  02:02 PM                 0 rattuuu.db\n",
      "03-09-2022  03:42 AM             2,999 README.md\n",
      "03-09-2022  03:49 AM         1,574,912 Scintilla.dll\n",
      "03-09-2022  03:42 AM             1,024 shell_snippets.py.txt\n",
      "10-11-2022  09:55 AM            82,955 SQL.ipynb\n",
      "21-11-2022  03:50 PM            36,963 SQL_Lite.ipynb\n",
      "10-11-2022  04:18 AM             2,775 SQL3.ipynb\n",
      "21-11-2022  03:48 PM                 0 sqlfile.db\n",
      "03-09-2022  03:51 AM            84,480 sqlide.fe.dll\n",
      "24-08-2022  07:02 PM         1,170,944 sqlite3.dll\n",
      "20-07-2022  08:35 PM           372,224 ssh.dll\n",
      "03-09-2022  03:42 AM            25,889 sshtunnel.py\n",
      "10-11-2022  10:04 AM                72 Untitled.ipynb\n",
      "03-09-2022  03:51 AM            34,816 utilities.grt.dll\n",
      "25-08-2022  09:11 AM           161,280 vsqlite++.dll\n",
      "03-09-2022  03:51 AM           128,000 wb.model.editors.wbp.be.dll\n",
      "03-09-2022  03:53 AM           102,400 wb.model.editors.wbp.fe.dll\n",
      "03-09-2022  03:52 AM         3,017,216 wb.model.editors.wbp.wr.dll\n",
      "03-09-2022  03:51 AM           263,168 wb.model.grt.dll\n",
      "03-09-2022  03:51 AM           105,472 wb.model.snippets.wbp.dll\n",
      "03-09-2022  03:51 AM            79,872 wb.printing.wbp.be.dll\n",
      "03-09-2022  03:53 AM            77,824 wb.printing.wbp.fe.dll\n",
      "03-09-2022  03:53 AM           893,440 wb.printing.wbp.wr.dll\n",
      "03-09-2022  03:42 AM            11,963 wb.py\n",
      "03-09-2022  03:49 AM            18,944 wbadminhelper.exe\n",
      "03-09-2022  03:42 AM             9,130 wbadminhelper.py\n",
      "03-09-2022  03:49 AM           271,872 WBControls.dll\n",
      "03-09-2022  03:42 AM               184 WBControls.dll.config\n",
      "03-09-2022  03:49 AM         7,152,128 wbcopytables.exe\n",
      "03-09-2022  03:52 AM           196,096 WbPlugins.dll\n",
      "03-09-2022  03:52 AM         4,971,520 wbprivate.be.dll\n",
      "03-09-2022  03:52 AM         4,890,624 wbprivate.wr.dll\n",
      "03-09-2022  03:50 AM         3,347,968 wbpublic.be.dll\n",
      "03-09-2022  03:51 AM         5,105,152 wbpublic.wr.dll\n",
      "03-09-2022  03:49 AM           140,800 wbssh.dll\n",
      "03-05-2022  08:26 AM           101,888 zip.dll\n",
      "03-05-2022  07:47 AM            83,968 zlib.dll\n",
      "             114 File(s)    130,402,835 bytes\n",
      "               3 Dir(s)  434,275,405,824 bytes free\n"
     ]
    }
   ],
   "source": [
    "ls"
   ]
  },
  {
   "cell_type": "code",
   "execution_count": 30,
   "id": "65d00206",
   "metadata": {},
   "outputs": [],
   "source": [
    "import sqlite3"
   ]
  },
  {
   "cell_type": "code",
   "execution_count": 31,
   "id": "63f1b19e",
   "metadata": {},
   "outputs": [],
   "source": [
    "db = sqlite3.connect(\"donooo.db\")"
   ]
  },
  {
   "cell_type": "code",
   "execution_count": 32,
   "id": "d0bd3c3a",
   "metadata": {},
   "outputs": [],
   "source": [
    "cursor = db.cursor()   # we have to aware of this ()"
   ]
  },
  {
   "cell_type": "code",
   "execution_count": 35,
   "id": "68572327",
   "metadata": {},
   "outputs": [],
   "source": [
    "cursor = db.cursor()"
   ]
  },
  {
   "cell_type": "code",
   "execution_count": 36,
   "id": "6f3bb84f",
   "metadata": {},
   "outputs": [],
   "source": [
    "cursor = db.cursor()"
   ]
  },
  {
   "cell_type": "code",
   "execution_count": 37,
   "id": "f03a3198",
   "metadata": {},
   "outputs": [],
   "source": [
    "import sqlite3  #installation and import drivers"
   ]
  },
  {
   "cell_type": "code",
   "execution_count": 38,
   "id": "e53785e6",
   "metadata": {},
   "outputs": [],
   "source": [
    "db = sqlite3.connect(\"hought.db\")"
   ]
  },
  {
   "cell_type": "code",
   "execution_count": 39,
   "id": "bc517ee3",
   "metadata": {},
   "outputs": [
    {
     "name": "stdout",
     "output_type": "stream",
     "text": [
      " Volume in drive C is Windows\n",
      " Volume Serial Number is 9048-2C9E\n",
      "\n",
      " Directory of C:\\Users\\bhavi\\PythonFull\n",
      "\n",
      "21-11-2022  03:56 PM    <DIR>          .\n",
      "20-11-2022  02:01 PM    <DIR>          ..\n",
      "21-11-2022  01:43 PM    <DIR>          .ipynb_checkpoints\n",
      "03-09-2022  03:49 AM           269,312 _cairo.pyd\n",
      "03-09-2022  03:51 AM         1,249,792 _mforms.pyd\n",
      "09-11-2022  11:42 AM             3,985 Advance_PythonAssignment_2.ipynb\n",
      "10-11-2022  08:14 AM             2,844 Advance_PythonAssignment_3.ipynb\n",
      "11-11-2022  08:02 PM               992 Advance_PythonAssignment_4.ipynb\n",
      "03-09-2022  03:48 AM           144,896 Aga.Controls.dll\n",
      "06-05-2022  12:33 PM           806,400 antlr4-runtime.dll\n",
      "11-11-2022  01:23 PM             3,584 Assignment_8.ipynb\n",
      "10-11-2022  11:37 AM             4,929 Assignment_9.ipynb\n",
      "29-08-2022  02:51 PM         6,248,608 authentication_kerberos_client.dll\n",
      "29-08-2022  02:51 PM            53,920 authentication_ldap_sasl_client.dll\n",
      "03-09-2022  03:49 AM           555,008 base.dll\n",
      "03-09-2022  03:48 AM           115,200 base.windows.dll\n",
      "03-09-2022  03:49 AM           388,608 base.wr.dll\n",
      "03-09-2022  03:49 AM            47,049 cairo.py\n",
      "03-09-2022  03:50 AM           101,376 cdbc.dll\n",
      "03-09-2022  03:52 AM           224,256 db.mysql.diff.reporting.wbp.dll\n",
      "03-09-2022  03:52 AM           428,032 db.mysql.editors.wbp.be.dll\n",
      "03-09-2022  03:53 AM           280,064 db.mysql.editors.wbp.fe.dll\n",
      "03-09-2022  03:53 AM         3,024,384 db.mysql.editors.wbp.wr.dll\n",
      "03-09-2022  03:51 AM           519,168 db.mysql.grt.dll\n",
      "03-09-2022  03:51 AM         1,317,888 db.mysql.parser.grt.dll\n",
      "03-09-2022  03:50 AM           103,424 db.mysql.query.grt.dll\n",
      "03-09-2022  03:53 AM         2,312,704 db.mysql.sqlparser.grt.dll\n",
      "03-09-2022  03:51 AM           861,696 db.mysql.wbp.dll\n",
      "03-09-2022  03:51 AM           223,232 db.search.wbp.dll\n",
      "03-09-2022  03:42 AM             1,503 db_utils.py\n",
      "21-11-2022  03:52 PM             8,192 donooo.db\n",
      "21-11-2022  03:43 PM                 0 doroman.db\n",
      "25-08-2022  11:27 AM        25,337,344 gdal.dll\n",
      "10-11-2022  09:03 AM                 0 glass.data\n",
      "10-11-2022  09:12 AM            11,903 glass1.txt\n",
      "31-05-2022  12:26 PM         1,503,232 glib-2.0-0.dll\n",
      "31-05-2022  12:26 PM            18,432 gmodule-2.0-0.dll\n",
      "31-05-2022  12:26 PM           395,264 gobject-2.0-0.dll\n",
      "03-09-2022  03:52 AM            90,624 grt.db.fe.dll\n",
      "03-09-2022  03:49 AM           856,576 grt.dll\n",
      "03-09-2022  03:42 AM            16,085 grt_python_debugger.py\n",
      "31-05-2022  12:26 PM            10,752 gthread-2.0-0.dll\n",
      "21-11-2022  03:56 PM                 0 hought.db\n",
      "05-08-2020  11:27 AM           242,176 HTMLRenderer.dll\n",
      "05-08-2020  02:49 PM           939,008 iconv.dll\n",
      "21-11-2022  01:59 PM                 0 ineuron.db\n",
      "15-11-2022  06:08 PM           116,516 Internal_Python_DECORATOR_MAP_FILTER.ipynb\n",
      "03-05-2022  08:24 AM           921,600 libcairo.dll\n",
      "05-07-2022  03:01 PM         2,869,760 libcrypto-1_1-x64.dll\n",
      "03-05-2022  08:27 AM           195,072 libpng16.dll\n",
      "05-07-2022  03:01 PM           687,616 libssl-1_1-x64.dll\n",
      "29-08-2022  04:57 AM         1,412,608 libxml2.dll\n",
      "03-09-2022  03:42 AM           288,731 License.txt\n",
      "03-09-2022  03:51 AM           126,368 mforms.py\n",
      "03-09-2022  03:50 AM         4,170,240 mforms.wr.dll\n",
      "18-11-2022  08:38 PM           230,602 MONGO_DB.ipynb\n",
      "21-11-2022  12:49 PM           122,127 MongoDB_part2.ipynb\n",
      "03-09-2022  03:49 AM            90,624 mtemplate.dll\n",
      "08-11-2022  12:20 PM             2,605 mydict.py\n",
      "03-09-2022  03:49 AM           452,608 mysql.canvas.dll\n",
      "29-08-2022  02:51 PM         7,322,216 mysql.exe\n",
      "03-09-2022  03:50 AM         1,016,320 mysql.forms.dll\n",
      "03-09-2022  03:42 AM             2,725 mysql_system_status.vbs\n",
      "03-09-2022  03:42 AM             2,545 mysql_system_status_rmt.vbs\n",
      "02-09-2022  05:15 AM         9,449,472 mysqlcppconn-9-vs14.dll\n",
      "03-09-2022  03:51 AM           116,736 MySQLCsUtilities.dll\n",
      "29-08-2022  02:51 PM         7,280,752 mysqldump.exe\n",
      "03-09-2022  03:42 AM            38,396 mysqlwbmeb.py\n",
      "03-09-2022  03:42 AM            45,941 mysqlwbmeb.vbs\n",
      "03-09-2022  03:53 AM           511,488 MySQLWorkbench.exe\n",
      "03-09-2022  03:42 AM               184 MySQLWorkbench.exe.config\n",
      "03-09-2022  03:42 AM            82,726 MySQLWorkbenchDoc.ico\n",
      "25-08-2022  11:27 AM           115,712 ogr2ogr.exe\n",
      "25-08-2022  11:27 AM           117,760 ogrinfo.exe\n",
      "09-11-2022  01:11 AM            96,549 OOPS-Concept.ipynb\n",
      "03-09-2022  03:49 AM         3,695,616 parsers.dll\n",
      "22-08-2022  10:00 AM           243,200 pcre.dll\n",
      "22-08-2022  10:00 AM            52,224 pcrecpp.dll\n",
      "19-03-2021  09:27 PM           585,728 pixman-1-0.dll\n",
      "24-08-2022  05:43 PM            94,208 python.exe\n",
      "24-08-2022  05:43 PM         4,610,048 python37.dll\n",
      "21-11-2022  02:17 PM                 0 rat.db\n",
      "21-11-2022  02:02 PM                 0 rattuuu.db\n",
      "03-09-2022  03:42 AM             2,999 README.md\n",
      "03-09-2022  03:49 AM         1,574,912 Scintilla.dll\n",
      "03-09-2022  03:42 AM             1,024 shell_snippets.py.txt\n",
      "10-11-2022  09:55 AM            82,955 SQL.ipynb\n",
      "21-11-2022  03:54 PM            45,432 SQL_Lite.ipynb\n",
      "10-11-2022  04:18 AM             2,775 SQL3.ipynb\n",
      "21-11-2022  03:48 PM                 0 sqlfile.db\n",
      "03-09-2022  03:51 AM            84,480 sqlide.fe.dll\n",
      "24-08-2022  07:02 PM         1,170,944 sqlite3.dll\n",
      "20-07-2022  08:35 PM           372,224 ssh.dll\n",
      "03-09-2022  03:42 AM            25,889 sshtunnel.py\n",
      "10-11-2022  10:04 AM                72 Untitled.ipynb\n",
      "03-09-2022  03:51 AM            34,816 utilities.grt.dll\n",
      "25-08-2022  09:11 AM           161,280 vsqlite++.dll\n",
      "03-09-2022  03:51 AM           128,000 wb.model.editors.wbp.be.dll\n",
      "03-09-2022  03:53 AM           102,400 wb.model.editors.wbp.fe.dll\n",
      "03-09-2022  03:52 AM         3,017,216 wb.model.editors.wbp.wr.dll\n",
      "03-09-2022  03:51 AM           263,168 wb.model.grt.dll\n",
      "03-09-2022  03:51 AM           105,472 wb.model.snippets.wbp.dll\n",
      "03-09-2022  03:51 AM            79,872 wb.printing.wbp.be.dll\n",
      "03-09-2022  03:53 AM            77,824 wb.printing.wbp.fe.dll\n",
      "03-09-2022  03:53 AM           893,440 wb.printing.wbp.wr.dll\n",
      "03-09-2022  03:42 AM            11,963 wb.py\n",
      "03-09-2022  03:49 AM            18,944 wbadminhelper.exe\n",
      "03-09-2022  03:42 AM             9,130 wbadminhelper.py\n",
      "03-09-2022  03:49 AM           271,872 WBControls.dll\n",
      "03-09-2022  03:42 AM               184 WBControls.dll.config\n",
      "03-09-2022  03:49 AM         7,152,128 wbcopytables.exe\n",
      "03-09-2022  03:52 AM           196,096 WbPlugins.dll\n",
      "03-09-2022  03:52 AM         4,971,520 wbprivate.be.dll\n",
      "03-09-2022  03:52 AM         4,890,624 wbprivate.wr.dll\n",
      "03-09-2022  03:50 AM         3,347,968 wbpublic.be.dll\n",
      "03-09-2022  03:51 AM         5,105,152 wbpublic.wr.dll\n",
      "03-09-2022  03:49 AM           140,800 wbssh.dll\n",
      "03-05-2022  08:26 AM           101,888 zip.dll\n",
      "03-05-2022  07:47 AM            83,968 zlib.dll\n",
      "             116 File(s)    130,419,496 bytes\n",
      "               3 Dir(s)  434,273,681,408 bytes free\n"
     ]
    }
   ],
   "source": [
    "%ls"
   ]
  },
  {
   "cell_type": "code",
   "execution_count": 41,
   "id": "8e550952",
   "metadata": {},
   "outputs": [],
   "source": [
    "cursor = db.cursor()"
   ]
  },
  {
   "cell_type": "code",
   "execution_count": 42,
   "id": "22894eb1",
   "metadata": {},
   "outputs": [
    {
     "data": {
      "text/plain": [
       "<sqlite3.Cursor at 0x20068d8c500>"
      ]
     },
     "execution_count": 42,
     "metadata": {},
     "output_type": "execute_result"
    }
   ],
   "source": [
    "cursor.execute('create table fsds(name text,marks int,batch real)')"
   ]
  },
  {
   "cell_type": "code",
   "execution_count": 43,
   "id": "f7d5565e",
   "metadata": {},
   "outputs": [
    {
     "name": "stdout",
     "output_type": "stream",
     "text": [
      " Volume in drive C is Windows\n",
      " Volume Serial Number is 9048-2C9E\n",
      "\n",
      " Directory of C:\\Users\\bhavi\\PythonFull\n",
      "\n",
      "21-11-2022  03:57 PM    <DIR>          .\n",
      "20-11-2022  02:01 PM    <DIR>          ..\n",
      "21-11-2022  01:43 PM    <DIR>          .ipynb_checkpoints\n",
      "03-09-2022  03:49 AM           269,312 _cairo.pyd\n",
      "03-09-2022  03:51 AM         1,249,792 _mforms.pyd\n",
      "09-11-2022  11:42 AM             3,985 Advance_PythonAssignment_2.ipynb\n",
      "10-11-2022  08:14 AM             2,844 Advance_PythonAssignment_3.ipynb\n",
      "11-11-2022  08:02 PM               992 Advance_PythonAssignment_4.ipynb\n",
      "03-09-2022  03:48 AM           144,896 Aga.Controls.dll\n",
      "06-05-2022  12:33 PM           806,400 antlr4-runtime.dll\n",
      "11-11-2022  01:23 PM             3,584 Assignment_8.ipynb\n",
      "10-11-2022  11:37 AM             4,929 Assignment_9.ipynb\n",
      "29-08-2022  02:51 PM         6,248,608 authentication_kerberos_client.dll\n",
      "29-08-2022  02:51 PM            53,920 authentication_ldap_sasl_client.dll\n",
      "03-09-2022  03:49 AM           555,008 base.dll\n",
      "03-09-2022  03:48 AM           115,200 base.windows.dll\n",
      "03-09-2022  03:49 AM           388,608 base.wr.dll\n",
      "03-09-2022  03:49 AM            47,049 cairo.py\n",
      "03-09-2022  03:50 AM           101,376 cdbc.dll\n",
      "03-09-2022  03:52 AM           224,256 db.mysql.diff.reporting.wbp.dll\n",
      "03-09-2022  03:52 AM           428,032 db.mysql.editors.wbp.be.dll\n",
      "03-09-2022  03:53 AM           280,064 db.mysql.editors.wbp.fe.dll\n",
      "03-09-2022  03:53 AM         3,024,384 db.mysql.editors.wbp.wr.dll\n",
      "03-09-2022  03:51 AM           519,168 db.mysql.grt.dll\n",
      "03-09-2022  03:51 AM         1,317,888 db.mysql.parser.grt.dll\n",
      "03-09-2022  03:50 AM           103,424 db.mysql.query.grt.dll\n",
      "03-09-2022  03:53 AM         2,312,704 db.mysql.sqlparser.grt.dll\n",
      "03-09-2022  03:51 AM           861,696 db.mysql.wbp.dll\n",
      "03-09-2022  03:51 AM           223,232 db.search.wbp.dll\n",
      "03-09-2022  03:42 AM             1,503 db_utils.py\n",
      "21-11-2022  03:52 PM             8,192 donooo.db\n",
      "21-11-2022  03:43 PM                 0 doroman.db\n",
      "25-08-2022  11:27 AM        25,337,344 gdal.dll\n",
      "10-11-2022  09:03 AM                 0 glass.data\n",
      "10-11-2022  09:12 AM            11,903 glass1.txt\n",
      "31-05-2022  12:26 PM         1,503,232 glib-2.0-0.dll\n",
      "31-05-2022  12:26 PM            18,432 gmodule-2.0-0.dll\n",
      "31-05-2022  12:26 PM           395,264 gobject-2.0-0.dll\n",
      "03-09-2022  03:52 AM            90,624 grt.db.fe.dll\n",
      "03-09-2022  03:49 AM           856,576 grt.dll\n",
      "03-09-2022  03:42 AM            16,085 grt_python_debugger.py\n",
      "31-05-2022  12:26 PM            10,752 gthread-2.0-0.dll\n",
      "21-11-2022  03:57 PM             8,192 hought.db\n",
      "05-08-2020  11:27 AM           242,176 HTMLRenderer.dll\n",
      "05-08-2020  02:49 PM           939,008 iconv.dll\n",
      "21-11-2022  01:59 PM                 0 ineuron.db\n",
      "15-11-2022  06:08 PM           116,516 Internal_Python_DECORATOR_MAP_FILTER.ipynb\n",
      "03-05-2022  08:24 AM           921,600 libcairo.dll\n",
      "05-07-2022  03:01 PM         2,869,760 libcrypto-1_1-x64.dll\n",
      "03-05-2022  08:27 AM           195,072 libpng16.dll\n",
      "05-07-2022  03:01 PM           687,616 libssl-1_1-x64.dll\n",
      "29-08-2022  04:57 AM         1,412,608 libxml2.dll\n",
      "03-09-2022  03:42 AM           288,731 License.txt\n",
      "03-09-2022  03:51 AM           126,368 mforms.py\n",
      "03-09-2022  03:50 AM         4,170,240 mforms.wr.dll\n",
      "18-11-2022  08:38 PM           230,602 MONGO_DB.ipynb\n",
      "21-11-2022  12:49 PM           122,127 MongoDB_part2.ipynb\n",
      "03-09-2022  03:49 AM            90,624 mtemplate.dll\n",
      "08-11-2022  12:20 PM             2,605 mydict.py\n",
      "03-09-2022  03:49 AM           452,608 mysql.canvas.dll\n",
      "29-08-2022  02:51 PM         7,322,216 mysql.exe\n",
      "03-09-2022  03:50 AM         1,016,320 mysql.forms.dll\n",
      "03-09-2022  03:42 AM             2,725 mysql_system_status.vbs\n",
      "03-09-2022  03:42 AM             2,545 mysql_system_status_rmt.vbs\n",
      "02-09-2022  05:15 AM         9,449,472 mysqlcppconn-9-vs14.dll\n",
      "03-09-2022  03:51 AM           116,736 MySQLCsUtilities.dll\n",
      "29-08-2022  02:51 PM         7,280,752 mysqldump.exe\n",
      "03-09-2022  03:42 AM            38,396 mysqlwbmeb.py\n",
      "03-09-2022  03:42 AM            45,941 mysqlwbmeb.vbs\n",
      "03-09-2022  03:53 AM           511,488 MySQLWorkbench.exe\n",
      "03-09-2022  03:42 AM               184 MySQLWorkbench.exe.config\n",
      "03-09-2022  03:42 AM            82,726 MySQLWorkbenchDoc.ico\n",
      "25-08-2022  11:27 AM           115,712 ogr2ogr.exe\n",
      "25-08-2022  11:27 AM           117,760 ogrinfo.exe\n",
      "09-11-2022  01:11 AM            96,549 OOPS-Concept.ipynb\n",
      "03-09-2022  03:49 AM         3,695,616 parsers.dll\n",
      "22-08-2022  10:00 AM           243,200 pcre.dll\n",
      "22-08-2022  10:00 AM            52,224 pcrecpp.dll\n",
      "19-03-2021  09:27 PM           585,728 pixman-1-0.dll\n",
      "24-08-2022  05:43 PM            94,208 python.exe\n",
      "24-08-2022  05:43 PM         4,610,048 python37.dll\n",
      "21-11-2022  02:17 PM                 0 rat.db\n",
      "21-11-2022  02:02 PM                 0 rattuuu.db\n",
      "03-09-2022  03:42 AM             2,999 README.md\n",
      "03-09-2022  03:49 AM         1,574,912 Scintilla.dll\n",
      "03-09-2022  03:42 AM             1,024 shell_snippets.py.txt\n",
      "10-11-2022  09:55 AM            82,955 SQL.ipynb\n",
      "21-11-2022  03:56 PM            54,457 SQL_Lite.ipynb\n",
      "10-11-2022  04:18 AM             2,775 SQL3.ipynb\n",
      "21-11-2022  03:48 PM                 0 sqlfile.db\n",
      "03-09-2022  03:51 AM            84,480 sqlide.fe.dll\n",
      "24-08-2022  07:02 PM         1,170,944 sqlite3.dll\n",
      "20-07-2022  08:35 PM           372,224 ssh.dll\n",
      "03-09-2022  03:42 AM            25,889 sshtunnel.py\n",
      "10-11-2022  10:04 AM                72 Untitled.ipynb\n",
      "03-09-2022  03:51 AM            34,816 utilities.grt.dll\n",
      "25-08-2022  09:11 AM           161,280 vsqlite++.dll\n",
      "03-09-2022  03:51 AM           128,000 wb.model.editors.wbp.be.dll\n",
      "03-09-2022  03:53 AM           102,400 wb.model.editors.wbp.fe.dll\n",
      "03-09-2022  03:52 AM         3,017,216 wb.model.editors.wbp.wr.dll\n",
      "03-09-2022  03:51 AM           263,168 wb.model.grt.dll\n",
      "03-09-2022  03:51 AM           105,472 wb.model.snippets.wbp.dll\n",
      "03-09-2022  03:51 AM            79,872 wb.printing.wbp.be.dll\n",
      "03-09-2022  03:53 AM            77,824 wb.printing.wbp.fe.dll\n",
      "03-09-2022  03:53 AM           893,440 wb.printing.wbp.wr.dll\n",
      "03-09-2022  03:42 AM            11,963 wb.py\n",
      "03-09-2022  03:49 AM            18,944 wbadminhelper.exe\n",
      "03-09-2022  03:42 AM             9,130 wbadminhelper.py\n",
      "03-09-2022  03:49 AM           271,872 WBControls.dll\n",
      "03-09-2022  03:42 AM               184 WBControls.dll.config\n",
      "03-09-2022  03:49 AM         7,152,128 wbcopytables.exe\n",
      "03-09-2022  03:52 AM           196,096 WbPlugins.dll\n",
      "03-09-2022  03:52 AM         4,971,520 wbprivate.be.dll\n",
      "03-09-2022  03:52 AM         4,890,624 wbprivate.wr.dll\n",
      "03-09-2022  03:50 AM         3,347,968 wbpublic.be.dll\n",
      "03-09-2022  03:51 AM         5,105,152 wbpublic.wr.dll\n",
      "03-09-2022  03:49 AM           140,800 wbssh.dll\n",
      "03-05-2022  08:26 AM           101,888 zip.dll\n",
      "03-05-2022  07:47 AM            83,968 zlib.dll\n",
      "             116 File(s)    130,436,713 bytes\n",
      "               3 Dir(s)  434,273,452,032 bytes free\n"
     ]
    }
   ],
   "source": [
    "ls"
   ]
  },
  {
   "cell_type": "code",
   "execution_count": null,
   "id": "8c504e81",
   "metadata": {},
   "outputs": [],
   "source": [
    "# After creating table of fsds in an file of \"  hought.db \"   which is sixze ofg 8192kb"
   ]
  },
  {
   "cell_type": "code",
   "execution_count": 44,
   "id": "869ff949",
   "metadata": {},
   "outputs": [],
   "source": [
    "import sqlite3"
   ]
  },
  {
   "cell_type": "code",
   "execution_count": 45,
   "id": "326a23ca",
   "metadata": {},
   "outputs": [],
   "source": [
    "db = sqlite3.connect(\"chocko.db\")  # this is .db file we have created in the ;local"
   ]
  },
  {
   "cell_type": "code",
   "execution_count": 46,
   "id": "9f683825",
   "metadata": {},
   "outputs": [],
   "source": [
    "cursor = db.cursor  # this is the common mistake you have missed the (())"
   ]
  },
  {
   "cell_type": "code",
   "execution_count": 47,
   "id": "6d1f1ce3",
   "metadata": {},
   "outputs": [
    {
     "ename": "AttributeError",
     "evalue": "'builtin_function_or_method' object has no attribute 'execute'",
     "output_type": "error",
     "traceback": [
      "\u001b[1;31m---------------------------------------------------------------------------\u001b[0m",
      "\u001b[1;31mAttributeError\u001b[0m                            Traceback (most recent call last)",
      "\u001b[1;32m~\\AppData\\Local\\Temp\\ipykernel_13204\\1110646462.py\u001b[0m in \u001b[0;36m<module>\u001b[1;34m\u001b[0m\n\u001b[1;32m----> 1\u001b[1;33m \u001b[0mcursor\u001b[0m\u001b[1;33m.\u001b[0m\u001b[0mexecute\u001b[0m\u001b[1;33m(\u001b[0m\u001b[1;34m'create table fsds(name text,marks int, batch real)'\u001b[0m\u001b[1;33m)\u001b[0m\u001b[1;33m\u001b[0m\u001b[1;33m\u001b[0m\u001b[0m\n\u001b[0m",
      "\u001b[1;31mAttributeError\u001b[0m: 'builtin_function_or_method' object has no attribute 'execute'"
     ]
    }
   ],
   "source": [
    "cursor.execute('create table fsds(name text,marks int, batch real)')"
   ]
  },
  {
   "cell_type": "code",
   "execution_count": 48,
   "id": "f7f0f1bb",
   "metadata": {},
   "outputs": [],
   "source": [
    "cursor = db.cursor()"
   ]
  },
  {
   "cell_type": "code",
   "execution_count": 49,
   "id": "4cfbf4b8",
   "metadata": {},
   "outputs": [
    {
     "data": {
      "text/plain": [
       "<sqlite3.Cursor at 0x20068d8cea0>"
      ]
     },
     "execution_count": 49,
     "metadata": {},
     "output_type": "execute_result"
    }
   ],
   "source": [
    "cursor.execute('create table fsds(name text,marks int, batch real)')"
   ]
  },
  {
   "cell_type": "code",
   "execution_count": 50,
   "id": "49b7cf5c",
   "metadata": {},
   "outputs": [
    {
     "name": "stdout",
     "output_type": "stream",
     "text": [
      " Volume in drive C is Windows\n",
      " Volume Serial Number is 9048-2C9E\n",
      "\n",
      " Directory of C:\\Users\\bhavi\\PythonFull\n",
      "\n",
      "21-11-2022  04:13 PM    <DIR>          .\n",
      "20-11-2022  02:01 PM    <DIR>          ..\n",
      "21-11-2022  01:43 PM    <DIR>          .ipynb_checkpoints\n",
      "03-09-2022  03:49 AM           269,312 _cairo.pyd\n",
      "03-09-2022  03:51 AM         1,249,792 _mforms.pyd\n",
      "09-11-2022  11:42 AM             3,985 Advance_PythonAssignment_2.ipynb\n",
      "10-11-2022  08:14 AM             2,844 Advance_PythonAssignment_3.ipynb\n",
      "11-11-2022  08:02 PM               992 Advance_PythonAssignment_4.ipynb\n",
      "03-09-2022  03:48 AM           144,896 Aga.Controls.dll\n",
      "06-05-2022  12:33 PM           806,400 antlr4-runtime.dll\n",
      "11-11-2022  01:23 PM             3,584 Assignment_8.ipynb\n",
      "10-11-2022  11:37 AM             4,929 Assignment_9.ipynb\n",
      "29-08-2022  02:51 PM         6,248,608 authentication_kerberos_client.dll\n",
      "29-08-2022  02:51 PM            53,920 authentication_ldap_sasl_client.dll\n",
      "03-09-2022  03:49 AM           555,008 base.dll\n",
      "03-09-2022  03:48 AM           115,200 base.windows.dll\n",
      "03-09-2022  03:49 AM           388,608 base.wr.dll\n",
      "03-09-2022  03:49 AM            47,049 cairo.py\n",
      "03-09-2022  03:50 AM           101,376 cdbc.dll\n",
      "21-11-2022  04:13 PM             8,192 chocko.db\n",
      "03-09-2022  03:52 AM           224,256 db.mysql.diff.reporting.wbp.dll\n",
      "03-09-2022  03:52 AM           428,032 db.mysql.editors.wbp.be.dll\n",
      "03-09-2022  03:53 AM           280,064 db.mysql.editors.wbp.fe.dll\n",
      "03-09-2022  03:53 AM         3,024,384 db.mysql.editors.wbp.wr.dll\n",
      "03-09-2022  03:51 AM           519,168 db.mysql.grt.dll\n",
      "03-09-2022  03:51 AM         1,317,888 db.mysql.parser.grt.dll\n",
      "03-09-2022  03:50 AM           103,424 db.mysql.query.grt.dll\n",
      "03-09-2022  03:53 AM         2,312,704 db.mysql.sqlparser.grt.dll\n",
      "03-09-2022  03:51 AM           861,696 db.mysql.wbp.dll\n",
      "03-09-2022  03:51 AM           223,232 db.search.wbp.dll\n",
      "03-09-2022  03:42 AM             1,503 db_utils.py\n",
      "21-11-2022  03:52 PM             8,192 donooo.db\n",
      "21-11-2022  03:43 PM                 0 doroman.db\n",
      "25-08-2022  11:27 AM        25,337,344 gdal.dll\n",
      "10-11-2022  09:03 AM                 0 glass.data\n",
      "10-11-2022  09:12 AM            11,903 glass1.txt\n",
      "31-05-2022  12:26 PM         1,503,232 glib-2.0-0.dll\n",
      "31-05-2022  12:26 PM            18,432 gmodule-2.0-0.dll\n",
      "31-05-2022  12:26 PM           395,264 gobject-2.0-0.dll\n",
      "03-09-2022  03:52 AM            90,624 grt.db.fe.dll\n",
      "03-09-2022  03:49 AM           856,576 grt.dll\n",
      "03-09-2022  03:42 AM            16,085 grt_python_debugger.py\n",
      "31-05-2022  12:26 PM            10,752 gthread-2.0-0.dll\n",
      "21-11-2022  03:57 PM             8,192 hought.db\n",
      "05-08-2020  11:27 AM           242,176 HTMLRenderer.dll\n",
      "05-08-2020  02:49 PM           939,008 iconv.dll\n",
      "21-11-2022  01:59 PM                 0 ineuron.db\n",
      "15-11-2022  06:08 PM           116,516 Internal_Python_DECORATOR_MAP_FILTER.ipynb\n",
      "03-05-2022  08:24 AM           921,600 libcairo.dll\n",
      "05-07-2022  03:01 PM         2,869,760 libcrypto-1_1-x64.dll\n",
      "03-05-2022  08:27 AM           195,072 libpng16.dll\n",
      "05-07-2022  03:01 PM           687,616 libssl-1_1-x64.dll\n",
      "29-08-2022  04:57 AM         1,412,608 libxml2.dll\n",
      "03-09-2022  03:42 AM           288,731 License.txt\n",
      "03-09-2022  03:51 AM           126,368 mforms.py\n",
      "03-09-2022  03:50 AM         4,170,240 mforms.wr.dll\n",
      "18-11-2022  08:38 PM           230,602 MONGO_DB.ipynb\n",
      "21-11-2022  12:49 PM           122,127 MongoDB_part2.ipynb\n",
      "03-09-2022  03:49 AM            90,624 mtemplate.dll\n",
      "08-11-2022  12:20 PM             2,605 mydict.py\n",
      "03-09-2022  03:49 AM           452,608 mysql.canvas.dll\n",
      "29-08-2022  02:51 PM         7,322,216 mysql.exe\n",
      "03-09-2022  03:50 AM         1,016,320 mysql.forms.dll\n",
      "03-09-2022  03:42 AM             2,725 mysql_system_status.vbs\n",
      "03-09-2022  03:42 AM             2,545 mysql_system_status_rmt.vbs\n",
      "02-09-2022  05:15 AM         9,449,472 mysqlcppconn-9-vs14.dll\n",
      "03-09-2022  03:51 AM           116,736 MySQLCsUtilities.dll\n",
      "29-08-2022  02:51 PM         7,280,752 mysqldump.exe\n",
      "03-09-2022  03:42 AM            38,396 mysqlwbmeb.py\n",
      "03-09-2022  03:42 AM            45,941 mysqlwbmeb.vbs\n",
      "03-09-2022  03:53 AM           511,488 MySQLWorkbench.exe\n",
      "03-09-2022  03:42 AM               184 MySQLWorkbench.exe.config\n",
      "03-09-2022  03:42 AM            82,726 MySQLWorkbenchDoc.ico\n",
      "25-08-2022  11:27 AM           115,712 ogr2ogr.exe\n",
      "25-08-2022  11:27 AM           117,760 ogrinfo.exe\n",
      "09-11-2022  01:11 AM            96,549 OOPS-Concept.ipynb\n",
      "03-09-2022  03:49 AM         3,695,616 parsers.dll\n",
      "22-08-2022  10:00 AM           243,200 pcre.dll\n",
      "22-08-2022  10:00 AM            52,224 pcrecpp.dll\n",
      "19-03-2021  09:27 PM           585,728 pixman-1-0.dll\n",
      "24-08-2022  05:43 PM            94,208 python.exe\n",
      "24-08-2022  05:43 PM         4,610,048 python37.dll\n",
      "21-11-2022  02:17 PM                 0 rat.db\n",
      "21-11-2022  02:02 PM                 0 rattuuu.db\n",
      "03-09-2022  03:42 AM             2,999 README.md\n",
      "03-09-2022  03:49 AM         1,574,912 Scintilla.dll\n",
      "03-09-2022  03:42 AM             1,024 shell_snippets.py.txt\n",
      "10-11-2022  09:55 AM            82,955 SQL.ipynb\n",
      "21-11-2022  04:12 PM            64,154 SQL_Lite.ipynb\n",
      "10-11-2022  04:18 AM             2,775 SQL3.ipynb\n",
      "21-11-2022  03:48 PM                 0 sqlfile.db\n",
      "03-09-2022  03:51 AM            84,480 sqlide.fe.dll\n",
      "24-08-2022  07:02 PM         1,170,944 sqlite3.dll\n",
      "20-07-2022  08:35 PM           372,224 ssh.dll\n",
      "03-09-2022  03:42 AM            25,889 sshtunnel.py\n",
      "10-11-2022  10:04 AM                72 Untitled.ipynb\n",
      "03-09-2022  03:51 AM            34,816 utilities.grt.dll\n",
      "25-08-2022  09:11 AM           161,280 vsqlite++.dll\n",
      "03-09-2022  03:51 AM           128,000 wb.model.editors.wbp.be.dll\n",
      "03-09-2022  03:53 AM           102,400 wb.model.editors.wbp.fe.dll\n",
      "03-09-2022  03:52 AM         3,017,216 wb.model.editors.wbp.wr.dll\n",
      "03-09-2022  03:51 AM           263,168 wb.model.grt.dll\n",
      "03-09-2022  03:51 AM           105,472 wb.model.snippets.wbp.dll\n",
      "03-09-2022  03:51 AM            79,872 wb.printing.wbp.be.dll\n",
      "03-09-2022  03:53 AM            77,824 wb.printing.wbp.fe.dll\n",
      "03-09-2022  03:53 AM           893,440 wb.printing.wbp.wr.dll\n",
      "03-09-2022  03:42 AM            11,963 wb.py\n",
      "03-09-2022  03:49 AM            18,944 wbadminhelper.exe\n",
      "03-09-2022  03:42 AM             9,130 wbadminhelper.py\n",
      "03-09-2022  03:49 AM           271,872 WBControls.dll\n",
      "03-09-2022  03:42 AM               184 WBControls.dll.config\n",
      "03-09-2022  03:49 AM         7,152,128 wbcopytables.exe\n",
      "03-09-2022  03:52 AM           196,096 WbPlugins.dll\n",
      "03-09-2022  03:52 AM         4,971,520 wbprivate.be.dll\n",
      "03-09-2022  03:52 AM         4,890,624 wbprivate.wr.dll\n",
      "03-09-2022  03:50 AM         3,347,968 wbpublic.be.dll\n",
      "03-09-2022  03:51 AM         5,105,152 wbpublic.wr.dll\n",
      "03-09-2022  03:49 AM           140,800 wbssh.dll\n",
      "03-05-2022  08:26 AM           101,888 zip.dll\n",
      "03-05-2022  07:47 AM            83,968 zlib.dll\n",
      "             117 File(s)    130,454,602 bytes\n",
      "               3 Dir(s)  434,273,157,120 bytes free\n"
     ]
    }
   ],
   "source": [
    "ls"
   ]
  },
  {
   "cell_type": "code",
   "execution_count": null,
   "id": "d3679af9",
   "metadata": {},
   "outputs": [],
   "source": [
    "# after 0 bytes it has changed into 8192bytes after creating table with schema of rows and columns"
   ]
  },
  {
   "cell_type": "code",
   "execution_count": 51,
   "id": "9fd9f1a1",
   "metadata": {},
   "outputs": [
    {
     "data": {
      "text/plain": [
       "<sqlite3.Cursor at 0x20068d8cea0>"
      ]
     },
     "execution_count": 51,
     "metadata": {},
     "output_type": "execute_result"
    }
   ],
   "source": [
    "cursor.execute(\"insert into fsds values('sanju',8947,67.9)\")"
   ]
  },
  {
   "cell_type": "code",
   "execution_count": 52,
   "id": "33c57dad",
   "metadata": {},
   "outputs": [
    {
     "name": "stdout",
     "output_type": "stream",
     "text": [
      " Volume in drive C is Windows\n",
      " Volume Serial Number is 9048-2C9E\n",
      "\n",
      " Directory of C:\\Users\\bhavi\\PythonFull\n",
      "\n",
      "21-11-2022  04:16 PM    <DIR>          .\n",
      "20-11-2022  02:01 PM    <DIR>          ..\n",
      "21-11-2022  01:43 PM    <DIR>          .ipynb_checkpoints\n",
      "03-09-2022  03:49 AM           269,312 _cairo.pyd\n",
      "03-09-2022  03:51 AM         1,249,792 _mforms.pyd\n",
      "09-11-2022  11:42 AM             3,985 Advance_PythonAssignment_2.ipynb\n",
      "10-11-2022  08:14 AM             2,844 Advance_PythonAssignment_3.ipynb\n",
      "11-11-2022  08:02 PM               992 Advance_PythonAssignment_4.ipynb\n",
      "03-09-2022  03:48 AM           144,896 Aga.Controls.dll\n",
      "06-05-2022  12:33 PM           806,400 antlr4-runtime.dll\n",
      "11-11-2022  01:23 PM             3,584 Assignment_8.ipynb\n",
      "10-11-2022  11:37 AM             4,929 Assignment_9.ipynb\n",
      "29-08-2022  02:51 PM         6,248,608 authentication_kerberos_client.dll\n",
      "29-08-2022  02:51 PM            53,920 authentication_ldap_sasl_client.dll\n",
      "03-09-2022  03:49 AM           555,008 base.dll\n",
      "03-09-2022  03:48 AM           115,200 base.windows.dll\n",
      "03-09-2022  03:49 AM           388,608 base.wr.dll\n",
      "03-09-2022  03:49 AM            47,049 cairo.py\n",
      "03-09-2022  03:50 AM           101,376 cdbc.dll\n",
      "21-11-2022  04:13 PM             8,192 chocko.db\n",
      "21-11-2022  04:16 PM                 0 chocko.db-journal\n",
      "03-09-2022  03:52 AM           224,256 db.mysql.diff.reporting.wbp.dll\n",
      "03-09-2022  03:52 AM           428,032 db.mysql.editors.wbp.be.dll\n",
      "03-09-2022  03:53 AM           280,064 db.mysql.editors.wbp.fe.dll\n",
      "03-09-2022  03:53 AM         3,024,384 db.mysql.editors.wbp.wr.dll\n",
      "03-09-2022  03:51 AM           519,168 db.mysql.grt.dll\n",
      "03-09-2022  03:51 AM         1,317,888 db.mysql.parser.grt.dll\n",
      "03-09-2022  03:50 AM           103,424 db.mysql.query.grt.dll\n",
      "03-09-2022  03:53 AM         2,312,704 db.mysql.sqlparser.grt.dll\n",
      "03-09-2022  03:51 AM           861,696 db.mysql.wbp.dll\n",
      "03-09-2022  03:51 AM           223,232 db.search.wbp.dll\n",
      "03-09-2022  03:42 AM             1,503 db_utils.py\n",
      "21-11-2022  03:52 PM             8,192 donooo.db\n",
      "21-11-2022  03:43 PM                 0 doroman.db\n",
      "25-08-2022  11:27 AM        25,337,344 gdal.dll\n",
      "10-11-2022  09:03 AM                 0 glass.data\n",
      "10-11-2022  09:12 AM            11,903 glass1.txt\n",
      "31-05-2022  12:26 PM         1,503,232 glib-2.0-0.dll\n",
      "31-05-2022  12:26 PM            18,432 gmodule-2.0-0.dll\n",
      "31-05-2022  12:26 PM           395,264 gobject-2.0-0.dll\n",
      "03-09-2022  03:52 AM            90,624 grt.db.fe.dll\n",
      "03-09-2022  03:49 AM           856,576 grt.dll\n",
      "03-09-2022  03:42 AM            16,085 grt_python_debugger.py\n",
      "31-05-2022  12:26 PM            10,752 gthread-2.0-0.dll\n",
      "21-11-2022  03:57 PM             8,192 hought.db\n",
      "05-08-2020  11:27 AM           242,176 HTMLRenderer.dll\n",
      "05-08-2020  02:49 PM           939,008 iconv.dll\n",
      "21-11-2022  01:59 PM                 0 ineuron.db\n",
      "15-11-2022  06:08 PM           116,516 Internal_Python_DECORATOR_MAP_FILTER.ipynb\n",
      "03-05-2022  08:24 AM           921,600 libcairo.dll\n",
      "05-07-2022  03:01 PM         2,869,760 libcrypto-1_1-x64.dll\n",
      "03-05-2022  08:27 AM           195,072 libpng16.dll\n",
      "05-07-2022  03:01 PM           687,616 libssl-1_1-x64.dll\n",
      "29-08-2022  04:57 AM         1,412,608 libxml2.dll\n",
      "03-09-2022  03:42 AM           288,731 License.txt\n",
      "03-09-2022  03:51 AM           126,368 mforms.py\n",
      "03-09-2022  03:50 AM         4,170,240 mforms.wr.dll\n",
      "18-11-2022  08:38 PM           230,602 MONGO_DB.ipynb\n",
      "21-11-2022  12:49 PM           122,127 MongoDB_part2.ipynb\n",
      "03-09-2022  03:49 AM            90,624 mtemplate.dll\n",
      "08-11-2022  12:20 PM             2,605 mydict.py\n",
      "03-09-2022  03:49 AM           452,608 mysql.canvas.dll\n",
      "29-08-2022  02:51 PM         7,322,216 mysql.exe\n",
      "03-09-2022  03:50 AM         1,016,320 mysql.forms.dll\n",
      "03-09-2022  03:42 AM             2,725 mysql_system_status.vbs\n",
      "03-09-2022  03:42 AM             2,545 mysql_system_status_rmt.vbs\n",
      "02-09-2022  05:15 AM         9,449,472 mysqlcppconn-9-vs14.dll\n",
      "03-09-2022  03:51 AM           116,736 MySQLCsUtilities.dll\n",
      "29-08-2022  02:51 PM         7,280,752 mysqldump.exe\n",
      "03-09-2022  03:42 AM            38,396 mysqlwbmeb.py\n",
      "03-09-2022  03:42 AM            45,941 mysqlwbmeb.vbs\n",
      "03-09-2022  03:53 AM           511,488 MySQLWorkbench.exe\n",
      "03-09-2022  03:42 AM               184 MySQLWorkbench.exe.config\n",
      "03-09-2022  03:42 AM            82,726 MySQLWorkbenchDoc.ico\n",
      "25-08-2022  11:27 AM           115,712 ogr2ogr.exe\n",
      "25-08-2022  11:27 AM           117,760 ogrinfo.exe\n",
      "09-11-2022  01:11 AM            96,549 OOPS-Concept.ipynb\n",
      "03-09-2022  03:49 AM         3,695,616 parsers.dll\n",
      "22-08-2022  10:00 AM           243,200 pcre.dll\n",
      "22-08-2022  10:00 AM            52,224 pcrecpp.dll\n",
      "19-03-2021  09:27 PM           585,728 pixman-1-0.dll\n",
      "24-08-2022  05:43 PM            94,208 python.exe\n",
      "24-08-2022  05:43 PM         4,610,048 python37.dll\n",
      "21-11-2022  02:17 PM                 0 rat.db\n",
      "21-11-2022  02:02 PM                 0 rattuuu.db\n",
      "03-09-2022  03:42 AM             2,999 README.md\n",
      "03-09-2022  03:49 AM         1,574,912 Scintilla.dll\n",
      "03-09-2022  03:42 AM             1,024 shell_snippets.py.txt\n",
      "10-11-2022  09:55 AM            82,955 SQL.ipynb\n",
      "21-11-2022  04:14 PM            74,607 SQL_Lite.ipynb\n",
      "10-11-2022  04:18 AM             2,775 SQL3.ipynb\n",
      "21-11-2022  03:48 PM                 0 sqlfile.db\n",
      "03-09-2022  03:51 AM            84,480 sqlide.fe.dll\n",
      "24-08-2022  07:02 PM         1,170,944 sqlite3.dll\n",
      "20-07-2022  08:35 PM           372,224 ssh.dll\n",
      "03-09-2022  03:42 AM            25,889 sshtunnel.py\n",
      "10-11-2022  10:04 AM                72 Untitled.ipynb\n",
      "03-09-2022  03:51 AM            34,816 utilities.grt.dll\n",
      "25-08-2022  09:11 AM           161,280 vsqlite++.dll\n",
      "03-09-2022  03:51 AM           128,000 wb.model.editors.wbp.be.dll\n",
      "03-09-2022  03:53 AM           102,400 wb.model.editors.wbp.fe.dll\n",
      "03-09-2022  03:52 AM         3,017,216 wb.model.editors.wbp.wr.dll\n",
      "03-09-2022  03:51 AM           263,168 wb.model.grt.dll\n",
      "03-09-2022  03:51 AM           105,472 wb.model.snippets.wbp.dll\n",
      "03-09-2022  03:51 AM            79,872 wb.printing.wbp.be.dll\n",
      "03-09-2022  03:53 AM            77,824 wb.printing.wbp.fe.dll\n",
      "03-09-2022  03:53 AM           893,440 wb.printing.wbp.wr.dll\n",
      "03-09-2022  03:42 AM            11,963 wb.py\n",
      "03-09-2022  03:49 AM            18,944 wbadminhelper.exe\n",
      "03-09-2022  03:42 AM             9,130 wbadminhelper.py\n",
      "03-09-2022  03:49 AM           271,872 WBControls.dll\n",
      "03-09-2022  03:42 AM               184 WBControls.dll.config\n",
      "03-09-2022  03:49 AM         7,152,128 wbcopytables.exe\n",
      "03-09-2022  03:52 AM           196,096 WbPlugins.dll\n",
      "03-09-2022  03:52 AM         4,971,520 wbprivate.be.dll\n",
      "03-09-2022  03:52 AM         4,890,624 wbprivate.wr.dll\n",
      "03-09-2022  03:50 AM         3,347,968 wbpublic.be.dll\n",
      "03-09-2022  03:51 AM         5,105,152 wbpublic.wr.dll\n",
      "03-09-2022  03:49 AM           140,800 wbssh.dll\n",
      "03-05-2022  08:26 AM           101,888 zip.dll\n",
      "03-05-2022  07:47 AM            83,968 zlib.dll\n",
      "             118 File(s)    130,465,055 bytes\n",
      "               3 Dir(s)  434,272,342,016 bytes free\n"
     ]
    }
   ],
   "source": [
    "%ls"
   ]
  },
  {
   "cell_type": "code",
   "execution_count": 54,
   "id": "f83d60c2",
   "metadata": {},
   "outputs": [],
   "source": [
    "data = cursor.execute('Select * from fsds')"
   ]
  },
  {
   "cell_type": "code",
   "execution_count": 55,
   "id": "d623613b",
   "metadata": {},
   "outputs": [
    {
     "name": "stdout",
     "output_type": "stream",
     "text": [
      "('sanju', 8947, 67.9)\n"
     ]
    }
   ],
   "source": [
    "for i in data:    # it is stored in the form of tuples\n",
    "    print(i)"
   ]
  },
  {
   "cell_type": "code",
   "execution_count": 56,
   "id": "d0c096c3",
   "metadata": {},
   "outputs": [],
   "source": [
    "db.commit()"
   ]
  },
  {
   "cell_type": "code",
   "execution_count": 59,
   "id": "2ec2e71e",
   "metadata": {},
   "outputs": [],
   "source": [
    "db.close()"
   ]
  },
  {
   "cell_type": "code",
   "execution_count": 79,
   "id": "695830ac",
   "metadata": {},
   "outputs": [],
   "source": [
    "# SQLITE 3"
   ]
  },
  {
   "cell_type": "code",
   "execution_count": 80,
   "id": "89368e38",
   "metadata": {},
   "outputs": [],
   "source": [
    "import sqlite3  # importing the modules of packages"
   ]
  },
  {
   "cell_type": "code",
   "execution_count": 82,
   "id": "fd53071f",
   "metadata": {},
   "outputs": [],
   "source": [
    "db = sqlite3.connect(\"gowda.db\")  # creating the file of  .db which is stored in an inmemory allocation"
   ]
  },
  {
   "cell_type": "code",
   "execution_count": 83,
   "id": "aadd7914",
   "metadata": {},
   "outputs": [],
   "source": [
    " cursor = db.cursor()"
   ]
  },
  {
   "cell_type": "code",
   "execution_count": 84,
   "id": "1b2432ae",
   "metadata": {},
   "outputs": [
    {
     "data": {
      "text/plain": [
       "<sqlite3.Cursor at 0x20068cdb030>"
      ]
     },
     "execution_count": 84,
     "metadata": {},
     "output_type": "execute_result"
    }
   ],
   "source": [
    "cursor.execute('create table sanju(name text,marks int,batch double)')   # table sanju"
   ]
  },
  {
   "cell_type": "code",
   "execution_count": 85,
   "id": "1edfd4fc",
   "metadata": {},
   "outputs": [
    {
     "name": "stdout",
     "output_type": "stream",
     "text": [
      " Volume in drive C is Windows\n",
      " Volume Serial Number is 9048-2C9E\n",
      "\n",
      " Directory of C:\\Users\\bhavi\\PythonFull\n",
      "\n",
      "21-11-2022  04:26 PM    <DIR>          .\n",
      "20-11-2022  02:01 PM    <DIR>          ..\n",
      "21-11-2022  01:43 PM    <DIR>          .ipynb_checkpoints\n",
      "03-09-2022  03:49 AM           269,312 _cairo.pyd\n",
      "03-09-2022  03:51 AM         1,249,792 _mforms.pyd\n",
      "09-11-2022  11:42 AM             3,985 Advance_PythonAssignment_2.ipynb\n",
      "10-11-2022  08:14 AM             2,844 Advance_PythonAssignment_3.ipynb\n",
      "11-11-2022  08:02 PM               992 Advance_PythonAssignment_4.ipynb\n",
      "03-09-2022  03:48 AM           144,896 Aga.Controls.dll\n",
      "06-05-2022  12:33 PM           806,400 antlr4-runtime.dll\n",
      "11-11-2022  01:23 PM             3,584 Assignment_8.ipynb\n",
      "10-11-2022  11:37 AM             4,929 Assignment_9.ipynb\n",
      "29-08-2022  02:51 PM         6,248,608 authentication_kerberos_client.dll\n",
      "29-08-2022  02:51 PM            53,920 authentication_ldap_sasl_client.dll\n",
      "03-09-2022  03:49 AM           555,008 base.dll\n",
      "03-09-2022  03:48 AM           115,200 base.windows.dll\n",
      "03-09-2022  03:49 AM           388,608 base.wr.dll\n",
      "03-09-2022  03:49 AM            47,049 cairo.py\n",
      "03-09-2022  03:50 AM           101,376 cdbc.dll\n",
      "21-11-2022  04:19 PM             8,192 chocko.db\n",
      "03-09-2022  03:52 AM           224,256 db.mysql.diff.reporting.wbp.dll\n",
      "03-09-2022  03:52 AM           428,032 db.mysql.editors.wbp.be.dll\n",
      "03-09-2022  03:53 AM           280,064 db.mysql.editors.wbp.fe.dll\n",
      "03-09-2022  03:53 AM         3,024,384 db.mysql.editors.wbp.wr.dll\n",
      "03-09-2022  03:51 AM           519,168 db.mysql.grt.dll\n",
      "03-09-2022  03:51 AM         1,317,888 db.mysql.parser.grt.dll\n",
      "03-09-2022  03:50 AM           103,424 db.mysql.query.grt.dll\n",
      "03-09-2022  03:53 AM         2,312,704 db.mysql.sqlparser.grt.dll\n",
      "03-09-2022  03:51 AM           861,696 db.mysql.wbp.dll\n",
      "03-09-2022  03:51 AM           223,232 db.search.wbp.dll\n",
      "03-09-2022  03:42 AM             1,503 db_utils.py\n",
      "21-11-2022  03:52 PM             8,192 donooo.db\n",
      "21-11-2022  03:43 PM                 0 doroman.db\n",
      "25-08-2022  11:27 AM        25,337,344 gdal.dll\n",
      "10-11-2022  09:03 AM                 0 glass.data\n",
      "10-11-2022  09:12 AM            11,903 glass1.txt\n",
      "31-05-2022  12:26 PM         1,503,232 glib-2.0-0.dll\n",
      "31-05-2022  12:26 PM            18,432 gmodule-2.0-0.dll\n",
      "31-05-2022  12:26 PM           395,264 gobject-2.0-0.dll\n",
      "21-11-2022  04:23 PM             8,192 going.db\n",
      "21-11-2022  04:26 PM             8,192 gowda.db\n",
      "03-09-2022  03:52 AM            90,624 grt.db.fe.dll\n",
      "03-09-2022  03:49 AM           856,576 grt.dll\n",
      "03-09-2022  03:42 AM            16,085 grt_python_debugger.py\n",
      "31-05-2022  12:26 PM            10,752 gthread-2.0-0.dll\n",
      "21-11-2022  03:57 PM             8,192 hought.db\n",
      "05-08-2020  11:27 AM           242,176 HTMLRenderer.dll\n",
      "05-08-2020  02:49 PM           939,008 iconv.dll\n",
      "21-11-2022  01:59 PM                 0 ineuron.db\n",
      "15-11-2022  06:08 PM           116,516 Internal_Python_DECORATOR_MAP_FILTER.ipynb\n",
      "03-05-2022  08:24 AM           921,600 libcairo.dll\n",
      "05-07-2022  03:01 PM         2,869,760 libcrypto-1_1-x64.dll\n",
      "03-05-2022  08:27 AM           195,072 libpng16.dll\n",
      "05-07-2022  03:01 PM           687,616 libssl-1_1-x64.dll\n",
      "29-08-2022  04:57 AM         1,412,608 libxml2.dll\n",
      "03-09-2022  03:42 AM           288,731 License.txt\n",
      "03-09-2022  03:51 AM           126,368 mforms.py\n",
      "03-09-2022  03:50 AM         4,170,240 mforms.wr.dll\n",
      "18-11-2022  08:38 PM           230,602 MONGO_DB.ipynb\n",
      "21-11-2022  12:49 PM           122,127 MongoDB_part2.ipynb\n",
      "03-09-2022  03:49 AM            90,624 mtemplate.dll\n",
      "08-11-2022  12:20 PM             2,605 mydict.py\n",
      "03-09-2022  03:49 AM           452,608 mysql.canvas.dll\n",
      "29-08-2022  02:51 PM         7,322,216 mysql.exe\n",
      "03-09-2022  03:50 AM         1,016,320 mysql.forms.dll\n",
      "03-09-2022  03:42 AM             2,725 mysql_system_status.vbs\n",
      "03-09-2022  03:42 AM             2,545 mysql_system_status_rmt.vbs\n",
      "02-09-2022  05:15 AM         9,449,472 mysqlcppconn-9-vs14.dll\n",
      "03-09-2022  03:51 AM           116,736 MySQLCsUtilities.dll\n",
      "29-08-2022  02:51 PM         7,280,752 mysqldump.exe\n",
      "03-09-2022  03:42 AM            38,396 mysqlwbmeb.py\n",
      "03-09-2022  03:42 AM            45,941 mysqlwbmeb.vbs\n",
      "03-09-2022  03:53 AM           511,488 MySQLWorkbench.exe\n",
      "03-09-2022  03:42 AM               184 MySQLWorkbench.exe.config\n",
      "03-09-2022  03:42 AM            82,726 MySQLWorkbenchDoc.ico\n",
      "25-08-2022  11:27 AM           115,712 ogr2ogr.exe\n",
      "25-08-2022  11:27 AM           117,760 ogrinfo.exe\n",
      "09-11-2022  01:11 AM            96,549 OOPS-Concept.ipynb\n",
      "03-09-2022  03:49 AM         3,695,616 parsers.dll\n",
      "22-08-2022  10:00 AM           243,200 pcre.dll\n",
      "22-08-2022  10:00 AM            52,224 pcrecpp.dll\n",
      "19-03-2021  09:27 PM           585,728 pixman-1-0.dll\n",
      "24-08-2022  05:43 PM            94,208 python.exe\n",
      "24-08-2022  05:43 PM         4,610,048 python37.dll\n",
      "21-11-2022  02:17 PM                 0 rat.db\n",
      "21-11-2022  02:02 PM                 0 rattuuu.db\n",
      "03-09-2022  03:42 AM             2,999 README.md\n",
      "03-09-2022  03:49 AM         1,574,912 Scintilla.dll\n",
      "03-09-2022  03:42 AM             1,024 shell_snippets.py.txt\n",
      "10-11-2022  09:55 AM            82,955 SQL.ipynb\n",
      "21-11-2022  04:26 PM            85,657 SQL_Lite.ipynb\n",
      "10-11-2022  04:18 AM             2,775 SQL3.ipynb\n",
      "21-11-2022  03:48 PM                 0 sqlfile.db\n",
      "03-09-2022  03:51 AM            84,480 sqlide.fe.dll\n",
      "24-08-2022  07:02 PM         1,170,944 sqlite3.dll\n",
      "20-07-2022  08:35 PM           372,224 ssh.dll\n",
      "03-09-2022  03:42 AM            25,889 sshtunnel.py\n",
      "10-11-2022  10:04 AM                72 Untitled.ipynb\n",
      "03-09-2022  03:51 AM            34,816 utilities.grt.dll\n",
      "25-08-2022  09:11 AM           161,280 vsqlite++.dll\n",
      "03-09-2022  03:51 AM           128,000 wb.model.editors.wbp.be.dll\n",
      "03-09-2022  03:53 AM           102,400 wb.model.editors.wbp.fe.dll\n",
      "03-09-2022  03:52 AM         3,017,216 wb.model.editors.wbp.wr.dll\n",
      "03-09-2022  03:51 AM           263,168 wb.model.grt.dll\n",
      "03-09-2022  03:51 AM           105,472 wb.model.snippets.wbp.dll\n",
      "03-09-2022  03:51 AM            79,872 wb.printing.wbp.be.dll\n",
      "03-09-2022  03:53 AM            77,824 wb.printing.wbp.fe.dll\n",
      "03-09-2022  03:53 AM           893,440 wb.printing.wbp.wr.dll\n",
      "03-09-2022  03:42 AM            11,963 wb.py\n",
      "03-09-2022  03:49 AM            18,944 wbadminhelper.exe\n",
      "03-09-2022  03:42 AM             9,130 wbadminhelper.py\n",
      "03-09-2022  03:49 AM           271,872 WBControls.dll\n",
      "03-09-2022  03:42 AM               184 WBControls.dll.config\n",
      "03-09-2022  03:49 AM         7,152,128 wbcopytables.exe\n",
      "03-09-2022  03:52 AM           196,096 WbPlugins.dll\n",
      "03-09-2022  03:52 AM         4,971,520 wbprivate.be.dll\n",
      "03-09-2022  03:52 AM         4,890,624 wbprivate.wr.dll\n",
      "03-09-2022  03:50 AM         3,347,968 wbpublic.be.dll\n",
      "03-09-2022  03:51 AM         5,105,152 wbpublic.wr.dll\n",
      "03-09-2022  03:49 AM           140,800 wbssh.dll\n",
      "03-05-2022  08:26 AM           101,888 zip.dll\n",
      "03-05-2022  07:47 AM            83,968 zlib.dll\n",
      "             119 File(s)    130,492,489 bytes\n",
      "               3 Dir(s)  434,268,975,104 bytes free\n"
     ]
    }
   ],
   "source": [
    "%ls\n",
    "      # gowda.db will be stored in the form of 8192 bytes"
   ]
  },
  {
   "cell_type": "code",
   "execution_count": 143,
   "id": "1092d04c",
   "metadata": {},
   "outputs": [
    {
     "data": {
      "text/plain": [
       "<sqlite3.Cursor at 0x20068cdb030>"
      ]
     },
     "execution_count": 143,
     "metadata": {},
     "output_type": "execute_result"
    }
   ],
   "source": [
    "cursor.execute(\"insert into sanju values('sanjuuu',70,30.8)\")"
   ]
  },
  {
   "cell_type": "code",
   "execution_count": 144,
   "id": "eabb09fe",
   "metadata": {},
   "outputs": [],
   "source": [
    "# check the output wheather it is printed inn .db file or not\n",
    "data = cursor.execute('Select * from sanju')"
   ]
  },
  {
   "cell_type": "code",
   "execution_count": 145,
   "id": "848ccb4e",
   "metadata": {},
   "outputs": [
    {
     "name": "stdout",
     "output_type": "stream",
     "text": [
      "('sanjuuu', 56748, 89.9)\n",
      "('sanjuuu', 56748, 89.9)\n",
      "('sanjuuu', 56748, 89.9)\n",
      "('sanjuuu', 56748, 89.9)\n",
      "('sanjuuu', 56748, 89.9)\n",
      "('sanjuuu', 56748, 89.9)\n",
      "('sanjuuu', 56748, 89.9)\n",
      "('sanjuuu', 56, 89.9)\n",
      "('sanjuuu', 80, 89.9)\n",
      "('sanjuuu', 70, 89.9)\n",
      "('sanjuuu', 80, 89.9)\n",
      "('sanjuuu', 25, 89.9)\n",
      "('sanjuuu', 70, 89.9)\n",
      "('sanjuuu', 70, 90.0)\n",
      "('sanjuuu', 70, 90.8)\n",
      "('sanjuuu', 70, 1000.8)\n",
      "('sanjuuu', 70, 70.8)\n",
      "('sanjuuu', 70, 7000.8)\n",
      "('sanjuuu', 70, 40.8)\n",
      "('sanjuuu', 70, 30.8)\n"
     ]
    }
   ],
   "source": [
    "for i in data:   # this is stored in that file gowda.db\n",
    "    print(i)"
   ]
  },
  {
   "cell_type": "code",
   "execution_count": 96,
   "id": "44b8b54a",
   "metadata": {},
   "outputs": [],
   "source": [
    "db.commit()"
   ]
  },
  {
   "cell_type": "code",
   "execution_count": 97,
   "id": "fb73aa04",
   "metadata": {},
   "outputs": [],
   "source": [
    "data = cursor.execute('Select * from sanju')  # select * from table name"
   ]
  },
  {
   "cell_type": "code",
   "execution_count": 98,
   "id": "aae1b52c",
   "metadata": {},
   "outputs": [
    {
     "name": "stdout",
     "output_type": "stream",
     "text": [
      "('sanjuuu', 56748, 89.9)\n",
      "('sanjuuu', 56748, 89.9)\n",
      "('sanjuuu', 56748, 89.9)\n",
      "('sanjuuu', 56748, 89.9)\n",
      "('sanjuuu', 56748, 89.9)\n",
      "('sanjuuu', 56748, 89.9)\n",
      "('sanjuuu', 56748, 89.9)\n"
     ]
    }
   ],
   "source": [
    "for i in data:\n",
    "    print(i)"
   ]
  },
  {
   "cell_type": "code",
   "execution_count": 99,
   "id": "f732c234",
   "metadata": {},
   "outputs": [
    {
     "name": "stdout",
     "output_type": "stream",
     "text": [
      " Volume in drive C is Windows\n",
      " Volume Serial Number is 9048-2C9E\n",
      "\n",
      " Directory of C:\\Users\\bhavi\\PythonFull\n",
      "\n",
      "21-11-2022  04:33 PM    <DIR>          .\n",
      "20-11-2022  02:01 PM    <DIR>          ..\n",
      "21-11-2022  01:43 PM    <DIR>          .ipynb_checkpoints\n",
      "03-09-2022  03:49 AM           269,312 _cairo.pyd\n",
      "03-09-2022  03:51 AM         1,249,792 _mforms.pyd\n",
      "09-11-2022  11:42 AM             3,985 Advance_PythonAssignment_2.ipynb\n",
      "10-11-2022  08:14 AM             2,844 Advance_PythonAssignment_3.ipynb\n",
      "11-11-2022  08:02 PM               992 Advance_PythonAssignment_4.ipynb\n",
      "03-09-2022  03:48 AM           144,896 Aga.Controls.dll\n",
      "06-05-2022  12:33 PM           806,400 antlr4-runtime.dll\n",
      "11-11-2022  01:23 PM             3,584 Assignment_8.ipynb\n",
      "10-11-2022  11:37 AM             4,929 Assignment_9.ipynb\n",
      "29-08-2022  02:51 PM         6,248,608 authentication_kerberos_client.dll\n",
      "29-08-2022  02:51 PM            53,920 authentication_ldap_sasl_client.dll\n",
      "03-09-2022  03:49 AM           555,008 base.dll\n",
      "03-09-2022  03:48 AM           115,200 base.windows.dll\n",
      "03-09-2022  03:49 AM           388,608 base.wr.dll\n",
      "03-09-2022  03:49 AM            47,049 cairo.py\n",
      "03-09-2022  03:50 AM           101,376 cdbc.dll\n",
      "21-11-2022  04:19 PM             8,192 chocko.db\n",
      "03-09-2022  03:52 AM           224,256 db.mysql.diff.reporting.wbp.dll\n",
      "03-09-2022  03:52 AM           428,032 db.mysql.editors.wbp.be.dll\n",
      "03-09-2022  03:53 AM           280,064 db.mysql.editors.wbp.fe.dll\n",
      "03-09-2022  03:53 AM         3,024,384 db.mysql.editors.wbp.wr.dll\n",
      "03-09-2022  03:51 AM           519,168 db.mysql.grt.dll\n",
      "03-09-2022  03:51 AM         1,317,888 db.mysql.parser.grt.dll\n",
      "03-09-2022  03:50 AM           103,424 db.mysql.query.grt.dll\n",
      "03-09-2022  03:53 AM         2,312,704 db.mysql.sqlparser.grt.dll\n",
      "03-09-2022  03:51 AM           861,696 db.mysql.wbp.dll\n",
      "03-09-2022  03:51 AM           223,232 db.search.wbp.dll\n",
      "03-09-2022  03:42 AM             1,503 db_utils.py\n",
      "21-11-2022  03:52 PM             8,192 donooo.db\n",
      "21-11-2022  03:43 PM                 0 doroman.db\n",
      "25-08-2022  11:27 AM        25,337,344 gdal.dll\n",
      "10-11-2022  09:03 AM                 0 glass.data\n",
      "10-11-2022  09:12 AM            11,903 glass1.txt\n",
      "31-05-2022  12:26 PM         1,503,232 glib-2.0-0.dll\n",
      "31-05-2022  12:26 PM            18,432 gmodule-2.0-0.dll\n",
      "31-05-2022  12:26 PM           395,264 gobject-2.0-0.dll\n",
      "21-11-2022  04:23 PM             8,192 going.db\n",
      "21-11-2022  04:30 PM             8,192 gowda.db\n",
      "03-09-2022  03:52 AM            90,624 grt.db.fe.dll\n",
      "03-09-2022  03:49 AM           856,576 grt.dll\n",
      "03-09-2022  03:42 AM            16,085 grt_python_debugger.py\n",
      "31-05-2022  12:26 PM            10,752 gthread-2.0-0.dll\n",
      "21-11-2022  03:57 PM             8,192 hought.db\n",
      "05-08-2020  11:27 AM           242,176 HTMLRenderer.dll\n",
      "05-08-2020  02:49 PM           939,008 iconv.dll\n",
      "21-11-2022  01:59 PM                 0 ineuron.db\n",
      "15-11-2022  06:08 PM           116,516 Internal_Python_DECORATOR_MAP_FILTER.ipynb\n",
      "03-05-2022  08:24 AM           921,600 libcairo.dll\n",
      "05-07-2022  03:01 PM         2,869,760 libcrypto-1_1-x64.dll\n",
      "03-05-2022  08:27 AM           195,072 libpng16.dll\n",
      "05-07-2022  03:01 PM           687,616 libssl-1_1-x64.dll\n",
      "29-08-2022  04:57 AM         1,412,608 libxml2.dll\n",
      "03-09-2022  03:42 AM           288,731 License.txt\n",
      "03-09-2022  03:51 AM           126,368 mforms.py\n",
      "03-09-2022  03:50 AM         4,170,240 mforms.wr.dll\n",
      "18-11-2022  08:38 PM           230,602 MONGO_DB.ipynb\n",
      "21-11-2022  12:49 PM           122,127 MongoDB_part2.ipynb\n",
      "03-09-2022  03:49 AM            90,624 mtemplate.dll\n",
      "08-11-2022  12:20 PM             2,605 mydict.py\n",
      "03-09-2022  03:49 AM           452,608 mysql.canvas.dll\n",
      "29-08-2022  02:51 PM         7,322,216 mysql.exe\n",
      "03-09-2022  03:50 AM         1,016,320 mysql.forms.dll\n",
      "03-09-2022  03:42 AM             2,725 mysql_system_status.vbs\n",
      "03-09-2022  03:42 AM             2,545 mysql_system_status_rmt.vbs\n",
      "02-09-2022  05:15 AM         9,449,472 mysqlcppconn-9-vs14.dll\n",
      "03-09-2022  03:51 AM           116,736 MySQLCsUtilities.dll\n",
      "29-08-2022  02:51 PM         7,280,752 mysqldump.exe\n",
      "03-09-2022  03:42 AM            38,396 mysqlwbmeb.py\n",
      "03-09-2022  03:42 AM            45,941 mysqlwbmeb.vbs\n",
      "03-09-2022  03:53 AM           511,488 MySQLWorkbench.exe\n",
      "03-09-2022  03:42 AM               184 MySQLWorkbench.exe.config\n",
      "03-09-2022  03:42 AM            82,726 MySQLWorkbenchDoc.ico\n",
      "25-08-2022  11:27 AM           115,712 ogr2ogr.exe\n",
      "25-08-2022  11:27 AM           117,760 ogrinfo.exe\n",
      "09-11-2022  01:11 AM            96,549 OOPS-Concept.ipynb\n",
      "03-09-2022  03:49 AM         3,695,616 parsers.dll\n",
      "22-08-2022  10:00 AM           243,200 pcre.dll\n",
      "22-08-2022  10:00 AM            52,224 pcrecpp.dll\n",
      "19-03-2021  09:27 PM           585,728 pixman-1-0.dll\n",
      "24-08-2022  05:43 PM            94,208 python.exe\n",
      "24-08-2022  05:43 PM         4,610,048 python37.dll\n",
      "21-11-2022  02:17 PM                 0 rat.db\n",
      "21-11-2022  02:02 PM                 0 rattuuu.db\n",
      "03-09-2022  03:42 AM             2,999 README.md\n",
      "03-09-2022  03:49 AM         1,574,912 Scintilla.dll\n",
      "03-09-2022  03:42 AM             1,024 shell_snippets.py.txt\n",
      "10-11-2022  09:55 AM            82,955 SQL.ipynb\n",
      "21-11-2022  04:33 PM            96,525 SQL_Lite.ipynb\n",
      "10-11-2022  04:18 AM             2,775 SQL3.ipynb\n",
      "21-11-2022  03:48 PM                 0 sqlfile.db\n",
      "03-09-2022  03:51 AM            84,480 sqlide.fe.dll\n",
      "24-08-2022  07:02 PM         1,170,944 sqlite3.dll\n",
      "20-07-2022  08:35 PM           372,224 ssh.dll\n",
      "03-09-2022  03:42 AM            25,889 sshtunnel.py\n",
      "10-11-2022  10:04 AM                72 Untitled.ipynb\n",
      "03-09-2022  03:51 AM            34,816 utilities.grt.dll\n",
      "25-08-2022  09:11 AM           161,280 vsqlite++.dll\n",
      "03-09-2022  03:51 AM           128,000 wb.model.editors.wbp.be.dll\n",
      "03-09-2022  03:53 AM           102,400 wb.model.editors.wbp.fe.dll\n",
      "03-09-2022  03:52 AM         3,017,216 wb.model.editors.wbp.wr.dll\n",
      "03-09-2022  03:51 AM           263,168 wb.model.grt.dll\n",
      "03-09-2022  03:51 AM           105,472 wb.model.snippets.wbp.dll\n",
      "03-09-2022  03:51 AM            79,872 wb.printing.wbp.be.dll\n",
      "03-09-2022  03:53 AM            77,824 wb.printing.wbp.fe.dll\n",
      "03-09-2022  03:53 AM           893,440 wb.printing.wbp.wr.dll\n",
      "03-09-2022  03:42 AM            11,963 wb.py\n",
      "03-09-2022  03:49 AM            18,944 wbadminhelper.exe\n",
      "03-09-2022  03:42 AM             9,130 wbadminhelper.py\n",
      "03-09-2022  03:49 AM           271,872 WBControls.dll\n",
      "03-09-2022  03:42 AM               184 WBControls.dll.config\n",
      "03-09-2022  03:49 AM         7,152,128 wbcopytables.exe\n",
      "03-09-2022  03:52 AM           196,096 WbPlugins.dll\n",
      "03-09-2022  03:52 AM         4,971,520 wbprivate.be.dll\n",
      "03-09-2022  03:52 AM         4,890,624 wbprivate.wr.dll\n",
      "03-09-2022  03:50 AM         3,347,968 wbpublic.be.dll\n",
      "03-09-2022  03:51 AM         5,105,152 wbpublic.wr.dll\n",
      "03-09-2022  03:49 AM           140,800 wbssh.dll\n",
      "03-05-2022  08:26 AM           101,888 zip.dll\n",
      "03-05-2022  07:47 AM            83,968 zlib.dll\n",
      "             119 File(s)    130,503,357 bytes\n",
      "               3 Dir(s)  434,269,671,424 bytes free\n"
     ]
    }
   ],
   "source": [
    "%ls"
   ]
  },
  {
   "cell_type": "code",
   "execution_count": 100,
   "id": "c370c834",
   "metadata": {},
   "outputs": [],
   "source": [
    "db.commit()  #  its already commited but once again connect to db"
   ]
  },
  {
   "cell_type": "code",
   "execution_count": 101,
   "id": "7fa67f8d",
   "metadata": {},
   "outputs": [],
   "source": [
    "db = sqlite3.connect('gowda.db')"
   ]
  },
  {
   "cell_type": "code",
   "execution_count": 111,
   "id": "14b337af",
   "metadata": {},
   "outputs": [],
   "source": [
    "data = cursor.execute('Select * from sanju') # by creating tablename and fetching all records"
   ]
  },
  {
   "cell_type": "code",
   "execution_count": 113,
   "id": "039f8444",
   "metadata": {},
   "outputs": [
    {
     "name": "stdout",
     "output_type": "stream",
     "text": [
      "('sanjuuu', 56748, 89.9)\n",
      "('sanjuuu', 56748, 89.9)\n",
      "('sanjuuu', 56748, 89.9)\n",
      "('sanjuuu', 56748, 89.9)\n",
      "('sanjuuu', 56748, 89.9)\n",
      "('sanjuuu', 56748, 89.9)\n",
      "('sanjuuu', 56748, 89.9)\n",
      "('sanjuuu', 56, 89.9)\n",
      "('sanjuuu', 80, 89.9)\n",
      "('sanjuuu', 70, 89.9)\n",
      "('sanjuuu', 80, 89.9)\n",
      "('sanjuuu', 25, 89.9)\n",
      "('sanjuuu', 70, 89.9)\n"
     ]
    }
   ],
   "source": [
    "for i in data:\n",
    "    print(i)"
   ]
  },
  {
   "cell_type": "code",
   "execution_count": 120,
   "id": "b1420906",
   "metadata": {},
   "outputs": [
    {
     "name": "stdout",
     "output_type": "stream",
     "text": [
      "('sanjuuu', 56748, 89.9)\n",
      "('sanjuuu', 56748, 89.9)\n",
      "('sanjuuu', 56748, 89.9)\n",
      "('sanjuuu', 56748, 89.9)\n",
      "('sanjuuu', 56748, 89.9)\n",
      "('sanjuuu', 56748, 89.9)\n",
      "('sanjuuu', 56748, 89.9)\n",
      "('sanjuuu', 56, 89.9)\n",
      "('sanjuuu', 80, 89.9)\n",
      "('sanjuuu', 70, 89.9)\n",
      "('sanjuuu', 80, 89.9)\n",
      "('sanjuuu', 25, 89.9)\n",
      "('sanjuuu', 70, 89.9)\n"
     ]
    }
   ],
   "source": [
    "for i in cursor.execute('Select * from sanju where name = \"sanjuuu\"'):  # the name which is sanjuu it will only fetch\n",
    "    print(i)"
   ]
  },
  {
   "cell_type": "code",
   "execution_count": 121,
   "id": "9372f4b4",
   "metadata": {},
   "outputs": [
    {
     "name": "stdout",
     "output_type": "stream",
     "text": [
      "('sanjuuu', 56, 89.9)\n",
      "('sanjuuu', 70, 89.9)\n",
      "('sanjuuu', 25, 89.9)\n",
      "('sanjuuu', 70, 89.9)\n"
     ]
    }
   ],
   "source": [
    "for i in cursor.execute('Select * from sanju where marks < 80'):  # where marks is lesser than condition\n",
    "    print(i)"
   ]
  },
  {
   "cell_type": "code",
   "execution_count": 123,
   "id": "31e49ea7",
   "metadata": {},
   "outputs": [
    {
     "name": "stdout",
     "output_type": "stream",
     "text": [
      "('sanjuuu', 56748)\n",
      "('sanjuuu', 56748)\n",
      "('sanjuuu', 56748)\n",
      "('sanjuuu', 56748)\n",
      "('sanjuuu', 56748)\n",
      "('sanjuuu', 56748)\n",
      "('sanjuuu', 56748)\n",
      "('sanjuuu', 56)\n",
      "('sanjuuu', 80)\n",
      "('sanjuuu', 70)\n",
      "('sanjuuu', 80)\n",
      "('sanjuuu', 25)\n",
      "('sanjuuu', 70)\n"
     ]
    }
   ],
   "source": [
    "for i in cursor.execute('Select name , marks from sanju'):  # only marks and name column would be fetch\n",
    "    print(i)"
   ]
  },
  {
   "cell_type": "code",
   "execution_count": 124,
   "id": "28e25d15",
   "metadata": {},
   "outputs": [],
   "source": [
    "# * means complete columns would be considered\n",
    "# it will always result with return of tuples ((((()))))"
   ]
  },
  {
   "cell_type": "code",
   "execution_count": 125,
   "id": "93c88f2b",
   "metadata": {},
   "outputs": [
    {
     "name": "stdout",
     "output_type": "stream",
     "text": [
      "(89.9,)\n",
      "(89.9,)\n",
      "(89.9,)\n",
      "(89.9,)\n",
      "(89.9,)\n",
      "(89.9,)\n",
      "(89.9,)\n",
      "(89.9,)\n",
      "(89.9,)\n",
      "(89.9,)\n",
      "(89.9,)\n",
      "(89.9,)\n",
      "(89.9,)\n"
     ]
    }
   ],
   "source": [
    "for i in cursor.execute('Select batch from sanju'):  # only batch column would be fetch\n",
    "    print(i)"
   ]
  },
  {
   "cell_type": "code",
   "execution_count": 126,
   "id": "4112f111",
   "metadata": {},
   "outputs": [
    {
     "name": "stdout",
     "output_type": "stream",
     "text": [
      "(25,)\n",
      "(56,)\n",
      "(70,)\n",
      "(70,)\n",
      "(80,)\n",
      "(80,)\n",
      "(56748,)\n",
      "(56748,)\n",
      "(56748,)\n",
      "(56748,)\n",
      "(56748,)\n",
      "(56748,)\n",
      "(56748,)\n"
     ]
    }
   ],
   "source": [
    "for i in cursor.execute('Select marks from sanju order by marks'):  # this is the marks by ascending order from smaller to higher\n",
    "    print(i)   # sorting"
   ]
  },
  {
   "cell_type": "code",
   "execution_count": 132,
   "id": "c2125b9f",
   "metadata": {},
   "outputs": [
    {
     "name": "stdout",
     "output_type": "stream",
     "text": [
      "('sanjuuu', 56748, 89.9)\n",
      "('sanjuuu', 56748, 89.9)\n",
      "('sanjuuu', 56748, 89.9)\n",
      "('sanjuuu', 56748, 89.9)\n",
      "('sanjuuu', 56748, 89.9)\n",
      "('sanjuuu', 56748, 89.9)\n",
      "('sanjuuu', 56748, 89.9)\n",
      "('sanjuuu', 80, 89.9)\n",
      "('sanjuuu', 80, 89.9)\n",
      "('sanjuuu', 70, 89.9)\n",
      "('sanjuuu', 70, 89.9)\n",
      "('sanjuuu', 56, 89.9)\n",
      "('sanjuuu', 25, 89.9)\n"
     ]
    }
   ],
   "source": [
    "for i in cursor.execute('Select * from sanju order by marks desc'):   # descending\n",
    "    print(i)"
   ]
  },
  {
   "cell_type": "code",
   "execution_count": 146,
   "id": "f1665551",
   "metadata": {},
   "outputs": [
    {
     "name": "stdout",
     "output_type": "stream",
     "text": [
      "('sanjuuu', 56748, 89.9)\n",
      "('sanjuuu', 56748, 89.9)\n",
      "('sanjuuu', 56748, 89.9)\n",
      "('sanjuuu', 56748, 89.9)\n",
      "('sanjuuu', 56748, 89.9)\n",
      "('sanjuuu', 56748, 89.9)\n",
      "('sanjuuu', 56748, 89.9)\n",
      "('sanjuuu', 56, 89.9)\n",
      "('sanjuuu', 80, 89.9)\n",
      "('sanjuuu', 70, 89.9)\n",
      "('sanjuuu', 80, 89.9)\n",
      "('sanjuuu', 25, 89.9)\n",
      "('sanjuuu', 70, 89.9)\n",
      "('sanjuuu', 70, 90.0)\n",
      "('sanjuuu', 70, 90.8)\n",
      "('sanjuuu', 70, 1000.8)\n",
      "('sanjuuu', 70, 70.8)\n",
      "('sanjuuu', 70, 7000.8)\n",
      "('sanjuuu', 70, 40.8)\n",
      "('sanjuuu', 70, 30.8)\n"
     ]
    }
   ],
   "source": [
    "for i in cursor.execute('Select * from sanju'):  # fetching all the records\n",
    "    print(i)"
   ]
  },
  {
   "cell_type": "code",
   "execution_count": 148,
   "id": "f1a3ed0c",
   "metadata": {},
   "outputs": [
    {
     "name": "stdout",
     "output_type": "stream",
     "text": [
      "(56748,)\n",
      "(56748,)\n",
      "(56748,)\n",
      "(56748,)\n",
      "(56748,)\n",
      "(56748,)\n",
      "(56748,)\n",
      "(56,)\n",
      "(80,)\n",
      "(70,)\n",
      "(80,)\n",
      "(25,)\n",
      "(70,)\n",
      "(70,)\n",
      "(70,)\n",
      "(70,)\n",
      "(70,)\n",
      "(70,)\n",
      "(70,)\n",
      "(70,)\n"
     ]
    }
   ],
   "source": [
    "for i in cursor.execute('Select marks from sanju'):\n",
    "    print(i)"
   ]
  },
  {
   "cell_type": "code",
   "execution_count": 153,
   "id": "84af6fde",
   "metadata": {},
   "outputs": [
    {
     "name": "stdout",
     "output_type": "stream",
     "text": [
      "('sanjuuu', 56748)\n",
      "('sanjuuu', 56748)\n",
      "('sanjuuu', 56748)\n",
      "('sanjuuu', 56748)\n",
      "('sanjuuu', 56748)\n",
      "('sanjuuu', 56748)\n",
      "('sanjuuu', 56748)\n",
      "('sanjuuu', 56)\n",
      "('sanjuuu', 80)\n",
      "('sanjuuu', 70)\n",
      "('sanjuuu', 80)\n",
      "('sanjuuu', 25)\n",
      "('sanjuuu', 70)\n",
      "('sanjuuu', 70)\n",
      "('sanjuuu', 70)\n",
      "('sanjuuu', 70)\n",
      "('sanjuuu', 70)\n",
      "('sanjuuu', 70)\n",
      "('sanjuuu', 70)\n",
      "('sanjuuu', 70)\n"
     ]
    }
   ],
   "source": [
    "for i in cursor.execute('Select name,marks from sanju where name = \"sanjuuu\"'):\n",
    "    print(i)"
   ]
  },
  {
   "cell_type": "code",
   "execution_count": 160,
   "id": "af3ce4f1",
   "metadata": {},
   "outputs": [
    {
     "name": "stdout",
     "output_type": "stream",
     "text": [
      "(70, 30.8)\n",
      "(70, 40.8)\n",
      "(70, 70.8)\n",
      "(56748, 89.9)\n",
      "(56748, 89.9)\n",
      "(56748, 89.9)\n",
      "(56748, 89.9)\n",
      "(56748, 89.9)\n",
      "(56748, 89.9)\n",
      "(56748, 89.9)\n",
      "(56, 89.9)\n",
      "(80, 89.9)\n",
      "(70, 89.9)\n",
      "(80, 89.9)\n",
      "(25, 89.9)\n",
      "(70, 89.9)\n",
      "(70, 90.0)\n",
      "(70, 90.8)\n",
      "(70, 1000.8)\n",
      "(70, 7000.8)\n"
     ]
    }
   ],
   "source": [
    "for i in cursor.execute('Select marks,batch from sanju order by batch'):  # ascending order -- lower to higher\n",
    "    print(i)"
   ]
  },
  {
   "cell_type": "code",
   "execution_count": 161,
   "id": "2d49830a",
   "metadata": {},
   "outputs": [
    {
     "name": "stdout",
     "output_type": "stream",
     "text": [
      "(56748, 89.9)\n",
      "(56748, 89.9)\n",
      "(56748, 89.9)\n",
      "(56748, 89.9)\n",
      "(56748, 89.9)\n",
      "(56748, 89.9)\n",
      "(56748, 89.9)\n",
      "(80, 89.9)\n",
      "(80, 89.9)\n",
      "(70, 89.9)\n",
      "(70, 89.9)\n",
      "(70, 90.0)\n",
      "(70, 90.8)\n",
      "(70, 1000.8)\n",
      "(70, 70.8)\n",
      "(70, 7000.8)\n",
      "(70, 40.8)\n",
      "(70, 30.8)\n",
      "(56, 89.9)\n",
      "(25, 89.9)\n"
     ]
    }
   ],
   "source": [
    "for i in cursor.execute('Select marks,batch from sanju order by marks desc'): # descending order with higer to lower\n",
    "    print(i)"
   ]
  },
  {
   "cell_type": "code",
   "execution_count": 162,
   "id": "d9593180",
   "metadata": {},
   "outputs": [],
   "source": [
    "db.commit()"
   ]
  },
  {
   "cell_type": "code",
   "execution_count": 163,
   "id": "7f2b3545",
   "metadata": {},
   "outputs": [],
   "source": [
    "db.close()"
   ]
  },
  {
   "cell_type": "code",
   "execution_count": 164,
   "id": "1f7d8a68",
   "metadata": {},
   "outputs": [],
   "source": [
    "db = sqlite3.connect('gowda.db')"
   ]
  },
  {
   "cell_type": "code",
   "execution_count": 165,
   "id": "1b593b6e",
   "metadata": {},
   "outputs": [],
   "source": [
    "cursor = db.cursor()"
   ]
  },
  {
   "cell_type": "code",
   "execution_count": 168,
   "id": "34fb6350",
   "metadata": {},
   "outputs": [
    {
     "ename": "OperationalError",
     "evalue": "database is locked",
     "output_type": "error",
     "traceback": [
      "\u001b[1;31m---------------------------------------------------------------------------\u001b[0m",
      "\u001b[1;31mOperationalError\u001b[0m                          Traceback (most recent call last)",
      "\u001b[1;32m~\\AppData\\Local\\Temp\\ipykernel_13204\\169425119.py\u001b[0m in \u001b[0;36m<module>\u001b[1;34m\u001b[0m\n\u001b[1;32m----> 1\u001b[1;33m \u001b[0mcursor\u001b[0m\u001b[1;33m.\u001b[0m\u001b[0mexecute\u001b[0m\u001b[1;33m(\u001b[0m\u001b[1;34m'drop table sanju'\u001b[0m\u001b[1;33m)\u001b[0m\u001b[1;33m\u001b[0m\u001b[1;33m\u001b[0m\u001b[0m\n\u001b[0m",
      "\u001b[1;31mOperationalError\u001b[0m: database is locked"
     ]
    }
   ],
   "source": [
    "cursor.execute('drop table sanju')"
   ]
  },
  {
   "cell_type": "code",
   "execution_count": 176,
   "id": "1cff1733",
   "metadata": {},
   "outputs": [],
   "source": [
    "db = sqlite3.connect('goot.db')"
   ]
  },
  {
   "cell_type": "code",
   "execution_count": 178,
   "id": "c6b26189",
   "metadata": {},
   "outputs": [],
   "source": [
    "cursor = db.cursor()"
   ]
  },
  {
   "cell_type": "code",
   "execution_count": 179,
   "id": "010c3a86",
   "metadata": {},
   "outputs": [
    {
     "data": {
      "text/plain": [
       "<sqlite3.Cursor at 0x20068af4260>"
      ]
     },
     "execution_count": 179,
     "metadata": {},
     "output_type": "execute_result"
    }
   ],
   "source": [
    "cursor.execute('create table foo(name txt)')"
   ]
  },
  {
   "cell_type": "code",
   "execution_count": 180,
   "id": "e2b8152f",
   "metadata": {},
   "outputs": [
    {
     "data": {
      "text/plain": [
       "<sqlite3.Cursor at 0x20068af4260>"
      ]
     },
     "execution_count": 180,
     "metadata": {},
     "output_type": "execute_result"
    }
   ],
   "source": [
    "cursor.execute('insert into foo values(\"sanju\")')"
   ]
  },
  {
   "cell_type": "code",
   "execution_count": 181,
   "id": "33f73831",
   "metadata": {},
   "outputs": [
    {
     "data": {
      "text/plain": [
       "<sqlite3.Cursor at 0x20068af4260>"
      ]
     },
     "execution_count": 181,
     "metadata": {},
     "output_type": "execute_result"
    }
   ],
   "source": [
    "cursor.execute('drop table foo')  # that table is already droped or deleted so once again not able to fetch"
   ]
  },
  {
   "cell_type": "code",
   "execution_count": 182,
   "id": "671a086d",
   "metadata": {},
   "outputs": [
    {
     "ename": "OperationalError",
     "evalue": "no such table: foo",
     "output_type": "error",
     "traceback": [
      "\u001b[1;31m---------------------------------------------------------------------------\u001b[0m",
      "\u001b[1;31mOperationalError\u001b[0m                          Traceback (most recent call last)",
      "\u001b[1;32m~\\AppData\\Local\\Temp\\ipykernel_13204\\1458669429.py\u001b[0m in \u001b[0;36m<module>\u001b[1;34m\u001b[0m\n\u001b[1;32m----> 1\u001b[1;33m \u001b[0mcursor\u001b[0m\u001b[1;33m.\u001b[0m\u001b[0mexecute\u001b[0m\u001b[1;33m(\u001b[0m\u001b[1;34m'Select * from foo'\u001b[0m\u001b[1;33m)\u001b[0m\u001b[1;33m\u001b[0m\u001b[1;33m\u001b[0m\u001b[0m\n\u001b[0m",
      "\u001b[1;31mOperationalError\u001b[0m: no such table: foo"
     ]
    }
   ],
   "source": [
    "cursor.execute('Select * from foo')"
   ]
  },
  {
   "cell_type": "code",
   "execution_count": 183,
   "id": "3b88a00a",
   "metadata": {},
   "outputs": [
    {
     "name": "stdout",
     "output_type": "stream",
     "text": [
      " Volume in drive C is Windows\n",
      " Volume Serial Number is 9048-2C9E\n",
      "\n",
      " Directory of C:\\Users\\bhavi\\PythonFull\n",
      "\n",
      "21-11-2022  05:10 PM    <DIR>          .\n",
      "20-11-2022  02:01 PM    <DIR>          ..\n",
      "21-11-2022  01:43 PM    <DIR>          .ipynb_checkpoints\n",
      "03-09-2022  03:49 AM           269,312 _cairo.pyd\n",
      "03-09-2022  03:51 AM         1,249,792 _mforms.pyd\n",
      "09-11-2022  11:42 AM             3,985 Advance_PythonAssignment_2.ipynb\n",
      "10-11-2022  08:14 AM             2,844 Advance_PythonAssignment_3.ipynb\n",
      "11-11-2022  08:02 PM               992 Advance_PythonAssignment_4.ipynb\n",
      "03-09-2022  03:48 AM           144,896 Aga.Controls.dll\n",
      "06-05-2022  12:33 PM           806,400 antlr4-runtime.dll\n",
      "11-11-2022  01:23 PM             3,584 Assignment_8.ipynb\n",
      "10-11-2022  11:37 AM             4,929 Assignment_9.ipynb\n",
      "29-08-2022  02:51 PM         6,248,608 authentication_kerberos_client.dll\n",
      "29-08-2022  02:51 PM            53,920 authentication_ldap_sasl_client.dll\n",
      "03-09-2022  03:49 AM           555,008 base.dll\n",
      "03-09-2022  03:48 AM           115,200 base.windows.dll\n",
      "03-09-2022  03:49 AM           388,608 base.wr.dll\n",
      "03-09-2022  03:49 AM            47,049 cairo.py\n",
      "03-09-2022  03:50 AM           101,376 cdbc.dll\n",
      "21-11-2022  04:19 PM             8,192 chocko.db\n",
      "03-09-2022  03:52 AM           224,256 db.mysql.diff.reporting.wbp.dll\n",
      "03-09-2022  03:52 AM           428,032 db.mysql.editors.wbp.be.dll\n",
      "03-09-2022  03:53 AM           280,064 db.mysql.editors.wbp.fe.dll\n",
      "03-09-2022  03:53 AM         3,024,384 db.mysql.editors.wbp.wr.dll\n",
      "03-09-2022  03:51 AM           519,168 db.mysql.grt.dll\n",
      "03-09-2022  03:51 AM         1,317,888 db.mysql.parser.grt.dll\n",
      "03-09-2022  03:50 AM           103,424 db.mysql.query.grt.dll\n",
      "03-09-2022  03:53 AM         2,312,704 db.mysql.sqlparser.grt.dll\n",
      "03-09-2022  03:51 AM           861,696 db.mysql.wbp.dll\n",
      "03-09-2022  03:51 AM           223,232 db.search.wbp.dll\n",
      "03-09-2022  03:42 AM             1,503 db_utils.py\n",
      "21-11-2022  03:52 PM             8,192 donooo.db\n",
      "21-11-2022  03:43 PM                 0 doroman.db\n",
      "25-08-2022  11:27 AM        25,337,344 gdal.dll\n",
      "10-11-2022  09:03 AM                 0 glass.data\n",
      "10-11-2022  09:12 AM            11,903 glass1.txt\n",
      "31-05-2022  12:26 PM         1,503,232 glib-2.0-0.dll\n",
      "31-05-2022  12:26 PM            18,432 gmodule-2.0-0.dll\n",
      "31-05-2022  12:26 PM           395,264 gobject-2.0-0.dll\n",
      "21-11-2022  04:23 PM             8,192 going.db\n",
      "21-11-2022  05:07 PM                 0 goo.db\n",
      "21-11-2022  05:09 PM             8,192 goot.db\n",
      "21-11-2022  05:09 PM                 0 goot.db-journal\n",
      "21-11-2022  04:30 PM             8,192 gowda.db\n",
      "21-11-2022  04:36 PM             4,616 gowda.db-journal\n",
      "03-09-2022  03:52 AM            90,624 grt.db.fe.dll\n",
      "03-09-2022  03:49 AM           856,576 grt.dll\n",
      "03-09-2022  03:42 AM            16,085 grt_python_debugger.py\n",
      "31-05-2022  12:26 PM            10,752 gthread-2.0-0.dll\n",
      "21-11-2022  03:57 PM             8,192 hought.db\n",
      "05-08-2020  11:27 AM           242,176 HTMLRenderer.dll\n",
      "05-08-2020  02:49 PM           939,008 iconv.dll\n",
      "21-11-2022  01:59 PM                 0 ineuron.db\n",
      "15-11-2022  06:08 PM           116,516 Internal_Python_DECORATOR_MAP_FILTER.ipynb\n",
      "03-05-2022  08:24 AM           921,600 libcairo.dll\n",
      "05-07-2022  03:01 PM         2,869,760 libcrypto-1_1-x64.dll\n",
      "03-05-2022  08:27 AM           195,072 libpng16.dll\n",
      "05-07-2022  03:01 PM           687,616 libssl-1_1-x64.dll\n",
      "29-08-2022  04:57 AM         1,412,608 libxml2.dll\n",
      "03-09-2022  03:42 AM           288,731 License.txt\n",
      "03-09-2022  03:51 AM           126,368 mforms.py\n",
      "03-09-2022  03:50 AM         4,170,240 mforms.wr.dll\n",
      "18-11-2022  08:38 PM           230,602 MONGO_DB.ipynb\n",
      "21-11-2022  12:49 PM           122,127 MongoDB_part2.ipynb\n",
      "03-09-2022  03:49 AM            90,624 mtemplate.dll\n",
      "08-11-2022  12:20 PM             2,605 mydict.py\n",
      "03-09-2022  03:49 AM           452,608 mysql.canvas.dll\n",
      "29-08-2022  02:51 PM         7,322,216 mysql.exe\n",
      "03-09-2022  03:50 AM         1,016,320 mysql.forms.dll\n",
      "03-09-2022  03:42 AM             2,725 mysql_system_status.vbs\n",
      "03-09-2022  03:42 AM             2,545 mysql_system_status_rmt.vbs\n",
      "02-09-2022  05:15 AM         9,449,472 mysqlcppconn-9-vs14.dll\n",
      "03-09-2022  03:51 AM           116,736 MySQLCsUtilities.dll\n",
      "29-08-2022  02:51 PM         7,280,752 mysqldump.exe\n",
      "03-09-2022  03:42 AM            38,396 mysqlwbmeb.py\n",
      "03-09-2022  03:42 AM            45,941 mysqlwbmeb.vbs\n",
      "03-09-2022  03:53 AM           511,488 MySQLWorkbench.exe\n",
      "03-09-2022  03:42 AM               184 MySQLWorkbench.exe.config\n",
      "03-09-2022  03:42 AM            82,726 MySQLWorkbenchDoc.ico\n",
      "25-08-2022  11:27 AM           115,712 ogr2ogr.exe\n",
      "25-08-2022  11:27 AM           117,760 ogrinfo.exe\n",
      "09-11-2022  01:11 AM            96,549 OOPS-Concept.ipynb\n",
      "03-09-2022  03:49 AM         3,695,616 parsers.dll\n",
      "22-08-2022  10:00 AM           243,200 pcre.dll\n",
      "22-08-2022  10:00 AM            52,224 pcrecpp.dll\n",
      "19-03-2021  09:27 PM           585,728 pixman-1-0.dll\n",
      "24-08-2022  05:43 PM            94,208 python.exe\n",
      "24-08-2022  05:43 PM         4,610,048 python37.dll\n",
      "21-11-2022  02:17 PM                 0 rat.db\n",
      "21-11-2022  02:02 PM                 0 rattuuu.db\n",
      "03-09-2022  03:42 AM             2,999 README.md\n",
      "03-09-2022  03:49 AM         1,574,912 Scintilla.dll\n",
      "03-09-2022  03:42 AM             1,024 shell_snippets.py.txt\n",
      "10-11-2022  09:55 AM            82,955 SQL.ipynb\n",
      "21-11-2022  05:10 PM           119,729 SQL_Lite.ipynb\n",
      "10-11-2022  04:18 AM             2,775 SQL3.ipynb\n",
      "21-11-2022  03:48 PM                 0 sqlfile.db\n",
      "03-09-2022  03:51 AM            84,480 sqlide.fe.dll\n",
      "24-08-2022  07:02 PM         1,170,944 sqlite3.dll\n",
      "20-07-2022  08:35 PM           372,224 ssh.dll\n",
      "03-09-2022  03:42 AM            25,889 sshtunnel.py\n",
      "10-11-2022  10:04 AM                72 Untitled.ipynb\n",
      "03-09-2022  03:51 AM            34,816 utilities.grt.dll\n",
      "25-08-2022  09:11 AM           161,280 vsqlite++.dll\n",
      "03-09-2022  03:51 AM           128,000 wb.model.editors.wbp.be.dll\n",
      "03-09-2022  03:53 AM           102,400 wb.model.editors.wbp.fe.dll\n",
      "03-09-2022  03:52 AM         3,017,216 wb.model.editors.wbp.wr.dll\n",
      "03-09-2022  03:51 AM           263,168 wb.model.grt.dll\n",
      "03-09-2022  03:51 AM           105,472 wb.model.snippets.wbp.dll\n",
      "03-09-2022  03:51 AM            79,872 wb.printing.wbp.be.dll\n",
      "03-09-2022  03:53 AM            77,824 wb.printing.wbp.fe.dll\n",
      "03-09-2022  03:53 AM           893,440 wb.printing.wbp.wr.dll\n",
      "03-09-2022  03:42 AM            11,963 wb.py\n",
      "03-09-2022  03:49 AM            18,944 wbadminhelper.exe\n",
      "03-09-2022  03:42 AM             9,130 wbadminhelper.py\n",
      "03-09-2022  03:49 AM           271,872 WBControls.dll\n",
      "03-09-2022  03:42 AM               184 WBControls.dll.config\n",
      "03-09-2022  03:49 AM         7,152,128 wbcopytables.exe\n",
      "03-09-2022  03:52 AM           196,096 WbPlugins.dll\n",
      "03-09-2022  03:52 AM         4,971,520 wbprivate.be.dll\n",
      "03-09-2022  03:52 AM         4,890,624 wbprivate.wr.dll\n",
      "03-09-2022  03:50 AM         3,347,968 wbpublic.be.dll\n",
      "03-09-2022  03:51 AM         5,105,152 wbpublic.wr.dll\n",
      "03-09-2022  03:49 AM           140,800 wbssh.dll\n",
      "03-05-2022  08:26 AM           101,888 zip.dll\n",
      "03-05-2022  07:47 AM            83,968 zlib.dll\n",
      "             123 File(s)    130,539,369 bytes\n",
      "               3 Dir(s)  434,285,338,624 bytes free\n"
     ]
    }
   ],
   "source": [
    " ls"
   ]
  },
  {
   "cell_type": "code",
   "execution_count": 184,
   "id": "51fe2bda",
   "metadata": {},
   "outputs": [],
   "source": [
    "db = sqlite3.connect('gowda.db')"
   ]
  },
  {
   "cell_type": "code",
   "execution_count": 185,
   "id": "9370f1bf",
   "metadata": {},
   "outputs": [],
   "source": [
    "cursor = db.cursor()"
   ]
  },
  {
   "cell_type": "code",
   "execution_count": 187,
   "id": "b9a5d097",
   "metadata": {},
   "outputs": [
    {
     "name": "stdout",
     "output_type": "stream",
     "text": [
      "('sanjuuu', 56748, 89.9)\n",
      "('sanjuuu', 56748, 89.9)\n",
      "('sanjuuu', 56748, 89.9)\n",
      "('sanjuuu', 56748, 89.9)\n",
      "('sanjuuu', 56748, 89.9)\n",
      "('sanjuuu', 56748, 89.9)\n",
      "('sanjuuu', 56748, 89.9)\n"
     ]
    }
   ],
   "source": [
    "for i in cursor.execute('Select * from sanju'):\n",
    "    print(i)"
   ]
  },
  {
   "cell_type": "code",
   "execution_count": 190,
   "id": "a10e3e7f",
   "metadata": {},
   "outputs": [
    {
     "name": "stdout",
     "output_type": "stream",
     "text": [
      "('sanjuuu', 56748, 89.9)\n",
      "('sanjuuu', 56748, 89.9)\n"
     ]
    }
   ],
   "source": [
    "for i in cursor.execute('Select * from sanju limit(2)'):  # limit\n",
    "    print(i)"
   ]
  },
  {
   "cell_type": "code",
   "execution_count": 191,
   "id": "d0e28e84",
   "metadata": {},
   "outputs": [
    {
     "name": "stdout",
     "output_type": "stream",
     "text": [
      "(56748,)\n",
      "(56748,)\n",
      "(56748,)\n",
      "(56748,)\n",
      "(56748,)\n"
     ]
    }
   ],
   "source": [
    "for i in cursor.execute('Select marks from sanju limit(5)'):\n",
    "    print(i)"
   ]
  },
  {
   "cell_type": "code",
   "execution_count": null,
   "id": "e6b0256f",
   "metadata": {},
   "outputs": [],
   "source": [
    "# JOIN - WE need two tables to JOIN operation\n",
    "\n",
    "\n",
    "# LEFT AND RIGHT\n",
    "\n",
    "#LEFT JOIN\n",
    "#RIGHT JOIN\n",
    "#INNER JOIN\n",
    "#FULL OUTER JOIN\n"
   ]
  },
  {
   "cell_type": "code",
   "execution_count": 192,
   "id": "641417c6",
   "metadata": {},
   "outputs": [],
   "source": [
    "db.close()"
   ]
  },
  {
   "cell_type": "code",
   "execution_count": 193,
   "id": "39f65c16",
   "metadata": {},
   "outputs": [],
   "source": [
    "# We need to create  2 tables\n"
   ]
  },
  {
   "cell_type": "code",
   "execution_count": 194,
   "id": "1d42d6cc",
   "metadata": {},
   "outputs": [],
   "source": [
    "db = sqlite3.connect('radoo.db')"
   ]
  },
  {
   "cell_type": "code",
   "execution_count": 6,
   "id": "e6474021",
   "metadata": {},
   "outputs": [],
   "source": [
    "cursor = db.cursor()"
   ]
  },
  {
   "cell_type": "code",
   "execution_count": 7,
   "id": "10f99170",
   "metadata": {},
   "outputs": [
    {
     "data": {
      "text/plain": [
       "<sqlite3.Cursor at 0x1241d935c70>"
      ]
     },
     "execution_count": 7,
     "metadata": {},
     "output_type": "execute_result"
    }
   ],
   "source": [
    "cursor.execute('create table student(id int,name text,marks int)')"
   ]
  },
  {
   "cell_type": "code",
   "execution_count": 8,
   "id": "40d03386",
   "metadata": {},
   "outputs": [
    {
     "data": {
      "text/plain": [
       "<sqlite3.Cursor at 0x1241d935c70>"
      ]
     },
     "execution_count": 8,
     "metadata": {},
     "output_type": "execute_result"
    }
   ],
   "source": [
    "cursor.execute('create table address(id int, email text,roll double)')"
   ]
  },
  {
   "cell_type": "code",
   "execution_count": 9,
   "id": "914803a6",
   "metadata": {},
   "outputs": [
    {
     "data": {
      "text/plain": [
       "<sqlite3.Cursor at 0x1241d935c70>"
      ]
     },
     "execution_count": 9,
     "metadata": {},
     "output_type": "execute_result"
    }
   ],
   "source": [
    "cursor.execute('insert into student values(27, \"sanjay\",565)')"
   ]
  },
  {
   "cell_type": "code",
   "execution_count": 22,
   "id": "e98b98ef",
   "metadata": {},
   "outputs": [
    {
     "name": "stdout",
     "output_type": "stream",
     "text": [
      "(27, 'sanjay', 565)\n"
     ]
    }
   ],
   "source": [
    "for i in cursor.execute('Select * from student'):\n",
    "    print(i)"
   ]
  },
  {
   "cell_type": "code",
   "execution_count": 23,
   "id": "dac771ae",
   "metadata": {},
   "outputs": [
    {
     "data": {
      "text/plain": [
       "<sqlite3.Cursor at 0x1241d935c70>"
      ]
     },
     "execution_count": 23,
     "metadata": {},
     "output_type": "execute_result"
    }
   ],
   "source": [
    "cursor.execute('insert into address values(21,\"sanju@mailid\",77.9)')"
   ]
  },
  {
   "cell_type": "code",
   "execution_count": 25,
   "id": "7354ea09",
   "metadata": {},
   "outputs": [
    {
     "name": "stdout",
     "output_type": "stream",
     "text": [
      "(21, 'sanju@mailid', 77.9)\n"
     ]
    }
   ],
   "source": [
    "for i in cursor.execute('Select * from address'):\n",
    "    print(i)"
   ]
  },
  {
   "cell_type": "code",
   "execution_count": 228,
   "id": "c25733e5",
   "metadata": {},
   "outputs": [],
   "source": [
    "# I need to join  from left to right\n",
    "\n",
    "# LEFT IS STUDENT AND RIGHT IS ADDRESS"
   ]
  },
  {
   "cell_type": "code",
   "execution_count": 26,
   "id": "08270cf3",
   "metadata": {},
   "outputs": [],
   "source": [
    "for i in cursor.execute('Select * from student S left join address A on S.id = A.id where A.id is not null'):\n",
    "    print(i)   # 22 ,23, 24 are not common in address so this is none"
   ]
  },
  {
   "cell_type": "code",
   "execution_count": 27,
   "id": "7f86a74a",
   "metadata": {},
   "outputs": [],
   "source": [
    "for i in cursor.execute('Select * from address A right join student S on A.id = S.id where A.id is not null'):\n",
    "    print(i)  # right join opertaing when interchange"
   ]
  },
  {
   "cell_type": "code",
   "execution_count": 28,
   "id": "89fc4ed7",
   "metadata": {},
   "outputs": [],
   "source": [
    "for i in cursor.execute('Select * from student S inner join address A on S.id = A.id'):\n",
    "    print(i)   # INTERSECTION INNER JOIN  There is no required extra condition for where A.addtress is not null [NONE]"
   ]
  },
  {
   "cell_type": "code",
   "execution_count": 29,
   "id": "e64bb9e7",
   "metadata": {},
   "outputs": [],
   "source": [
    "for i in cursor.execute('Select * from address A right join student S on S.id = A.id where A.id is not null'):\n",
    "    print(i)"
   ]
  },
  {
   "cell_type": "code",
   "execution_count": 30,
   "id": "2abf4923",
   "metadata": {},
   "outputs": [
    {
     "name": "stdout",
     "output_type": "stream",
     "text": [
      "(None, None, None, 21, 'sanju@mailid', 77.9)\n"
     ]
    }
   ],
   "source": [
    "for i in cursor.execute('Select * from student S full outer join address A on S.id = A.id where A.id is not null'):\n",
    "    print(i)  # Full outer join"
   ]
  },
  {
   "cell_type": "code",
   "execution_count": 31,
   "id": "61e81f31",
   "metadata": {},
   "outputs": [
    {
     "name": "stdout",
     "output_type": "stream",
     "text": [
      "(27, 'sanjay', 565)\n"
     ]
    }
   ],
   "source": [
    "for i in cursor.execute('Select * from student'):\n",
    "    print(i)"
   ]
  },
  {
   "cell_type": "code",
   "execution_count": 252,
   "id": "80ac3b96",
   "metadata": {},
   "outputs": [],
   "source": [
    "for i in cursor.execute('delete  from student where student.id > 22'):\n",
    "    print(i)  # its deleted "
   ]
  },
  {
   "cell_type": "code",
   "execution_count": 255,
   "id": "c9634430",
   "metadata": {},
   "outputs": [
    {
     "name": "stdout",
     "output_type": "stream",
     "text": [
      "(19, 'sanju@mailid', 77.9)\n",
      "(20, 'sanju@mailid', 77.9)\n",
      "(21, 'sanju@mailid', 77.9)\n",
      "(23333, 'sanju@mailid', 77.9)\n",
      "(25, 'sanju@mailid', 77.9)\n",
      "(27, 'sanju@mailid', 77.9)\n",
      "(26, 'sanju@mailid', 77.9)\n",
      "(21, 'sanju@mailid', 77.9)\n"
     ]
    }
   ],
   "source": [
    "for i in cursor.execute('Select * from address'):\n",
    "    print(i)"
   ]
  },
  {
   "cell_type": "code",
   "execution_count": 257,
   "id": "36e2e298",
   "metadata": {},
   "outputs": [
    {
     "data": {
      "text/plain": [
       "<sqlite3.Cursor at 0x20069177c00>"
      ]
     },
     "execution_count": 257,
     "metadata": {},
     "output_type": "execute_result"
    }
   ],
   "source": [
    "cursor.execute('delete from address where roll = 77.9')"
   ]
  },
  {
   "cell_type": "code",
   "execution_count": 259,
   "id": "8ed0b28e",
   "metadata": {},
   "outputs": [],
   "source": [
    "for i in cursor.execute('Select * from address'):\n",
    "    print(i)  # there is no data all deleted"
   ]
  },
  {
   "cell_type": "code",
   "execution_count": 16,
   "id": "7fdba430",
   "metadata": {},
   "outputs": [],
   "source": [
    "A = cursor.execute('Select * from student')"
   ]
  },
  {
   "cell_type": "code",
   "execution_count": 17,
   "id": "8c0e727d",
   "metadata": {},
   "outputs": [
    {
     "data": {
      "text/plain": [
       "[(27, 'sanjay', 565)]"
      ]
     },
     "execution_count": 17,
     "metadata": {},
     "output_type": "execute_result"
    }
   ],
   "source": [
    "A.fetchall()  # inbuilt as compare same to Mysql   WITHOUT FOR LOOP"
   ]
  },
  {
   "cell_type": "code",
   "execution_count": 13,
   "id": "f8b00fb8",
   "metadata": {},
   "outputs": [],
   "source": [
    "A =cursor.execute('Select * from student')"
   ]
  },
  {
   "cell_type": "code",
   "execution_count": 12,
   "id": "75060dcc",
   "metadata": {},
   "outputs": [
    {
     "data": {
      "text/plain": [
       "[(27, 'sanjay', 565)]"
      ]
     },
     "execution_count": 12,
     "metadata": {},
     "output_type": "execute_result"
    }
   ],
   "source": [
    "cursor.fetchall()"
   ]
  },
  {
   "cell_type": "code",
   "execution_count": 15,
   "id": "72f5ee13",
   "metadata": {},
   "outputs": [
    {
     "data": {
      "text/plain": [
       "[(27, 'sanjay', 565)]"
      ]
     },
     "execution_count": 15,
     "metadata": {},
     "output_type": "execute_result"
    }
   ],
   "source": [
    "A.fetchall()"
   ]
  },
  {
   "cell_type": "code",
   "execution_count": 32,
   "id": "9650916c",
   "metadata": {},
   "outputs": [],
   "source": [
    "import sqlite3"
   ]
  },
  {
   "cell_type": "code",
   "execution_count": 33,
   "id": "c448e5e6",
   "metadata": {},
   "outputs": [],
   "source": [
    "db = sqlite3.connect('ratuu.db')"
   ]
  },
  {
   "cell_type": "code",
   "execution_count": 35,
   "id": "e6d66bd5",
   "metadata": {},
   "outputs": [],
   "source": [
    "cursor = db.cursor()"
   ]
  },
  {
   "cell_type": "code",
   "execution_count": 36,
   "id": "bfcdc9e1",
   "metadata": {},
   "outputs": [
    {
     "data": {
      "text/plain": [
       "<sqlite3.Cursor at 0x1241f90f110>"
      ]
     },
     "execution_count": 36,
     "metadata": {},
     "output_type": "execute_result"
    }
   ],
   "source": [
    "cursor.execute('create table sanju(name txt,roll int)')"
   ]
  },
  {
   "cell_type": "code",
   "execution_count": 63,
   "id": "d8d1d6bc",
   "metadata": {},
   "outputs": [
    {
     "data": {
      "text/plain": [
       "<sqlite3.Cursor at 0x1241f90f110>"
      ]
     },
     "execution_count": 63,
     "metadata": {},
     "output_type": "execute_result"
    }
   ],
   "source": [
    "cursor.execute('insert into sanju values(\"sanju\",9888)')"
   ]
  },
  {
   "cell_type": "code",
   "execution_count": 69,
   "id": "ad8ee0f8",
   "metadata": {},
   "outputs": [
    {
     "data": {
      "text/plain": [
       "<sqlite3.Cursor at 0x1241f90f110>"
      ]
     },
     "execution_count": 69,
     "metadata": {},
     "output_type": "execute_result"
    }
   ],
   "source": [
    "cursor.execute('Select * from sanju')"
   ]
  },
  {
   "cell_type": "code",
   "execution_count": 70,
   "id": "40292bfe",
   "metadata": {},
   "outputs": [
    {
     "data": {
      "text/plain": [
       "[('sanju', 1000),\n",
       " ('sanju', 1000),\n",
       " ('sanju', 1000),\n",
       " ('sanju', 1000),\n",
       " ('sanju', 1000),\n",
       " ('sanju', 37),\n",
       " ('sanju', 97),\n",
       " ('sanju', 978),\n",
       " ('sanju', 97888),\n",
       " ('sanju', 9888)]"
      ]
     },
     "execution_count": 70,
     "metadata": {},
     "output_type": "execute_result"
    }
   ],
   "source": [
    "cursor.fetchall()"
   ]
  },
  {
   "cell_type": "code",
   "execution_count": 67,
   "id": "9ab5f401",
   "metadata": {},
   "outputs": [
    {
     "data": {
      "text/plain": [
       "<sqlite3.Cursor at 0x1241f90f110>"
      ]
     },
     "execution_count": 67,
     "metadata": {},
     "output_type": "execute_result"
    }
   ],
   "source": [
    "# Update \n",
    "cursor.execute('update sanju set roll = 1000 where roll = 67')"
   ]
  },
  {
   "cell_type": "code",
   "execution_count": 71,
   "id": "261f1959",
   "metadata": {},
   "outputs": [
    {
     "data": {
      "text/plain": [
       "<sqlite3.Cursor at 0x1241f90f110>"
      ]
     },
     "execution_count": 71,
     "metadata": {},
     "output_type": "execute_result"
    }
   ],
   "source": [
    "cursor.execute('update sanju set name = \"sanjuuuuu\" where name = \"sanju\"')   # Updating"
   ]
  },
  {
   "cell_type": "code",
   "execution_count": 72,
   "id": "067c9c0b",
   "metadata": {},
   "outputs": [
    {
     "data": {
      "text/plain": [
       "<sqlite3.Cursor at 0x1241f90f110>"
      ]
     },
     "execution_count": 72,
     "metadata": {},
     "output_type": "execute_result"
    }
   ],
   "source": [
    "cursor.execute('Select * from sanju')"
   ]
  },
  {
   "cell_type": "code",
   "execution_count": 73,
   "id": "cd014cb1",
   "metadata": {},
   "outputs": [
    {
     "data": {
      "text/plain": [
       "[('sanjuuuuu', 1000),\n",
       " ('sanjuuuuu', 1000),\n",
       " ('sanjuuuuu', 1000),\n",
       " ('sanjuuuuu', 1000),\n",
       " ('sanjuuuuu', 1000),\n",
       " ('sanjuuuuu', 37),\n",
       " ('sanjuuuuu', 97),\n",
       " ('sanjuuuuu', 978),\n",
       " ('sanjuuuuu', 97888),\n",
       " ('sanjuuuuu', 9888)]"
      ]
     },
     "execution_count": 73,
     "metadata": {},
     "output_type": "execute_result"
    }
   ],
   "source": [
    "cursor.fetchall()"
   ]
  },
  {
   "cell_type": "code",
   "execution_count": 74,
   "id": "cfa01a10",
   "metadata": {},
   "outputs": [
    {
     "data": {
      "text/plain": [
       "<sqlite3.Cursor at 0x1241f90f110>"
      ]
     },
     "execution_count": 74,
     "metadata": {},
     "output_type": "execute_result"
    }
   ],
   "source": [
    "cursor.execute('drop table sanju')   # The table as dropped"
   ]
  },
  {
   "cell_type": "code",
   "execution_count": 75,
   "id": "b930deab",
   "metadata": {},
   "outputs": [
    {
     "ename": "OperationalError",
     "evalue": "no such table: sanju",
     "output_type": "error",
     "traceback": [
      "\u001b[1;31m---------------------------------------------------------------------------\u001b[0m",
      "\u001b[1;31mOperationalError\u001b[0m                          Traceback (most recent call last)",
      "\u001b[1;32m~\\AppData\\Local\\Temp\\ipykernel_12452\\3653440079.py\u001b[0m in \u001b[0;36m<module>\u001b[1;34m\u001b[0m\n\u001b[1;32m----> 1\u001b[1;33m \u001b[0mcursor\u001b[0m\u001b[1;33m.\u001b[0m\u001b[0mexecute\u001b[0m\u001b[1;33m(\u001b[0m\u001b[1;34m'Select * from sanju'\u001b[0m\u001b[1;33m)\u001b[0m\u001b[1;33m\u001b[0m\u001b[1;33m\u001b[0m\u001b[0m\n\u001b[0m",
      "\u001b[1;31mOperationalError\u001b[0m: no such table: sanju"
     ]
    }
   ],
   "source": [
    "cursor.execute('Select * from sanju')"
   ]
  },
  {
   "cell_type": "code",
   "execution_count": 1,
   "id": "6831c5b8",
   "metadata": {},
   "outputs": [
    {
     "name": "stdout",
     "output_type": "stream",
     "text": [
      "80\n"
     ]
    }
   ],
   "source": [
    "print(80)"
   ]
  },
  {
   "cell_type": "code",
   "execution_count": 2,
   "id": "355b961b",
   "metadata": {},
   "outputs": [],
   "source": [
    "l = [1,2,3,4,5,56]"
   ]
  },
  {
   "cell_type": "code",
   "execution_count": 3,
   "id": "cac75733",
   "metadata": {},
   "outputs": [],
   "source": [
    "l1 = []\n",
    "for i in l:\n",
    "    l1.append(i+2)\n",
    "    "
   ]
  },
  {
   "cell_type": "code",
   "execution_count": 4,
   "id": "8e3c97ec",
   "metadata": {},
   "outputs": [
    {
     "data": {
      "text/plain": [
       "[3, 4, 5, 6, 7, 58]"
      ]
     },
     "execution_count": 4,
     "metadata": {},
     "output_type": "execute_result"
    }
   ],
   "source": [
    "l1"
   ]
  },
  {
   "cell_type": "code",
   "execution_count": 5,
   "id": "bde6e7a7",
   "metadata": {},
   "outputs": [
    {
     "data": {
      "text/plain": [
       "[3, 4, 5, 6, 7, 58]"
      ]
     },
     "execution_count": 5,
     "metadata": {},
     "output_type": "execute_result"
    }
   ],
   "source": [
    "list(i+2 for i in l)   # list comprehension"
   ]
  },
  {
   "cell_type": "code",
   "execution_count": 6,
   "id": "b13a4cec",
   "metadata": {},
   "outputs": [],
   "source": [
    "l = [1,2,43,5,56,4,6]"
   ]
  },
  {
   "cell_type": "code",
   "execution_count": 7,
   "id": "6c3c77a9",
   "metadata": {},
   "outputs": [],
   "source": [
    "def test(l):\n",
    "    return l + 7"
   ]
  },
  {
   "cell_type": "code",
   "execution_count": 8,
   "id": "a332343f",
   "metadata": {},
   "outputs": [
    {
     "data": {
      "text/plain": [
       "<map at 0x2745a349310>"
      ]
     },
     "execution_count": 8,
     "metadata": {},
     "output_type": "execute_result"
    }
   ],
   "source": [
    "map(test,l)   # MAP"
   ]
  },
  {
   "cell_type": "code",
   "execution_count": 9,
   "id": "561c46e7",
   "metadata": {},
   "outputs": [
    {
     "data": {
      "text/plain": [
       "[8, 9, 50, 12, 63, 11, 13]"
      ]
     },
     "execution_count": 9,
     "metadata": {},
     "output_type": "execute_result"
    }
   ],
   "source": [
    "list(map(test,l))"
   ]
  },
  {
   "cell_type": "code",
   "execution_count": 10,
   "id": "104a700b",
   "metadata": {},
   "outputs": [],
   "source": [
    "l = [2,4,2,4,2,4,2,34]"
   ]
  },
  {
   "cell_type": "code",
   "execution_count": 11,
   "id": "793047c7",
   "metadata": {},
   "outputs": [],
   "source": [
    "def test(l):\n",
    "    return l * 560000"
   ]
  },
  {
   "cell_type": "code",
   "execution_count": 13,
   "id": "6c8e28db",
   "metadata": {},
   "outputs": [
    {
     "data": {
      "text/plain": [
       "(1120000, 2240000, 1120000, 2240000, 1120000, 2240000, 1120000, 19040000)"
      ]
     },
     "execution_count": 13,
     "metadata": {},
     "output_type": "execute_result"
    }
   ],
   "source": [
    "tuple(map(test,l))"
   ]
  },
  {
   "cell_type": "code",
   "execution_count": 14,
   "id": "5800c02e",
   "metadata": {},
   "outputs": [
    {
     "ename": "TypeError",
     "evalue": "'function' object is not iterable",
     "output_type": "error",
     "traceback": [
      "\u001b[1;31m---------------------------------------------------------------------------\u001b[0m",
      "\u001b[1;31mTypeError\u001b[0m                                 Traceback (most recent call last)",
      "\u001b[1;32m~\\AppData\\Local\\Temp\\ipykernel_7808\\2893794007.py\u001b[0m in \u001b[0;36m<module>\u001b[1;34m\u001b[0m\n\u001b[1;32m----> 1\u001b[1;33m \u001b[0mtuple\u001b[0m\u001b[1;33m(\u001b[0m\u001b[0mmap\u001b[0m\u001b[1;33m(\u001b[0m\u001b[0ml\u001b[0m\u001b[1;33m,\u001b[0m\u001b[0mtest\u001b[0m\u001b[1;33m)\u001b[0m\u001b[1;33m)\u001b[0m\u001b[1;33m\u001b[0m\u001b[1;33m\u001b[0m\u001b[0m\n\u001b[0m",
      "\u001b[1;31mTypeError\u001b[0m: 'function' object is not iterable"
     ]
    }
   ],
   "source": [
    "tuple(map(l,test))  # if we change the positions means it will not itterable"
   ]
  },
  {
   "cell_type": "code",
   "execution_count": 15,
   "id": "4a1a8ac9",
   "metadata": {},
   "outputs": [],
   "source": [
    "def test(l):\n",
    "    return l * l + 4000"
   ]
  },
  {
   "cell_type": "code",
   "execution_count": 16,
   "id": "085283f7",
   "metadata": {},
   "outputs": [
    {
     "data": {
      "text/plain": [
       "[4004, 4016, 4004, 4016, 4004, 4016, 4004, 5156]"
      ]
     },
     "execution_count": 16,
     "metadata": {},
     "output_type": "execute_result"
    }
   ],
   "source": [
    "list(map(test,l))"
   ]
  },
  {
   "cell_type": "code",
   "execution_count": 17,
   "id": "305370f7",
   "metadata": {},
   "outputs": [],
   "source": [
    "l = ['453','343','434','54','544']  # which is converted string into integer"
   ]
  },
  {
   "cell_type": "code",
   "execution_count": 18,
   "id": "000aab06",
   "metadata": {},
   "outputs": [],
   "source": [
    "def test(l):\n",
    "    return int(l)"
   ]
  },
  {
   "cell_type": "code",
   "execution_count": 19,
   "id": "ac9baf83",
   "metadata": {},
   "outputs": [
    {
     "data": {
      "text/plain": [
       "(453, 343, 434, 54, 544)"
      ]
     },
     "execution_count": 19,
     "metadata": {},
     "output_type": "execute_result"
    }
   ],
   "source": [
    "tuple(map(test,l))"
   ]
  },
  {
   "cell_type": "code",
   "execution_count": null,
   "id": "8542bc18",
   "metadata": {},
   "outputs": [],
   "source": [
    "MAP ALWAYS TAKING FIRST OBJECT AS FUNCTION AND SECOND OBJECT AS ITTERABLES"
   ]
  },
  {
   "cell_type": "code",
   "execution_count": 21,
   "id": "95dd5510",
   "metadata": {},
   "outputs": [],
   "source": [
    "a = lambda l : l%2 == 0"
   ]
  },
  {
   "cell_type": "code",
   "execution_count": 22,
   "id": "97a7026e",
   "metadata": {},
   "outputs": [
    {
     "data": {
      "text/plain": [
       "<function __main__.<lambda>(l)>"
      ]
     },
     "execution_count": 22,
     "metadata": {},
     "output_type": "execute_result"
    }
   ],
   "source": [
    "a"
   ]
  },
  {
   "cell_type": "code",
   "execution_count": 25,
   "id": "c412ae77",
   "metadata": {},
   "outputs": [],
   "source": [
    "l = [3,45,3,5,3,5]"
   ]
  },
  {
   "cell_type": "code",
   "execution_count": 26,
   "id": "fefc67b2",
   "metadata": {},
   "outputs": [
    {
     "data": {
      "text/plain": [
       "[10, 52, 10, 12, 10, 12]"
      ]
     },
     "execution_count": 26,
     "metadata": {},
     "output_type": "execute_result"
    }
   ],
   "source": [
    "list(map(lambda l: l+7, l))  # Lambda function is an annonymous functiuon or inline function"
   ]
  },
  {
   "cell_type": "code",
   "execution_count": 27,
   "id": "2f04ca57",
   "metadata": {},
   "outputs": [
    {
     "data": {
      "text/plain": [
       "[-87, -45, -87, -85, -87, -85]"
      ]
     },
     "execution_count": 27,
     "metadata": {},
     "output_type": "execute_result"
    }
   ],
   "source": [
    "list(map(lambda l : l-90,l))"
   ]
  },
  {
   "cell_type": "code",
   "execution_count": 28,
   "id": "8ee222ee",
   "metadata": {},
   "outputs": [
    {
     "data": {
      "text/plain": [
       "[False, False, False, False, False, False]"
      ]
     },
     "execution_count": 28,
     "metadata": {},
     "output_type": "execute_result"
    }
   ],
   "source": [
    "list(map(lambda l: l % 2 == 0,l))      # all one odd\n",
    " "
   ]
  },
  {
   "cell_type": "code",
   "execution_count": 29,
   "id": "1977862f",
   "metadata": {},
   "outputs": [],
   "source": [
    "l = ['453','343','434','54','544']"
   ]
  },
  {
   "cell_type": "code",
   "execution_count": 30,
   "id": "f5451330",
   "metadata": {},
   "outputs": [
    {
     "data": {
      "text/plain": [
       "(453, 343, 434, 54, 544)"
      ]
     },
     "execution_count": 30,
     "metadata": {},
     "output_type": "execute_result"
    }
   ],
   "source": [
    "tuple(map(lambda l : int(l),l))"
   ]
  },
  {
   "cell_type": "code",
   "execution_count": 48,
   "id": "f7b43031",
   "metadata": {},
   "outputs": [],
   "source": [
    "l = [4,5,4,56,3,5,3,5]"
   ]
  },
  {
   "cell_type": "code",
   "execution_count": 49,
   "id": "59e1533c",
   "metadata": {},
   "outputs": [],
   "source": [
    "a = list(map(lambda l : l% 2 == 0,l))"
   ]
  },
  {
   "cell_type": "code",
   "execution_count": 40,
   "id": "5734b532",
   "metadata": {},
   "outputs": [],
   "source": [
    "def test(a):\n",
    "    return a % 2 == 0"
   ]
  },
  {
   "cell_type": "code",
   "execution_count": 41,
   "id": "c6db04d0",
   "metadata": {},
   "outputs": [
    {
     "data": {
      "text/plain": [
       "[True, False, True, True, False, False, False, False]"
      ]
     },
     "execution_count": 41,
     "metadata": {},
     "output_type": "execute_result"
    }
   ],
   "source": [
    "list(map(test,l))"
   ]
  },
  {
   "cell_type": "code",
   "execution_count": 37,
   "id": "2d914204",
   "metadata": {},
   "outputs": [
    {
     "data": {
      "text/plain": [
       "[4, 4, 56]"
      ]
     },
     "execution_count": 37,
     "metadata": {},
     "output_type": "execute_result"
    }
   ],
   "source": [
    "[i for i in l if i % 2==0]"
   ]
  },
  {
   "cell_type": "code",
   "execution_count": 39,
   "id": "f80db57e",
   "metadata": {},
   "outputs": [
    {
     "data": {
      "text/plain": [
       "[4, 4, 56]"
      ]
     },
     "execution_count": 39,
     "metadata": {},
     "output_type": "execute_result"
    }
   ],
   "source": [
    "list(filter(test,l))   # This is filter operation it will extract all values of true results"
   ]
  },
  {
   "cell_type": "code",
   "execution_count": 52,
   "id": "e3f5d3b2",
   "metadata": {},
   "outputs": [],
   "source": [
    "l = [ 1,2,12,4,2,4,2,4]"
   ]
  },
  {
   "cell_type": "code",
   "execution_count": 53,
   "id": "7c919f98",
   "metadata": {},
   "outputs": [],
   "source": [
    "a = lambda l : l %2 == 0"
   ]
  },
  {
   "cell_type": "code",
   "execution_count": 54,
   "id": "4b96a3ce",
   "metadata": {},
   "outputs": [
    {
     "data": {
      "text/plain": [
       "[2, 12, 4, 2, 4, 2, 4]"
      ]
     },
     "execution_count": 54,
     "metadata": {},
     "output_type": "execute_result"
    }
   ],
   "source": [
    "list(filter(a,l))"
   ]
  },
  {
   "cell_type": "code",
   "execution_count": 56,
   "id": "e0e07b1f",
   "metadata": {},
   "outputs": [
    {
     "data": {
      "text/plain": [
       "[1]"
      ]
     },
     "execution_count": 56,
     "metadata": {},
     "output_type": "execute_result"
    }
   ],
   "source": [
    "list(filter(lambda l : l % 2 != 0,l))"
   ]
  },
  {
   "cell_type": "code",
   "execution_count": 57,
   "id": "80d1a145",
   "metadata": {},
   "outputs": [],
   "source": [
    "from functools import reduce"
   ]
  },
  {
   "cell_type": "code",
   "execution_count": 58,
   "id": "7192048c",
   "metadata": {},
   "outputs": [],
   "source": [
    "from functools import reduce"
   ]
  },
  {
   "cell_type": "code",
   "execution_count": 59,
   "id": "41186ce0",
   "metadata": {},
   "outputs": [],
   "source": [
    "from functools import reduce"
   ]
  },
  {
   "cell_type": "code",
   "execution_count": 60,
   "id": "c4dc76b3",
   "metadata": {},
   "outputs": [],
   "source": [
    "from functools import reduce"
   ]
  },
  {
   "cell_type": "code",
   "execution_count": 61,
   "id": "fced0abf",
   "metadata": {},
   "outputs": [],
   "source": [
    "from functools import reduce"
   ]
  },
  {
   "cell_type": "code",
   "execution_count": 62,
   "id": "4e40667d",
   "metadata": {},
   "outputs": [],
   "source": [
    "from functools import reduce"
   ]
  },
  {
   "cell_type": "code",
   "execution_count": 63,
   "id": "3ee972ba",
   "metadata": {},
   "outputs": [],
   "source": [
    "from functools import reduce"
   ]
  },
  {
   "cell_type": "code",
   "execution_count": 64,
   "id": "f237ff21",
   "metadata": {},
   "outputs": [],
   "source": [
    "from functools import reduce"
   ]
  },
  {
   "cell_type": "code",
   "execution_count": 65,
   "id": "592e1fa5",
   "metadata": {},
   "outputs": [],
   "source": [
    "from functools import reduce"
   ]
  },
  {
   "cell_type": "code",
   "execution_count": 66,
   "id": "a8b004e6",
   "metadata": {},
   "outputs": [],
   "source": [
    "from functools import reduce"
   ]
  },
  {
   "cell_type": "code",
   "execution_count": 72,
   "id": "c08a65c5",
   "metadata": {},
   "outputs": [],
   "source": [
    "l = [4,4,2,4,2,4,2]"
   ]
  },
  {
   "cell_type": "code",
   "execution_count": 69,
   "id": "0291e36f",
   "metadata": {},
   "outputs": [
    {
     "data": {
      "text/plain": [
       "25"
      ]
     },
     "execution_count": 69,
     "metadata": {},
     "output_type": "execute_result"
    }
   ],
   "source": [
    "sum(l)"
   ]
  },
  {
   "cell_type": "code",
   "execution_count": 73,
   "id": "b7ea60e2",
   "metadata": {},
   "outputs": [],
   "source": [
    "m = lambda a,b : a+b"
   ]
  },
  {
   "cell_type": "code",
   "execution_count": 74,
   "id": "a9e0843e",
   "metadata": {},
   "outputs": [
    {
     "data": {
      "text/plain": [
       "22"
      ]
     },
     "execution_count": 74,
     "metadata": {},
     "output_type": "execute_result"
    }
   ],
   "source": [
    "reduce(m,l)"
   ]
  },
  {
   "cell_type": "code",
   "execution_count": 75,
   "id": "fe81ddd6",
   "metadata": {},
   "outputs": [],
   "source": [
    "l = [1,3,54,3,5,3,5,3,5,3]"
   ]
  },
  {
   "cell_type": "code",
   "execution_count": 76,
   "id": "e3e73ff8",
   "metadata": {},
   "outputs": [],
   "source": [
    "m = lambda a, b : a*b"
   ]
  },
  {
   "cell_type": "code",
   "execution_count": 77,
   "id": "aaad9add",
   "metadata": {},
   "outputs": [
    {
     "data": {
      "text/plain": [
       "1640250"
      ]
     },
     "execution_count": 77,
     "metadata": {},
     "output_type": "execute_result"
    }
   ],
   "source": [
    "reduce(m,l)"
   ]
  },
  {
   "cell_type": "code",
   "execution_count": 78,
   "id": "6fc9f93c",
   "metadata": {},
   "outputs": [],
   "source": [
    "l = [3,5,2,54,3,5,3,4,3]"
   ]
  },
  {
   "cell_type": "code",
   "execution_count": 82,
   "id": "27bd1149",
   "metadata": {},
   "outputs": [],
   "source": [
    "def test(a,b):\n",
    "    return a + b\n",
    "    "
   ]
  },
  {
   "cell_type": "code",
   "execution_count": 83,
   "id": "50126da9",
   "metadata": {},
   "outputs": [
    {
     "data": {
      "text/plain": [
       "82"
      ]
     },
     "execution_count": 83,
     "metadata": {},
     "output_type": "execute_result"
    }
   ],
   "source": [
    "int(reduce(test,l))"
   ]
  },
  {
   "cell_type": "code",
   "execution_count": 84,
   "id": "1ccb4968",
   "metadata": {},
   "outputs": [],
   "source": [
    "def test(a,b):\n",
    "    return a * b"
   ]
  },
  {
   "cell_type": "code",
   "execution_count": 85,
   "id": "53b8620b",
   "metadata": {},
   "outputs": [
    {
     "data": {
      "text/plain": [
       "874800"
      ]
     },
     "execution_count": 85,
     "metadata": {},
     "output_type": "execute_result"
    }
   ],
   "source": [
    "reduce(test,l)"
   ]
  },
  {
   "cell_type": "code",
   "execution_count": 86,
   "id": "bde9047c",
   "metadata": {},
   "outputs": [],
   "source": [
    "def test(a,b,c):\n",
    "    return a+b+c"
   ]
  },
  {
   "cell_type": "code",
   "execution_count": 87,
   "id": "489209a7",
   "metadata": {},
   "outputs": [
    {
     "ename": "TypeError",
     "evalue": "test() missing 1 required positional argument: 'c'",
     "output_type": "error",
     "traceback": [
      "\u001b[1;31m---------------------------------------------------------------------------\u001b[0m",
      "\u001b[1;31mTypeError\u001b[0m                                 Traceback (most recent call last)",
      "\u001b[1;32m~\\AppData\\Local\\Temp\\ipykernel_7808\\4061378685.py\u001b[0m in \u001b[0;36m<module>\u001b[1;34m\u001b[0m\n\u001b[1;32m----> 1\u001b[1;33m \u001b[0mreduce\u001b[0m\u001b[1;33m(\u001b[0m\u001b[0mtest\u001b[0m\u001b[1;33m,\u001b[0m\u001b[0ml\u001b[0m\u001b[1;33m)\u001b[0m\u001b[1;33m\u001b[0m\u001b[1;33m\u001b[0m\u001b[0m\n\u001b[0m",
      "\u001b[1;31mTypeError\u001b[0m: test() missing 1 required positional argument: 'c'"
     ]
    }
   ],
   "source": [
    "reduce(test,l)"
   ]
  },
  {
   "cell_type": "code",
   "execution_count": 88,
   "id": "d0d81587",
   "metadata": {},
   "outputs": [],
   "source": [
    "l = [4]"
   ]
  },
  {
   "cell_type": "code",
   "execution_count": 89,
   "id": "8962be20",
   "metadata": {},
   "outputs": [],
   "source": [
    "def test(a,b):\n",
    "    return a + b\n",
    "    "
   ]
  },
  {
   "cell_type": "code",
   "execution_count": 90,
   "id": "dcc0d48d",
   "metadata": {},
   "outputs": [
    {
     "data": {
      "text/plain": [
       "4"
      ]
     },
     "execution_count": 90,
     "metadata": {},
     "output_type": "execute_result"
    }
   ],
   "source": [
    "reduce(test,l)"
   ]
  },
  {
   "cell_type": "code",
   "execution_count": 91,
   "id": "299e0871",
   "metadata": {},
   "outputs": [],
   "source": [
    "l = [2,3,4]"
   ]
  },
  {
   "cell_type": "code",
   "execution_count": 92,
   "id": "c13f5714",
   "metadata": {},
   "outputs": [],
   "source": [
    "def test(a,b,c):\n",
    "    return a + b + c"
   ]
  },
  {
   "cell_type": "code",
   "execution_count": 93,
   "id": "c7a55b30",
   "metadata": {},
   "outputs": [
    {
     "ename": "TypeError",
     "evalue": "test() missing 1 required positional argument: 'c'",
     "output_type": "error",
     "traceback": [
      "\u001b[1;31m---------------------------------------------------------------------------\u001b[0m",
      "\u001b[1;31mTypeError\u001b[0m                                 Traceback (most recent call last)",
      "\u001b[1;32m~\\AppData\\Local\\Temp\\ipykernel_7808\\4061378685.py\u001b[0m in \u001b[0;36m<module>\u001b[1;34m\u001b[0m\n\u001b[1;32m----> 1\u001b[1;33m \u001b[0mreduce\u001b[0m\u001b[1;33m(\u001b[0m\u001b[0mtest\u001b[0m\u001b[1;33m,\u001b[0m\u001b[0ml\u001b[0m\u001b[1;33m)\u001b[0m\u001b[1;33m\u001b[0m\u001b[1;33m\u001b[0m\u001b[0m\n\u001b[0m",
      "\u001b[1;31mTypeError\u001b[0m: test() missing 1 required positional argument: 'c'"
     ]
    }
   ],
   "source": [
    "reduce(test,l)"
   ]
  },
  {
   "cell_type": "code",
   "execution_count": 94,
   "id": "d004bd3e",
   "metadata": {},
   "outputs": [
    {
     "data": {
      "text/plain": [
       "9"
      ]
     },
     "execution_count": 94,
     "metadata": {},
     "output_type": "execute_result"
    }
   ],
   "source": [
    "reduce(lambda a,b : a+b,l)"
   ]
  },
  {
   "cell_type": "code",
   "execution_count": 96,
   "id": "23b694a6",
   "metadata": {},
   "outputs": [
    {
     "data": {
      "text/plain": [
       "24"
      ]
     },
     "execution_count": 96,
     "metadata": {},
     "output_type": "execute_result"
    }
   ],
   "source": [
    "reduce(lambda a,b : a*b,l)"
   ]
  },
  {
   "cell_type": "code",
   "execution_count": 98,
   "id": "d3230e7d",
   "metadata": {},
   "outputs": [
    {
     "data": {
      "text/plain": [
       "0.16666666666666666"
      ]
     },
     "execution_count": 98,
     "metadata": {},
     "output_type": "execute_result"
    }
   ],
   "source": [
    "reduce(lambda a,b : a/b,l)"
   ]
  },
  {
   "cell_type": "code",
   "execution_count": 99,
   "id": "162d1e9f",
   "metadata": {},
   "outputs": [],
   "source": [
    "l = [1,2,3,2,4,2,4]\n",
    "l1 = [7,8,9]"
   ]
  },
  {
   "cell_type": "code",
   "execution_count": 100,
   "id": "71c4aeec",
   "metadata": {},
   "outputs": [
    {
     "data": {
      "text/plain": [
       "((1, 7), (2, 8), (3, 9))"
      ]
     },
     "execution_count": 100,
     "metadata": {},
     "output_type": "execute_result"
    }
   ],
   "source": [
    "tuple(zip(l,l1))   # zip"
   ]
  },
  {
   "cell_type": "code",
   "execution_count": 101,
   "id": "91754dac",
   "metadata": {},
   "outputs": [],
   "source": [
    "l = [4,5,3,54,2,54]"
   ]
  },
  {
   "cell_type": "code",
   "execution_count": 102,
   "id": "ffeee110",
   "metadata": {},
   "outputs": [],
   "source": [
    "l1= [3,5,2,45]"
   ]
  },
  {
   "cell_type": "code",
   "execution_count": 103,
   "id": "c38a2618",
   "metadata": {},
   "outputs": [
    {
     "data": {
      "text/plain": [
       "[(4, 3), (5, 5), (3, 2), (54, 45)]"
      ]
     },
     "execution_count": 103,
     "metadata": {},
     "output_type": "execute_result"
    }
   ],
   "source": [
    "list(zip(l,l1))     # it is mainly zipping two lists inside and returns to an tuple"
   ]
  },
  {
   "cell_type": "code",
   "execution_count": null,
   "id": "58d864d7",
   "metadata": {},
   "outputs": [],
   "source": []
  }
 ],
 "metadata": {
  "kernelspec": {
   "display_name": "Python 3 (ipykernel)",
   "language": "python",
   "name": "python3"
  },
  "language_info": {
   "codemirror_mode": {
    "name": "ipython",
    "version": 3
   },
   "file_extension": ".py",
   "mimetype": "text/x-python",
   "name": "python",
   "nbconvert_exporter": "python",
   "pygments_lexer": "ipython3",
   "version": "3.9.13"
  }
 },
 "nbformat": 4,
 "nbformat_minor": 5
}
