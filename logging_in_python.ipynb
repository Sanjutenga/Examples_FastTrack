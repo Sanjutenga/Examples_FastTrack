{
 "cells": [
  {
   "cell_type": "code",
   "execution_count": 1,
   "id": "5ccef3f8",
   "metadata": {},
   "outputs": [],
   "source": [
    "import logging    # loggin\n"
   ]
  },
  {
   "cell_type": "code",
   "execution_count": 2,
   "id": "ed6bdc77",
   "metadata": {},
   "outputs": [],
   "source": [
    "logging.basicConfig(filename = \"sanjuuuu.log\", level = logging.INFO)"
   ]
  },
  {
   "cell_type": "code",
   "execution_count": 14,
   "id": "8573e816",
   "metadata": {},
   "outputs": [],
   "source": [
    "import logging"
   ]
  },
  {
   "cell_type": "code",
   "execution_count": 15,
   "id": "84d4e3ca",
   "metadata": {},
   "outputs": [],
   "source": [
    "logging.basicConfig(filename = \"tiger.log\")"
   ]
  },
  {
   "cell_type": "code",
   "execution_count": 17,
   "id": "b63a2fd4",
   "metadata": {},
   "outputs": [],
   "source": [
    "import logging\n",
    "logging.basicConfig(filename = \"range.log\")"
   ]
  },
  {
   "cell_type": "code",
   "execution_count": 3,
   "id": "88fb5f55",
   "metadata": {},
   "outputs": [],
   "source": [
    "logging.info(\"this is information about python\")\n",
    "logging.warning(\"this is the warning\")\n",
    "logging.error(\"this is error\")"
   ]
  },
  {
   "cell_type": "code",
   "execution_count": 28,
   "id": "bd061931",
   "metadata": {},
   "outputs": [],
   "source": [
    "logging.shutdown()   # the log file would created will be shut down and onc3e again it will be not update"
   ]
  },
  {
   "cell_type": "code",
   "execution_count": 27,
   "id": "59438787",
   "metadata": {},
   "outputs": [],
   "source": [
    "logging.info(\"this is information about python\")\n",
    "logging.warning(\"this is the warning\")\n",
    "logging.error(\"this is error\")"
   ]
  },
  {
   "cell_type": "code",
   "execution_count": 30,
   "id": "3bbb37a9",
   "metadata": {},
   "outputs": [],
   "source": [
    "logging.shutdown()"
   ]
  },
  {
   "cell_type": "code",
   "execution_count": 2,
   "id": "8667a7d7",
   "metadata": {},
   "outputs": [],
   "source": [
    "import logging\n",
    "logging.basicConfig(filename = \"nalan.log\")"
   ]
  },
  {
   "cell_type": "code",
   "execution_count": 35,
   "id": "4a7ca455",
   "metadata": {},
   "outputs": [
    {
     "data": {
      "text/plain": [
       "'C:\\\\Users\\\\user'"
      ]
     },
     "execution_count": 35,
     "metadata": {},
     "output_type": "execute_result"
    }
   ],
   "source": [
    "pwd()"
   ]
  },
  {
   "cell_type": "code",
   "execution_count": 4,
   "id": "6222ed23",
   "metadata": {},
   "outputs": [],
   "source": [
    "logging.info(\"niok\")\n",
    "logging.warning(\"iohenfio\")\n",
    "logging.error(\"ibhtijr\")"
   ]
  },
  {
   "cell_type": "code",
   "execution_count": 3,
   "id": "a9542748",
   "metadata": {},
   "outputs": [],
   "source": [
    "logging.shutdown()"
   ]
  },
  {
   "cell_type": "code",
   "execution_count": 9,
   "id": "696a2b51",
   "metadata": {},
   "outputs": [],
   "source": [
    "import logging\n",
    "logging.basicConfig(filename = \"nalan.log\")"
   ]
  },
  {
   "cell_type": "code",
   "execution_count": null,
   "id": "541adc85",
   "metadata": {},
   "outputs": [],
   "source": [
    "logging.shutdown()  # restart ur kernel and once execute it will be run"
   ]
  },
  {
   "cell_type": "code",
   "execution_count": 1,
   "id": "14b6b33e",
   "metadata": {},
   "outputs": [],
   "source": [
    "import logging   # create log file with reference of INFO"
   ]
  },
  {
   "cell_type": "code",
   "execution_count": 4,
   "id": "1cc673b6",
   "metadata": {},
   "outputs": [],
   "source": [
    "logging.basicConfig(filename = \"goat.log\",level = logging.INFO)    # once updated logging.INFO want to run means you should restart your kernel\n"
   ]
  },
  {
   "cell_type": "code",
   "execution_count": 5,
   "id": "19782d5c",
   "metadata": {},
   "outputs": [
    {
     "name": "stderr",
     "output_type": "stream",
     "text": [
      "WARNING:root:this is warning\n",
      "ERROR:root:this is error\n"
     ]
    }
   ],
   "source": [
    "logging.info(\"this is information about logging\")    # n time we run also it will print\n",
    "logging.warning(\"this is warning\")\n",
    "logging.error(\"this is error\")"
   ]
  },
  {
   "cell_type": "code",
   "execution_count": 6,
   "id": "9fc07a1f",
   "metadata": {},
   "outputs": [],
   "source": [
    "logging.shutdown()   # shutdown of log file"
   ]
  },
  {
   "cell_type": "markdown",
   "id": "fa6bd88c",
   "metadata": {},
   "source": [
    "DEBUG\n",
    "WARNING\n",
    "ERROR\n",
    "INFO\n",
    "CRITICAL"
   ]
  },
  {
   "cell_type": "code",
   "execution_count": 1,
   "id": "4881f11e",
   "metadata": {},
   "outputs": [],
   "source": [
    "import logging   # shutdown and restart your kernel"
   ]
  },
  {
   "cell_type": "code",
   "execution_count": 2,
   "id": "2729d77d",
   "metadata": {},
   "outputs": [],
   "source": [
    "logging.basicConfig(filename = \"fought.log\", level =logging.DEBUG, format = \"%(asctime)s %(message)s\")"
   ]
  },
  {
   "cell_type": "code",
   "execution_count": 3,
   "id": "b3655b98",
   "metadata": {},
   "outputs": [],
   "source": [
    "logging.info(\"this is inform of info\")\n",
    "logging.warning(\"this is warning\")\n",
    "logging.error(\"this is an error\")\n",
    "logging.debug(\"this is debug\")"
   ]
  },
  {
   "cell_type": "code",
   "execution_count": 8,
   "id": "10d5dda7",
   "metadata": {},
   "outputs": [],
   "source": [
    "logging.shutdown()"
   ]
  },
  {
   "cell_type": "code",
   "execution_count": 4,
   "id": "e2fa4f07",
   "metadata": {},
   "outputs": [],
   "source": [
    "import logging\n"
   ]
  },
  {
   "cell_type": "code",
   "execution_count": 5,
   "id": "754ad668",
   "metadata": {},
   "outputs": [],
   "source": [
    "# debug of code by formated time and msg\n",
    "logging.basicConfig(filename = \"dashing.log\", level = logging.ERROR, format = \"%(asctime)s,%(levelname)s %(message)s\")"
   ]
  },
  {
   "cell_type": "code",
   "execution_count": 6,
   "id": "6e8b7050",
   "metadata": {},
   "outputs": [],
   "source": [
    "logging.info(\"this is information about log with time\")    # msg\n",
    "logging.warning(\"this is warning\")\n",
    "logging.debug(\"this is debug\")"
   ]
  },
  {
   "cell_type": "code",
   "execution_count": 4,
   "id": "a08ead2c",
   "metadata": {},
   "outputs": [],
   "source": [
    "logging.basicConfig(filename = \"dashing.log\", level = logging.ERROR, format = \"%(asctime)s,%(levelname)s %(message)s\")"
   ]
  },
  {
   "cell_type": "code",
   "execution_count": 7,
   "id": "a8bd4311",
   "metadata": {},
   "outputs": [],
   "source": [
    "logging.shutdown()"
   ]
  },
  {
   "cell_type": "code",
   "execution_count": 2,
   "id": "257ddac4",
   "metadata": {},
   "outputs": [
    {
     "name": "stdout",
     "output_type": "stream",
     "text": [
      "70\n"
     ]
    }
   ],
   "source": [
    "print(70)"
   ]
  },
  {
   "cell_type": "code",
   "execution_count": 2,
   "id": "2e2c81a7",
   "metadata": {},
   "outputs": [],
   "source": [
    "import logging\n"
   ]
  },
  {
   "cell_type": "code",
   "execution_count": 3,
   "id": "3642bd4c",
   "metadata": {},
   "outputs": [],
   "source": [
    "logging.basicConfig(filename = \"congure.log\", level = logging.WARNING, format = \"%(asctime)s %(levelname)s %(message)s\")"
   ]
  },
  {
   "cell_type": "code",
   "execution_count": 4,
   "id": "66d2f6cc",
   "metadata": {},
   "outputs": [],
   "source": [
    "logging.info(\"sanju\")\n",
    "logging.warning(\"warning\")\n",
    "logging.error(\"debug of code\")\n",
    "logging.debug(\"debug\")"
   ]
  },
  {
   "cell_type": "code",
   "execution_count": 4,
   "id": "57c71909",
   "metadata": {},
   "outputs": [],
   "source": [
    "#ERROR     this is priority\n",
    "#WARNING \n",
    "#INFO\n",
    "#DEBUG"
   ]
  },
  {
   "cell_type": "code",
   "execution_count": null,
   "id": "0864bb4c",
   "metadata": {},
   "outputs": [],
   "source": [
    "logging.error(\"error\")\n",
    "logging.warning(\"warning\")\n",
    "logging.info(\"info\")\n",
    "logging.debug(\"debug\")"
   ]
  },
  {
   "cell_type": "code",
   "execution_count": 5,
   "id": "e0a517d7",
   "metadata": {},
   "outputs": [],
   "source": [
    "logging.shutdown()"
   ]
  },
  {
   "cell_type": "code",
   "execution_count": 5,
   "id": "da092be5",
   "metadata": {},
   "outputs": [],
   "source": [
    "import logging\n"
   ]
  },
  {
   "cell_type": "code",
   "execution_count": 6,
   "id": "8accb8bd",
   "metadata": {},
   "outputs": [],
   "source": [
    "logging.basicConfig(filename = \"logical.log\", level = logging.DEBUG, format = \"%(asctime) %(levelname) %(message)\")"
   ]
  },
  {
   "cell_type": "code",
   "execution_count": 7,
   "id": "e9247ca2",
   "metadata": {},
   "outputs": [],
   "source": [
    "def divbyzero(a,b):     # instead of print to logging\n",
    "    logging.info(\"this is start  %s and %s\", a,b)\n",
    "    try:\n",
    "        div = a/b\n",
    "        logging.info(\"excueted success\")\n",
    "    except Exception as e:\n",
    "        logging.error(\"error as happened\")\n",
    "        logging.exception(\"Exception\" + str(e))"
   ]
  },
  {
   "cell_type": "code",
   "execution_count": 8,
   "id": "e6954d00",
   "metadata": {},
   "outputs": [],
   "source": [
    "divbyzero(4,5)"
   ]
  },
  {
   "cell_type": "code",
   "execution_count": 1,
   "id": "54c071dd",
   "metadata": {},
   "outputs": [],
   "source": [
    "import logging     # the message of all be logging in file\n",
    "logging.basicConfig(filename = \"test3.log\" , level = logging.DEBUG , format ='%(asctime)s %(levelname)s %(message)s' )"
   ]
  },
  {
   "cell_type": "code",
   "execution_count": 2,
   "id": "2199a973",
   "metadata": {},
   "outputs": [],
   "source": [
    "def divbyzero(a,b) : \n",
    "    logging.info(\"this is a start of my code and i am try to enter %s and %s\" , a,b)\n",
    "    try:\n",
    "        div = a/b\n",
    "        logging.info(\"executed succ\")\n",
    "    except Exception as e :\n",
    "        logging.error(\"Errog has happend \")\n",
    "        logging.exception(\"Exception occured \" + str(e))"
   ]
  },
  {
   "cell_type": "code",
   "execution_count": 3,
   "id": "cf3418f6",
   "metadata": {},
   "outputs": [],
   "source": [
    "divbyzero(4,5)"
   ]
  },
  {
   "cell_type": "code",
   "execution_count": 9,
   "id": "0d73b9bb",
   "metadata": {},
   "outputs": [],
   "source": [
    "divbyzero(4,0)"
   ]
  },
  {
   "cell_type": "code",
   "execution_count": 11,
   "id": "0d19b0b0",
   "metadata": {},
   "outputs": [],
   "source": [
    "logging.shutdown()"
   ]
  },
  {
   "cell_type": "code",
   "execution_count": 17,
   "id": "d4696e40",
   "metadata": {},
   "outputs": [],
   "source": [
    "import logging     # the message of all be logging in file\n",
    "logging.basicConfig(filename = \"testing1.log\" , level = logging.DEBUG , format ='%(asctime)s %(levelname)s %(message)s' )"
   ]
  },
  {
   "cell_type": "code",
   "execution_count": 18,
   "id": "12d07dcb",
   "metadata": {},
   "outputs": [],
   "source": [
    "def test(a,b):\n",
    "    logging.info(\"this is inform\", a, b)\n",
    "    try:\n",
    "        if a == b:\n",
    "         logging.info(\":success\")\n",
    "    except Exception as e:\n",
    "        logging.error(\"Error has happened\")\n",
    "        logging.exception(\"Exception occured \" + str(e))"
   ]
  },
  {
   "cell_type": "code",
   "execution_count": 19,
   "id": "baa4d1ae",
   "metadata": {},
   "outputs": [
    {
     "name": "stderr",
     "output_type": "stream",
     "text": [
      "--- Logging error ---\n",
      "Traceback (most recent call last):\n",
      "  File \"C:\\Users\\user\\anaconda3\\lib\\logging\\__init__.py\", line 1083, in emit\n",
      "    msg = self.format(record)\n",
      "  File \"C:\\Users\\user\\anaconda3\\lib\\logging\\__init__.py\", line 927, in format\n",
      "    return fmt.format(record)\n",
      "  File \"C:\\Users\\user\\anaconda3\\lib\\logging\\__init__.py\", line 663, in format\n",
      "    record.message = record.getMessage()\n",
      "  File \"C:\\Users\\user\\anaconda3\\lib\\logging\\__init__.py\", line 367, in getMessage\n",
      "    msg = msg % self.args\n",
      "TypeError: not all arguments converted during string formatting\n",
      "Call stack:\n",
      "  File \"C:\\Users\\user\\anaconda3\\lib\\runpy.py\", line 197, in _run_module_as_main\n",
      "    return _run_code(code, main_globals, None,\n",
      "  File \"C:\\Users\\user\\anaconda3\\lib\\runpy.py\", line 87, in _run_code\n",
      "    exec(code, run_globals)\n",
      "  File \"C:\\Users\\user\\anaconda3\\lib\\site-packages\\ipykernel_launcher.py\", line 17, in <module>\n",
      "    app.launch_new_instance()\n",
      "  File \"C:\\Users\\user\\anaconda3\\lib\\site-packages\\traitlets\\config\\application.py\", line 846, in launch_instance\n",
      "    app.start()\n",
      "  File \"C:\\Users\\user\\anaconda3\\lib\\site-packages\\ipykernel\\kernelapp.py\", line 712, in start\n",
      "    self.io_loop.start()\n",
      "  File \"C:\\Users\\user\\anaconda3\\lib\\site-packages\\tornado\\platform\\asyncio.py\", line 199, in start\n",
      "    self.asyncio_loop.run_forever()\n",
      "  File \"C:\\Users\\user\\anaconda3\\lib\\asyncio\\base_events.py\", line 601, in run_forever\n",
      "    self._run_once()\n",
      "  File \"C:\\Users\\user\\anaconda3\\lib\\asyncio\\base_events.py\", line 1905, in _run_once\n",
      "    handle._run()\n",
      "  File \"C:\\Users\\user\\anaconda3\\lib\\asyncio\\events.py\", line 80, in _run\n",
      "    self._context.run(self._callback, *self._args)\n",
      "  File \"C:\\Users\\user\\anaconda3\\lib\\site-packages\\ipykernel\\kernelbase.py\", line 510, in dispatch_queue\n",
      "    await self.process_one()\n",
      "  File \"C:\\Users\\user\\anaconda3\\lib\\site-packages\\ipykernel\\kernelbase.py\", line 499, in process_one\n",
      "    await dispatch(*args)\n",
      "  File \"C:\\Users\\user\\anaconda3\\lib\\site-packages\\ipykernel\\kernelbase.py\", line 406, in dispatch_shell\n",
      "    await result\n",
      "  File \"C:\\Users\\user\\anaconda3\\lib\\site-packages\\ipykernel\\kernelbase.py\", line 730, in execute_request\n",
      "    reply_content = await reply_content\n",
      "  File \"C:\\Users\\user\\anaconda3\\lib\\site-packages\\ipykernel\\ipkernel.py\", line 390, in do_execute\n",
      "    res = shell.run_cell(code, store_history=store_history, silent=silent)\n",
      "  File \"C:\\Users\\user\\anaconda3\\lib\\site-packages\\ipykernel\\zmqshell.py\", line 528, in run_cell\n",
      "    return super().run_cell(*args, **kwargs)\n",
      "  File \"C:\\Users\\user\\anaconda3\\lib\\site-packages\\IPython\\core\\interactiveshell.py\", line 2914, in run_cell\n",
      "    result = self._run_cell(\n",
      "  File \"C:\\Users\\user\\anaconda3\\lib\\site-packages\\IPython\\core\\interactiveshell.py\", line 2960, in _run_cell\n",
      "    return runner(coro)\n",
      "  File \"C:\\Users\\user\\anaconda3\\lib\\site-packages\\IPython\\core\\async_helpers.py\", line 78, in _pseudo_sync_runner\n",
      "    coro.send(None)\n",
      "  File \"C:\\Users\\user\\anaconda3\\lib\\site-packages\\IPython\\core\\interactiveshell.py\", line 3185, in run_cell_async\n",
      "    has_raised = await self.run_ast_nodes(code_ast.body, cell_name,\n",
      "  File \"C:\\Users\\user\\anaconda3\\lib\\site-packages\\IPython\\core\\interactiveshell.py\", line 3377, in run_ast_nodes\n",
      "    if (await self.run_code(code, result,  async_=asy)):\n",
      "  File \"C:\\Users\\user\\anaconda3\\lib\\site-packages\\IPython\\core\\interactiveshell.py\", line 3457, in run_code\n",
      "    exec(code_obj, self.user_global_ns, self.user_ns)\n",
      "  File \"C:\\Users\\user\\AppData\\Local\\Temp\\ipykernel_10632\\704558293.py\", line 1, in <module>\n",
      "    test(4,4)\n",
      "  File \"C:\\Users\\user\\AppData\\Local\\Temp\\ipykernel_10632\\439810284.py\", line 2, in test\n",
      "    logging.info(\"this is inform\", a, b)\n",
      "Message: 'this is inform'\n",
      "Arguments: (4, 4)\n"
     ]
    }
   ],
   "source": [
    "test(4,4)"
   ]
  },
  {
   "cell_type": "code",
   "execution_count": 20,
   "id": "9a826791",
   "metadata": {},
   "outputs": [
    {
     "name": "stderr",
     "output_type": "stream",
     "text": [
      "--- Logging error ---\n",
      "Traceback (most recent call last):\n",
      "  File \"C:\\Users\\user\\anaconda3\\lib\\logging\\__init__.py\", line 1083, in emit\n",
      "    msg = self.format(record)\n",
      "  File \"C:\\Users\\user\\anaconda3\\lib\\logging\\__init__.py\", line 927, in format\n",
      "    return fmt.format(record)\n",
      "  File \"C:\\Users\\user\\anaconda3\\lib\\logging\\__init__.py\", line 663, in format\n",
      "    record.message = record.getMessage()\n",
      "  File \"C:\\Users\\user\\anaconda3\\lib\\logging\\__init__.py\", line 367, in getMessage\n",
      "    msg = msg % self.args\n",
      "TypeError: not all arguments converted during string formatting\n",
      "Call stack:\n",
      "  File \"C:\\Users\\user\\anaconda3\\lib\\runpy.py\", line 197, in _run_module_as_main\n",
      "    return _run_code(code, main_globals, None,\n",
      "  File \"C:\\Users\\user\\anaconda3\\lib\\runpy.py\", line 87, in _run_code\n",
      "    exec(code, run_globals)\n",
      "  File \"C:\\Users\\user\\anaconda3\\lib\\site-packages\\ipykernel_launcher.py\", line 17, in <module>\n",
      "    app.launch_new_instance()\n",
      "  File \"C:\\Users\\user\\anaconda3\\lib\\site-packages\\traitlets\\config\\application.py\", line 846, in launch_instance\n",
      "    app.start()\n",
      "  File \"C:\\Users\\user\\anaconda3\\lib\\site-packages\\ipykernel\\kernelapp.py\", line 712, in start\n",
      "    self.io_loop.start()\n",
      "  File \"C:\\Users\\user\\anaconda3\\lib\\site-packages\\tornado\\platform\\asyncio.py\", line 199, in start\n",
      "    self.asyncio_loop.run_forever()\n",
      "  File \"C:\\Users\\user\\anaconda3\\lib\\asyncio\\base_events.py\", line 601, in run_forever\n",
      "    self._run_once()\n",
      "  File \"C:\\Users\\user\\anaconda3\\lib\\asyncio\\base_events.py\", line 1905, in _run_once\n",
      "    handle._run()\n",
      "  File \"C:\\Users\\user\\anaconda3\\lib\\asyncio\\events.py\", line 80, in _run\n",
      "    self._context.run(self._callback, *self._args)\n",
      "  File \"C:\\Users\\user\\anaconda3\\lib\\site-packages\\ipykernel\\kernelbase.py\", line 510, in dispatch_queue\n",
      "    await self.process_one()\n",
      "  File \"C:\\Users\\user\\anaconda3\\lib\\site-packages\\ipykernel\\kernelbase.py\", line 499, in process_one\n",
      "    await dispatch(*args)\n",
      "  File \"C:\\Users\\user\\anaconda3\\lib\\site-packages\\ipykernel\\kernelbase.py\", line 406, in dispatch_shell\n",
      "    await result\n",
      "  File \"C:\\Users\\user\\anaconda3\\lib\\site-packages\\ipykernel\\kernelbase.py\", line 730, in execute_request\n",
      "    reply_content = await reply_content\n",
      "  File \"C:\\Users\\user\\anaconda3\\lib\\site-packages\\ipykernel\\ipkernel.py\", line 390, in do_execute\n",
      "    res = shell.run_cell(code, store_history=store_history, silent=silent)\n",
      "  File \"C:\\Users\\user\\anaconda3\\lib\\site-packages\\ipykernel\\zmqshell.py\", line 528, in run_cell\n",
      "    return super().run_cell(*args, **kwargs)\n",
      "  File \"C:\\Users\\user\\anaconda3\\lib\\site-packages\\IPython\\core\\interactiveshell.py\", line 2914, in run_cell\n",
      "    result = self._run_cell(\n",
      "  File \"C:\\Users\\user\\anaconda3\\lib\\site-packages\\IPython\\core\\interactiveshell.py\", line 2960, in _run_cell\n",
      "    return runner(coro)\n",
      "  File \"C:\\Users\\user\\anaconda3\\lib\\site-packages\\IPython\\core\\async_helpers.py\", line 78, in _pseudo_sync_runner\n",
      "    coro.send(None)\n",
      "  File \"C:\\Users\\user\\anaconda3\\lib\\site-packages\\IPython\\core\\interactiveshell.py\", line 3185, in run_cell_async\n",
      "    has_raised = await self.run_ast_nodes(code_ast.body, cell_name,\n",
      "  File \"C:\\Users\\user\\anaconda3\\lib\\site-packages\\IPython\\core\\interactiveshell.py\", line 3377, in run_ast_nodes\n",
      "    if (await self.run_code(code, result,  async_=asy)):\n",
      "  File \"C:\\Users\\user\\anaconda3\\lib\\site-packages\\IPython\\core\\interactiveshell.py\", line 3457, in run_code\n",
      "    exec(code_obj, self.user_global_ns, self.user_ns)\n",
      "  File \"C:\\Users\\user\\AppData\\Local\\Temp\\ipykernel_10632\\1384634578.py\", line 1, in <module>\n",
      "    test(4,54)\n",
      "  File \"C:\\Users\\user\\AppData\\Local\\Temp\\ipykernel_10632\\439810284.py\", line 2, in test\n",
      "    logging.info(\"this is inform\", a, b)\n",
      "Message: 'this is inform'\n",
      "Arguments: (4, 54)\n"
     ]
    }
   ],
   "source": [
    "test(4,54)"
   ]
  },
  {
   "cell_type": "code",
   "execution_count": 22,
   "id": "a24b93a5",
   "metadata": {},
   "outputs": [],
   "source": [
    "logging.shutdown()"
   ]
  },
  {
   "cell_type": "code",
   "execution_count": null,
   "id": "2e50d590",
   "metadata": {},
   "outputs": [],
   "source": []
  }
 ],
 "metadata": {
  "kernelspec": {
   "display_name": "Python 3 (ipykernel)",
   "language": "python",
   "name": "python3"
  },
  "language_info": {
   "codemirror_mode": {
    "name": "ipython",
    "version": 3
   },
   "file_extension": ".py",
   "mimetype": "text/x-python",
   "name": "python",
   "nbconvert_exporter": "python",
   "pygments_lexer": "ipython3",
   "version": "3.9.13"
  }
 },
 "nbformat": 4,
 "nbformat_minor": 5
}
