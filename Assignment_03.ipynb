{
  "nbformat": 4,
  "nbformat_minor": 0,
  "metadata": {
    "colab": {
      "provenance": []
    },
    "kernelspec": {
      "name": "python3",
      "display_name": "Python 3"
    },
    "language_info": {
      "name": "python"
    }
  },
  "cells": [
    {
      "cell_type": "markdown",
      "source": [
        "#1. Why are functions advantageous to have in your programs?\n",
        "\n",
        "Ans: **Functions** always can be code reusebility, less code, define one method to solve unlimited trials ,readable , reduces the duplicate of code, easier to update and delete.\n"
      ],
      "metadata": {
        "id": "daUg4rFeNxvU"
      }
    },
    {
      "cell_type": "markdown",
      "source": [
        "# 2.When does the code in a function run: When its speciefied or when its called\n",
        "\n",
        "Ans: The code of the function will be executed or run, When function will be called that moment of action."
      ],
      "metadata": {
        "id": "m5ba3T0VPoLC"
      }
    },
    {
      "cell_type": "code",
      "source": [
        "def test():\n",
        "  pass"
      ],
      "metadata": {
        "id": "SFl-gI17P2v2"
      },
      "execution_count": null,
      "outputs": []
    },
    {
      "cell_type": "markdown",
      "source": [
        "#3.What statement creates a function?\n",
        "Ans: The **def** statement will define the definition of function."
      ],
      "metadata": {
        "id": "HkZApGvcQuDy"
      }
    },
    {
      "cell_type": "code",
      "source": [
        "def test9(a,b):\n",
        "  return a + b"
      ],
      "metadata": {
        "id": "qeoj86mGQ2c0"
      },
      "execution_count": null,
      "outputs": []
    },
    {
      "cell_type": "code",
      "source": [
        "test9(3,6)"
      ],
      "metadata": {
        "colab": {
          "base_uri": "https://localhost:8080/"
        },
        "id": "eiCgijx-RHn3",
        "outputId": "7191792f-16a5-4042-d1f0-effdc84c5993"
      },
      "execution_count": null,
      "outputs": [
        {
          "output_type": "execute_result",
          "data": {
            "text/plain": [
              "9"
            ]
          },
          "metadata": {},
          "execution_count": 2
        }
      ]
    },
    {
      "cell_type": "markdown",
      "source": [
        "#4.What is the difference between a function and a function call?\n",
        "\n",
        "Ans: \n",
        "**Function**\n",
        "```\n",
        "Function is mainly an bulk of code which will executes when it will be called, you can pass the data.\n",
        "Function will be defined by the keyword called **def**\n",
        "\n",
        "```\n",
        "**function call**\n",
        "```\n",
        "function call mainly passes control and arguments to a function definition.\n",
        "mainly controls the function\n",
        "```"
      ],
      "metadata": {
        "id": "w9ITT9xMRPBq"
      }
    },
    {
      "cell_type": "code",
      "source": [
        "def test():\n",
        "  print(\"Hello!!\")"
      ],
      "metadata": {
        "id": "UYLM9wjbRSYe"
      },
      "execution_count": null,
      "outputs": []
    },
    {
      "cell_type": "code",
      "source": [
        "test()"
      ],
      "metadata": {
        "id": "-bupGG-LTouH",
        "outputId": "92f6781b-3f2b-42b1-a1cd-e0f5fbf57ec4",
        "colab": {
          "base_uri": "https://localhost:8080/"
        }
      },
      "execution_count": null,
      "outputs": [
        {
          "output_type": "stream",
          "name": "stdout",
          "text": [
            "Hello!!\n"
          ]
        }
      ]
    },
    {
      "cell_type": "markdown",
      "source": [
        "#5. How many global scopes are there in a Python program? How many local scopes?\n",
        "Ans: There is only one global scope are there in a python program.this scope will be there untill program terminates.\n",
        "```\n",
        "There is mainly four local scopes - LEGB rule\n",
        "1.Local\n",
        "2.Enclosing\n",
        "3.Global\n",
        "4.built-in\n",
        "\n",
        "local scope is mainly created whenever function will be called.\n",
        "```    "
      ],
      "metadata": {
        "id": "mKFUpacoK-Lb"
      }
    },
    {
      "cell_type": "markdown",
      "source": [
        "#6. What happens to variables in a local scope when the function call returns?\n",
        "Ans: When the function call returns, the local scope will be **destroyed** since local variable is recognised inside the function."
      ],
      "metadata": {
        "id": "Za1bYrHVM1BD"
      }
    },
    {
      "cell_type": "markdown",
      "source": [
        "#7. What is the concept of a return value? Is it possible to have a return value in an expression?\n",
        "Ans: The concept of return value is mainly located inside the functions or method. and performs the functions result. The return value having keyword called **return**. return is mainly gives primitive data type as an output.\n",
        "```\n",
        "return value can be used as an expression. where it mainly execution of the function call and returns to result.\n",
        "```"
      ],
      "metadata": {
        "id": "sm3Mk0owSdsJ"
      }
    },
    {
      "cell_type": "code",
      "source": [
        "def test(a,b):\n",
        "  return a + b\n",
        "test(1,2)\n"
      ],
      "metadata": {
        "colab": {
          "base_uri": "https://localhost:8080/"
        },
        "id": "HF6XeVveUp2P",
        "outputId": "a5c7e16a-679d-48ef-db4f-a39368c3ab4c"
      },
      "execution_count": 3,
      "outputs": [
        {
          "output_type": "execute_result",
          "data": {
            "text/plain": [
              "3"
            ]
          },
          "metadata": {},
          "execution_count": 3
        }
      ]
    },
    {
      "cell_type": "code",
      "source": [
        "type(test(1,2))"
      ],
      "metadata": {
        "colab": {
          "base_uri": "https://localhost:8080/"
        },
        "id": "_JHLV0ptU4kH",
        "outputId": "703326ad-d271-4f9a-c3e9-83dcbe2163b9"
      },
      "execution_count": 4,
      "outputs": [
        {
          "output_type": "execute_result",
          "data": {
            "text/plain": [
              "int"
            ]
          },
          "metadata": {},
          "execution_count": 4
        }
      ]
    },
    {
      "cell_type": "markdown",
      "source": [
        "#8. If a function does not have a return statement, what is the return value of a call to that function?\n",
        "Ans: If there is no return statement to perform means its return value of a call to that function is **None**"
      ],
      "metadata": {
        "id": "Ss2pfeZPUWtA"
      }
    },
    {
      "cell_type": "code",
      "source": [
        "def test():\n",
        "  print(45)"
      ],
      "metadata": {
        "id": "NwI6F4NRVQCf"
      },
      "execution_count": 5,
      "outputs": []
    },
    {
      "cell_type": "code",
      "source": [
        "test()"
      ],
      "metadata": {
        "colab": {
          "base_uri": "https://localhost:8080/"
        },
        "id": "y-hD6qhZUg85",
        "outputId": "ed5a572f-07f4-4d2a-99ee-a847c63256f5"
      },
      "execution_count": 6,
      "outputs": [
        {
          "output_type": "stream",
          "name": "stdout",
          "text": [
            "45\n"
          ]
        }
      ]
    },
    {
      "cell_type": "code",
      "source": [
        "type(test())"
      ],
      "metadata": {
        "colab": {
          "base_uri": "https://localhost:8080/"
        },
        "id": "8RYpGc2IVUnJ",
        "outputId": "504b9540-59bb-46b9-8214-11a7d0c50bb5"
      },
      "execution_count": 7,
      "outputs": [
        {
          "output_type": "stream",
          "name": "stdout",
          "text": [
            "45\n"
          ]
        },
        {
          "output_type": "execute_result",
          "data": {
            "text/plain": [
              "NoneType"
            ]
          },
          "metadata": {},
          "execution_count": 7
        }
      ]
    },
    {
      "cell_type": "markdown",
      "source": [
        "#9. How do you make a function variable refer to the global variable?\n",
        "Ans: Always variable created inside the function, that variable commonly as local variable and only using inside the function. But once to create global variable inside a function means you need to create **global** keyword"
      ],
      "metadata": {
        "id": "tF9NcXlYVZKx"
      }
    },
    {
      "cell_type": "markdown",
      "source": [
        "#10. What is the data type of None?\n",
        "Ans:data type of None is NoneType"
      ],
      "metadata": {
        "id": "extpx--2Wino"
      }
    },
    {
      "cell_type": "markdown",
      "source": [
        "#11. What does the sentence import areallyourpetsnamederic do?\n",
        "Ans: It is not an real python module. or an library"
      ],
      "metadata": {
        "id": "q_q-cIMiW8P2"
      }
    },
    {
      "cell_type": "markdown",
      "source": [
        "#12. If you had a bacon() feature in a spam module, what would you call it after importing spam?\n",
        "Ans: this is function **spam.bacon()**"
      ],
      "metadata": {
        "id": "rz1nxL_OXodO"
      }
    },
    {
      "cell_type": "markdown",
      "source": [
        "#13. What can you do to save a programme from crashing if it encounters an error?\n",
        "Ans: skipping the code inbetween, Try and running the program and place the line of code which will cause an error in a try clause."
      ],
      "metadata": {
        "id": "8g2R94V-X84j"
      }
    },
    {
      "cell_type": "markdown",
      "source": [
        "#14. What is the purpose of the try clause? What is the purpose of the except clause?\n",
        "Ans:\n",
        "```\n",
        "1.try clause is mainly allow to test a block of code for errors.\n",
        "2.except clause is mainly handle the type of errors which are facing in an program.\n",
        "```\n"
      ],
      "metadata": {
        "id": "u-IFE7V7Y_o-"
      }
    }
  ]
}