{
  "nbformat": 4,
  "nbformat_minor": 0,
  "metadata": {
    "colab": {
      "provenance": []
    },
    "kernelspec": {
      "name": "python3",
      "display_name": "Python 3"
    },
    "language_info": {
      "name": "python"
    }
  },
  "cells": [
    {
      "cell_type": "markdown",
      "source": [
        "If else statement"
      ],
      "metadata": {
        "id": "nlux-GKAZ1QV"
      }
    },
    {
      "cell_type": "code",
      "source": [
        "a = 10"
      ],
      "metadata": {
        "id": "GzFtAxnGaQwE"
      },
      "execution_count": null,
      "outputs": []
    },
    {
      "cell_type": "code",
      "source": [
        "if a < 15"
      ],
      "metadata": {
        "id": "mFrEySjWcAIS"
      },
      "execution_count": null,
      "outputs": []
    },
    {
      "cell_type": "code",
      "source": [
        "a < 15"
      ],
      "metadata": {
        "colab": {
          "base_uri": "https://localhost:8080/"
        },
        "id": "yH41us6rcBd0",
        "outputId": "05305940-3fdf-4fab-a240-30fb80b6f7ff"
      },
      "execution_count": null,
      "outputs": [
        {
          "output_type": "execute_result",
          "data": {
            "text/plain": [
              "True"
            ]
          },
          "metadata": {},
          "execution_count": 13
        }
      ]
    },
    {
      "cell_type": "code",
      "source": [
        "10 < 15"
      ],
      "metadata": {
        "colab": {
          "base_uri": "https://localhost:8080/"
        },
        "id": "HECOc4-uadbs",
        "outputId": "e00c3ba2-b87d-49f1-d3db-494bf3c5d03f"
      },
      "execution_count": null,
      "outputs": [
        {
          "output_type": "execute_result",
          "data": {
            "text/plain": [
              "True"
            ]
          },
          "metadata": {},
          "execution_count": 8
        }
      ]
    },
    {
      "cell_type": "code",
      "source": [
        "if a < 15:\n",
        "  print(\"a is True\")"
      ],
      "metadata": {
        "colab": {
          "base_uri": "https://localhost:8080/"
        },
        "id": "gYYR9ezka7r-",
        "outputId": "c624090b-9070-4e38-f6df-1fc2f6c50e11"
      },
      "execution_count": null,
      "outputs": [
        {
          "output_type": "stream",
          "name": "stdout",
          "text": [
            "a is True\n"
          ]
        }
      ]
    },
    {
      "cell_type": "code",
      "source": [
        "if a < 15:\n",
        "  pass"
      ],
      "metadata": {
        "id": "1U8E9prccria"
      },
      "execution_count": null,
      "outputs": []
    },
    {
      "cell_type": "code",
      "source": [
        "if 24 < 15:\n",
        "  print(\"True\")\n",
        "else:\n",
        "  print(\"False\")"
      ],
      "metadata": {
        "colab": {
          "base_uri": "https://localhost:8080/"
        },
        "id": "J8rUeGD0eMvT",
        "outputId": "faf72a1c-334c-4e93-bf2b-50664eac46e4"
      },
      "execution_count": null,
      "outputs": [
        {
          "output_type": "stream",
          "name": "stdout",
          "text": [
            "False\n"
          ]
        }
      ]
    },
    {
      "cell_type": "markdown",
      "source": [
        "if elif else"
      ],
      "metadata": {
        "id": "kwty5uGfzDKg"
      }
    },
    {
      "cell_type": "code",
      "source": [
        "income = int(input())\n",
        "\n",
        "if income< 90:\n",
        "  print(\"I can buy a car\")\n",
        "elif income< 50:\n",
        "  print(\"I can buy a bike\")\n",
        "elif income < 20:\n",
        "  print(\"I can buy a cycle\")\n",
        "else:\n",
        "  print(\"I cannot able to buy\")"
      ],
      "metadata": {
        "colab": {
          "base_uri": "https://localhost:8080/"
        },
        "id": "Rr-jl1dczE2z",
        "outputId": "3a63a26e-bc30-4312-9c36-660f3dfce411"
      },
      "execution_count": null,
      "outputs": [
        {
          "output_type": "stream",
          "name": "stdout",
          "text": [
            "70\n",
            "I can buy a car\n"
          ]
        }
      ]
    },
    {
      "cell_type": "code",
      "source": [
        "total = int(input())\n",
        "\n",
        "if total < 2000:\n",
        "  discount = total*80/100\n",
        "  print(f\"the discount of clothes: {discount}\")\n",
        "elif  total <= 10000:\n",
        "  discount = total*70/100\n",
        "  print(f\"the discount of bike: {discount}\")\n",
        "else:\n",
        "  print(\"dont have to buy\")"
      ],
      "metadata": {
        "colab": {
          "base_uri": "https://localhost:8080/"
        },
        "id": "7Fzs1Qjw0BsW",
        "outputId": "fd1d7c15-9a38-48b3-9a52-04c515f4e82f"
      },
      "execution_count": null,
      "outputs": [
        {
          "output_type": "stream",
          "name": "stdout",
          "text": [
            "10000\n",
            "the discount of bike: 7000.0\n"
          ]
        }
      ]
    },
    {
      "cell_type": "code",
      "source": [
        "\"sanju\" == \"sanju\""
      ],
      "metadata": {
        "colab": {
          "base_uri": "https://localhost:8080/"
        },
        "id": "pxS-TbCH2LwQ",
        "outputId": "0df05c1e-b82f-443c-97ec-ebbe2ba8464b"
      },
      "execution_count": null,
      "outputs": [
        {
          "output_type": "execute_result",
          "data": {
            "text/plain": [
              "True"
            ]
          },
          "metadata": {},
          "execution_count": 44
        }
      ]
    },
    {
      "cell_type": "code",
      "source": [
        "coup = input()\n",
        "\n",
        "if coup:\"SANJU05\":\n",
        "   print(\"the 5% of ineuron reduced\")\n",
        "   discount = 5000-5000*80/100\n",
        "   print(f\"the total amount of ineuron is: {}\")\n"
      ],
      "metadata": {
        "id": "nRIieZbX36xQ",
        "colab": {
          "base_uri": "https://localhost:8080/",
          "height": 131
        },
        "outputId": "e0051dd9-2098-4780-ef74-7f6960219f46"
      },
      "execution_count": null,
      "outputs": [
        {
          "output_type": "error",
          "ename": "SyntaxError",
          "evalue": "ignored",
          "traceback": [
            "\u001b[0;36m  File \u001b[0;32m\"<ipython-input-45-2b1e1ce4970b>\"\u001b[0;36m, line \u001b[0;32m3\u001b[0m\n\u001b[0;31m    if coup:SANJU05 :\u001b[0m\n\u001b[0m                     ^\u001b[0m\n\u001b[0;31mSyntaxError\u001b[0m\u001b[0;31m:\u001b[0m invalid syntax\n"
          ]
        }
      ]
    },
    {
      "cell_type": "code",
      "source": [
        "coup = input()\n",
        "\n",
        "if coup==\"SANJU05\":\n",
        "   print(\"the 8% of ineuron reduced\")\n",
        "   discount = 5000-5000*80/100\n",
        "   print(f\"the total amount of ineuron is: {discount}\")\n",
        "else:\n",
        "   print(\"invalid\")\n",
        "\n",
        "\n"
      ],
      "metadata": {
        "colab": {
          "base_uri": "https://localhost:8080/"
        },
        "outputId": "4d6877c5-854e-412e-f285-9dbc36bf2818",
        "id": "9sQJheSDDLgc"
      },
      "execution_count": null,
      "outputs": [
        {
          "output_type": "stream",
          "name": "stdout",
          "text": [
            "VINU07\n",
            "invalid\n"
          ]
        }
      ]
    },
    {
      "cell_type": "code",
      "source": [
        "course = float(input())\n",
        "\n",
        "if course < 4:\n",
        "  print(\"I can finish with 7 months \")\n",
        "elif course >= 4 and course < 8:\n",
        "  print(\"I can finish within 4 mobnths\")\n",
        "elif course <1:\n",
        "  print(\"I will finish within 9 months\")\n",
        "else:\n",
        "  print(\"It will dificult\")"
      ],
      "metadata": {
        "colab": {
          "base_uri": "https://localhost:8080/"
        },
        "id": "AsoLzcAfDBVJ",
        "outputId": "86248728-e130-4483-e542-ff80a89433d5"
      },
      "execution_count": null,
      "outputs": [
        {
          "output_type": "stream",
          "name": "stdout",
          "text": [
            "0.1\n",
            "I can finish with 7 months \n"
          ]
        }
      ]
    },
    {
      "cell_type": "code",
      "source": [
        "a = input(\"enter the institute\")\n",
        "course = input(\"enter the course\")\n",
        "service = input(\"enter the service\")\n",
        "\n",
        "if a == \"oneneuron\":\n",
        "   if course == \"DataScience\":\n",
        "      print(\"Data Science is available\")\n",
        "   elif course == \"DSA\":\n",
        "      print(\"DSA is available\")\n",
        "   elif course == \"Blockchain\":\n",
        "      print(\"Blockchain is available\")\n",
        "   else:\n",
        "      print(\"No corse is availbale as you except\")\n",
        "elif a == \"TCS\":\n",
        "   if service == \"tcsion\":\n",
        "     print(\"tcsion is under request\")\n",
        "   elif service == \"ytu\":\n",
        "     print(\"DSAcian is not available\")\n",
        "   else:\n",
        "     print(\"the service under request\")\n",
        "else:\n",
        "  print(\"BOth course and service are not available\")"
      ],
      "metadata": {
        "colab": {
          "base_uri": "https://localhost:8080/"
        },
        "id": "h3gFT-nFJKKv",
        "outputId": "46a27f96-6d62-4bac-81de-5efbd02b3d36"
      },
      "execution_count": 65,
      "outputs": [
        {
          "output_type": "stream",
          "name": "stdout",
          "text": [
            "enter the instituteTCS\n",
            "enter the courseBlockchain\n",
            "enter the servicetcsion\n",
            "tcsion is under request\n"
          ]
        }
      ]
    },
    {
      "cell_type": "markdown",
      "source": [
        "# for loop"
      ],
      "metadata": {
        "id": "qcgHcPj6T9xF"
      }
    },
    {
      "cell_type": "code",
      "source": [
        "l = [1,2,3,4,5,6]"
      ],
      "metadata": {
        "id": "DlQ4BheCT_la"
      },
      "execution_count": 66,
      "outputs": []
    },
    {
      "cell_type": "code",
      "source": [
        "for i in l :\n",
        "  print(i)"
      ],
      "metadata": {
        "colab": {
          "base_uri": "https://localhost:8080/"
        },
        "id": "D7-CHzknUB8G",
        "outputId": "f23ffacb-c0b6-48e8-a283-a7ab6511dc2b"
      },
      "execution_count": 67,
      "outputs": [
        {
          "output_type": "stream",
          "name": "stdout",
          "text": [
            "1\n",
            "2\n",
            "3\n",
            "4\n",
            "5\n",
            "6\n"
          ]
        }
      ]
    },
    {
      "cell_type": "code",
      "source": [
        "l= [33,44,556,67,88]\n",
        "for a in l:\n",
        "  print(a)"
      ],
      "metadata": {
        "colab": {
          "base_uri": "https://localhost:8080/"
        },
        "id": "qLFoQcGpUIct",
        "outputId": "36c6c7f2-8054-4beb-e8b4-77afd0465b56"
      },
      "execution_count": 69,
      "outputs": [
        {
          "output_type": "stream",
          "name": "stdout",
          "text": [
            "33\n",
            "44\n",
            "556\n",
            "67\n",
            "88\n"
          ]
        }
      ]
    },
    {
      "cell_type": "code",
      "source": [
        "\n",
        "for i in \"sanju\":\n",
        "  print(i)"
      ],
      "metadata": {
        "colab": {
          "base_uri": "https://localhost:8080/"
        },
        "id": "SsBVexAOUYU2",
        "outputId": "a8a0d4d6-719b-4c25-f9d6-9ece9ef601ab"
      },
      "execution_count": 72,
      "outputs": [
        {
          "output_type": "stream",
          "name": "stdout",
          "text": [
            "s\n",
            "a\n",
            "n\n",
            "j\n",
            "u\n"
          ]
        }
      ]
    },
    {
      "cell_type": "code",
      "source": [
        "a = \"sanjooo\"  #string\n",
        "for i in a:\n",
        "  print(i)"
      ],
      "metadata": {
        "colab": {
          "base_uri": "https://localhost:8080/"
        },
        "id": "cqyyM-mSWJ4E",
        "outputId": "a9c6a547-c275-40ea-e1b9-de7135cd83ce"
      },
      "execution_count": 73,
      "outputs": [
        {
          "output_type": "stream",
          "name": "stdout",
          "text": [
            "s\n",
            "a\n",
            "n\n",
            "j\n",
            "o\n",
            "o\n",
            "o\n"
          ]
        }
      ]
    },
    {
      "cell_type": "code",
      "source": [
        "t = (3,4,5,6,7,89)  # tuple\n",
        "for i in t:\n",
        "  print(i)"
      ],
      "metadata": {
        "colab": {
          "base_uri": "https://localhost:8080/"
        },
        "id": "zgf2je8gWV59",
        "outputId": "64542fbf-b997-41ce-be50-ccf16e6641ff"
      },
      "execution_count": 74,
      "outputs": [
        {
          "output_type": "stream",
          "name": "stdout",
          "text": [
            "3\n",
            "4\n",
            "5\n",
            "6\n",
            "7\n",
            "89\n"
          ]
        }
      ]
    },
    {
      "cell_type": "code",
      "source": [
        "s = {4,5,6,7,89,5,6}  # sets\n",
        "for i in s:\n",
        "  print(i)"
      ],
      "metadata": {
        "colab": {
          "base_uri": "https://localhost:8080/"
        },
        "id": "i75nOGk7cJQp",
        "outputId": "0b15bd4f-c9f6-4251-e97a-4b121f901744"
      },
      "execution_count": 75,
      "outputs": [
        {
          "output_type": "stream",
          "name": "stdout",
          "text": [
            "4\n",
            "5\n",
            "6\n",
            "7\n",
            "89\n"
          ]
        }
      ]
    },
    {
      "cell_type": "code",
      "source": [
        "a = [\"sanju\", True, 90, 90.55, 'sanjoo',0]\n",
        "for i in a:\n",
        "  print(type(i), \"type of\" ,i)"
      ],
      "metadata": {
        "colab": {
          "base_uri": "https://localhost:8080/"
        },
        "id": "OI9PEatKcPrM",
        "outputId": "d10d5862-7dbe-4868-c355-24fb706580c5"
      },
      "execution_count": 81,
      "outputs": [
        {
          "output_type": "stream",
          "name": "stdout",
          "text": [
            "<class 'str'> type of sanju\n",
            "<class 'bool'> type of True\n",
            "<class 'int'> type of 90\n",
            "<class 'float'> type of 90.55\n",
            "<class 'str'> type of sanjoo\n",
            "<class 'int'> type of 0\n"
          ]
        }
      ]
    },
    {
      "cell_type": "code",
      "source": [
        "a"
      ],
      "metadata": {
        "colab": {
          "base_uri": "https://localhost:8080/"
        },
        "id": "cWcCmgHBc_0R",
        "outputId": "c52b79b1-1bba-40ef-cede-c653dc69aa53"
      },
      "execution_count": 82,
      "outputs": [
        {
          "output_type": "execute_result",
          "data": {
            "text/plain": [
              "['sanju', True, 90, 90.55, 'sanjoo', 0]"
            ]
          },
          "metadata": {},
          "execution_count": 82
        }
      ]
    },
    {
      "cell_type": "code",
      "source": [
        "a = [34,5,6,4,3,4,3,4]\n",
        "for i in a:\n",
        "  print(i+90)"
      ],
      "metadata": {
        "colab": {
          "base_uri": "https://localhost:8080/"
        },
        "id": "zLTLh05HdzAv",
        "outputId": "f6632ec0-95a5-42b7-cb17-71b5cf3e297a"
      },
      "execution_count": 86,
      "outputs": [
        {
          "output_type": "stream",
          "name": "stdout",
          "text": [
            "124\n",
            "95\n",
            "96\n",
            "94\n",
            "93\n",
            "94\n",
            "93\n",
            "94\n"
          ]
        }
      ]
    },
    {
      "cell_type": "code",
      "source": [
        "l = [3,4,5,6,4,4,5]   # to for list in horizontal\n",
        "l1 = []\n",
        "for i in l:\n",
        "  print(i+1)\n",
        "  l1.append(i+1)"
      ],
      "metadata": {
        "colab": {
          "base_uri": "https://localhost:8080/"
        },
        "id": "KnjR6OYBeH02",
        "outputId": "23f1aeb3-7032-434a-a618-1b93fb8ac94e"
      },
      "execution_count": 88,
      "outputs": [
        {
          "output_type": "stream",
          "name": "stdout",
          "text": [
            "4\n",
            "5\n",
            "6\n",
            "7\n",
            "5\n",
            "5\n",
            "6\n"
          ]
        }
      ]
    },
    {
      "cell_type": "code",
      "source": [
        "l1"
      ],
      "metadata": {
        "colab": {
          "base_uri": "https://localhost:8080/"
        },
        "id": "JNPSX_k5gEqk",
        "outputId": "8e4c122e-94cd-4339-8850-a56cd3d7a207"
      },
      "execution_count": 89,
      "outputs": [
        {
          "output_type": "execute_result",
          "data": {
            "text/plain": [
              "[4, 5, 6, 7, 5, 5, 6]"
            ]
          },
          "metadata": {},
          "execution_count": 89
        }
      ]
    },
    {
      "cell_type": "code",
      "source": [
        "l = [23,4,5,5,6,77,56,\"sanju\", 4+5j,[23,45,65]]   # filter only int\n",
        "for i in l:\n",
        "  if type(i) == int:\n",
        "    print(i)\n",
        "l1 = []\n",
        "l1.append(i)"
      ],
      "metadata": {
        "colab": {
          "base_uri": "https://localhost:8080/"
        },
        "id": "JmMF22fJgK7o",
        "outputId": "86bbe4d7-9667-4620-bbe7-c5165d22c15b"
      },
      "execution_count": 98,
      "outputs": [
        {
          "output_type": "stream",
          "name": "stdout",
          "text": [
            "23\n",
            "4\n",
            "5\n",
            "5\n",
            "6\n",
            "77\n",
            "56\n"
          ]
        }
      ]
    },
    {
      "cell_type": "code",
      "source": [
        "l1"
      ],
      "metadata": {
        "colab": {
          "base_uri": "https://localhost:8080/"
        },
        "id": "4PTCxDY9hkMs",
        "outputId": "c348cdbf-3ce0-4c8c-8fca-0a574297a84d"
      },
      "execution_count": 99,
      "outputs": [
        {
          "output_type": "execute_result",
          "data": {
            "text/plain": [
              "[[23, 45, 65]]"
            ]
          },
          "metadata": {},
          "execution_count": 99
        }
      ]
    },
    {
      "cell_type": "code",
      "source": [
        "l = [23,4,5,5,6,77,56,\"sanju\", 4+5j,[23,45,65]]\n",
        "for i in l:\n",
        "  if type(i) == int:\n",
        "    print(i)\n",
        "  elif type(i) == list:\n",
        "    for j in i:\n",
        "      print(j)"
      ],
      "metadata": {
        "colab": {
          "base_uri": "https://localhost:8080/"
        },
        "id": "oOPA4OaViRSF",
        "outputId": "f38490ea-e8c2-48f6-9da9-322d6eff1ff7"
      },
      "execution_count": 103,
      "outputs": [
        {
          "output_type": "stream",
          "name": "stdout",
          "text": [
            "23\n",
            "4\n",
            "5\n",
            "5\n",
            "6\n",
            "77\n",
            "56\n",
            "23\n",
            "45\n",
            "65\n"
          ]
        }
      ]
    },
    {
      "cell_type": "code",
      "source": [
        "from ast import Index\n",
        "a = [77,5,6,4,6,435,\"string\",[34,56,757,67,5]]\n",
        "len(a)\n",
        "for i in range(len(a)):\n",
        "  print(\"index\",i, \"for values\", l[i])"
      ],
      "metadata": {
        "colab": {
          "base_uri": "https://localhost:8080/"
        },
        "id": "Ip6DoDcmjnNj",
        "outputId": "ac4236e0-6df2-41e2-9be7-afd0ded4a434"
      },
      "execution_count": 122,
      "outputs": [
        {
          "output_type": "stream",
          "name": "stdout",
          "text": [
            "index 0 for values 23\n",
            "index 1 for values 4\n",
            "index 2 for values 5\n",
            "index 3 for values 5\n",
            "index 4 for values 6\n",
            "index 5 for values 77\n",
            "index 6 for values 56\n",
            "index 7 for values sanju\n"
          ]
        }
      ]
    },
    {
      "cell_type": "code",
      "source": [
        "range(5)"
      ],
      "metadata": {
        "colab": {
          "base_uri": "https://localhost:8080/"
        },
        "id": "G1Pw8PC6vtMW",
        "outputId": "f8ff6401-edb4-44dd-c290-7eef4989dc4d"
      },
      "execution_count": 117,
      "outputs": [
        {
          "output_type": "execute_result",
          "data": {
            "text/plain": [
              "range(0, 5)"
            ]
          },
          "metadata": {},
          "execution_count": 117
        }
      ]
    },
    {
      "cell_type": "code",
      "source": [
        "range(55)"
      ],
      "metadata": {
        "colab": {
          "base_uri": "https://localhost:8080/"
        },
        "id": "ctJIzXo5yCtT",
        "outputId": "23dc9bba-b7f1-4ad0-be15-b3ca80c76535"
      },
      "execution_count": 118,
      "outputs": [
        {
          "output_type": "execute_result",
          "data": {
            "text/plain": [
              "range(0, 55)"
            ]
          },
          "metadata": {},
          "execution_count": 118
        }
      ]
    },
    {
      "cell_type": "markdown",
      "source": [
        "# indexes in for loop"
      ],
      "metadata": {
        "id": "zCeLv3zzzm6U"
      }
    },
    {
      "cell_type": "code",
      "source": [
        "a = [34,56,7,56,90,\"sanju\",True, [7,67,78,56]]\n",
        "len(a)\n",
        "for i in range(len(a)):\n",
        "   print(\"index\",i, \"for values\" ,l[i])"
      ],
      "metadata": {
        "colab": {
          "base_uri": "https://localhost:8080/"
        },
        "id": "ZE5pvFunzqGM",
        "outputId": "403e1bd7-5f98-4bee-d874-d59c606e3ed4"
      },
      "execution_count": 126,
      "outputs": [
        {
          "output_type": "stream",
          "name": "stdout",
          "text": [
            "index 0 for values 23\n",
            "index 1 for values 4\n",
            "index 2 for values 5\n",
            "index 3 for values 5\n",
            "index 4 for values 6\n",
            "index 5 for values 77\n",
            "index 6 for values 56\n",
            "index 7 for values sanju\n"
          ]
        }
      ]
    },
    {
      "cell_type": "code",
      "source": [
        "for i,j in enumerate(a):   # enumerate is built in for index in for loop\n",
        " print(i,j)"
      ],
      "metadata": {
        "colab": {
          "base_uri": "https://localhost:8080/"
        },
        "id": "ljS7QFKLzyLk",
        "outputId": "3dd17641-52ee-4753-acc4-d783628bdcc4"
      },
      "execution_count": 128,
      "outputs": [
        {
          "output_type": "stream",
          "name": "stdout",
          "text": [
            "0 34\n",
            "1 56\n",
            "2 7\n",
            "3 56\n",
            "4 90\n",
            "5 sanju\n",
            "6 True\n",
            "7 [7, 67, 78, 56]\n"
          ]
        }
      ]
    },
    {
      "cell_type": "code",
      "source": [
        "a"
      ],
      "metadata": {
        "colab": {
          "base_uri": "https://localhost:8080/"
        },
        "id": "oUrrNr_k0U0E",
        "outputId": "beb6f58a-9cfc-4a9d-dba0-82458ec5de31"
      },
      "execution_count": 129,
      "outputs": [
        {
          "output_type": "execute_result",
          "data": {
            "text/plain": [
              "[34, 56, 7, 56, 90, 'sanju', True, [7, 67, 78, 56]]"
            ]
          },
          "metadata": {},
          "execution_count": 129
        }
      ]
    },
    {
      "cell_type": "code",
      "source": [
        "a[5]"
      ],
      "metadata": {
        "colab": {
          "base_uri": "https://localhost:8080/",
          "height": 35
        },
        "id": "qu6Kmhmj0kG2",
        "outputId": "86bf52aa-3411-4e3e-d454-6b36c45f7853"
      },
      "execution_count": 130,
      "outputs": [
        {
          "output_type": "execute_result",
          "data": {
            "text/plain": [
              "'sanju'"
            ],
            "application/vnd.google.colaboratory.intrinsic+json": {
              "type": "string"
            }
          },
          "metadata": {},
          "execution_count": 130
        }
      ]
    },
    {
      "cell_type": "code",
      "source": [
        "type(a[5])"
      ],
      "metadata": {
        "colab": {
          "base_uri": "https://localhost:8080/"
        },
        "id": "NP87UihA0m8_",
        "outputId": "86c96921-5e6f-49bb-d301-265c5d675414"
      },
      "execution_count": 131,
      "outputs": [
        {
          "output_type": "execute_result",
          "data": {
            "text/plain": [
              "str"
            ]
          },
          "metadata": {},
          "execution_count": 131
        }
      ]
    },
    {
      "cell_type": "code",
      "source": [
        "a"
      ],
      "metadata": {
        "colab": {
          "base_uri": "https://localhost:8080/"
        },
        "id": "5OkZrURs0pok",
        "outputId": "ae0566f9-ee01-47fb-9968-d51f9a7c7065"
      },
      "execution_count": 132,
      "outputs": [
        {
          "output_type": "execute_result",
          "data": {
            "text/plain": [
              "[34, 56, 7, 56, 90, 'sanju', True, [7, 67, 78, 56]]"
            ]
          },
          "metadata": {},
          "execution_count": 132
        }
      ]
    },
    {
      "cell_type": "code",
      "source": [
        "for i in a:\n",
        "  if type(i) == str:\n",
        "    print(\"its a string\")"
      ],
      "metadata": {
        "colab": {
          "base_uri": "https://localhost:8080/"
        },
        "id": "sEdPqnmb0xoi",
        "outputId": "9487ff2e-6929-477a-c60c-20825e81830f"
      },
      "execution_count": 134,
      "outputs": [
        {
          "output_type": "stream",
          "name": "stdout",
          "text": [
            "its a string\n"
          ]
        }
      ]
    },
    {
      "cell_type": "code",
      "source": [
        "a\n"
      ],
      "metadata": {
        "colab": {
          "base_uri": "https://localhost:8080/"
        },
        "id": "5djhYNn90_yT",
        "outputId": "2d1d2aab-b67d-4de7-be39-582c72fa5988"
      },
      "execution_count": 135,
      "outputs": [
        {
          "output_type": "execute_result",
          "data": {
            "text/plain": [
              "[34, 56, 7, 56, 90, 'sanju', True, [7, 67, 78, 56]]"
            ]
          },
          "metadata": {},
          "execution_count": 135
        }
      ]
    },
    {
      "cell_type": "code",
      "source": [
        "for i in a:   # list of characters in an string\n",
        "  if type(i) == str:\n",
        "    l1 = []\n",
        "    for j in i:\n",
        "      l1.append(j)\n",
        "      print(j)"
      ],
      "metadata": {
        "colab": {
          "base_uri": "https://localhost:8080/"
        },
        "id": "ugPoFdIr1eex",
        "outputId": "56dc0d1e-5a8a-407c-fc93-f8973f0865e2"
      },
      "execution_count": 137,
      "outputs": [
        {
          "output_type": "stream",
          "name": "stdout",
          "text": [
            "s\n",
            "a\n",
            "n\n",
            "j\n",
            "u\n"
          ]
        }
      ]
    },
    {
      "cell_type": "code",
      "source": [
        "a = [45,6,5,3,5,3,5,5,\"sanjuu\",[67,4,5,5,45]]   # index # string character  #len #seperate int\n",
        "# len\n",
        "len(a)\n",
        "# index\n",
        "for i in range(len(a)):\n",
        "  print(\"index\",i,\"for elements\",l[i])"
      ],
      "metadata": {
        "colab": {
          "base_uri": "https://localhost:8080/"
        },
        "id": "dyWFuKP71wE3",
        "outputId": "08d80e3f-0261-447a-d588-c904a0cdd11a"
      },
      "execution_count": 142,
      "outputs": [
        {
          "output_type": "stream",
          "name": "stdout",
          "text": [
            "index 0 for elements 23\n",
            "index 1 for elements 4\n",
            "index 2 for elements 5\n",
            "index 3 for elements 5\n",
            "index 4 for elements 6\n",
            "index 5 for elements 77\n",
            "index 6 for elements 56\n",
            "index 7 for elements sanju\n",
            "index 8 for elements (4+5j)\n",
            "index 9 for elements [23, 45, 65]\n"
          ]
        }
      ]
    },
    {
      "cell_type": "code",
      "source": [
        "for i in a:   # list of characters in an string\n",
        "  if type(i) == str:\n",
        "    for j in i:\n",
        "      l1 = []\n",
        "      l1.append(j)\n",
        "      print(l1)"
      ],
      "metadata": {
        "colab": {
          "base_uri": "https://localhost:8080/"
        },
        "id": "LlGT44wU201-",
        "outputId": "02f99cbe-ca43-4f09-a57a-4ce12fb75d79"
      },
      "execution_count": 210,
      "outputs": [
        {
          "output_type": "stream",
          "name": "stdout",
          "text": [
            "['s']\n",
            "['a']\n",
            "['n']\n",
            "['j']\n",
            "['u']\n",
            "['u']\n"
          ]
        }
      ]
    },
    {
      "cell_type": "code",
      "source": [
        "a"
      ],
      "metadata": {
        "colab": {
          "base_uri": "https://localhost:8080/"
        },
        "id": "tNtr61-i3l8-",
        "outputId": "693a1b61-28c4-407e-f96f-1d932419361b"
      },
      "execution_count": 153,
      "outputs": [
        {
          "output_type": "execute_result",
          "data": {
            "text/plain": [
              "[45, 6, 5, 3, 5, 3, 5, 5, 'sanjuu', [67, 4, 5, 5, 45]]"
            ]
          },
          "metadata": {},
          "execution_count": 153
        }
      ]
    },
    {
      "cell_type": "code",
      "source": [
        "l1 = []\n",
        "for i in a:\n",
        "  if type(i) == int:\n",
        "    l1.append(i+5)"
      ],
      "metadata": {
        "id": "Z42Phrmz5Ils"
      },
      "execution_count": 157,
      "outputs": []
    },
    {
      "cell_type": "code",
      "source": [
        "l1"
      ],
      "metadata": {
        "colab": {
          "base_uri": "https://localhost:8080/"
        },
        "id": "4NPSqtlm5ZVZ",
        "outputId": "cfeeabd3-432c-4e64-9e29-bf384d9d01ba"
      },
      "execution_count": 155,
      "outputs": [
        {
          "output_type": "execute_result",
          "data": {
            "text/plain": [
              "[2025, 36, 25, 9, 25, 9, 25, 25]"
            ]
          },
          "metadata": {},
          "execution_count": 155
        }
      ]
    },
    {
      "cell_type": "markdown",
      "source": [
        "# for loop practice"
      ],
      "metadata": {
        "id": "GkkCSL8v8nxH"
      }
    },
    {
      "cell_type": "code",
      "source": [
        "a = [4,45,45,3,2,3,5,7,4,3,\"sanjuu\",True,(45,56,4535,4749,56),[56,767,759,53,658]]  # type of datatypes\n",
        "for i in a:\n",
        "  print(type(i), \"set of elements\",i) "
      ],
      "metadata": {
        "colab": {
          "base_uri": "https://localhost:8080/"
        },
        "id": "E4iZtp5m8qXS",
        "outputId": "8d46276c-c9fa-45c7-99c0-8cc600e89807"
      },
      "execution_count": 182,
      "outputs": [
        {
          "output_type": "stream",
          "name": "stdout",
          "text": [
            "<class 'int'> set of elements 4\n",
            "<class 'int'> set of elements 45\n",
            "<class 'int'> set of elements 45\n",
            "<class 'int'> set of elements 3\n",
            "<class 'int'> set of elements 2\n",
            "<class 'int'> set of elements 3\n",
            "<class 'int'> set of elements 5\n",
            "<class 'int'> set of elements 7\n",
            "<class 'int'> set of elements 4\n",
            "<class 'int'> set of elements 3\n",
            "<class 'str'> set of elements sanjuu\n",
            "<class 'bool'> set of elements True\n",
            "<class 'tuple'> set of elements (45, 56, 4535, 4749, 56)\n",
            "<class 'list'> set of elements [56, 767, 759, 53, 658]\n"
          ]
        }
      ]
    },
    {
      "cell_type": "code",
      "source": [
        "for i in range(len(a)):    # index of a\n",
        "  print(\"index\",i, \"set of elements\",a[i])"
      ],
      "metadata": {
        "colab": {
          "base_uri": "https://localhost:8080/"
        },
        "id": "_IzqqEpH9B-I",
        "outputId": "ff2a8f32-ef08-42ad-81de-ae3226c81d12"
      },
      "execution_count": 183,
      "outputs": [
        {
          "output_type": "stream",
          "name": "stdout",
          "text": [
            "index 0 set of elements 4\n",
            "index 1 set of elements 45\n",
            "index 2 set of elements 45\n",
            "index 3 set of elements 3\n",
            "index 4 set of elements 2\n",
            "index 5 set of elements 3\n",
            "index 6 set of elements 5\n",
            "index 7 set of elements 7\n",
            "index 8 set of elements 4\n",
            "index 9 set of elements 3\n",
            "index 10 set of elements sanjuu\n",
            "index 11 set of elements True\n",
            "index 12 set of elements (45, 56, 4535, 4749, 56)\n",
            "index 13 set of elements [56, 767, 759, 53, 658]\n"
          ]
        }
      ]
    },
    {
      "cell_type": "code",
      "source": [
        "for i,j in enumerate(a): # enumerate of a\n",
        "  print(i,j)"
      ],
      "metadata": {
        "colab": {
          "base_uri": "https://localhost:8080/"
        },
        "id": "0DkG4Zku9Zhl",
        "outputId": "8a3245c3-425a-4b86-bc2c-fb925b14a357"
      },
      "execution_count": 186,
      "outputs": [
        {
          "output_type": "stream",
          "name": "stdout",
          "text": [
            "0 4\n",
            "1 45\n",
            "2 45\n",
            "3 3\n",
            "4 2\n",
            "5 3\n",
            "6 5\n",
            "7 7\n",
            "8 4\n",
            "9 3\n",
            "10 sanjuu\n",
            "11 True\n",
            "12 (45, 56, 4535, 4749, 56)\n",
            "13 [56, 767, 759, 53, 658]\n"
          ]
        }
      ]
    },
    {
      "cell_type": "code",
      "source": [
        "for i in a:   # as string as an seperate character\n",
        "  if type(i) == str:\n",
        "    print(i)\n",
        "    for j in i:\n",
        "      l1 = []\n",
        "      l1.append(j)\n",
        "      print(l1)"
      ],
      "metadata": {
        "colab": {
          "base_uri": "https://localhost:8080/"
        },
        "id": "WcG1UNuN9kdg",
        "outputId": "819e3ebc-27ca-497e-e893-09f8eb528234"
      },
      "execution_count": 192,
      "outputs": [
        {
          "output_type": "stream",
          "name": "stdout",
          "text": [
            "sanjuu\n",
            "['s']\n",
            "['a']\n",
            "['n']\n",
            "['j']\n",
            "['u']\n",
            "['u']\n"
          ]
        }
      ]
    },
    {
      "cell_type": "code",
      "source": [
        "a"
      ],
      "metadata": {
        "colab": {
          "base_uri": "https://localhost:8080/"
        },
        "id": "jyui0L_r92GO",
        "outputId": "aa1f5c93-2abc-4c18-a519-28b4ef65a2e5"
      },
      "execution_count": 193,
      "outputs": [
        {
          "output_type": "execute_result",
          "data": {
            "text/plain": [
              "[4,\n",
              " 45,\n",
              " 45,\n",
              " 3,\n",
              " 2,\n",
              " 3,\n",
              " 5,\n",
              " 7,\n",
              " 4,\n",
              " 3,\n",
              " 'sanjuu',\n",
              " True,\n",
              " (45, 56, 4535, 4749, 56),\n",
              " [56, 767, 759, 53, 658]]"
            ]
          },
          "metadata": {},
          "execution_count": 193
        }
      ]
    },
    {
      "cell_type": "code",
      "source": [
        "# as int as a seperate\n",
        "for i in a:\n",
        "  if type(i) == int:\n",
        "    print(i)\n",
        "    l1 = []\n",
        "  elif type(i) == tuple:\n",
        "    for j in i:\n",
        "        print(j)\n",
        "    l2 = []\n",
        "  elif type(i)  == list:\n",
        "    for z in i:\n",
        "        print(z)\n",
        "  \n",
        "\n",
        "\n",
        "\n",
        "    "
      ],
      "metadata": {
        "colab": {
          "base_uri": "https://localhost:8080/"
        },
        "id": "3nQScqW8-e2M",
        "outputId": "c5a4333b-7328-4e4b-ea70-added7f2c1dd"
      },
      "execution_count": 209,
      "outputs": [
        {
          "output_type": "stream",
          "name": "stdout",
          "text": [
            "4\n",
            "45\n",
            "45\n",
            "3\n",
            "2\n",
            "3\n",
            "5\n",
            "7\n",
            "4\n",
            "3\n",
            "45\n",
            "56\n",
            "4535\n",
            "4749\n",
            "56\n",
            "56\n",
            "767\n",
            "759\n",
            "53\n",
            "658\n"
          ]
        }
      ]
    },
    {
      "cell_type": "code",
      "source": [
        "# square number\n",
        "\n",
        "l1 = []\n",
        "for i in a:\n",
        "  if type(i) == int:\n",
        "    l1.append(i**2)"
      ],
      "metadata": {
        "id": "6cf7Oku1-0s1"
      },
      "execution_count": 214,
      "outputs": []
    },
    {
      "cell_type": "code",
      "source": [
        "l1"
      ],
      "metadata": {
        "colab": {
          "base_uri": "https://localhost:8080/"
        },
        "id": "R6Qldp_tBYSi",
        "outputId": "f0de5b0c-5310-40ba-bbb2-aa6f6b7f6e28"
      },
      "execution_count": 215,
      "outputs": [
        {
          "output_type": "execute_result",
          "data": {
            "text/plain": [
              "[16, 2025, 2025, 9, 4, 9, 25, 49, 16, 9]"
            ]
          },
          "metadata": {},
          "execution_count": 215
        }
      ]
    },
    {
      "cell_type": "code",
      "source": [
        "a = [\"sanjuu\",45,56,56,566,53,544,554,44,33,{45,564,5437,658},[657,794,546,436,5685,43,54,34]]\n",
        "len(a)\n"
      ],
      "metadata": {
        "colab": {
          "base_uri": "https://localhost:8080/"
        },
        "id": "Dq7AA8SBBz0B",
        "outputId": "db53d604-8f79-4d4b-80f1-2b5ec072d4f8"
      },
      "execution_count": 216,
      "outputs": [
        {
          "output_type": "execute_result",
          "data": {
            "text/plain": [
              "12"
            ]
          },
          "metadata": {},
          "execution_count": 216
        }
      ]
    },
    {
      "cell_type": "code",
      "source": [
        "# type(a)\n",
        "for i in a:\n",
        "  print(type(a),i)"
      ],
      "metadata": {
        "colab": {
          "base_uri": "https://localhost:8080/"
        },
        "id": "btehFRAREfjv",
        "outputId": "5adfac65-c2c1-4686-f8c3-1bdb783cac7e"
      },
      "execution_count": 219,
      "outputs": [
        {
          "output_type": "stream",
          "name": "stdout",
          "text": [
            "<class 'list'> sanjuu\n",
            "<class 'list'> 45\n",
            "<class 'list'> 56\n",
            "<class 'list'> 56\n",
            "<class 'list'> 566\n",
            "<class 'list'> 53\n",
            "<class 'list'> 544\n",
            "<class 'list'> 554\n",
            "<class 'list'> 44\n",
            "<class 'list'> 33\n",
            "<class 'list'> {658, 5437, 564, 45}\n",
            "<class 'list'> [657, 794, 546, 436, 5685, 43, 54, 34]\n"
          ]
        }
      ]
    },
    {
      "cell_type": "code",
      "source": [
        "# index\n",
        "for i in range(len(a)):\n",
        "  print(\"index\",i,\"set of elements\",a[i])"
      ],
      "metadata": {
        "colab": {
          "base_uri": "https://localhost:8080/"
        },
        "id": "wwqtli6PEoCT",
        "outputId": "33387d88-3ff1-42a8-d7e6-ce20cc27cf8f"
      },
      "execution_count": 220,
      "outputs": [
        {
          "output_type": "stream",
          "name": "stdout",
          "text": [
            "index 0 set of elements sanjuu\n",
            "index 1 set of elements 45\n",
            "index 2 set of elements 56\n",
            "index 3 set of elements 56\n",
            "index 4 set of elements 566\n",
            "index 5 set of elements 53\n",
            "index 6 set of elements 544\n",
            "index 7 set of elements 554\n",
            "index 8 set of elements 44\n",
            "index 9 set of elements 33\n",
            "index 10 set of elements {658, 5437, 564, 45}\n",
            "index 11 set of elements [657, 794, 546, 436, 5685, 43, 54, 34]\n"
          ]
        }
      ]
    },
    {
      "cell_type": "code",
      "source": [
        "# sepatrate string\n",
        "for i in a:\n",
        "  if type(i) == str:\n",
        "    print(i)\n",
        "    for j in i:\n",
        "      l1 = []\n",
        "      l1.append(j)\n",
        "      print(l1)\n",
        "   "
      ],
      "metadata": {
        "colab": {
          "base_uri": "https://localhost:8080/"
        },
        "id": "klO8u8WWE5Jz",
        "outputId": "4b71c485-9ef4-47b3-8270-70a085224921"
      },
      "execution_count": 229,
      "outputs": [
        {
          "output_type": "stream",
          "name": "stdout",
          "text": [
            "sanjuu\n",
            "['s']\n",
            "['a']\n",
            "['n']\n",
            "['j']\n",
            "['u']\n",
            "['u']\n"
          ]
        }
      ]
    },
    {
      "cell_type": "code",
      "source": [
        "# seperate int\n",
        "l1 = []\n",
        "for i in a:\n",
        "  if type(i) == int:\n",
        "    l1.append(i**2)\n"
      ],
      "metadata": {
        "id": "NaMsLkRVFIEo"
      },
      "execution_count": 237,
      "outputs": []
    },
    {
      "cell_type": "code",
      "source": [
        "l1"
      ],
      "metadata": {
        "colab": {
          "base_uri": "https://localhost:8080/"
        },
        "id": "1zTUksktF9Mu",
        "outputId": "16f65f75-5d01-4f4e-dcf4-5759f16c9d03"
      },
      "execution_count": 238,
      "outputs": [
        {
          "output_type": "execute_result",
          "data": {
            "text/plain": [
              "[2025, 3136, 3136, 320356, 2809, 295936, 306916, 1936, 1089]"
            ]
          },
          "metadata": {},
          "execution_count": 238
        }
      ]
    },
    {
      "cell_type": "code",
      "source": [
        "a"
      ],
      "metadata": {
        "colab": {
          "base_uri": "https://localhost:8080/"
        },
        "id": "IdClrSaPGe7K",
        "outputId": "8b95d4a5-f105-40ca-8dcc-abb16d2ac69b"
      },
      "execution_count": 239,
      "outputs": [
        {
          "output_type": "execute_result",
          "data": {
            "text/plain": [
              "['sanjuu',\n",
              " 45,\n",
              " 56,\n",
              " 56,\n",
              " 566,\n",
              " 53,\n",
              " 544,\n",
              " 554,\n",
              " 44,\n",
              " 33,\n",
              " {45, 564, 658, 5437},\n",
              " [657, 794, 546, 436, 5685, 43, 54, 34]]"
            ]
          },
          "metadata": {},
          "execution_count": 239
        }
      ]
    },
    {
      "cell_type": "code",
      "source": [
        "for i in a:\n",
        "  if type(i) == int:\n",
        "    print(i)\n",
        "    l1 = []\n",
        "  elif type(i) == set:\n",
        "    for j in i:\n",
        "      print(j)\n",
        "  elif type(i) == list:\n",
        "    for z in i:\n",
        "       print(z)\n",
        "    \n",
        "    \n"
      ],
      "metadata": {
        "colab": {
          "base_uri": "https://localhost:8080/"
        },
        "id": "hWeBCW3KGmva",
        "outputId": "2374b1a9-aa95-4c9d-df2b-68d375a75d0c"
      },
      "execution_count": 245,
      "outputs": [
        {
          "output_type": "stream",
          "name": "stdout",
          "text": [
            "45\n",
            "56\n",
            "56\n",
            "566\n",
            "53\n",
            "544\n",
            "554\n",
            "44\n",
            "33\n",
            "658\n",
            "5437\n",
            "564\n",
            "45\n",
            "657\n",
            "794\n",
            "546\n",
            "436\n",
            "5685\n",
            "43\n",
            "54\n",
            "34\n"
          ]
        }
      ]
    },
    {
      "cell_type": "code",
      "source": [],
      "metadata": {
        "id": "LYFI88zLG3e6"
      },
      "execution_count": null,
      "outputs": []
    }
  ]
}