{
 "cells": [
  {
   "cell_type": "code",
   "execution_count": 1,
   "id": "4ecd6476",
   "metadata": {},
   "outputs": [
    {
     "name": "stdout",
     "output_type": "stream",
     "text": [
      "Ohm sairam\n"
     ]
    }
   ],
   "source": [
    "print(\"Ohm sairam\")"
   ]
  },
  {
   "cell_type": "code",
   "execution_count": 2,
   "id": "1dfbd84d",
   "metadata": {},
   "outputs": [
    {
     "name": "stdout",
     "output_type": "stream",
     "text": [
      "OHM ganapathi\n"
     ]
    }
   ],
   "source": [
    "print(\"OHM ganapathi\")"
   ]
  },
  {
   "cell_type": "code",
   "execution_count": 3,
   "id": "a834c9ed",
   "metadata": {},
   "outputs": [],
   "source": [
    "# file system\n",
    "f = open(\"sanjutest.txt\",\"w\")"
   ]
  },
  {
   "cell_type": "code",
   "execution_count": 4,
   "id": "89bf386e",
   "metadata": {},
   "outputs": [
    {
     "data": {
      "text/plain": [
       "_io.TextIOWrapper"
      ]
     },
     "execution_count": 4,
     "metadata": {},
     "output_type": "execute_result"
    }
   ],
   "source": [
    "type(f)"
   ]
  },
  {
   "cell_type": "code",
   "execution_count": 5,
   "id": "8286cf3f",
   "metadata": {},
   "outputs": [
    {
     "data": {
      "text/plain": [
       "'C:\\\\Users\\\\user'"
      ]
     },
     "execution_count": 5,
     "metadata": {},
     "output_type": "execute_result"
    }
   ],
   "source": [
    "pwd()   #path of directory"
   ]
  },
  {
   "cell_type": "code",
   "execution_count": 6,
   "id": "ecfbb2e1",
   "metadata": {},
   "outputs": [
    {
     "data": {
      "text/plain": [
       "['In',\n",
       " 'Out',\n",
       " '_',\n",
       " '_4',\n",
       " '_5',\n",
       " '__',\n",
       " '___',\n",
       " '__builtin__',\n",
       " '__builtins__',\n",
       " '__doc__',\n",
       " '__loader__',\n",
       " '__name__',\n",
       " '__package__',\n",
       " '__spec__',\n",
       " '_dh',\n",
       " '_i',\n",
       " '_i1',\n",
       " '_i2',\n",
       " '_i3',\n",
       " '_i4',\n",
       " '_i5',\n",
       " '_i6',\n",
       " '_ih',\n",
       " '_ii',\n",
       " '_iii',\n",
       " '_oh',\n",
       " 'exit',\n",
       " 'f',\n",
       " 'get_ipython',\n",
       " 'quit']"
      ]
     },
     "execution_count": 6,
     "metadata": {},
     "output_type": "execute_result"
    }
   ],
   "source": [
    "dir()  #whole code directory"
   ]
  },
  {
   "cell_type": "code",
   "execution_count": 7,
   "id": "8088b606",
   "metadata": {},
   "outputs": [
    {
     "name": "stderr",
     "output_type": "stream",
     "text": [
      "'ls' is not recognized as an internal or external command,\n",
      "operable program or batch file.\n"
     ]
    }
   ],
   "source": [
    "!ls"
   ]
  },
  {
   "cell_type": "code",
   "execution_count": 8,
   "id": "b3368670",
   "metadata": {},
   "outputs": [
    {
     "name": "stdout",
     "output_type": "stream",
     "text": [
      " Volume in drive C has no label.\n",
      " Volume Serial Number is DA2F-0459\n",
      "\n",
      " Directory of C:\\Users\\user\n",
      "\n",
      "\n",
      " Directory of C:\\Users\\user\n",
      "\n",
      "\n",
      " Directory of C:\\Users\\user\n",
      "\n",
      "\n",
      " Directory of C:\\Users\\user\n",
      "\n",
      "\n",
      " Directory of C:\\Users\\user\n",
      "\n",
      "\n",
      " Directory of C:\\Users\\user\n",
      "\n"
     ]
    },
    {
     "name": "stderr",
     "output_type": "stream",
     "text": [
      "File Not Found\n"
     ]
    }
   ],
   "source": [
    "%ls    # list of information about files"
   ]
  },
  {
   "cell_type": "code",
   "execution_count": 9,
   "id": "6413a6ac",
   "metadata": {},
   "outputs": [
    {
     "data": {
      "text/plain": [
       "32"
      ]
     },
     "execution_count": 9,
     "metadata": {},
     "output_type": "execute_result"
    }
   ],
   "source": [
    "f.write(\"Hello this is sanjay how are you\")"
   ]
  },
  {
   "cell_type": "code",
   "execution_count": 10,
   "id": "648ab225",
   "metadata": {},
   "outputs": [],
   "source": [
    "f.close()"
   ]
  },
  {
   "cell_type": "code",
   "execution_count": 11,
   "id": "661cdb05",
   "metadata": {},
   "outputs": [
    {
     "name": "stdout",
     "output_type": "stream",
     "text": [
      "45\n"
     ]
    }
   ],
   "source": [
    "print(45)"
   ]
  },
  {
   "cell_type": "code",
   "execution_count": 5,
   "id": "90e1ce00",
   "metadata": {},
   "outputs": [
    {
     "ename": "SyntaxError",
     "evalue": "invalid syntax (2946442954.py, line 3)",
     "output_type": "error",
     "traceback": [
      "\u001b[1;36m  File \u001b[1;32m\"C:\\Users\\user\\AppData\\Local\\Temp\\ipykernel_17316\\2946442954.py\"\u001b[1;36m, line \u001b[1;32m3\u001b[0m\n\u001b[1;33m    Hello Rawath I need to store an file\u001b[0m\n\u001b[1;37m          ^\u001b[0m\n\u001b[1;31mSyntaxError\u001b[0m\u001b[1;31m:\u001b[0m invalid syntax\n"
     ]
    }
   ],
   "source": [
    "# this is another way of writing of file\n",
    "%%writefile test333.txt I need to store an file"
   ]
  },
  {
   "cell_type": "code",
   "execution_count": 3,
   "id": "f83e18ec",
   "metadata": {},
   "outputs": [
    {
     "name": "stderr",
     "output_type": "stream",
     "text": [
      "UsageError: %%writefile is a cell magic, but the cell body is empty.\n"
     ]
    }
   ],
   "source": [
    "%%writefile test2.txt"
   ]
  },
  {
   "cell_type": "code",
   "execution_count": 4,
   "id": "0beb6b13",
   "metadata": {},
   "outputs": [
    {
     "name": "stdout",
     "output_type": "stream",
     "text": [
      " Volume in drive C has no label.\n",
      " Volume Serial Number is DA2F-0459\n",
      "\n",
      " Directory of C:\\Users\\user\n",
      "\n",
      "11/03/2022  09:33 AM    <DIR>          .\n",
      "10/29/2022  01:31 PM    <DIR>          ..\n",
      "11/03/2022  09:18 AM    <DIR>          .ipynb_checkpoints\n",
      "11/01/2022  06:02 AM    <DIR>          .ipython\n",
      "11/03/2022  09:30 AM    <DIR>          .jupyter\n",
      "10/30/2022  12:00 PM    <DIR>          .vscode\n",
      "10/31/2022  08:56 PM    <DIR>          anaconda3\n",
      "10/30/2022  01:50 AM    <DIR>          Contacts\n",
      "11/01/2022  04:50 PM    <DIR>          Desktop\n",
      "11/01/2022  07:56 AM    <DIR>          Documents\n",
      "11/03/2022  09:28 AM    <DIR>          Downloads\n",
      "10/30/2022  01:50 AM    <DIR>          Favorites\n",
      "11/03/2022  09:33 AM             5,380 file_System.ipynb\n",
      "10/30/2022  01:50 AM    <DIR>          Links\n",
      "10/30/2022  01:50 AM    <DIR>          Music\n",
      "11/03/2022  08:05 AM    <DIR>          OneDrive\n",
      "10/30/2022  10:18 AM    <DIR>          Pictures\n",
      "11/03/2022  09:30 AM                32 sanjutest.txt\n",
      "10/30/2022  01:50 AM    <DIR>          Saved Games\n",
      "10/29/2022  01:31 PM    <DIR>          Searches\n",
      "11/03/2022  09:05 AM                22 test1.txt\n",
      "11/01/2022  06:02 AM                72 Untitled.ipynb\n",
      "11/03/2022  08:55 AM                72 Untitled1.ipynb\n",
      "10/30/2022  10:09 AM    <DIR>          Videos\n",
      "               5 File(s)          5,578 bytes\n",
      "              19 Dir(s)  207,967,571,968 bytes free\n"
     ]
    }
   ],
   "source": [
    "%ls"
   ]
  },
  {
   "cell_type": "code",
   "execution_count": 6,
   "id": "1cd08249",
   "metadata": {},
   "outputs": [
    {
     "name": "stdout",
     "output_type": "stream",
     "text": [
      "Writing test4.txt\n"
     ]
    }
   ],
   "source": [
    "%%writefile test4.txt\n",
    "this is a data I need to store"
   ]
  },
  {
   "cell_type": "code",
   "execution_count": 7,
   "id": "7c6e19e4",
   "metadata": {},
   "outputs": [
    {
     "name": "stdout",
     "output_type": "stream",
     "text": [
      " Volume in drive C has no label.\n",
      " Volume Serial Number is DA2F-0459\n",
      "\n",
      " Directory of C:\\Users\\user\n",
      "\n",
      "11/03/2022  09:36 AM    <DIR>          .\n",
      "10/29/2022  01:31 PM    <DIR>          ..\n",
      "11/03/2022  09:18 AM    <DIR>          .ipynb_checkpoints\n",
      "11/01/2022  06:02 AM    <DIR>          .ipython\n",
      "11/03/2022  09:30 AM    <DIR>          .jupyter\n",
      "10/30/2022  12:00 PM    <DIR>          .vscode\n",
      "10/31/2022  08:56 PM    <DIR>          anaconda3\n",
      "10/30/2022  01:50 AM    <DIR>          Contacts\n",
      "11/01/2022  04:50 PM    <DIR>          Desktop\n",
      "11/01/2022  07:56 AM    <DIR>          Documents\n",
      "11/03/2022  09:28 AM    <DIR>          Downloads\n",
      "10/30/2022  01:50 AM    <DIR>          Favorites\n",
      "11/03/2022  09:35 AM             8,019 file_System.ipynb\n",
      "10/30/2022  01:50 AM    <DIR>          Links\n",
      "10/30/2022  01:50 AM    <DIR>          Music\n",
      "11/03/2022  08:05 AM    <DIR>          OneDrive\n",
      "10/30/2022  10:18 AM    <DIR>          Pictures\n",
      "11/03/2022  09:30 AM                32 sanjutest.txt\n",
      "10/30/2022  01:50 AM    <DIR>          Saved Games\n",
      "10/29/2022  01:31 PM    <DIR>          Searches\n",
      "11/03/2022  09:05 AM                22 test1.txt\n",
      "11/03/2022  09:36 AM                32 test4.txt\n",
      "11/01/2022  06:02 AM                72 Untitled.ipynb\n",
      "11/03/2022  08:55 AM                72 Untitled1.ipynb\n",
      "10/30/2022  10:09 AM    <DIR>          Videos\n",
      "               6 File(s)          8,249 bytes\n",
      "              19 Dir(s)  207,967,506,432 bytes free\n"
     ]
    }
   ],
   "source": [
    "%ls"
   ]
  },
  {
   "cell_type": "code",
   "execution_count": 8,
   "id": "9ee5b85f",
   "metadata": {},
   "outputs": [],
   "source": [
    "f = open(\"Test5.txt\",\"w\")"
   ]
  },
  {
   "cell_type": "code",
   "execution_count": 9,
   "id": "676cc1dc",
   "metadata": {},
   "outputs": [
    {
     "name": "stdout",
     "output_type": "stream",
     "text": [
      " Volume in drive C has no label.\n",
      " Volume Serial Number is DA2F-0459\n",
      "\n",
      " Directory of C:\\Users\\user\n",
      "\n",
      "11/03/2022  09:37 AM    <DIR>          .\n",
      "10/29/2022  01:31 PM    <DIR>          ..\n",
      "11/03/2022  09:18 AM    <DIR>          .ipynb_checkpoints\n",
      "11/01/2022  06:02 AM    <DIR>          .ipython\n",
      "11/03/2022  09:30 AM    <DIR>          .jupyter\n",
      "10/30/2022  12:00 PM    <DIR>          .vscode\n",
      "10/31/2022  08:56 PM    <DIR>          anaconda3\n",
      "10/30/2022  01:50 AM    <DIR>          Contacts\n",
      "11/01/2022  04:50 PM    <DIR>          Desktop\n",
      "11/01/2022  07:56 AM    <DIR>          Documents\n",
      "11/03/2022  09:28 AM    <DIR>          Downloads\n",
      "10/30/2022  01:50 AM    <DIR>          Favorites\n",
      "11/03/2022  09:35 AM             8,019 file_System.ipynb\n",
      "10/30/2022  01:50 AM    <DIR>          Links\n",
      "10/30/2022  01:50 AM    <DIR>          Music\n",
      "11/03/2022  08:05 AM    <DIR>          OneDrive\n",
      "10/30/2022  10:18 AM    <DIR>          Pictures\n",
      "11/03/2022  09:30 AM                32 sanjutest.txt\n",
      "10/30/2022  01:50 AM    <DIR>          Saved Games\n",
      "10/29/2022  01:31 PM    <DIR>          Searches\n",
      "11/03/2022  09:05 AM                22 test1.txt\n",
      "11/03/2022  09:36 AM                32 test4.txt\n",
      "11/03/2022  09:37 AM                 0 Test5.txt\n",
      "11/01/2022  06:02 AM                72 Untitled.ipynb\n",
      "11/03/2022  08:55 AM                72 Untitled1.ipynb\n",
      "10/30/2022  10:09 AM    <DIR>          Videos\n",
      "               7 File(s)          8,249 bytes\n",
      "              19 Dir(s)  207,966,834,688 bytes free\n"
     ]
    }
   ],
   "source": [
    "%ls"
   ]
  },
  {
   "cell_type": "code",
   "execution_count": 10,
   "id": "d50ecadb",
   "metadata": {},
   "outputs": [
    {
     "data": {
      "text/plain": [
       "23"
      ]
     },
     "execution_count": 10,
     "metadata": {},
     "output_type": "execute_result"
    }
   ],
   "source": [
    "f.write(\"Tis is vlog of karunadu\")"
   ]
  },
  {
   "cell_type": "code",
   "execution_count": 11,
   "id": "1bbe8665",
   "metadata": {},
   "outputs": [],
   "source": [
    "f.close()"
   ]
  },
  {
   "cell_type": "code",
   "execution_count": 12,
   "id": "ff2dd0cd",
   "metadata": {},
   "outputs": [
    {
     "data": {
      "text/plain": [
       "'C:\\\\Users\\\\user'"
      ]
     },
     "execution_count": 12,
     "metadata": {},
     "output_type": "execute_result"
    }
   ],
   "source": [
    "pwd()"
   ]
  },
  {
   "cell_type": "code",
   "execution_count": null,
   "id": "7f5b99a9",
   "metadata": {},
   "outputs": [],
   "source": [
    "dir()"
   ]
  },
  {
   "cell_type": "code",
   "execution_count": 13,
   "id": "c33b754b",
   "metadata": {},
   "outputs": [
    {
     "name": "stdout",
     "output_type": "stream",
     "text": [
      "Writing test66.txt\n"
     ]
    }
   ],
   "source": [
    "%%writefile test66.txt\n",
    "hi this is going to world wide"
   ]
  },
  {
   "cell_type": "code",
   "execution_count": 14,
   "id": "de8ada66",
   "metadata": {},
   "outputs": [
    {
     "name": "stdout",
     "output_type": "stream",
     "text": [
      " Volume in drive C has no label.\n",
      " Volume Serial Number is DA2F-0459\n",
      "\n",
      " Directory of C:\\Users\\user\n",
      "\n",
      "11/03/2022  09:39 AM    <DIR>          .\n",
      "10/29/2022  01:31 PM    <DIR>          ..\n",
      "11/03/2022  09:18 AM    <DIR>          .ipynb_checkpoints\n",
      "11/01/2022  06:02 AM    <DIR>          .ipython\n",
      "11/03/2022  09:30 AM    <DIR>          .jupyter\n",
      "10/30/2022  12:00 PM    <DIR>          .vscode\n",
      "10/31/2022  08:56 PM    <DIR>          anaconda3\n",
      "10/30/2022  01:50 AM    <DIR>          Contacts\n",
      "11/01/2022  04:50 PM    <DIR>          Desktop\n",
      "11/01/2022  07:56 AM    <DIR>          Documents\n",
      "11/03/2022  09:28 AM    <DIR>          Downloads\n",
      "10/30/2022  01:50 AM    <DIR>          Favorites\n",
      "11/03/2022  09:39 AM            13,870 file_System.ipynb\n",
      "10/30/2022  01:50 AM    <DIR>          Links\n",
      "10/30/2022  01:50 AM    <DIR>          Music\n",
      "11/03/2022  08:05 AM    <DIR>          OneDrive\n",
      "10/30/2022  10:18 AM    <DIR>          Pictures\n",
      "11/03/2022  09:30 AM                32 sanjutest.txt\n",
      "10/30/2022  01:50 AM    <DIR>          Saved Games\n",
      "10/29/2022  01:31 PM    <DIR>          Searches\n",
      "11/03/2022  09:05 AM                22 test1.txt\n",
      "11/03/2022  09:36 AM                32 test4.txt\n",
      "11/03/2022  09:37 AM                23 Test5.txt\n",
      "11/03/2022  09:39 AM                32 test66.txt\n",
      "11/01/2022  06:02 AM                72 Untitled.ipynb\n",
      "11/03/2022  08:55 AM                72 Untitled1.ipynb\n",
      "10/30/2022  10:09 AM    <DIR>          Videos\n",
      "               8 File(s)         14,155 bytes\n",
      "              19 Dir(s)  207,963,205,632 bytes free\n"
     ]
    }
   ],
   "source": [
    "%ls"
   ]
  },
  {
   "cell_type": "code",
   "execution_count": 17,
   "id": "4dd682e9",
   "metadata": {},
   "outputs": [],
   "source": [
    "f = open(\"Test5.txt\")"
   ]
  },
  {
   "cell_type": "code",
   "execution_count": 18,
   "id": "b40c20b7",
   "metadata": {},
   "outputs": [
    {
     "data": {
      "text/plain": [
       "'Tis is vlog of karunadu'"
      ]
     },
     "execution_count": 18,
     "metadata": {},
     "output_type": "execute_result"
    }
   ],
   "source": [
    "f.read()  # file it is already in read mode so we not able to write"
   ]
  },
  {
   "cell_type": "code",
   "execution_count": 21,
   "id": "64dcf05c",
   "metadata": {},
   "outputs": [
    {
     "data": {
      "text/plain": [
       "''"
      ]
     },
     "execution_count": 21,
     "metadata": {},
     "output_type": "execute_result"
    }
   ],
   "source": [
    "f.read()"
   ]
  },
  {
   "cell_type": "code",
   "execution_count": 19,
   "id": "d94fef91",
   "metadata": {},
   "outputs": [
    {
     "ename": "UnsupportedOperation",
     "evalue": "not writable",
     "output_type": "error",
     "traceback": [
      "\u001b[1;31m---------------------------------------------------------------------------\u001b[0m",
      "\u001b[1;31mUnsupportedOperation\u001b[0m                      Traceback (most recent call last)",
      "\u001b[1;32m~\\AppData\\Local\\Temp\\ipykernel_17316\\122757570.py\u001b[0m in \u001b[0;36m<module>\u001b[1;34m\u001b[0m\n\u001b[1;32m----> 1\u001b[1;33m \u001b[0mf\u001b[0m\u001b[1;33m.\u001b[0m\u001b[0mwrite\u001b[0m\u001b[1;33m(\u001b[0m\u001b[1;34m\"This karunadu\"\u001b[0m\u001b[1;33m)\u001b[0m\u001b[1;33m\u001b[0m\u001b[1;33m\u001b[0m\u001b[0m\n\u001b[0m",
      "\u001b[1;31mUnsupportedOperation\u001b[0m: not writable"
     ]
    }
   ],
   "source": [
    "f.write(\"This karunadu\")"
   ]
  },
  {
   "cell_type": "code",
   "execution_count": 20,
   "id": "48fb2895",
   "metadata": {},
   "outputs": [
    {
     "data": {
      "text/plain": [
       "''"
      ]
     },
     "execution_count": 20,
     "metadata": {},
     "output_type": "execute_result"
    }
   ],
   "source": [
    "f.read()"
   ]
  },
  {
   "cell_type": "code",
   "execution_count": 22,
   "id": "0a506c26",
   "metadata": {},
   "outputs": [
    {
     "data": {
      "text/plain": [
       "3"
      ]
     },
     "execution_count": 22,
     "metadata": {},
     "output_type": "execute_result"
    }
   ],
   "source": [
    "f.seek(3)"
   ]
  },
  {
   "cell_type": "code",
   "execution_count": 23,
   "id": "d53cd6fc",
   "metadata": {},
   "outputs": [
    {
     "data": {
      "text/plain": [
       "' is vlog of karunadu'"
      ]
     },
     "execution_count": 23,
     "metadata": {},
     "output_type": "execute_result"
    }
   ],
   "source": [
    "f.read()"
   ]
  },
  {
   "cell_type": "code",
   "execution_count": 24,
   "id": "4059b26b",
   "metadata": {},
   "outputs": [
    {
     "data": {
      "text/plain": [
       "0"
      ]
     },
     "execution_count": 24,
     "metadata": {},
     "output_type": "execute_result"
    }
   ],
   "source": [
    "f.seek(0)"
   ]
  },
  {
   "cell_type": "code",
   "execution_count": 25,
   "id": "12a644ef",
   "metadata": {},
   "outputs": [
    {
     "data": {
      "text/plain": [
       "'Tis is vlog of karunadu'"
      ]
     },
     "execution_count": 25,
     "metadata": {},
     "output_type": "execute_result"
    }
   ],
   "source": [
    "f.read()"
   ]
  },
  {
   "cell_type": "code",
   "execution_count": 26,
   "id": "72d83f91",
   "metadata": {},
   "outputs": [],
   "source": [
    "f = open(\"test1.txt\",\"r\")"
   ]
  },
  {
   "cell_type": "code",
   "execution_count": 28,
   "id": "2ba160d0",
   "metadata": {},
   "outputs": [
    {
     "data": {
      "text/plain": [
       "'This is file operation'"
      ]
     },
     "execution_count": 28,
     "metadata": {},
     "output_type": "execute_result"
    }
   ],
   "source": [
    "f.read()"
   ]
  },
  {
   "cell_type": "code",
   "execution_count": 29,
   "id": "5d9345d3",
   "metadata": {},
   "outputs": [
    {
     "data": {
      "text/plain": [
       "''"
      ]
     },
     "execution_count": 29,
     "metadata": {},
     "output_type": "execute_result"
    }
   ],
   "source": [
    "f.read()  # when we type once again f.read() the cursor will be moves to next line it will be blank"
   ]
  },
  {
   "cell_type": "code",
   "execution_count": 30,
   "id": "55596f54",
   "metadata": {},
   "outputs": [
    {
     "data": {
      "text/plain": [
       "0"
      ]
     },
     "execution_count": 30,
     "metadata": {},
     "output_type": "execute_result"
    }
   ],
   "source": [
    "f.seek(0)  # to move back the cursor to initial position we are using the f.seek()"
   ]
  },
  {
   "cell_type": "code",
   "execution_count": 31,
   "id": "d162f0a0",
   "metadata": {},
   "outputs": [
    {
     "data": {
      "text/plain": [
       "'This is file operation'"
      ]
     },
     "execution_count": 31,
     "metadata": {},
     "output_type": "execute_result"
    }
   ],
   "source": [
    "f.read()  # this will gives original result"
   ]
  },
  {
   "cell_type": "code",
   "execution_count": 32,
   "id": "6e905630",
   "metadata": {},
   "outputs": [
    {
     "data": {
      "text/plain": [
       "22"
      ]
     },
     "execution_count": 32,
     "metadata": {},
     "output_type": "execute_result"
    }
   ],
   "source": [
    "f.tell()"
   ]
  },
  {
   "cell_type": "code",
   "execution_count": 33,
   "id": "59d91645",
   "metadata": {},
   "outputs": [],
   "source": [
    "f = open(\"test4.txt\",\"r\")"
   ]
  },
  {
   "cell_type": "code",
   "execution_count": 34,
   "id": "8fdf6730",
   "metadata": {},
   "outputs": [
    {
     "data": {
      "text/plain": [
       "'this is a data I need to store\\n'"
      ]
     },
     "execution_count": 34,
     "metadata": {},
     "output_type": "execute_result"
    }
   ],
   "source": [
    "f.read()"
   ]
  },
  {
   "cell_type": "code",
   "execution_count": 35,
   "id": "f0eb3d46",
   "metadata": {},
   "outputs": [
    {
     "data": {
      "text/plain": [
       "32"
      ]
     },
     "execution_count": 35,
     "metadata": {},
     "output_type": "execute_result"
    }
   ],
   "source": [
    "f.tell()"
   ]
  },
  {
   "cell_type": "code",
   "execution_count": 36,
   "id": "9371e59a",
   "metadata": {},
   "outputs": [
    {
     "data": {
      "text/plain": [
       "0"
      ]
     },
     "execution_count": 36,
     "metadata": {},
     "output_type": "execute_result"
    }
   ],
   "source": [
    "f.seek(0)"
   ]
  },
  {
   "cell_type": "code",
   "execution_count": 37,
   "id": "51982014",
   "metadata": {},
   "outputs": [
    {
     "data": {
      "text/plain": [
       "0"
      ]
     },
     "execution_count": 37,
     "metadata": {},
     "output_type": "execute_result"
    }
   ],
   "source": [
    "f.tell()"
   ]
  },
  {
   "cell_type": "code",
   "execution_count": 38,
   "id": "6b191e7c",
   "metadata": {},
   "outputs": [
    {
     "data": {
      "text/plain": [
       "7"
      ]
     },
     "execution_count": 38,
     "metadata": {},
     "output_type": "execute_result"
    }
   ],
   "source": [
    "f.seek(7)  # this is cursor pointing 7th position"
   ]
  },
  {
   "cell_type": "code",
   "execution_count": 39,
   "id": "befa27be",
   "metadata": {},
   "outputs": [
    {
     "data": {
      "text/plain": [
       "7"
      ]
     },
     "execution_count": 39,
     "metadata": {},
     "output_type": "execute_result"
    }
   ],
   "source": [
    "f.tell()"
   ]
  },
  {
   "cell_type": "code",
   "execution_count": 40,
   "id": "7e986430",
   "metadata": {},
   "outputs": [],
   "source": [
    "f.close()"
   ]
  },
  {
   "cell_type": "code",
   "execution_count": 43,
   "id": "b4741cf7",
   "metadata": {},
   "outputs": [],
   "source": [
    "f = open(\"sanjutest.txt\", \"r+\")"
   ]
  },
  {
   "cell_type": "code",
   "execution_count": 44,
   "id": "9f8dfad7",
   "metadata": {},
   "outputs": [
    {
     "data": {
      "text/plain": [
       "'Hello this is sanjay how are you'"
      ]
     },
     "execution_count": 44,
     "metadata": {},
     "output_type": "execute_result"
    }
   ],
   "source": [
    "f.read()"
   ]
  },
  {
   "cell_type": "code",
   "execution_count": 45,
   "id": "f0e62a4d",
   "metadata": {},
   "outputs": [
    {
     "data": {
      "text/plain": [
       "''"
      ]
     },
     "execution_count": 45,
     "metadata": {},
     "output_type": "execute_result"
    }
   ],
   "source": [
    "f.readline()  # the readline() will be only reads and return one line of file"
   ]
  },
  {
   "cell_type": "code",
   "execution_count": 46,
   "id": "83e84759",
   "metadata": {},
   "outputs": [
    {
     "data": {
      "text/plain": [
       "' jhbjrhkjnoier\\njoejrojolrjljklerjgikerjgl ojrioerjnferiljre eiorhnfioerjfierj io4noienier iojililnnt4erijeitnelr'"
      ]
     },
     "execution_count": 46,
     "metadata": {},
     "output_type": "execute_result"
    }
   ],
   "source": [
    "f.read()"
   ]
  },
  {
   "cell_type": "code",
   "execution_count": 47,
   "id": "bbb84275",
   "metadata": {},
   "outputs": [
    {
     "data": {
      "text/plain": [
       "0"
      ]
     },
     "execution_count": 47,
     "metadata": {},
     "output_type": "execute_result"
    }
   ],
   "source": [
    "f.seek(0)"
   ]
  },
  {
   "cell_type": "code",
   "execution_count": 48,
   "id": "9dd27f22",
   "metadata": {},
   "outputs": [
    {
     "data": {
      "text/plain": [
       "'Hello this is sanjay how are you jhbjrhkjnoier\\n'"
      ]
     },
     "execution_count": 48,
     "metadata": {},
     "output_type": "execute_result"
    }
   ],
   "source": [
    "f.readline()"
   ]
  },
  {
   "cell_type": "code",
   "execution_count": 49,
   "id": "dab13f83",
   "metadata": {},
   "outputs": [
    {
     "data": {
      "text/plain": [
       "48"
      ]
     },
     "execution_count": 49,
     "metadata": {},
     "output_type": "execute_result"
    }
   ],
   "source": [
    "f.tell()"
   ]
  },
  {
   "cell_type": "code",
   "execution_count": 50,
   "id": "9e81a5b1",
   "metadata": {},
   "outputs": [
    {
     "data": {
      "text/plain": [
       "0"
      ]
     },
     "execution_count": 50,
     "metadata": {},
     "output_type": "execute_result"
    }
   ],
   "source": [
    "f.seek(0)"
   ]
  },
  {
   "cell_type": "code",
   "execution_count": 52,
   "id": "751cca3a",
   "metadata": {},
   "outputs": [
    {
     "data": {
      "text/plain": [
       "0"
      ]
     },
     "execution_count": 52,
     "metadata": {},
     "output_type": "execute_result"
    }
   ],
   "source": [
    "f.tell()"
   ]
  },
  {
   "cell_type": "code",
   "execution_count": 53,
   "id": "10214d01",
   "metadata": {},
   "outputs": [
    {
     "data": {
      "text/plain": [
       "'Hello this is sanjay how are you jhbjrhkjnoier\\n'"
      ]
     },
     "execution_count": 53,
     "metadata": {},
     "output_type": "execute_result"
    }
   ],
   "source": [
    "f.readline()   # it will only reads one line of code"
   ]
  },
  {
   "cell_type": "code",
   "execution_count": 56,
   "id": "e9423a6d",
   "metadata": {},
   "outputs": [
    {
     "data": {
      "text/plain": [
       "'joejrojolrjljklerjgikerjgl ojrioerjnferiljre eiorhnfioerjfierj io4noienier iojililnnt4erijeitnelr'"
      ]
     },
     "execution_count": 56,
     "metadata": {},
     "output_type": "execute_result"
    }
   ],
   "source": [
    "f.readline()     # which will read line by line"
   ]
  },
  {
   "cell_type": "code",
   "execution_count": 55,
   "id": "8c68087f",
   "metadata": {},
   "outputs": [
    {
     "data": {
      "text/plain": [
       "47"
      ]
     },
     "execution_count": 55,
     "metadata": {},
     "output_type": "execute_result"
    }
   ],
   "source": [
    "len(\"Hello this is sanjay how are you jhbjrhkjnoier\\n\")"
   ]
  },
  {
   "cell_type": "code",
   "execution_count": 57,
   "id": "1db3cfc9",
   "metadata": {},
   "outputs": [],
   "source": [
    "f = open(\"google.txt\",\"w\")"
   ]
  },
  {
   "cell_type": "code",
   "execution_count": 59,
   "id": "41c8efc5",
   "metadata": {},
   "outputs": [
    {
     "data": {
      "text/plain": [
       "877"
      ]
     },
     "execution_count": 59,
     "metadata": {},
     "output_type": "execute_result"
    }
   ],
   "source": [
    "f.write(\"\"\"The company has since rapidly grown to offer a multitude of products and services beyond\n",
    "Google Search, many of which hold dominant market positions. These products address a wide range of\n",
    "use cases, including email (Gmail), navigation (Waze & Maps), cloud computing (Cloud), web browsing \n",
    "(Chrome), video sharing (YouTube), productivity (Workspace), operating systems (Android), cloud stor\n",
    "age (Drive), language translation (Translate), photo storage (Photos), video calling (Meet), smart h\n",
    "ome (Nest), smartphones (Pixel), wearable technology (Pixel Watch & Fitbit), music streaming (YouTub\n",
    "e Music), video on demand (YouTube TV), artificial intelligence (Google Assistant), machine learning\n",
    "APIs (TensorFlow), AI chips (TPU), and more. Discontinued Google products include gaming (Stadia), Glass,\n",
    "[citation needed] Google+, Reader, Play Music, Nexus, Hangouts, and Inbox by Gmail\"\"\")"
   ]
  },
  {
   "cell_type": "code",
   "execution_count": 60,
   "id": "2bb77687",
   "metadata": {},
   "outputs": [],
   "source": [
    "f.close()"
   ]
  },
  {
   "cell_type": "code",
   "execution_count": 61,
   "id": "667ee4e4",
   "metadata": {},
   "outputs": [],
   "source": [
    "f = open(\"google.txt\", \"r\")"
   ]
  },
  {
   "cell_type": "code",
   "execution_count": 62,
   "id": "210ada58",
   "metadata": {},
   "outputs": [
    {
     "data": {
      "text/plain": [
       "'The company has since rapidly grown to offer a multitude of products and services b\\neyond Google Search, many of which hold dominant market positions. These products addres\\ns a wide range of use cases, including email (Gmail), navigation (Waze & Maps), cloud co\\nmputing (Cloud), web browsing (Chrome), video sharing (YouTube), productivity (Workspace), \\noperating systems (Android), cloud storage (Drive), language translation (Translate), photo\\n storage (Photos), video calling (Meet), smart home (Nest), smartphones (Pixel), wearable tec\\nhnology (Pixel Watch & Fitbit), music streaming (YouTube Music), video on demand (YouTube TV)\\n, artificial intelligence (Google Assistant), machine learning APIs (TensorFlow), AI chips (TPU),\\n and more. Discontinued Google products include gaming (Stadia), Glass,[citation needed] Google+\\n, Reader, Play Music, Nexus, Hangouts, and Inbox by Gmail'"
      ]
     },
     "execution_count": 62,
     "metadata": {},
     "output_type": "execute_result"
    }
   ],
   "source": [
    "f.read()"
   ]
  },
  {
   "cell_type": "code",
   "execution_count": 63,
   "id": "d0de31f3",
   "metadata": {},
   "outputs": [],
   "source": [
    "f = open(\"google.txt\",\"r+\")"
   ]
  },
  {
   "cell_type": "code",
   "execution_count": 64,
   "id": "4956d364",
   "metadata": {},
   "outputs": [
    {
     "data": {
      "text/plain": [
       "'The company has since rapidly grown to offer a multitude of products and services b\\neyond Google Search, many of which hold dominant market positions. These products addres\\ns a wide range of use cases, including email (Gmail), navigation (Waze & Maps), cloud co\\nmputing (Cloud), web browsing (Chrome), video sharing (YouTube), productivity (Workspace), \\noperating systems (Android), cloud storage (Drive), language translation (Translate), photo\\n storage (Photos), video calling (Meet), smart home (Nest), smartphones (Pixel), wearable tec\\nhnology (Pixel Watch & Fitbit), music streaming (YouTube Music), video on demand (YouTube TV)\\n, artificial intelligence (Google Assistant), machine learning APIs (TensorFlow), AI chips (TPU),\\n and more. Discontinued Google products include gaming (Stadia), Glass,[citation needed] Google+\\n, Reader, Play Music, Nexus, Hangouts, and Inbox by Gmail'"
      ]
     },
     "execution_count": 64,
     "metadata": {},
     "output_type": "execute_result"
    }
   ],
   "source": [
    "f.read()"
   ]
  },
  {
   "cell_type": "code",
   "execution_count": 65,
   "id": "71edaa2c",
   "metadata": {},
   "outputs": [
    {
     "data": {
      "text/plain": [
       "''"
      ]
     },
     "execution_count": 65,
     "metadata": {},
     "output_type": "execute_result"
    }
   ],
   "source": [
    "f.readline()"
   ]
  },
  {
   "cell_type": "code",
   "execution_count": 67,
   "id": "34222faf",
   "metadata": {},
   "outputs": [
    {
     "data": {
      "text/plain": [
       "895"
      ]
     },
     "execution_count": 67,
     "metadata": {},
     "output_type": "execute_result"
    }
   ],
   "source": [
    "f.tell()"
   ]
  },
  {
   "cell_type": "code",
   "execution_count": 68,
   "id": "1f31283b",
   "metadata": {},
   "outputs": [
    {
     "data": {
      "text/plain": [
       "0"
      ]
     },
     "execution_count": 68,
     "metadata": {},
     "output_type": "execute_result"
    }
   ],
   "source": [
    "f.seek(0)"
   ]
  },
  {
   "cell_type": "code",
   "execution_count": 70,
   "id": "dd5cbe77",
   "metadata": {},
   "outputs": [
    {
     "data": {
      "text/plain": [
       "0"
      ]
     },
     "execution_count": 70,
     "metadata": {},
     "output_type": "execute_result"
    }
   ],
   "source": [
    "f.tell()"
   ]
  },
  {
   "cell_type": "code",
   "execution_count": 71,
   "id": "8dbd3ab1",
   "metadata": {},
   "outputs": [
    {
     "data": {
      "text/plain": [
       "'The company has since rapidly grown to offer a multitude of products and services b\\n'"
      ]
     },
     "execution_count": 71,
     "metadata": {},
     "output_type": "execute_result"
    }
   ],
   "source": [
    "f.readline()"
   ]
  },
  {
   "cell_type": "code",
   "execution_count": 72,
   "id": "baa2f5a9",
   "metadata": {},
   "outputs": [
    {
     "data": {
      "text/plain": [
       "'eyond Google Search, many of which hold dominant market positions. These products addres\\n'"
      ]
     },
     "execution_count": 72,
     "metadata": {},
     "output_type": "execute_result"
    }
   ],
   "source": [
    "f.readline()"
   ]
  },
  {
   "cell_type": "code",
   "execution_count": 73,
   "id": "cc77fda3",
   "metadata": {},
   "outputs": [
    {
     "data": {
      "text/plain": [
       "'s a wide range of use cases, including email (Gmail), navigation (Waze & Maps), cloud co\\n'"
      ]
     },
     "execution_count": 73,
     "metadata": {},
     "output_type": "execute_result"
    }
   ],
   "source": [
    "f.readline(\n",
    ")"
   ]
  },
  {
   "cell_type": "code",
   "execution_count": 74,
   "id": "efc2bd59",
   "metadata": {},
   "outputs": [
    {
     "data": {
      "text/plain": [
       "'mputing (Cloud), web browsing (Chrome), video sharing (YouTube), productivity (Workspace), \\n'"
      ]
     },
     "execution_count": 74,
     "metadata": {},
     "output_type": "execute_result"
    }
   ],
   "source": [
    "f.readline()"
   ]
  },
  {
   "cell_type": "code",
   "execution_count": 81,
   "id": "023200e3",
   "metadata": {},
   "outputs": [
    {
     "data": {
      "text/plain": [
       "''"
      ]
     },
     "execution_count": 81,
     "metadata": {},
     "output_type": "execute_result"
    }
   ],
   "source": [
    "f.readline()"
   ]
  },
  {
   "cell_type": "code",
   "execution_count": 75,
   "id": "1d58f3eb",
   "metadata": {},
   "outputs": [],
   "source": [
    "f.close()"
   ]
  },
  {
   "cell_type": "code",
   "execution_count": 83,
   "id": "d0847e4c",
   "metadata": {
    "scrolled": true
   },
   "outputs": [],
   "source": [
    "f = open(\"google.txt\",\"r\")\n"
   ]
  },
  {
   "cell_type": "code",
   "execution_count": 84,
   "id": "abe7b002",
   "metadata": {},
   "outputs": [
    {
     "data": {
      "text/plain": [
       "'The company has since rapidly grown to offer a multitude of products and services b\\neyond Google Search, many of which hold dominant market positions. These products addres\\ns a wide range of use cases, including email (Gmail), navigation (Waze & Maps), cloud co\\n\\nmputing (Cloud), web browsing (Chrome), video sharing (YouTube), productivity (Workspace), \\noperating systems (Android), cloud storage (Drive), language translation (Translate), photo\\n storage (Photos), video calling (Meet), smart home (Nest), smartphones (Pixel), wearable tec\\n\\nhnology (Pixel Watch & Fitbit), music streaming (YouTube Music), video on demand (YouTube TV)\\n, artificial intelligence (Google Assistant), machine learning APIs (TensorFlow), AI chips (TPU),\\n and more. Discontinued Google products include gaming (Stadia), Glass,[citation needed] Google+\\n, Reader, Play Music, Nexus, Hangouts, and Inbox by Gmail'"
      ]
     },
     "execution_count": 84,
     "metadata": {},
     "output_type": "execute_result"
    }
   ],
   "source": [
    "f.read()"
   ]
  },
  {
   "cell_type": "code",
   "execution_count": 85,
   "id": "39a12aec",
   "metadata": {},
   "outputs": [
    {
     "data": {
      "text/plain": [
       "899"
      ]
     },
     "execution_count": 85,
     "metadata": {},
     "output_type": "execute_result"
    }
   ],
   "source": [
    "f.tell()"
   ]
  },
  {
   "cell_type": "code",
   "execution_count": 87,
   "id": "02b4b633",
   "metadata": {},
   "outputs": [
    {
     "data": {
      "text/plain": [
       "0"
      ]
     },
     "execution_count": 87,
     "metadata": {},
     "output_type": "execute_result"
    }
   ],
   "source": [
    "f.seek(0)"
   ]
  },
  {
   "cell_type": "code",
   "execution_count": 89,
   "id": "374aa349",
   "metadata": {},
   "outputs": [
    {
     "data": {
      "text/plain": [
       "0"
      ]
     },
     "execution_count": 89,
     "metadata": {},
     "output_type": "execute_result"
    }
   ],
   "source": [
    "f.tell()"
   ]
  },
  {
   "cell_type": "code",
   "execution_count": 91,
   "id": "c5621236",
   "metadata": {},
   "outputs": [
    {
     "name": "stdout",
     "output_type": "stream",
     "text": [
      "The company has since rapidly grown to offer a multitude of products and services b\n",
      "    eyond Google Search, many of which hold dominant market positions. These products addres\n",
      "    s a wide range of use cases, including email (Gmail), navigation (Waze & Maps), cloud co\n",
      "    \n",
      "    mputing (Cloud), web browsing (Chrome), video sharing (YouTube), productivity (Workspace), \n",
      "    operating systems (Android), cloud storage (Drive), language translation (Translate), photo\n",
      "     storage (Photos), video calling (Meet), smart home (Nest), smartphones (Pixel), wearable tec\n",
      "    \n",
      "    hnology (Pixel Watch & Fitbit), music streaming (YouTube Music), video on demand (YouTube TV)\n",
      "    , artificial intelligence (Google Assistant), machine learning APIs (TensorFlow), AI chips (TPU),\n",
      "     and more. Discontinued Google products include gaming (Stadia), Glass,[citation needed] Google+\n",
      "    , Reader, Play Music, Nexus, Hangouts, and Inbox by Gmail    "
     ]
    }
   ],
   "source": [
    "f = open(\"google.txt\",\"r+\")\n",
    "for i in f:\n",
    "    print(i, end = \"    \")"
   ]
  },
  {
   "cell_type": "code",
   "execution_count": 92,
   "id": "58ea1621",
   "metadata": {},
   "outputs": [
    {
     "data": {
      "text/plain": [
       "5"
      ]
     },
     "execution_count": 92,
     "metadata": {},
     "output_type": "execute_result"
    }
   ],
   "source": [
    "f.write(\"sanju\")  # In case of (r+ ) we can write and read"
   ]
  },
  {
   "cell_type": "code",
   "execution_count": 93,
   "id": "ab2c2fdd",
   "metadata": {},
   "outputs": [],
   "source": [
    "f.close()"
   ]
  },
  {
   "cell_type": "code",
   "execution_count": 94,
   "id": "4db37bc0",
   "metadata": {},
   "outputs": [],
   "source": [
    "f = open(\"google.txt\",\"r\")"
   ]
  },
  {
   "cell_type": "code",
   "execution_count": 95,
   "id": "46122fd5",
   "metadata": {},
   "outputs": [
    {
     "ename": "UnsupportedOperation",
     "evalue": "not writable",
     "output_type": "error",
     "traceback": [
      "\u001b[1;31m---------------------------------------------------------------------------\u001b[0m",
      "\u001b[1;31mUnsupportedOperation\u001b[0m                      Traceback (most recent call last)",
      "\u001b[1;32m~\\AppData\\Local\\Temp\\ipykernel_17316\\1537640981.py\u001b[0m in \u001b[0;36m<module>\u001b[1;34m\u001b[0m\n\u001b[1;32m----> 1\u001b[1;33m \u001b[0mf\u001b[0m\u001b[1;33m.\u001b[0m\u001b[0mwrite\u001b[0m\u001b[1;33m(\u001b[0m\u001b[1;34m\"sanju\"\u001b[0m\u001b[1;33m)\u001b[0m\u001b[1;33m\u001b[0m\u001b[1;33m\u001b[0m\u001b[0m\n\u001b[0m",
      "\u001b[1;31mUnsupportedOperation\u001b[0m: not writable"
     ]
    }
   ],
   "source": [
    "f.write(\"sanju\")  # In case of read we are not able to write but in case of (r+ ) we can write and read"
   ]
  },
  {
   "cell_type": "code",
   "execution_count": 97,
   "id": "a4c52175",
   "metadata": {},
   "outputs": [],
   "source": [
    "f = open(\"google.txt\",\"r+\")"
   ]
  },
  {
   "cell_type": "code",
   "execution_count": 98,
   "id": "0aae3a6b",
   "metadata": {},
   "outputs": [
    {
     "data": {
      "text/plain": [
       "0"
      ]
     },
     "execution_count": 98,
     "metadata": {},
     "output_type": "execute_result"
    }
   ],
   "source": [
    "f.tell()"
   ]
  },
  {
   "cell_type": "code",
   "execution_count": 99,
   "id": "ff867c07",
   "metadata": {},
   "outputs": [
    {
     "data": {
      "text/plain": [
       "2"
      ]
     },
     "execution_count": 99,
     "metadata": {},
     "output_type": "execute_result"
    }
   ],
   "source": [
    "f.seek(2)"
   ]
  },
  {
   "cell_type": "code",
   "execution_count": 100,
   "id": "5fab4b7c",
   "metadata": {},
   "outputs": [
    {
     "data": {
      "text/plain": [
       "2"
      ]
     },
     "execution_count": 100,
     "metadata": {},
     "output_type": "execute_result"
    }
   ],
   "source": [
    "f.tell()"
   ]
  },
  {
   "cell_type": "code",
   "execution_count": 102,
   "id": "d8b39e88",
   "metadata": {},
   "outputs": [
    {
     "name": "stdout",
     "output_type": "stream",
     "text": [
      "The company has since rapidly grown to offer a multitude of products and services b\n",
      " Sanjay  eyond Google Search, many of which hold dominant market positions. These products addres\n",
      " Sanjay  s a wide range of use cases, including email (Gmail), navigation (Waze & Maps), cloud co\n",
      " Sanjay  \n",
      " Sanjay  mputing (Cloud), web browsing (Chrome), video sharing (YouTube), productivity (Workspace), \n",
      " Sanjay  operating systems (Android), cloud storage (Drive), language translation (Translate), photo\n",
      " Sanjay   storage (Photos), video calling (Meet), smart home (Nest), smartphones (Pixel), wearable tec\n",
      " Sanjay  \n",
      " Sanjay  hnology (Pixel Watch & Fitbit), music streaming (YouTube Music), video on demand (YouTube TV)\n",
      " Sanjay  , artificial intelligence (Google Assistant), machine learning APIs (TensorFlow), AI chips (TPU),\n",
      " Sanjay   and more. Discontinued Google products include gaming (Stadia), Glass,[citation needed] Google+\n",
      " Sanjay  , Reader, Play Music, Nexus, Hangouts, and Inbox by Gmailsanju Sanjay  "
     ]
    }
   ],
   "source": [
    "f = open(\"google.txt\",\"r+\")\n",
    "for i in f:\n",
    "    print(i, \"Sanjay\", end = \"  \")"
   ]
  },
  {
   "cell_type": "code",
   "execution_count": 1,
   "id": "3209faa9",
   "metadata": {},
   "outputs": [
    {
     "name": "stdout",
     "output_type": "stream",
     "text": [
      "90\n"
     ]
    }
   ],
   "source": [
    "print(90)"
   ]
  },
  {
   "cell_type": "code",
   "execution_count": 8,
   "id": "4a5ac288",
   "metadata": {},
   "outputs": [],
   "source": [
    "f = open(\"google.txt\",\"r+\")"
   ]
  },
  {
   "cell_type": "code",
   "execution_count": 9,
   "id": "3da4dac4",
   "metadata": {},
   "outputs": [
    {
     "data": {
      "text/plain": [
       "['The comYou are insenic momment of n to offer a multitude of products and services b\\n',\n",
       " 'eyond Google Search, many of which hold dominant market positions. These products addres\\n',\n",
       " 's a wide range of use cases, including email (Gmail), navigation (Waze & Maps), cloud co\\n',\n",
       " '\\n',\n",
       " 'mputing (Cloud), web browsing (Chrome), video sharing (YouTube), productivity (Workspace), \\n',\n",
       " 'operating systems (Android), cloud storage (Drive), language translation (Translate), photo\\n',\n",
       " ' storage (Photos), video calling (Meet), smart home (Nest), smartphones (Pixel), wearable tec\\n',\n",
       " '\\n',\n",
       " 'hnology (Pixel Watch & Fitbit), music streaming (YouTube Music), video on demand (YouTube TV)\\n',\n",
       " ', artificial intelligence (Google Assistant), machine learning APIs (TensorFlow), AI chips (TPU),\\n',\n",
       " ' and more. Discontinued Google products include gaming (Stadia), Glass,[citation needed] Google+\\n',\n",
       " ', Reader, Play Music, Nexus, Hangouts, and Inbox by Gmailsanju']"
      ]
     },
     "execution_count": 9,
     "metadata": {},
     "output_type": "execute_result"
    }
   ],
   "source": [
    "f.readlines()  # It will gives inside list"
   ]
  },
  {
   "cell_type": "code",
   "execution_count": 11,
   "id": "6e171009",
   "metadata": {},
   "outputs": [
    {
     "data": {
      "text/plain": [
       "0"
      ]
     },
     "execution_count": 11,
     "metadata": {},
     "output_type": "execute_result"
    }
   ],
   "source": [
    "len(f.readlines())"
   ]
  },
  {
   "cell_type": "code",
   "execution_count": 4,
   "id": "2958710f",
   "metadata": {},
   "outputs": [],
   "source": [
    "f.close()"
   ]
  },
  {
   "cell_type": "code",
   "execution_count": 15,
   "id": "a2fc1132",
   "metadata": {},
   "outputs": [],
   "source": [
    "l = f.readlines()"
   ]
  },
  {
   "cell_type": "code",
   "execution_count": 16,
   "id": "31a04fb8",
   "metadata": {},
   "outputs": [
    {
     "data": {
      "text/plain": [
       "[]"
      ]
     },
     "execution_count": 16,
     "metadata": {},
     "output_type": "execute_result"
    }
   ],
   "source": [
    "l"
   ]
  },
  {
   "cell_type": "code",
   "execution_count": 17,
   "id": "2340ceef",
   "metadata": {},
   "outputs": [],
   "source": [
    "f = open(\"google.txt\",\"r+\")"
   ]
  },
  {
   "cell_type": "code",
   "execution_count": 18,
   "id": "0040801b",
   "metadata": {},
   "outputs": [
    {
     "data": {
      "text/plain": [
       "['The comYou are insenic momment of n to offer a multitude of products and services b\\n',\n",
       " 'eyond Google Search, many of which hold dominant market positions. These products addres\\n',\n",
       " 's a wide range of use cases, including email (Gmail), navigation (Waze & Maps), cloud co\\n',\n",
       " '\\n',\n",
       " 'mputing (Cloud), web browsing (Chrome), video sharing (YouTube), productivity (Workspace), \\n',\n",
       " 'operating systems (Android), cloud storage (Drive), language translation (Translate), photo\\n',\n",
       " ' storage (Photos), video calling (Meet), smart home (Nest), smartphones (Pixel), wearable tec\\n',\n",
       " '\\n',\n",
       " 'hnology (Pixel Watch & Fitbit), music streaming (YouTube Music), video on demand (YouTube TV)\\n',\n",
       " ', artificial intelligence (Google Assistant), machine learning APIs (TensorFlow), AI chips (TPU),\\n',\n",
       " ' and more. Discontinued Google products include gaming (Stadia), Glass,[citation needed] Google+\\n',\n",
       " ', Reader, Play Music, Nexus, Hangouts, and Inbox by Gmailsanju']"
      ]
     },
     "execution_count": 18,
     "metadata": {},
     "output_type": "execute_result"
    }
   ],
   "source": [
    "f.readlines()"
   ]
  },
  {
   "cell_type": "code",
   "execution_count": 19,
   "id": "121600ff",
   "metadata": {},
   "outputs": [
    {
     "data": {
      "text/plain": [
       "0"
      ]
     },
     "execution_count": 19,
     "metadata": {},
     "output_type": "execute_result"
    }
   ],
   "source": [
    "len(f.readlines())"
   ]
  },
  {
   "cell_type": "code",
   "execution_count": 20,
   "id": "8f888936",
   "metadata": {},
   "outputs": [],
   "source": [
    "l = f.readlines()"
   ]
  },
  {
   "cell_type": "code",
   "execution_count": 21,
   "id": "4db5797d",
   "metadata": {},
   "outputs": [
    {
     "ename": "IndexError",
     "evalue": "list index out of range",
     "output_type": "error",
     "traceback": [
      "\u001b[1;31m---------------------------------------------------------------------------\u001b[0m",
      "\u001b[1;31mIndexError\u001b[0m                                Traceback (most recent call last)",
      "\u001b[1;32m~\\AppData\\Local\\Temp\\ipykernel_14252\\3849991813.py\u001b[0m in \u001b[0;36m<module>\u001b[1;34m\u001b[0m\n\u001b[1;32m----> 1\u001b[1;33m \u001b[0ml\u001b[0m\u001b[1;33m[\u001b[0m\u001b[1;36m0\u001b[0m\u001b[1;33m]\u001b[0m\u001b[1;33m\u001b[0m\u001b[1;33m\u001b[0m\u001b[0m\n\u001b[0m",
      "\u001b[1;31mIndexError\u001b[0m: list index out of range"
     ]
    }
   ],
   "source": [
    "l[0]"
   ]
  },
  {
   "cell_type": "code",
   "execution_count": 22,
   "id": "eaa00382",
   "metadata": {},
   "outputs": [
    {
     "data": {
      "text/plain": [
       "904"
      ]
     },
     "execution_count": 22,
     "metadata": {},
     "output_type": "execute_result"
    }
   ],
   "source": [
    "f.tell()"
   ]
  },
  {
   "cell_type": "code",
   "execution_count": 23,
   "id": "b83102e4",
   "metadata": {},
   "outputs": [
    {
     "data": {
      "text/plain": [
       "8"
      ]
     },
     "execution_count": 23,
     "metadata": {},
     "output_type": "execute_result"
    }
   ],
   "source": [
    "f.seek(8)"
   ]
  },
  {
   "cell_type": "code",
   "execution_count": 24,
   "id": "d13c3601",
   "metadata": {},
   "outputs": [
    {
     "data": {
      "text/plain": [
       "8"
      ]
     },
     "execution_count": 24,
     "metadata": {},
     "output_type": "execute_result"
    }
   ],
   "source": [
    "f.tell()"
   ]
  },
  {
   "cell_type": "code",
   "execution_count": 25,
   "id": "961f203c",
   "metadata": {},
   "outputs": [
    {
     "data": {
      "text/plain": [
       "12"
      ]
     },
     "execution_count": 25,
     "metadata": {},
     "output_type": "execute_result"
    }
   ],
   "source": [
    "len(f.readlines())"
   ]
  },
  {
   "cell_type": "code",
   "execution_count": 26,
   "id": "eac1c118",
   "metadata": {},
   "outputs": [],
   "source": [
    "l = f.readlines()"
   ]
  },
  {
   "cell_type": "code",
   "execution_count": 27,
   "id": "7a5b81cb",
   "metadata": {},
   "outputs": [
    {
     "ename": "IndexError",
     "evalue": "list index out of range",
     "output_type": "error",
     "traceback": [
      "\u001b[1;31m---------------------------------------------------------------------------\u001b[0m",
      "\u001b[1;31mIndexError\u001b[0m                                Traceback (most recent call last)",
      "\u001b[1;32m~\\AppData\\Local\\Temp\\ipykernel_14252\\3849991813.py\u001b[0m in \u001b[0;36m<module>\u001b[1;34m\u001b[0m\n\u001b[1;32m----> 1\u001b[1;33m \u001b[0ml\u001b[0m\u001b[1;33m[\u001b[0m\u001b[1;36m0\u001b[0m\u001b[1;33m]\u001b[0m\u001b[1;33m\u001b[0m\u001b[1;33m\u001b[0m\u001b[0m\n\u001b[0m",
      "\u001b[1;31mIndexError\u001b[0m: list index out of range"
     ]
    }
   ],
   "source": [
    "l[0]"
   ]
  },
  {
   "cell_type": "code",
   "execution_count": 28,
   "id": "01916885",
   "metadata": {},
   "outputs": [
    {
     "data": {
      "text/plain": [
       "[]"
      ]
     },
     "execution_count": 28,
     "metadata": {},
     "output_type": "execute_result"
    }
   ],
   "source": [
    "l"
   ]
  },
  {
   "cell_type": "code",
   "execution_count": 30,
   "id": "d78c9af9",
   "metadata": {},
   "outputs": [],
   "source": [
    "f = open(\"facebook.txt\",\"w\")"
   ]
  },
  {
   "cell_type": "code",
   "execution_count": 34,
   "id": "a7f41eb5",
   "metadata": {},
   "outputs": [
    {
     "ename": "ValueError",
     "evalue": "I/O operation on closed file.",
     "output_type": "error",
     "traceback": [
      "\u001b[1;31m---------------------------------------------------------------------------\u001b[0m",
      "\u001b[1;31mValueError\u001b[0m                                Traceback (most recent call last)",
      "\u001b[1;32m~\\AppData\\Local\\Temp\\ipykernel_14252\\696221159.py\u001b[0m in \u001b[0;36m<module>\u001b[1;34m\u001b[0m\n\u001b[1;32m----> 1\u001b[1;33m f.write(\"\"\"The subject of numerous controversies, Facebook has often been criticized over issues such\n\u001b[0m\u001b[0;32m      2\u001b[0m as user privacy (as with the Cambridge Analytica data scandal), political manipulation (as with the 2\n\u001b[0;32m      3\u001b[0m 016 U.S. elections) and mass surveillance.[9] Facebook has also been subject to criticism over psychol\n\u001b[0;32m      4\u001b[0m \u001b[0mogical\u001b[0m \u001b[0meffects\u001b[0m \u001b[0msuch\u001b[0m \u001b[1;32mas\u001b[0m \u001b[0maddiction\u001b[0m \u001b[1;32mand\u001b[0m \u001b[0mlow\u001b[0m \u001b[0mself\u001b[0m\u001b[1;33m-\u001b[0m\u001b[0mesteem\u001b[0m\u001b[1;33m,\u001b[0m \u001b[1;32mand\u001b[0m \u001b[0mvarious\u001b[0m \u001b[0mcontroversies\u001b[0m \u001b[0mover\u001b[0m \u001b[0mcontent\u001b[0m \u001b[0msuch\u001b[0m \u001b[1;32mas\u001b[0m \u001b[0mfa\u001b[0m\u001b[1;33m\u001b[0m\u001b[1;33m\u001b[0m\u001b[0m\n\u001b[0;32m      5\u001b[0m \u001b[0mke\u001b[0m \u001b[0mnews\u001b[0m\u001b[1;33m,\u001b[0m \u001b[0mconspiracy\u001b[0m \u001b[0mtheories\u001b[0m\u001b[1;33m,\u001b[0m \u001b[0mcopyright\u001b[0m \u001b[0minfringement\u001b[0m\u001b[1;33m,\u001b[0m \u001b[1;32mand\u001b[0m \u001b[0mhate\u001b[0m \u001b[0mspeech\u001b[0m\u001b[1;33m.\u001b[0m\u001b[1;33m[\u001b[0m\u001b[1;36m10\u001b[0m\u001b[1;33m]\u001b[0m \u001b[0mCommentators\u001b[0m \u001b[0mhave\u001b[0m \u001b[0maccused\u001b[0m \u001b[0mFa\u001b[0m\u001b[1;33m\u001b[0m\u001b[1;33m\u001b[0m\u001b[0m\n",
      "\u001b[1;31mValueError\u001b[0m: I/O operation on closed file."
     ]
    }
   ],
   "source": [
    "f.write(\"\"\"The subject of numerous controversies, Facebook has often been criticized over issues such\n",
    "as user privacy (as with the Cambridge Analytica data scandal), political manipulation (as with the 2\n",
    "016 U.S. elections) and mass surveillance.[9] Facebook has also been subject to criticism over psychol\n",
    "ogical effects such as addiction and low self-esteem, and various controversies over content such as fa\n",
    "ke news, conspiracy theories, copyright infringement, and hate speech.[10] Commentators have accused Fa\n",
    "cebook of willingly facilitating the spread of such content,[11][12][13][14][15][16] as well as exagger\n",
    "ating its number of users to appeal to advertisers.[17]\"\"\")"
   ]
  },
  {
   "cell_type": "code",
   "execution_count": 32,
   "id": "f0d9cb82",
   "metadata": {},
   "outputs": [
    {
     "data": {
      "text/plain": [
       "658"
      ]
     },
     "execution_count": 32,
     "metadata": {},
     "output_type": "execute_result"
    }
   ],
   "source": [
    "f.tell()"
   ]
  },
  {
   "cell_type": "code",
   "execution_count": 33,
   "id": "3d99a114",
   "metadata": {},
   "outputs": [],
   "source": [
    "f.close()"
   ]
  },
  {
   "cell_type": "code",
   "execution_count": 35,
   "id": "3299db9a",
   "metadata": {},
   "outputs": [],
   "source": [
    "f = open(\"facebook.txt\",\"r+\")"
   ]
  },
  {
   "cell_type": "code",
   "execution_count": 37,
   "id": "c10f7eb6",
   "metadata": {},
   "outputs": [
    {
     "data": {
      "text/plain": [
       "'The subject of numerous controversies, Facebook has often been criticized over issues such as user privacy (as with the Cambridge Analytica data scandal), political manipulation (as with the 2016 U.S. elections) and mass surveillance.[9] Facebook has also been subject to criticism over psychological effects such as addiction and low self-esteem, and various controversies over content such as fake news, conspiracy theories, copyright infringement, and hate speech.[10] Commentators have accused Facebook of willingly facilitating the spread of such content,[11][12][13][14][15][16] as well as exaggerating its number of users to appeal to advertisers.[17]'"
      ]
     },
     "execution_count": 37,
     "metadata": {},
     "output_type": "execute_result"
    }
   ],
   "source": [
    "f.read()"
   ]
  },
  {
   "cell_type": "code",
   "execution_count": 39,
   "id": "ead3fdac",
   "metadata": {},
   "outputs": [],
   "source": [
    "f.close()"
   ]
  },
  {
   "cell_type": "code",
   "execution_count": 41,
   "id": "d5533348",
   "metadata": {},
   "outputs": [],
   "source": [
    "f = open(\"facebook.txt\",\"r+\")"
   ]
  },
  {
   "cell_type": "code",
   "execution_count": 42,
   "id": "905b2909",
   "metadata": {},
   "outputs": [
    {
     "data": {
      "text/plain": [
       "'The subject of numerous controversies, Facebook has often been criticized over issues such as user privacy (as with the Cambridge Analytica data scandal), political manipulation (as with the 2016 U.S. elections) and mass surveillance.[9] Facebook has also been subject to criticism over psychological effects such as addiction and low self-esteem, and various controversies over content such as fake news, conspiracy theories, copyright infringement, and hate speech.[10] Commentators have accused Facebook of willingly facilitating the spread of such content,[11][12][13][14][15][16] as well as exaggerating its number of users to appeal to advertisers.[17]'"
      ]
     },
     "execution_count": 42,
     "metadata": {},
     "output_type": "execute_result"
    }
   ],
   "source": [
    "f.readline()"
   ]
  },
  {
   "cell_type": "code",
   "execution_count": 43,
   "id": "5c47d502",
   "metadata": {},
   "outputs": [],
   "source": [
    "f.close()"
   ]
  },
  {
   "cell_type": "code",
   "execution_count": 54,
   "id": "7eac8be4",
   "metadata": {},
   "outputs": [
    {
     "name": "stdout",
     "output_type": "stream",
     "text": [
      "The subject of numerous controversies, Facebook has often been criticized over issues such as user privacy (as with the Cambridge Analytica data scandal), political manipulation (as with the 2016 U.S. elections) and mass surveillance.[9] Facebook has also been subject to criticism over psychological effects such as addiction and low self-esteem, and various controversies over content such as fake news, conspiracy theories, copyright infringement, and hate speech.[10] Commentators have accused Facebook of willingly facilitating the spread of such content,[11][12][13][14][15][16] as well as exaggerating its number of users to appeal to advertisers.[17] ,,   "
     ]
    }
   ],
   "source": [
    "f = open(\"facebook.txt\",\"r+\")\n",
    "for line in f:\n",
    "    print(line, end = \" ,,   \")"
   ]
  },
  {
   "cell_type": "code",
   "execution_count": 47,
   "id": "da730331",
   "metadata": {},
   "outputs": [
    {
     "data": {
      "text/plain": [
       "''"
      ]
     },
     "execution_count": 47,
     "metadata": {},
     "output_type": "execute_result"
    }
   ],
   "source": [
    "f.readline()"
   ]
  },
  {
   "cell_type": "code",
   "execution_count": 48,
   "id": "b6f861d8",
   "metadata": {},
   "outputs": [
    {
     "data": {
      "text/plain": [
       "658"
      ]
     },
     "execution_count": 48,
     "metadata": {},
     "output_type": "execute_result"
    }
   ],
   "source": [
    "f.tell()"
   ]
  },
  {
   "cell_type": "code",
   "execution_count": 50,
   "id": "e50f4d4d",
   "metadata": {},
   "outputs": [
    {
     "data": {
      "text/plain": [
       "10"
      ]
     },
     "execution_count": 50,
     "metadata": {},
     "output_type": "execute_result"
    }
   ],
   "source": [
    "f.seek(10)"
   ]
  },
  {
   "cell_type": "code",
   "execution_count": 51,
   "id": "5097b46c",
   "metadata": {},
   "outputs": [
    {
     "data": {
      "text/plain": [
       "10"
      ]
     },
     "execution_count": 51,
     "metadata": {},
     "output_type": "execute_result"
    }
   ],
   "source": [
    "f.tell()"
   ]
  },
  {
   "cell_type": "code",
   "execution_count": 55,
   "id": "1bf0b96b",
   "metadata": {},
   "outputs": [
    {
     "data": {
      "text/plain": [
       "''"
      ]
     },
     "execution_count": 55,
     "metadata": {},
     "output_type": "execute_result"
    }
   ],
   "source": [
    "f.readline()"
   ]
  },
  {
   "cell_type": "code",
   "execution_count": 56,
   "id": "8bd6e484",
   "metadata": {},
   "outputs": [
    {
     "data": {
      "text/plain": [
       "[]"
      ]
     },
     "execution_count": 56,
     "metadata": {},
     "output_type": "execute_result"
    }
   ],
   "source": [
    "f.readlines()"
   ]
  },
  {
   "cell_type": "code",
   "execution_count": 57,
   "id": "162d0019",
   "metadata": {},
   "outputs": [],
   "source": [
    "f = open(\"free.txt\",\"w\")"
   ]
  },
  {
   "cell_type": "code",
   "execution_count": 58,
   "id": "f28c8fe9",
   "metadata": {},
   "outputs": [
    {
     "data": {
      "text/plain": [
       "670"
      ]
     },
     "execution_count": 58,
     "metadata": {},
     "output_type": "execute_result"
    }
   ],
   "source": [
    "f.write(\"\"\"\n",
    "The subject of numerous controversies, Facebook has often been criticized over issue\n",
    "s such as user privacy (as with the Cambridge Analytica data scandal), political manipul\n",
    "\n",
    "ation (as with the 2016 U.S. elections) and mass surveillance.[9] Facebook has also been sub\n",
    "ject to criticism over psychological effects such as addiction and low self-esteem, and vari\n",
    "\n",
    "ous controversies over content such as fake news, conspiracy theories, copyright infringeme\n",
    "\n",
    "\n",
    "nt, and hate speech.[10] Commentators have accused Facebook of willingly facilitating the spread of such cont\n",
    "ent,[11][12][13][14][15][16] as well as exaggerating its number of users to appeal to advertisers.[17]\n",
    "\"\"\")"
   ]
  },
  {
   "cell_type": "code",
   "execution_count": 59,
   "id": "552c8a65",
   "metadata": {},
   "outputs": [],
   "source": [
    "f.close()"
   ]
  },
  {
   "cell_type": "code",
   "execution_count": 60,
   "id": "198b0753",
   "metadata": {},
   "outputs": [],
   "source": [
    "f = open(\"free.txt\",\"r+\")"
   ]
  },
  {
   "cell_type": "code",
   "execution_count": 61,
   "id": "b5fe769a",
   "metadata": {},
   "outputs": [
    {
     "data": {
      "text/plain": [
       "'\\n'"
      ]
     },
     "execution_count": 61,
     "metadata": {},
     "output_type": "execute_result"
    }
   ],
   "source": [
    "f.readline()"
   ]
  },
  {
   "cell_type": "code",
   "execution_count": 62,
   "id": "10a141f8",
   "metadata": {},
   "outputs": [
    {
     "data": {
      "text/plain": [
       "'The subject of numerous controversies, Facebook has often been criticized over issue\\n'"
      ]
     },
     "execution_count": 62,
     "metadata": {},
     "output_type": "execute_result"
    }
   ],
   "source": [
    "f.readline()"
   ]
  },
  {
   "cell_type": "code",
   "execution_count": 63,
   "id": "420816e1",
   "metadata": {},
   "outputs": [
    {
     "data": {
      "text/plain": [
       "'s such as user privacy (as with the Cambridge Analytica data scandal), political manipul\\n'"
      ]
     },
     "execution_count": 63,
     "metadata": {},
     "output_type": "execute_result"
    }
   ],
   "source": [
    "f.readline()"
   ]
  },
  {
   "cell_type": "code",
   "execution_count": 64,
   "id": "60b1cc05",
   "metadata": {},
   "outputs": [
    {
     "data": {
      "text/plain": [
       "178"
      ]
     },
     "execution_count": 64,
     "metadata": {},
     "output_type": "execute_result"
    }
   ],
   "source": [
    "f.tell()"
   ]
  },
  {
   "cell_type": "code",
   "execution_count": 65,
   "id": "8fdd0b74",
   "metadata": {},
   "outputs": [
    {
     "ename": "TypeError",
     "evalue": "seek expected at least 1 argument, got 0",
     "output_type": "error",
     "traceback": [
      "\u001b[1;31m---------------------------------------------------------------------------\u001b[0m",
      "\u001b[1;31mTypeError\u001b[0m                                 Traceback (most recent call last)",
      "\u001b[1;32m~\\AppData\\Local\\Temp\\ipykernel_14252\\439553891.py\u001b[0m in \u001b[0;36m<module>\u001b[1;34m\u001b[0m\n\u001b[1;32m----> 1\u001b[1;33m \u001b[0mf\u001b[0m\u001b[1;33m.\u001b[0m\u001b[0mseek\u001b[0m\u001b[1;33m(\u001b[0m\u001b[1;33m)\u001b[0m\u001b[1;33m\u001b[0m\u001b[1;33m\u001b[0m\u001b[0m\n\u001b[0m",
      "\u001b[1;31mTypeError\u001b[0m: seek expected at least 1 argument, got 0"
     ]
    }
   ],
   "source": [
    "f.seek()"
   ]
  },
  {
   "cell_type": "code",
   "execution_count": 66,
   "id": "f28fb4e6",
   "metadata": {},
   "outputs": [
    {
     "data": {
      "text/plain": [
       "'\\n'"
      ]
     },
     "execution_count": 66,
     "metadata": {},
     "output_type": "execute_result"
    }
   ],
   "source": [
    "f.readline()"
   ]
  },
  {
   "cell_type": "code",
   "execution_count": 67,
   "id": "0a2394bb",
   "metadata": {},
   "outputs": [
    {
     "data": {
      "text/plain": [
       "'ation (as with the 2016 U.S. elections) and mass surveillance.[9] Facebook has also been sub\\n'"
      ]
     },
     "execution_count": 67,
     "metadata": {},
     "output_type": "execute_result"
    }
   ],
   "source": [
    "f.readline() # readline is always gives line to line action of code"
   ]
  },
  {
   "cell_type": "code",
   "execution_count": 68,
   "id": "0358175f",
   "metadata": {},
   "outputs": [
    {
     "data": {
      "text/plain": [
       "90"
      ]
     },
     "execution_count": 68,
     "metadata": {},
     "output_type": "execute_result"
    }
   ],
   "source": [
    "f.seek(90)"
   ]
  },
  {
   "cell_type": "code",
   "execution_count": 69,
   "id": "6d408c6f",
   "metadata": {},
   "outputs": [
    {
     "data": {
      "text/plain": [
       "90"
      ]
     },
     "execution_count": 69,
     "metadata": {},
     "output_type": "execute_result"
    }
   ],
   "source": [
    "f.tell()"
   ]
  },
  {
   "cell_type": "code",
   "execution_count": 70,
   "id": "1910951c",
   "metadata": {},
   "outputs": [
    {
     "data": {
      "text/plain": [
       "28"
      ]
     },
     "execution_count": 70,
     "metadata": {},
     "output_type": "execute_result"
    }
   ],
   "source": [
    "f.write(\"uireiuhfiorejofijerogjioerjg\")"
   ]
  },
  {
   "cell_type": "code",
   "execution_count": 71,
   "id": "4ef10215",
   "metadata": {},
   "outputs": [],
   "source": [
    "f.close()"
   ]
  },
  {
   "cell_type": "code",
   "execution_count": 75,
   "id": "5ddb0481",
   "metadata": {},
   "outputs": [],
   "source": [
    "f = open(\"free.txt\",\"r+\")"
   ]
  },
  {
   "cell_type": "code",
   "execution_count": 76,
   "id": "39d54b9e",
   "metadata": {},
   "outputs": [
    {
     "data": {
      "text/plain": [
       "['\\n',\n",
       " 'The subject of numerous controversies, Facebook has often been criticized over issue\\n',\n",
       " 's uireiuhfiorejofijerogjioerjgh the Cambridge Analytica data scandal), political manipul\\n',\n",
       " '\\n',\n",
       " 'ation (as with the 2016 U.S. elections) and mass surveillance.[9] Facebook has also been sub\\n',\n",
       " 'ject to criticism over psychological effects such as addiction and low self-esteem, and vari\\n',\n",
       " '\\n',\n",
       " 'ous controversies over content such as fake news, conspiracy theories, copyright infringeme\\n',\n",
       " '\\n',\n",
       " '\\n',\n",
       " 'nt, and hate speech.[10] Commentators have accused Facebook of willingly facilitating the spread of such cont\\n',\n",
       " 'ent,[11][12][13][14][15][16] as well as exaggerating its number of users to appeal to advertisers.[17]\\n']"
      ]
     },
     "execution_count": 76,
     "metadata": {},
     "output_type": "execute_result"
    }
   ],
   "source": [
    "f.readlines()  # extract all the line inside the list"
   ]
  },
  {
   "cell_type": "code",
   "execution_count": 78,
   "id": "f1a4c4b3",
   "metadata": {},
   "outputs": [
    {
     "data": {
      "text/plain": [
       "682"
      ]
     },
     "execution_count": 78,
     "metadata": {},
     "output_type": "execute_result"
    }
   ],
   "source": [
    "f.tell()"
   ]
  },
  {
   "cell_type": "code",
   "execution_count": 79,
   "id": "dd52a2a0",
   "metadata": {},
   "outputs": [
    {
     "data": {
      "text/plain": [
       "20"
      ]
     },
     "execution_count": 79,
     "metadata": {},
     "output_type": "execute_result"
    }
   ],
   "source": [
    "f.seek(20)"
   ]
  },
  {
   "cell_type": "code",
   "execution_count": 80,
   "id": "9e73dabc",
   "metadata": {},
   "outputs": [
    {
     "data": {
      "text/plain": [
       "11"
      ]
     },
     "execution_count": 80,
     "metadata": {},
     "output_type": "execute_result"
    }
   ],
   "source": [
    "len(f.readlines())"
   ]
  },
  {
   "cell_type": "code",
   "execution_count": 81,
   "id": "102da3e5",
   "metadata": {},
   "outputs": [],
   "source": [
    "l = f.readlines()"
   ]
  },
  {
   "cell_type": "code",
   "execution_count": 82,
   "id": "73b3da9c",
   "metadata": {},
   "outputs": [
    {
     "data": {
      "text/plain": [
       "[]"
      ]
     },
     "execution_count": 82,
     "metadata": {},
     "output_type": "execute_result"
    }
   ],
   "source": [
    "l"
   ]
  },
  {
   "cell_type": "code",
   "execution_count": 84,
   "id": "a6fb5a18",
   "metadata": {},
   "outputs": [],
   "source": [
    "f.close()\n"
   ]
  },
  {
   "cell_type": "code",
   "execution_count": 86,
   "id": "bc4d5afe",
   "metadata": {},
   "outputs": [],
   "source": [
    "f = open(\"free.txt\",\"r+\")"
   ]
  },
  {
   "cell_type": "code",
   "execution_count": 87,
   "id": "21f23299",
   "metadata": {},
   "outputs": [
    {
     "data": {
      "text/plain": [
       "5"
      ]
     },
     "execution_count": 87,
     "metadata": {},
     "output_type": "execute_result"
    }
   ],
   "source": [
    "f.seek(5)"
   ]
  },
  {
   "cell_type": "code",
   "execution_count": 88,
   "id": "bf56af98",
   "metadata": {},
   "outputs": [
    {
     "data": {
      "text/plain": [
       "[' subject of numerous controversies, Facebook has often been criticized over issue\\n',\n",
       " 's uireiuhfiorejofijerogjioerjgh the Cambridge Analytica data scandal), political manipul\\n',\n",
       " '\\n',\n",
       " 'ation (as with the 2016 U.S. elections) and mass surveillance.[9] Facebook has also been sub\\n',\n",
       " 'ject to criticism over psychological effects such as addiction and low self-esteem, and vari\\n',\n",
       " '\\n',\n",
       " 'ous controversies over content such as fake news, conspiracy theories, copyright infringeme\\n',\n",
       " '\\n',\n",
       " '\\n',\n",
       " 'nt, and hate speech.[10] Commentators have accused Facebook of willingly facilitating the spread of such cont\\n',\n",
       " 'ent,[11][12][13][14][15][16] as well as exaggerating its number of users to appeal to advertisers.[17]\\n']"
      ]
     },
     "execution_count": 88,
     "metadata": {},
     "output_type": "execute_result"
    }
   ],
   "source": [
    "f.readlines()"
   ]
  },
  {
   "cell_type": "code",
   "execution_count": 91,
   "id": "1809ce01",
   "metadata": {},
   "outputs": [
    {
     "data": {
      "text/plain": [
       "86"
      ]
     },
     "execution_count": 91,
     "metadata": {},
     "output_type": "execute_result"
    }
   ],
   "source": [
    "f.write(\"iujefbhvjkfdhnviokdjnvoikdfnlivnldfnvkldnvlkdnvklndklfnvklndfnvkldfnvlkdfnvlkdfnvkldfn\")"
   ]
  },
  {
   "cell_type": "code",
   "execution_count": 92,
   "id": "15468927",
   "metadata": {},
   "outputs": [],
   "source": [
    "f.close()"
   ]
  },
  {
   "cell_type": "code",
   "execution_count": 89,
   "id": "018dca6b",
   "metadata": {},
   "outputs": [],
   "source": [
    "l = f.readlines()"
   ]
  },
  {
   "cell_type": "code",
   "execution_count": 90,
   "id": "0ba18238",
   "metadata": {},
   "outputs": [
    {
     "data": {
      "text/plain": [
       "[]"
      ]
     },
     "execution_count": 90,
     "metadata": {},
     "output_type": "execute_result"
    }
   ],
   "source": [
    "l"
   ]
  },
  {
   "cell_type": "code",
   "execution_count": 93,
   "id": "7d225247",
   "metadata": {},
   "outputs": [],
   "source": [
    "f = open(\"free.txt\",\"r+\")"
   ]
  },
  {
   "cell_type": "code",
   "execution_count": 94,
   "id": "1599d5c5",
   "metadata": {},
   "outputs": [
    {
     "data": {
      "text/plain": [
       "['\\n',\n",
       " 'The subject of numerous controversies, Facebook has often been criticized over issue\\n',\n",
       " 's uireiuhfiorejofijerogjioerjgh the Cambridge Analytica data scandal), political manipul\\n',\n",
       " '\\n',\n",
       " 'ation (as with the 2016 U.S. elections) and mass surveillance.[9] Facebook has also been sub\\n',\n",
       " 'ject to criticism over psychological effects such as addiction and low self-esteem, and vari\\n',\n",
       " '\\n',\n",
       " 'ous controversies over content such as fake news, conspiracy theories, copyright infringeme\\n',\n",
       " '\\n',\n",
       " '\\n',\n",
       " 'nt, and hate speech.[10] Commentators have accused Facebook of willingly facilitating the spread of such cont\\n',\n",
       " 'ent,[11][12][13][14][15][16] as well as exaggerating its number of users to appeal to advertisers.[17]\\n',\n",
       " 'iujefbhvjkfdhnviokdjnvoikdfnlivnldfnvkldnvlkdnvklndklfnvklndfnvkldfnvlkdfnvlkdfnvkldfn']"
      ]
     },
     "execution_count": 94,
     "metadata": {},
     "output_type": "execute_result"
    }
   ],
   "source": [
    "f.readlines()"
   ]
  },
  {
   "cell_type": "code",
   "execution_count": 99,
   "id": "efe0438a",
   "metadata": {},
   "outputs": [],
   "source": [
    "f = open(\"free.txt\",\"r+\")"
   ]
  },
  {
   "cell_type": "code",
   "execution_count": 100,
   "id": "e78e6893",
   "metadata": {},
   "outputs": [
    {
     "data": {
      "text/plain": [
       "['The subject of numerous controversies, Facebook has often been criticized over issue\\n',\n",
       " 's uireiuhfiorejofijerogjioerjgh the Cambridge Analytica data scandal), political manipul\\n',\n",
       " '\\n',\n",
       " 'ation (as with the 2016 U.S. elections) and mass surveillance.[9] Facebook has also been sub\\n',\n",
       " 'ject to criticism over psychological effects such as addiction and low self-esteem, and vari\\n',\n",
       " '\\n',\n",
       " 'ous controversies over content such as fake news, conspiracy theories, copyright infringeme\\n',\n",
       " '\\n',\n",
       " '\\n',\n",
       " 'nt, and hate speech.[10] Commentators have accused Facebook of willingly facilitating the spread of such cont\\n',\n",
       " 'ent,[11][12][13][14][15][16] as well as exaggerating its number of users to appeal to advertisers.[17]\\n',\n",
       " 'iujefbhvjkfdhnviokdjnvoikdfnlivnldfnvkldnvlkdnvklndklfnvklndfnvkldfnvlkdfnvlkdfnvkldfn']"
      ]
     },
     "execution_count": 100,
     "metadata": {},
     "output_type": "execute_result"
    }
   ],
   "source": [
    "f.readlines()"
   ]
  },
  {
   "cell_type": "code",
   "execution_count": 101,
   "id": "e4dc6c09",
   "metadata": {},
   "outputs": [
    {
     "data": {
      "text/plain": [
       "0"
      ]
     },
     "execution_count": 101,
     "metadata": {},
     "output_type": "execute_result"
    }
   ],
   "source": [
    "len(f.readlines())"
   ]
  },
  {
   "cell_type": "code",
   "execution_count": 102,
   "id": "119e3a0a",
   "metadata": {},
   "outputs": [],
   "source": [
    "l = f.readlines()"
   ]
  },
  {
   "cell_type": "code",
   "execution_count": 103,
   "id": "d1fc6cf4",
   "metadata": {},
   "outputs": [
    {
     "data": {
      "text/plain": [
       "[]"
      ]
     },
     "execution_count": 103,
     "metadata": {},
     "output_type": "execute_result"
    }
   ],
   "source": [
    "l"
   ]
  },
  {
   "cell_type": "code",
   "execution_count": 104,
   "id": "230ad925",
   "metadata": {},
   "outputs": [
    {
     "data": {
      "text/plain": [
       "30"
      ]
     },
     "execution_count": 104,
     "metadata": {},
     "output_type": "execute_result"
    }
   ],
   "source": [
    "f.seek(30)"
   ]
  },
  {
   "cell_type": "code",
   "execution_count": 105,
   "id": "f9cd6172",
   "metadata": {},
   "outputs": [
    {
     "data": {
      "text/plain": [
       "['versies, Facebook has often been criticized over issue\\n',\n",
       " 's uireiuhfiorejofijerogjioerjgh the Cambridge Analytica data scandal), political manipul\\n',\n",
       " '\\n',\n",
       " 'ation (as with the 2016 U.S. elections) and mass surveillance.[9] Facebook has also been sub\\n',\n",
       " 'ject to criticism over psychological effects such as addiction and low self-esteem, and vari\\n',\n",
       " '\\n',\n",
       " 'ous controversies over content such as fake news, conspiracy theories, copyright infringeme\\n',\n",
       " '\\n',\n",
       " '\\n',\n",
       " 'nt, and hate speech.[10] Commentators have accused Facebook of willingly facilitating the spread of such cont\\n',\n",
       " 'ent,[11][12][13][14][15][16] as well as exaggerating its number of users to appeal to advertisers.[17]\\n',\n",
       " 'iujefbhvjkfdhnviokdjnvoikdfnlivnldfnvkldnvlkdnvklndklfnvklndfnvkldfnvlkdfnvlkdfnvkldfn']"
      ]
     },
     "execution_count": 105,
     "metadata": {},
     "output_type": "execute_result"
    }
   ],
   "source": [
    "f.readlines()"
   ]
  },
  {
   "cell_type": "code",
   "execution_count": 106,
   "id": "a607c850",
   "metadata": {},
   "outputs": [
    {
     "data": {
      "text/plain": [
       "0"
      ]
     },
     "execution_count": 106,
     "metadata": {},
     "output_type": "execute_result"
    }
   ],
   "source": [
    "len(f.readlines())"
   ]
  },
  {
   "cell_type": "code",
   "execution_count": 107,
   "id": "6bcc12b8",
   "metadata": {},
   "outputs": [
    {
     "data": {
      "text/plain": [
       "8"
      ]
     },
     "execution_count": 107,
     "metadata": {},
     "output_type": "execute_result"
    }
   ],
   "source": [
    "f.seek(8)"
   ]
  },
  {
   "cell_type": "code",
   "execution_count": 108,
   "id": "4016b318",
   "metadata": {},
   "outputs": [
    {
     "data": {
      "text/plain": [
       "12"
      ]
     },
     "execution_count": 108,
     "metadata": {},
     "output_type": "execute_result"
    }
   ],
   "source": [
    "len(f.readlines())"
   ]
  },
  {
   "cell_type": "code",
   "execution_count": 109,
   "id": "52273134",
   "metadata": {},
   "outputs": [],
   "source": [
    "l = f.readlines()"
   ]
  },
  {
   "cell_type": "code",
   "execution_count": 110,
   "id": "7e6bfe2a",
   "metadata": {},
   "outputs": [
    {
     "data": {
      "text/plain": [
       "[]"
      ]
     },
     "execution_count": 110,
     "metadata": {},
     "output_type": "execute_result"
    }
   ],
   "source": [
    "l"
   ]
  },
  {
   "cell_type": "code",
   "execution_count": 112,
   "id": "fd44a9c2",
   "metadata": {},
   "outputs": [
    {
     "data": {
      "text/plain": [
       "15"
      ]
     },
     "execution_count": 112,
     "metadata": {},
     "output_type": "execute_result"
    }
   ],
   "source": [
    "f.seek(15)"
   ]
  },
  {
   "cell_type": "code",
   "execution_count": 113,
   "id": "aa781d91",
   "metadata": {},
   "outputs": [],
   "source": [
    "l = f.readlines()"
   ]
  },
  {
   "cell_type": "code",
   "execution_count": 114,
   "id": "c00bdcbd",
   "metadata": {},
   "outputs": [
    {
     "data": {
      "text/plain": [
       "['numerous controversies, Facebook has often been criticized over issue\\n',\n",
       " 's uireiuhfiorejofijerogjioerjgh the Cambridge Analytica data scandal), political manipul\\n',\n",
       " '\\n',\n",
       " 'ation (as with the 2016 U.S. elections) and mass surveillance.[9] Facebook has also been sub\\n',\n",
       " 'ject to criticism over psychological effects such as addiction and low self-esteem, and vari\\n',\n",
       " '\\n',\n",
       " 'ous controversies over content such as fake news, conspiracy theories, copyright infringeme\\n',\n",
       " '\\n',\n",
       " '\\n',\n",
       " 'nt, and hate speech.[10] Commentators have accused Facebook of willingly facilitating the spread of such cont\\n',\n",
       " 'ent,[11][12][13][14][15][16] as well as exaggerating its number of users to appeal to advertisers.[17]\\n',\n",
       " 'iujefbhvjkfdhnviokdjnvoikdfnlivnldfnvkldnvlkdnvklndklfnvklndfnvkldfnvlkdfnvlkdfnvkldfn']"
      ]
     },
     "execution_count": 114,
     "metadata": {},
     "output_type": "execute_result"
    }
   ],
   "source": [
    "l"
   ]
  },
  {
   "cell_type": "code",
   "execution_count": 117,
   "id": "71b8dca8",
   "metadata": {},
   "outputs": [
    {
     "data": {
      "text/plain": [
       "['numerous',\n",
       " 'controversies,',\n",
       " 'Facebook',\n",
       " 'has',\n",
       " 'often',\n",
       " 'been',\n",
       " 'criticized',\n",
       " 'over',\n",
       " 'issue\\n']"
      ]
     },
     "execution_count": 117,
     "metadata": {},
     "output_type": "execute_result"
    }
   ],
   "source": [
    "l[0].split(\" \")"
   ]
  },
  {
   "cell_type": "code",
   "execution_count": 118,
   "id": "43541893",
   "metadata": {},
   "outputs": [],
   "source": [
    "f = open(\"wordpad.txt\",\"w\")"
   ]
  },
  {
   "cell_type": "code",
   "execution_count": 120,
   "id": "5b2cd1f9",
   "metadata": {},
   "outputs": [
    {
     "name": "stdout",
     "output_type": "stream",
     "text": [
      " Volume in drive C has no label.\n",
      " Volume Serial Number is DA2F-0459\n",
      "\n",
      " Directory of C:\\Users\\user\n",
      "\n",
      "11/03/2022  01:17 PM    <DIR>          .\n",
      "10/29/2022  01:31 PM    <DIR>          ..\n",
      "11/03/2022  09:18 AM    <DIR>          .ipynb_checkpoints\n",
      "11/01/2022  06:02 AM    <DIR>          .ipython\n",
      "11/03/2022  09:30 AM    <DIR>          .jupyter\n",
      "10/30/2022  12:00 PM    <DIR>          .vscode\n",
      "10/31/2022  08:56 PM    <DIR>          anaconda3\n",
      "10/30/2022  01:50 AM    <DIR>          Contacts\n",
      "11/01/2022  04:50 PM    <DIR>          Desktop\n",
      "11/01/2022  07:56 AM    <DIR>          Documents\n",
      "11/03/2022  12:16 PM    <DIR>          Downloads\n",
      "11/03/2022  11:54 AM               658 facebook.txt\n",
      "10/30/2022  01:50 AM    <DIR>          Favorites\n",
      "11/03/2022  01:16 PM            82,382 file_System.ipynb\n",
      "11/03/2022  12:13 PM               766 free.txt\n",
      "11/03/2022  11:41 AM               904 google.txt\n",
      "10/30/2022  01:50 AM    <DIR>          Links\n",
      "10/30/2022  01:50 AM    <DIR>          Music\n",
      "11/03/2022  08:05 AM    <DIR>          OneDrive\n",
      "10/30/2022  10:18 AM    <DIR>          Pictures\n",
      "11/03/2022  10:04 AM               145 sanjutest.txt\n",
      "10/30/2022  01:50 AM    <DIR>          Saved Games\n",
      "10/29/2022  01:31 PM    <DIR>          Searches\n",
      "11/03/2022  09:05 AM                22 test1.txt\n",
      "11/03/2022  09:36 AM                32 test4.txt\n",
      "11/03/2022  09:37 AM                23 Test5.txt\n",
      "11/03/2022  09:39 AM                32 test66.txt\n",
      "11/01/2022  06:02 AM                72 Untitled.ipynb\n",
      "11/03/2022  08:55 AM                72 Untitled1.ipynb\n",
      "10/30/2022  10:09 AM    <DIR>          Videos\n",
      "11/03/2022  01:17 PM                 0 wordpad.txt\n",
      "              12 File(s)         85,108 bytes\n",
      "              19 Dir(s)  207,950,430,208 bytes free\n"
     ]
    }
   ],
   "source": [
    "%ls"
   ]
  },
  {
   "cell_type": "code",
   "execution_count": 121,
   "id": "d221b4de",
   "metadata": {},
   "outputs": [
    {
     "data": {
      "text/plain": [
       "430"
      ]
     },
     "execution_count": 121,
     "metadata": {},
     "output_type": "execute_result"
    }
   ],
   "source": [
    "f.write(\"\"\"\n",
    "Wordpad is a free to use powerful word processing app. Write your document and let wordpad take care of the formatting. Use Wordpad to quickly create notes, tasks and list down your inspirations.\n",
    "\n",
    "The writing app and word processor is as handy as you want it to be, whether you’re a blogger, writer, journalist\n",
    ", columnist, student, or a project manager working on documentation. Your office moves with you when you use Wordpad.\n",
    "\"\"\")"
   ]
  },
  {
   "cell_type": "code",
   "execution_count": 122,
   "id": "e4af0ef7",
   "metadata": {},
   "outputs": [],
   "source": [
    "f.close()"
   ]
  },
  {
   "cell_type": "code",
   "execution_count": 123,
   "id": "47b4102e",
   "metadata": {},
   "outputs": [],
   "source": [
    "f = open(\"wordpad.txt\",\"r\")"
   ]
  },
  {
   "cell_type": "code",
   "execution_count": 124,
   "id": "432c1bfe",
   "metadata": {},
   "outputs": [
    {
     "data": {
      "text/plain": [
       "'\\nWordpad is a free to use powerful word processing app. Write your document and let wordpad take care of the formatting. Use Wordpad to quickly create notes, tasks and list down your inspirations.\\n\\nThe writing app and word processor is as handy as you want it to be, whether you’re a blogger, writer, journalist\\n, columnist, student, or a project manager working on documentation. Your office moves with you when you use Wordpad.\\n'"
      ]
     },
     "execution_count": 124,
     "metadata": {},
     "output_type": "execute_result"
    }
   ],
   "source": [
    "f.read()"
   ]
  },
  {
   "cell_type": "code",
   "execution_count": 125,
   "id": "4707b908",
   "metadata": {},
   "outputs": [],
   "source": [
    "f = open(\"wordpad.txt\",\"r+\")"
   ]
  },
  {
   "cell_type": "code",
   "execution_count": 126,
   "id": "95e0f16b",
   "metadata": {},
   "outputs": [
    {
     "data": {
      "text/plain": [
       "'\\n'"
      ]
     },
     "execution_count": 126,
     "metadata": {},
     "output_type": "execute_result"
    }
   ],
   "source": [
    "f.readline()"
   ]
  },
  {
   "cell_type": "code",
   "execution_count": 127,
   "id": "a41c04a5",
   "metadata": {},
   "outputs": [
    {
     "data": {
      "text/plain": [
       "'Wordpad is a free to use powerful word processing app. Write your document and let wordpad take care of the formatting. Use Wordpad to quickly create notes, tasks and list down your inspirations.\\n'"
      ]
     },
     "execution_count": 127,
     "metadata": {},
     "output_type": "execute_result"
    }
   ],
   "source": [
    "f.readline()"
   ]
  },
  {
   "cell_type": "code",
   "execution_count": 128,
   "id": "f65ff2c6",
   "metadata": {},
   "outputs": [
    {
     "data": {
      "text/plain": [
       "'\\n'"
      ]
     },
     "execution_count": 128,
     "metadata": {},
     "output_type": "execute_result"
    }
   ],
   "source": [
    "f.readline() # If there is an line space than between the line than it will represent as \"\\n\""
   ]
  },
  {
   "cell_type": "code",
   "execution_count": 129,
   "id": "f4f6a4a0",
   "metadata": {},
   "outputs": [
    {
     "data": {
      "text/plain": [
       "'The writing app and word processor is as handy as you want it to be, whether you’re a blogger, writer, journalist\\n'"
      ]
     },
     "execution_count": 129,
     "metadata": {},
     "output_type": "execute_result"
    }
   ],
   "source": [
    "f.readline()"
   ]
  },
  {
   "cell_type": "code",
   "execution_count": 130,
   "id": "53b7e9f6",
   "metadata": {},
   "outputs": [
    {
     "data": {
      "text/plain": [
       "', columnist, student, or a project manager working on documentation. Your office moves with you when you use Wordpad.\\n'"
      ]
     },
     "execution_count": 130,
     "metadata": {},
     "output_type": "execute_result"
    }
   ],
   "source": [
    "f.readline()"
   ]
  },
  {
   "cell_type": "code",
   "execution_count": 131,
   "id": "720cd044",
   "metadata": {},
   "outputs": [
    {
     "data": {
      "text/plain": [
       "''"
      ]
     },
     "execution_count": 131,
     "metadata": {},
     "output_type": "execute_result"
    }
   ],
   "source": [
    "f.readline()"
   ]
  },
  {
   "cell_type": "code",
   "execution_count": 132,
   "id": "066f1387",
   "metadata": {},
   "outputs": [],
   "source": [
    "f = open(\"wordpad.txt\",\"r+\")"
   ]
  },
  {
   "cell_type": "code",
   "execution_count": 133,
   "id": "57f94cf3",
   "metadata": {},
   "outputs": [
    {
     "data": {
      "text/plain": [
       "['Wordpad is a free to use powerful word processing app. Write your document and let wordpad take care of the formatting. Use Wordpad to quickly create notes, tasks and list down your inspirations.\\n',\n",
       " '\\n',\n",
       " 'The writing app and word processor is as handy as you want it to be, whether you’re a blogger, writer, journalist\\n',\n",
       " ', columnist, student, or a project manager working on documentation. Your office moves with you when you use Wordpad.\\n']"
      ]
     },
     "execution_count": 133,
     "metadata": {},
     "output_type": "execute_result"
    }
   ],
   "source": [
    "f.readlines()  # pass whole lines of code inside an array"
   ]
  },
  {
   "cell_type": "code",
   "execution_count": 136,
   "id": "d14f4b91",
   "metadata": {},
   "outputs": [
    {
     "data": {
      "text/plain": [
       "0"
      ]
     },
     "execution_count": 136,
     "metadata": {},
     "output_type": "execute_result"
    }
   ],
   "source": [
    "len(f.readlines())"
   ]
  },
  {
   "cell_type": "code",
   "execution_count": 137,
   "id": "4687d11f",
   "metadata": {},
   "outputs": [
    {
     "data": {
      "text/plain": [
       "433"
      ]
     },
     "execution_count": 137,
     "metadata": {},
     "output_type": "execute_result"
    }
   ],
   "source": [
    "f.tell()"
   ]
  },
  {
   "cell_type": "code",
   "execution_count": 138,
   "id": "137111bf",
   "metadata": {},
   "outputs": [
    {
     "data": {
      "text/plain": [
       "15"
      ]
     },
     "execution_count": 138,
     "metadata": {},
     "output_type": "execute_result"
    }
   ],
   "source": [
    "f.seek(15)"
   ]
  },
  {
   "cell_type": "code",
   "execution_count": 139,
   "id": "e7d4b351",
   "metadata": {},
   "outputs": [
    {
     "data": {
      "text/plain": [
       "4"
      ]
     },
     "execution_count": 139,
     "metadata": {},
     "output_type": "execute_result"
    }
   ],
   "source": [
    "len(f.readlines())"
   ]
  },
  {
   "cell_type": "code",
   "execution_count": 140,
   "id": "351b4563",
   "metadata": {},
   "outputs": [],
   "source": [
    "l = f.readlines()"
   ]
  },
  {
   "cell_type": "code",
   "execution_count": 141,
   "id": "d40e6b55",
   "metadata": {},
   "outputs": [
    {
     "data": {
      "text/plain": [
       "[]"
      ]
     },
     "execution_count": 141,
     "metadata": {},
     "output_type": "execute_result"
    }
   ],
   "source": [
    "l"
   ]
  },
  {
   "cell_type": "code",
   "execution_count": 142,
   "id": "989905ed",
   "metadata": {},
   "outputs": [],
   "source": [
    "l = f.readlines()"
   ]
  },
  {
   "cell_type": "code",
   "execution_count": 143,
   "id": "08e62be9",
   "metadata": {},
   "outputs": [
    {
     "data": {
      "text/plain": [
       "[]"
      ]
     },
     "execution_count": 143,
     "metadata": {},
     "output_type": "execute_result"
    }
   ],
   "source": [
    "l"
   ]
  },
  {
   "cell_type": "code",
   "execution_count": 145,
   "id": "49896172",
   "metadata": {},
   "outputs": [
    {
     "data": {
      "text/plain": [
       "15"
      ]
     },
     "execution_count": 145,
     "metadata": {},
     "output_type": "execute_result"
    }
   ],
   "source": [
    "f.seek(15) # If it will be length showing as 0 and l = [] than we need to pass f.seek(15)"
   ]
  },
  {
   "cell_type": "code",
   "execution_count": 146,
   "id": "e34a46dc",
   "metadata": {},
   "outputs": [],
   "source": [
    "l = f.readlines()"
   ]
  },
  {
   "cell_type": "code",
   "execution_count": 147,
   "id": "f82c483a",
   "metadata": {},
   "outputs": [
    {
     "data": {
      "text/plain": [
       "['ee to use powerful word processing app. Write your document and let wordpad take care of the formatting. Use Wordpad to quickly create notes, tasks and list down your inspirations.\\n',\n",
       " '\\n',\n",
       " 'The writing app and word processor is as handy as you want it to be, whether you’re a blogger, writer, journalist\\n',\n",
       " ', columnist, student, or a project manager working on documentation. Your office moves with you when you use Wordpad.\\n']"
      ]
     },
     "execution_count": 147,
     "metadata": {},
     "output_type": "execute_result"
    }
   ],
   "source": [
    "l"
   ]
  },
  {
   "cell_type": "code",
   "execution_count": 149,
   "id": "55390a21",
   "metadata": {},
   "outputs": [
    {
     "data": {
      "text/plain": [
       "'The writing app and word processor is as handy as you want it to be, whether you’re a blogger, writer, journalist\\n'"
      ]
     },
     "execution_count": 149,
     "metadata": {},
     "output_type": "execute_result"
    }
   ],
   "source": [
    "l[2]"
   ]
  },
  {
   "cell_type": "code",
   "execution_count": 151,
   "id": "1a4750f7",
   "metadata": {},
   "outputs": [
    {
     "data": {
      "text/plain": [
       "['The',\n",
       " 'writing',\n",
       " 'app',\n",
       " 'and',\n",
       " 'word',\n",
       " 'processor',\n",
       " 'is',\n",
       " 'as',\n",
       " 'handy',\n",
       " 'as',\n",
       " 'you',\n",
       " 'want',\n",
       " 'it',\n",
       " 'to',\n",
       " 'be,',\n",
       " 'whether',\n",
       " 'you’re',\n",
       " 'a',\n",
       " 'blogger,',\n",
       " 'writer,',\n",
       " 'journalist']"
      ]
     },
     "execution_count": 151,
     "metadata": {},
     "output_type": "execute_result"
    }
   ],
   "source": [
    "l[2].split()"
   ]
  },
  {
   "cell_type": "code",
   "execution_count": 162,
   "id": "47b8bc36",
   "metadata": {},
   "outputs": [],
   "source": [
    "l1 = []\n",
    "for i in l[2].split():\n",
    "    l1.append(i[0])"
   ]
  },
  {
   "cell_type": "code",
   "execution_count": 163,
   "id": "f4d9c5bf",
   "metadata": {},
   "outputs": [
    {
     "data": {
      "text/plain": [
       "['T',\n",
       " 'w',\n",
       " 'a',\n",
       " 'a',\n",
       " 'w',\n",
       " 'p',\n",
       " 'i',\n",
       " 'a',\n",
       " 'h',\n",
       " 'a',\n",
       " 'y',\n",
       " 'w',\n",
       " 'i',\n",
       " 't',\n",
       " 'b',\n",
       " 'w',\n",
       " 'y',\n",
       " 'a',\n",
       " 'b',\n",
       " 'w',\n",
       " 'j']"
      ]
     },
     "execution_count": 163,
     "metadata": {},
     "output_type": "execute_result"
    }
   ],
   "source": [
    "l1"
   ]
  },
  {
   "cell_type": "code",
   "execution_count": 164,
   "id": "1427cf2d",
   "metadata": {},
   "outputs": [],
   "source": [
    "f = open(\"anand.txt\",\"w\")"
   ]
  },
  {
   "cell_type": "code",
   "execution_count": 165,
   "id": "5681776e",
   "metadata": {},
   "outputs": [
    {
     "data": {
      "text/plain": [
       "1013"
      ]
     },
     "execution_count": 165,
     "metadata": {},
     "output_type": "execute_result"
    }
   ],
   "source": [
    "f.write(\"\"\"\n",
    "Anand is a 1971 Indian Hindi-language drama film co-written and directed by Hrishikesh Mukherjee, with dialog\n",
    "ues written by Gulzar. It stars Rajesh Khanna in the lead role, with a supporting cast including Amitabh Bach\n",
    "chan, Sumita Sanyal, Ramesh Deo and Seema Deo.\n",
    "\n",
    "The film won several awards, including the Filmfare Award for Best Film in 1972. In 2013, it was list\n",
    "ed in Anupama Chopra's book 100 Films To See before You Die.[2] Anand is counted among the 17 consecutive \n",
    "box office successes of Rajesh Khanna between 1969 and 1971, adding the multistarrers Maryada (1971) and An\n",
    "daz (1971). The film was a semi-hit at box office.[3] But it has since gained a cult following and is haile\n",
    "d as one of the greatest Hindi films ever made[by whom?]. Indiatimes listed it among the \"25 must watch film\n",
    "s Bollywood movies\".[4] Anand is one of the only two films that Khanna and Bachchan have starred together– \n",
    "the other being the 1973 film Namak Haraam, which was also directed by Hrishikesh Mukherjee.[5][6][7]\n",
    "\"\"\")"
   ]
  },
  {
   "cell_type": "code",
   "execution_count": 167,
   "id": "7cd71dad",
   "metadata": {},
   "outputs": [
    {
     "data": {
      "text/plain": [
       "1025"
      ]
     },
     "execution_count": 167,
     "metadata": {},
     "output_type": "execute_result"
    }
   ],
   "source": [
    "f.tell()"
   ]
  },
  {
   "cell_type": "code",
   "execution_count": 168,
   "id": "460ff238",
   "metadata": {},
   "outputs": [
    {
     "data": {
      "text/plain": [
       "70"
      ]
     },
     "execution_count": 168,
     "metadata": {},
     "output_type": "execute_result"
    }
   ],
   "source": [
    "f.seek(70)"
   ]
  },
  {
   "cell_type": "code",
   "execution_count": 169,
   "id": "734016eb",
   "metadata": {},
   "outputs": [
    {
     "data": {
      "text/plain": [
       "70"
      ]
     },
     "execution_count": 169,
     "metadata": {},
     "output_type": "execute_result"
    }
   ],
   "source": [
    "f.tell()"
   ]
  },
  {
   "cell_type": "code",
   "execution_count": 170,
   "id": "2ce38357",
   "metadata": {},
   "outputs": [
    {
     "data": {
      "text/plain": [
       "52"
      ]
     },
     "execution_count": 170,
     "metadata": {},
     "output_type": "execute_result"
    }
   ],
   "source": [
    "f.write(\"wokjokerjfoekrfoerjfoerfokerfoernoferionfilerflkerno\")"
   ]
  },
  {
   "cell_type": "code",
   "execution_count": 171,
   "id": "fa67f230",
   "metadata": {},
   "outputs": [],
   "source": [
    "f.close()"
   ]
  },
  {
   "cell_type": "code",
   "execution_count": 172,
   "id": "2f357807",
   "metadata": {},
   "outputs": [],
   "source": [
    "f = open(\"anand.txt\",\"r\")"
   ]
  },
  {
   "cell_type": "code",
   "execution_count": 173,
   "id": "4e7e5b43",
   "metadata": {},
   "outputs": [
    {
     "data": {
      "text/plain": [
       "'\\nAnand is a 1971 Indian Hindi-language drama film co-written and direwokjokerjfoekrfoerjfoerfokerfoernoferionfilerflkernoen by Gulzar. It stars Rajesh Khanna in the lead role, with a supporting cast including Amitabh Bach\\nchan, Sumita Sanyal, Ramesh Deo and Seema Deo.\\n\\nThe film won several awards, including the Filmfare Award for Best Film in 1972. In 2013, it was list\\ned in Anupama Chopra\\'s book 100 Films To See before You Die.[2] Anand is counted among the 17 consecutive \\nbox office successes of Rajesh Khanna between 1969 and 1971, adding the multistarrers Maryada (1971) and An\\ndaz (1971). The film was a semi-hit at box office.[3] But it has since gained a cult following and is haile\\nd as one of the greatest Hindi films ever made[by whom?]. Indiatimes listed it among the \"25 must watch film\\ns Bollywood movies\".[4] Anand is one of the only two films that Khanna and Bachchan have starred together– \\nthe other being the 1973 film Namak Haraam, which was also directed by Hrishikesh Mukherjee.[5][6][7]\\n'"
      ]
     },
     "execution_count": 173,
     "metadata": {},
     "output_type": "execute_result"
    }
   ],
   "source": [
    "f.read()"
   ]
  },
  {
   "cell_type": "code",
   "execution_count": 174,
   "id": "cdba0391",
   "metadata": {},
   "outputs": [],
   "source": [
    "f = open(\"anand.txt\",\"r+\")"
   ]
  },
  {
   "cell_type": "code",
   "execution_count": 175,
   "id": "50850c79",
   "metadata": {},
   "outputs": [
    {
     "data": {
      "text/plain": [
       "'Anand is a 1971 Indian Hindi-language drama film co-written and direwokjokerjfoekrfoerjfoerfokerfoernoferionfilerflkernoen by Gulzar. It stars Rajesh Khanna in the lead role, with a supporting cast including Amitabh Bach\\n'"
      ]
     },
     "execution_count": 175,
     "metadata": {},
     "output_type": "execute_result"
    }
   ],
   "source": [
    "f.readline()"
   ]
  },
  {
   "cell_type": "code",
   "execution_count": 176,
   "id": "19213548",
   "metadata": {},
   "outputs": [
    {
     "data": {
      "text/plain": [
       "'chan, Sumita Sanyal, Ramesh Deo and Seema Deo.\\n'"
      ]
     },
     "execution_count": 176,
     "metadata": {},
     "output_type": "execute_result"
    }
   ],
   "source": [
    "f.readline()"
   ]
  },
  {
   "cell_type": "code",
   "execution_count": 177,
   "id": "b42d3cdb",
   "metadata": {},
   "outputs": [
    {
     "data": {
      "text/plain": [
       "'\\n'"
      ]
     },
     "execution_count": 177,
     "metadata": {},
     "output_type": "execute_result"
    }
   ],
   "source": [
    "f.readline()"
   ]
  },
  {
   "cell_type": "code",
   "execution_count": 178,
   "id": "1ee84990",
   "metadata": {},
   "outputs": [
    {
     "data": {
      "text/plain": [
       "'The film won several awards, including the Filmfare Award for Best Film in 1972. In 2013, it was list\\n'"
      ]
     },
     "execution_count": 178,
     "metadata": {},
     "output_type": "execute_result"
    }
   ],
   "source": [
    "f.readline()   # line by line extract of sentence"
   ]
  },
  {
   "cell_type": "code",
   "execution_count": 179,
   "id": "dff3add1",
   "metadata": {},
   "outputs": [
    {
     "data": {
      "text/plain": [
       "[\"ed in Anupama Chopra's book 100 Films To See before You Die.[2] Anand is counted among the 17 consecutive \\n\",\n",
       " 'box office successes of Rajesh Khanna between 1969 and 1971, adding the multistarrers Maryada (1971) and An\\n',\n",
       " 'daz (1971). The film was a semi-hit at box office.[3] But it has since gained a cult following and is haile\\n',\n",
       " 'd as one of the greatest Hindi films ever made[by whom?]. Indiatimes listed it among the \"25 must watch film\\n',\n",
       " 's Bollywood movies\".[4] Anand is one of the only two films that Khanna and Bachchan have starred together– \\n',\n",
       " 'the other being the 1973 film Namak Haraam, which was also directed by Hrishikesh Mukherjee.[5][6][7]\\n']"
      ]
     },
     "execution_count": 179,
     "metadata": {},
     "output_type": "execute_result"
    }
   ],
   "source": [
    "f.readlines()   # Whole paragraph would be extract into list"
   ]
  },
  {
   "cell_type": "code",
   "execution_count": 180,
   "id": "1523e56f",
   "metadata": {},
   "outputs": [
    {
     "data": {
      "text/plain": [
       "list"
      ]
     },
     "execution_count": 180,
     "metadata": {},
     "output_type": "execute_result"
    }
   ],
   "source": [
    "type(f.readlines())"
   ]
  },
  {
   "cell_type": "code",
   "execution_count": 181,
   "id": "49f116db",
   "metadata": {},
   "outputs": [],
   "source": [
    "l = f.readlines()"
   ]
  },
  {
   "cell_type": "code",
   "execution_count": 182,
   "id": "7344855f",
   "metadata": {},
   "outputs": [
    {
     "data": {
      "text/plain": [
       "0"
      ]
     },
     "execution_count": 182,
     "metadata": {},
     "output_type": "execute_result"
    }
   ],
   "source": [
    "len(f.readlines())"
   ]
  },
  {
   "cell_type": "code",
   "execution_count": 183,
   "id": "585017d2",
   "metadata": {},
   "outputs": [
    {
     "data": {
      "text/plain": [
       "1023"
      ]
     },
     "execution_count": 183,
     "metadata": {},
     "output_type": "execute_result"
    }
   ],
   "source": [
    "f.tell()"
   ]
  },
  {
   "cell_type": "code",
   "execution_count": 184,
   "id": "9271eb24",
   "metadata": {},
   "outputs": [
    {
     "data": {
      "text/plain": [
       "15"
      ]
     },
     "execution_count": 184,
     "metadata": {},
     "output_type": "execute_result"
    }
   ],
   "source": [
    "f.seek(15)"
   ]
  },
  {
   "cell_type": "code",
   "execution_count": 185,
   "id": "ece74339",
   "metadata": {},
   "outputs": [
    {
     "data": {
      "text/plain": [
       "15"
      ]
     },
     "execution_count": 185,
     "metadata": {},
     "output_type": "execute_result"
    }
   ],
   "source": [
    "f.tell()"
   ]
  },
  {
   "cell_type": "code",
   "execution_count": 186,
   "id": "f77b30ba",
   "metadata": {},
   "outputs": [
    {
     "data": {
      "text/plain": [
       "10"
      ]
     },
     "execution_count": 186,
     "metadata": {},
     "output_type": "execute_result"
    }
   ],
   "source": [
    "len(f.readlines())"
   ]
  },
  {
   "cell_type": "code",
   "execution_count": 187,
   "id": "d6ff922e",
   "metadata": {},
   "outputs": [],
   "source": [
    "l = f.readlines()"
   ]
  },
  {
   "cell_type": "code",
   "execution_count": 188,
   "id": "053c4385",
   "metadata": {},
   "outputs": [
    {
     "data": {
      "text/plain": [
       "[]"
      ]
     },
     "execution_count": 188,
     "metadata": {},
     "output_type": "execute_result"
    }
   ],
   "source": [
    "l"
   ]
  },
  {
   "cell_type": "code",
   "execution_count": 189,
   "id": "0e42d8c4",
   "metadata": {},
   "outputs": [
    {
     "data": {
      "text/plain": [
       "20"
      ]
     },
     "execution_count": 189,
     "metadata": {},
     "output_type": "execute_result"
    }
   ],
   "source": [
    "f.seek(20)"
   ]
  },
  {
   "cell_type": "code",
   "execution_count": 190,
   "id": "8f1a012e",
   "metadata": {},
   "outputs": [],
   "source": [
    "l = f.readlines()"
   ]
  },
  {
   "cell_type": "code",
   "execution_count": 191,
   "id": "073c5c84",
   "metadata": {},
   "outputs": [
    {
     "data": {
      "text/plain": [
       "['an Hindi-language drama film co-written and direwokjokerjfoekrfoerjfoerfokerfoernoferionfilerflkernoen by Gulzar. It stars Rajesh Khanna in the lead role, with a supporting cast including Amitabh Bach\\n',\n",
       " 'chan, Sumita Sanyal, Ramesh Deo and Seema Deo.\\n',\n",
       " '\\n',\n",
       " 'The film won several awards, including the Filmfare Award for Best Film in 1972. In 2013, it was list\\n',\n",
       " \"ed in Anupama Chopra's book 100 Films To See before You Die.[2] Anand is counted among the 17 consecutive \\n\",\n",
       " 'box office successes of Rajesh Khanna between 1969 and 1971, adding the multistarrers Maryada (1971) and An\\n',\n",
       " 'daz (1971). The film was a semi-hit at box office.[3] But it has since gained a cult following and is haile\\n',\n",
       " 'd as one of the greatest Hindi films ever made[by whom?]. Indiatimes listed it among the \"25 must watch film\\n',\n",
       " 's Bollywood movies\".[4] Anand is one of the only two films that Khanna and Bachchan have starred together– \\n',\n",
       " 'the other being the 1973 film Namak Haraam, which was also directed by Hrishikesh Mukherjee.[5][6][7]\\n']"
      ]
     },
     "execution_count": 191,
     "metadata": {},
     "output_type": "execute_result"
    }
   ],
   "source": [
    "l"
   ]
  },
  {
   "cell_type": "code",
   "execution_count": 194,
   "id": "7c18be22",
   "metadata": {},
   "outputs": [
    {
     "data": {
      "text/plain": [
       "['an',\n",
       " 'Hindi-language',\n",
       " 'drama',\n",
       " 'film',\n",
       " 'co-written',\n",
       " 'and',\n",
       " 'direwokjokerjfoekrfoerjfoerfokerfoernoferionfilerflkernoen',\n",
       " 'by',\n",
       " 'Gulzar.',\n",
       " 'It',\n",
       " 'stars',\n",
       " 'Rajesh',\n",
       " 'Khanna',\n",
       " 'in',\n",
       " 'the',\n",
       " 'lead',\n",
       " 'role,',\n",
       " 'with',\n",
       " 'a',\n",
       " 'supporting',\n",
       " 'cast',\n",
       " 'including',\n",
       " 'Amitabh',\n",
       " 'Bach']"
      ]
     },
     "execution_count": 194,
     "metadata": {},
     "output_type": "execute_result"
    }
   ],
   "source": [
    "l[0].split()"
   ]
  },
  {
   "cell_type": "code",
   "execution_count": 202,
   "id": "8ade57fb",
   "metadata": {},
   "outputs": [],
   "source": [
    "l1 = []\n",
    "for i in l[0].split():\n",
    "    l1.append(i[0])\n",
    "   "
   ]
  },
  {
   "cell_type": "code",
   "execution_count": 203,
   "id": "d08669c4",
   "metadata": {},
   "outputs": [
    {
     "data": {
      "text/plain": [
       "['a',\n",
       " 'H',\n",
       " 'd',\n",
       " 'f',\n",
       " 'c',\n",
       " 'a',\n",
       " 'd',\n",
       " 'b',\n",
       " 'G',\n",
       " 'I',\n",
       " 's',\n",
       " 'R',\n",
       " 'K',\n",
       " 'i',\n",
       " 't',\n",
       " 'l',\n",
       " 'r',\n",
       " 'w',\n",
       " 'a',\n",
       " 's',\n",
       " 'c',\n",
       " 'i',\n",
       " 'A',\n",
       " 'B']"
      ]
     },
     "execution_count": 203,
     "metadata": {},
     "output_type": "execute_result"
    }
   ],
   "source": [
    "l1"
   ]
  },
  {
   "cell_type": "code",
   "execution_count": 205,
   "id": "fde83b11",
   "metadata": {},
   "outputs": [
    {
     "data": {
      "text/plain": [
       "'anand.txt'"
      ]
     },
     "execution_count": 205,
     "metadata": {},
     "output_type": "execute_result"
    }
   ],
   "source": [
    "f.name"
   ]
  },
  {
   "cell_type": "code",
   "execution_count": 206,
   "id": "55793acd",
   "metadata": {},
   "outputs": [
    {
     "data": {
      "text/plain": [
       "'anand.txt'"
      ]
     },
     "execution_count": 206,
     "metadata": {},
     "output_type": "execute_result"
    }
   ],
   "source": [
    "f.name"
   ]
  },
  {
   "cell_type": "code",
   "execution_count": 209,
   "id": "430b128b",
   "metadata": {},
   "outputs": [],
   "source": [
    "f = open(\"goo.txt\",\"w\")"
   ]
  },
  {
   "cell_type": "code",
   "execution_count": 210,
   "id": "9a5b0e99",
   "metadata": {},
   "outputs": [
    {
     "data": {
      "text/plain": [
       "'goo.txt'"
      ]
     },
     "execution_count": 210,
     "metadata": {},
     "output_type": "execute_result"
    }
   ],
   "source": [
    "f.name"
   ]
  },
  {
   "cell_type": "code",
   "execution_count": 211,
   "id": "84646cfa",
   "metadata": {},
   "outputs": [
    {
     "data": {
      "text/plain": [
       "'goo.txt'"
      ]
     },
     "execution_count": 211,
     "metadata": {},
     "output_type": "execute_result"
    }
   ],
   "source": [
    "f.name"
   ]
  },
  {
   "cell_type": "code",
   "execution_count": 212,
   "id": "6b849327",
   "metadata": {},
   "outputs": [],
   "source": [
    "f = open(\"anand.txt\",\"w\")"
   ]
  },
  {
   "cell_type": "code",
   "execution_count": 213,
   "id": "d1e5057f",
   "metadata": {},
   "outputs": [
    {
     "data": {
      "text/plain": [
       "'anand.txt'"
      ]
     },
     "execution_count": 213,
     "metadata": {},
     "output_type": "execute_result"
    }
   ],
   "source": [
    "f.name"
   ]
  },
  {
   "cell_type": "code",
   "execution_count": 214,
   "id": "b6421203",
   "metadata": {},
   "outputs": [],
   "source": [
    "l  = [\"write the code 1\",\"Write the code 2\",\"write the code 3\"]"
   ]
  },
  {
   "cell_type": "code",
   "execution_count": 215,
   "id": "8cf8e769",
   "metadata": {},
   "outputs": [
    {
     "data": {
      "text/plain": [
       "36"
      ]
     },
     "execution_count": 215,
     "metadata": {},
     "output_type": "execute_result"
    }
   ],
   "source": [
    "f.write(\"Write the code im ythag hdndg shdnns\")"
   ]
  },
  {
   "cell_type": "code",
   "execution_count": 216,
   "id": "5af3a89b",
   "metadata": {},
   "outputs": [],
   "source": [
    "f.writelines(l)"
   ]
  },
  {
   "cell_type": "code",
   "execution_count": 218,
   "id": "7862400e",
   "metadata": {},
   "outputs": [],
   "source": [
    "f.close()"
   ]
  },
  {
   "cell_type": "code",
   "execution_count": 219,
   "id": "2c5e0465",
   "metadata": {},
   "outputs": [],
   "source": [
    "f = open(\"filewrite.txt\",\"w\")"
   ]
  },
  {
   "cell_type": "code",
   "execution_count": 220,
   "id": "fb402ab4",
   "metadata": {},
   "outputs": [],
   "source": [
    "l = [\"write a code 2\",\"write a code3\",\"write a code 4\"]"
   ]
  },
  {
   "cell_type": "code",
   "execution_count": 221,
   "id": "ee17bc32",
   "metadata": {},
   "outputs": [
    {
     "data": {
      "text/plain": [
       "14"
      ]
     },
     "execution_count": 221,
     "metadata": {},
     "output_type": "execute_result"
    }
   ],
   "source": [
    "f.write(\"write a code 1\")"
   ]
  },
  {
   "cell_type": "code",
   "execution_count": 222,
   "id": "220500f3",
   "metadata": {},
   "outputs": [],
   "source": [
    "f.writelines(l)"
   ]
  },
  {
   "cell_type": "code",
   "execution_count": 223,
   "id": "34ecb8e4",
   "metadata": {},
   "outputs": [],
   "source": [
    "f.close()"
   ]
  },
  {
   "cell_type": "code",
   "execution_count": 224,
   "id": "d2dcf05b",
   "metadata": {},
   "outputs": [],
   "source": [
    "f = open(\"anand.txt\",\"w+\")"
   ]
  },
  {
   "cell_type": "code",
   "execution_count": 225,
   "id": "c9058fcd",
   "metadata": {},
   "outputs": [
    {
     "data": {
      "text/plain": [
       "5"
      ]
     },
     "execution_count": 225,
     "metadata": {},
     "output_type": "execute_result"
    }
   ],
   "source": [
    "f.fileno()"
   ]
  },
  {
   "cell_type": "code",
   "execution_count": 226,
   "id": "a4963cfb",
   "metadata": {},
   "outputs": [
    {
     "name": "stdout",
     "output_type": "stream",
     "text": [
      " Volume in drive C has no label.\n",
      " Volume Serial Number is DA2F-0459\n",
      "\n",
      " Directory of C:\\Users\\user\n",
      "\n",
      "11/03/2022  02:12 PM    <DIR>          .\n",
      "10/29/2022  01:31 PM    <DIR>          ..\n",
      "11/03/2022  09:18 AM    <DIR>          .ipynb_checkpoints\n",
      "11/01/2022  06:02 AM    <DIR>          .ipython\n",
      "11/03/2022  09:30 AM    <DIR>          .jupyter\n",
      "10/30/2022  12:00 PM    <DIR>          .vscode\n",
      "10/31/2022  08:56 PM    <DIR>          anaconda3\n",
      "11/03/2022  02:14 PM                 0 anand.txt\n",
      "10/30/2022  01:50 AM    <DIR>          Contacts\n",
      "11/01/2022  04:50 PM    <DIR>          Desktop\n",
      "11/01/2022  07:56 AM    <DIR>          Documents\n",
      "11/03/2022  12:16 PM    <DIR>          Downloads\n",
      "11/03/2022  11:54 AM               658 facebook.txt\n",
      "10/30/2022  01:50 AM    <DIR>          Favorites\n",
      "11/03/2022  02:12 PM           114,247 file_System.ipynb\n",
      "11/03/2022  02:11 PM                55 filewrite.txt\n",
      "11/03/2022  12:13 PM               766 free.txt\n",
      "11/03/2022  01:53 PM                 0 goo.txt\n",
      "11/03/2022  11:41 AM               904 google.txt\n",
      "10/30/2022  01:50 AM    <DIR>          Links\n",
      "10/30/2022  01:50 AM    <DIR>          Music\n",
      "11/03/2022  08:05 AM    <DIR>          OneDrive\n",
      "10/30/2022  10:18 AM    <DIR>          Pictures\n",
      "11/03/2022  10:04 AM               145 sanjutest.txt\n",
      "10/30/2022  01:50 AM    <DIR>          Saved Games\n",
      "10/29/2022  01:31 PM    <DIR>          Searches\n",
      "11/03/2022  09:05 AM                22 test1.txt\n",
      "11/03/2022  09:36 AM                32 test4.txt\n",
      "11/03/2022  09:37 AM                23 Test5.txt\n",
      "11/03/2022  09:39 AM                32 test66.txt\n",
      "11/01/2022  06:02 AM                72 Untitled.ipynb\n",
      "11/03/2022  08:55 AM                72 Untitled1.ipynb\n",
      "10/30/2022  10:09 AM    <DIR>          Videos\n",
      "11/03/2022  01:20 PM               433 wordpad.txt\n",
      "              15 File(s)        117,461 bytes\n",
      "              19 Dir(s)  208,127,574,016 bytes free\n"
     ]
    }
   ],
   "source": [
    "%ls"
   ]
  },
  {
   "cell_type": "code",
   "execution_count": 227,
   "id": "15827485",
   "metadata": {},
   "outputs": [],
   "source": [
    "f = open(\"test1.txt\",\"w+\")"
   ]
  },
  {
   "cell_type": "code",
   "execution_count": 228,
   "id": "dfe55c0f",
   "metadata": {},
   "outputs": [
    {
     "data": {
      "text/plain": [
       "6"
      ]
     },
     "execution_count": 228,
     "metadata": {},
     "output_type": "execute_result"
    }
   ],
   "source": [
    "f.fileno()"
   ]
  },
  {
   "cell_type": "code",
   "execution_count": 229,
   "id": "7230c40c",
   "metadata": {},
   "outputs": [
    {
     "name": "stdout",
     "output_type": "stream",
     "text": [
      " Volume in drive C has no label.\n",
      " Volume Serial Number is DA2F-0459\n",
      "\n",
      " Directory of C:\\Users\\user\n",
      "\n",
      "11/03/2022  02:14 PM    <DIR>          .\n",
      "10/29/2022  01:31 PM    <DIR>          ..\n",
      "11/03/2022  09:18 AM    <DIR>          .ipynb_checkpoints\n",
      "11/01/2022  06:02 AM    <DIR>          .ipython\n",
      "11/03/2022  09:30 AM    <DIR>          .jupyter\n",
      "10/30/2022  12:00 PM    <DIR>          .vscode\n",
      "10/31/2022  08:56 PM    <DIR>          anaconda3\n",
      "11/03/2022  02:14 PM                 0 anand.txt\n",
      "10/30/2022  01:50 AM    <DIR>          Contacts\n",
      "11/01/2022  04:50 PM    <DIR>          Desktop\n",
      "11/01/2022  07:56 AM    <DIR>          Documents\n",
      "11/03/2022  12:16 PM    <DIR>          Downloads\n",
      "11/03/2022  11:54 AM               658 facebook.txt\n",
      "10/30/2022  01:50 AM    <DIR>          Favorites\n",
      "11/03/2022  02:14 PM           117,291 file_System.ipynb\n",
      "11/03/2022  02:11 PM                55 filewrite.txt\n",
      "11/03/2022  12:13 PM               766 free.txt\n",
      "11/03/2022  01:53 PM                 0 goo.txt\n",
      "11/03/2022  11:41 AM               904 google.txt\n",
      "10/30/2022  01:50 AM    <DIR>          Links\n",
      "10/30/2022  01:50 AM    <DIR>          Music\n",
      "11/03/2022  08:05 AM    <DIR>          OneDrive\n",
      "10/30/2022  10:18 AM    <DIR>          Pictures\n",
      "11/03/2022  10:04 AM               145 sanjutest.txt\n",
      "10/30/2022  01:50 AM    <DIR>          Saved Games\n",
      "10/29/2022  01:31 PM    <DIR>          Searches\n",
      "11/03/2022  02:15 PM                 0 test1.txt\n",
      "11/03/2022  09:36 AM                32 test4.txt\n",
      "11/03/2022  09:37 AM                23 Test5.txt\n",
      "11/03/2022  09:39 AM                32 test66.txt\n",
      "11/01/2022  06:02 AM                72 Untitled.ipynb\n",
      "11/03/2022  08:55 AM                72 Untitled1.ipynb\n",
      "10/30/2022  10:09 AM    <DIR>          Videos\n",
      "11/03/2022  01:20 PM               433 wordpad.txt\n",
      "              15 File(s)        120,483 bytes\n",
      "              19 Dir(s)  208,127,438,848 bytes free\n"
     ]
    }
   ],
   "source": [
    "%ls"
   ]
  },
  {
   "cell_type": "code",
   "execution_count": 232,
   "id": "82bbda7a",
   "metadata": {},
   "outputs": [],
   "source": [
    "f = open(\"free.txt\",\"r+\")"
   ]
  },
  {
   "cell_type": "code",
   "execution_count": 233,
   "id": "4dbc413d",
   "metadata": {},
   "outputs": [
    {
     "data": {
      "text/plain": [
       "6"
      ]
     },
     "execution_count": 233,
     "metadata": {},
     "output_type": "execute_result"
    }
   ],
   "source": [
    "f.fileno()"
   ]
  },
  {
   "cell_type": "code",
   "execution_count": 234,
   "id": "35b9e0de",
   "metadata": {},
   "outputs": [],
   "source": [
    "import os"
   ]
  },
  {
   "cell_type": "code",
   "execution_count": 235,
   "id": "789965c1",
   "metadata": {},
   "outputs": [],
   "source": [
    "os.remove(\"Test5.txt\")"
   ]
  },
  {
   "cell_type": "code",
   "execution_count": 236,
   "id": "4a71fa1a",
   "metadata": {},
   "outputs": [
    {
     "name": "stdout",
     "output_type": "stream",
     "text": [
      " Volume in drive C has no label.\n",
      " Volume Serial Number is DA2F-0459\n",
      "\n",
      " Directory of C:\\Users\\user\n",
      "\n",
      "11/03/2022  02:19 PM    <DIR>          .\n",
      "10/29/2022  01:31 PM    <DIR>          ..\n",
      "11/03/2022  09:18 AM    <DIR>          .ipynb_checkpoints\n",
      "11/01/2022  06:02 AM    <DIR>          .ipython\n",
      "11/03/2022  09:30 AM    <DIR>          .jupyter\n",
      "10/30/2022  12:00 PM    <DIR>          .vscode\n",
      "10/31/2022  08:56 PM    <DIR>          anaconda3\n",
      "11/03/2022  02:14 PM                 0 anand.txt\n",
      "10/30/2022  01:50 AM    <DIR>          Contacts\n",
      "11/01/2022  04:50 PM    <DIR>          Desktop\n",
      "11/01/2022  07:56 AM    <DIR>          Documents\n",
      "11/03/2022  12:16 PM    <DIR>          Downloads\n",
      "11/03/2022  11:54 AM               658 facebook.txt\n",
      "10/30/2022  01:50 AM    <DIR>          Favorites\n",
      "11/03/2022  02:18 PM           121,019 file_System.ipynb\n",
      "11/03/2022  02:11 PM                55 filewrite.txt\n",
      "11/03/2022  02:16 PM                 0 free.txt\n",
      "11/03/2022  01:53 PM                 0 goo.txt\n",
      "11/03/2022  11:41 AM               904 google.txt\n",
      "10/30/2022  01:50 AM    <DIR>          Links\n",
      "10/30/2022  01:50 AM    <DIR>          Music\n",
      "11/03/2022  08:05 AM    <DIR>          OneDrive\n",
      "10/30/2022  10:18 AM    <DIR>          Pictures\n",
      "11/03/2022  10:04 AM               145 sanjutest.txt\n",
      "10/30/2022  01:50 AM    <DIR>          Saved Games\n",
      "10/29/2022  01:31 PM    <DIR>          Searches\n",
      "11/03/2022  02:15 PM                 0 test1.txt\n",
      "11/03/2022  09:36 AM                32 test4.txt\n",
      "11/03/2022  09:39 AM                32 test66.txt\n",
      "11/01/2022  06:02 AM                72 Untitled.ipynb\n",
      "11/03/2022  08:55 AM                72 Untitled1.ipynb\n",
      "10/30/2022  10:09 AM    <DIR>          Videos\n",
      "11/03/2022  01:20 PM               433 wordpad.txt\n",
      "              14 File(s)        123,422 bytes\n",
      "              19 Dir(s)  208,129,310,720 bytes free\n"
     ]
    }
   ],
   "source": [
    "%ls"
   ]
  },
  {
   "cell_type": "code",
   "execution_count": 237,
   "id": "738983a0",
   "metadata": {},
   "outputs": [
    {
     "data": {
      "text/plain": [
       "'C:\\\\Users\\\\user'"
      ]
     },
     "execution_count": 237,
     "metadata": {},
     "output_type": "execute_result"
    }
   ],
   "source": [
    "pwd()"
   ]
  },
  {
   "cell_type": "code",
   "execution_count": 238,
   "id": "cbf32f07",
   "metadata": {},
   "outputs": [],
   "source": [
    "import os\n",
    "os.remove(\"wordpad.txt\")"
   ]
  },
  {
   "cell_type": "code",
   "execution_count": 239,
   "id": "a4022aa3",
   "metadata": {},
   "outputs": [
    {
     "name": "stdout",
     "output_type": "stream",
     "text": [
      " Volume in drive C has no label.\n",
      " Volume Serial Number is DA2F-0459\n",
      "\n",
      " Directory of C:\\Users\\user\n",
      "\n",
      "11/03/2022  02:20 PM    <DIR>          .\n",
      "10/29/2022  01:31 PM    <DIR>          ..\n",
      "11/03/2022  09:18 AM    <DIR>          .ipynb_checkpoints\n",
      "11/01/2022  06:02 AM    <DIR>          .ipython\n",
      "11/03/2022  09:30 AM    <DIR>          .jupyter\n",
      "10/30/2022  12:00 PM    <DIR>          .vscode\n",
      "10/31/2022  08:56 PM    <DIR>          anaconda3\n",
      "11/03/2022  02:14 PM                 0 anand.txt\n",
      "10/30/2022  01:50 AM    <DIR>          Contacts\n",
      "11/01/2022  04:50 PM    <DIR>          Desktop\n",
      "11/01/2022  07:56 AM    <DIR>          Documents\n",
      "11/03/2022  12:16 PM    <DIR>          Downloads\n",
      "11/03/2022  11:54 AM               658 facebook.txt\n",
      "10/30/2022  01:50 AM    <DIR>          Favorites\n",
      "11/03/2022  02:18 PM           121,019 file_System.ipynb\n",
      "11/03/2022  02:11 PM                55 filewrite.txt\n",
      "11/03/2022  02:16 PM                 0 free.txt\n",
      "11/03/2022  01:53 PM                 0 goo.txt\n",
      "11/03/2022  11:41 AM               904 google.txt\n",
      "10/30/2022  01:50 AM    <DIR>          Links\n",
      "10/30/2022  01:50 AM    <DIR>          Music\n",
      "11/03/2022  08:05 AM    <DIR>          OneDrive\n",
      "10/30/2022  10:18 AM    <DIR>          Pictures\n",
      "11/03/2022  10:04 AM               145 sanjutest.txt\n",
      "10/30/2022  01:50 AM    <DIR>          Saved Games\n",
      "10/29/2022  01:31 PM    <DIR>          Searches\n",
      "11/03/2022  02:15 PM                 0 test1.txt\n",
      "11/03/2022  09:36 AM                32 test4.txt\n",
      "11/03/2022  09:39 AM                32 test66.txt\n",
      "11/01/2022  06:02 AM                72 Untitled.ipynb\n",
      "11/03/2022  08:55 AM                72 Untitled1.ipynb\n",
      "10/30/2022  10:09 AM    <DIR>          Videos\n",
      "              13 File(s)        122,989 bytes\n",
      "              19 Dir(s)  208,128,970,752 bytes free\n"
     ]
    }
   ],
   "source": [
    "%ls"
   ]
  },
  {
   "cell_type": "code",
   "execution_count": 241,
   "id": "8b9958ba",
   "metadata": {},
   "outputs": [],
   "source": [
    "import os   # this will be remove completely from OS\n",
    "os.remove(\"test66.txt\")  "
   ]
  },
  {
   "cell_type": "code",
   "execution_count": 242,
   "id": "c009b5d2",
   "metadata": {},
   "outputs": [
    {
     "data": {
      "text/plain": [
       "'C:\\\\Users\\\\user'"
      ]
     },
     "execution_count": 242,
     "metadata": {},
     "output_type": "execute_result"
    }
   ],
   "source": [
    "import os\n",
    "os.getcwd()"
   ]
  },
  {
   "cell_type": "code",
   "execution_count": 243,
   "id": "054a736b",
   "metadata": {},
   "outputs": [
    {
     "data": {
      "text/plain": [
       "['In',\n",
       " 'Out',\n",
       " '_',\n",
       " '_100',\n",
       " '_101',\n",
       " '_103',\n",
       " '_104',\n",
       " '_105',\n",
       " '_106',\n",
       " '_107',\n",
       " '_108',\n",
       " '_11',\n",
       " '_110',\n",
       " '_112',\n",
       " '_114',\n",
       " '_115',\n",
       " '_116',\n",
       " '_117',\n",
       " '_119',\n",
       " '_121',\n",
       " '_124',\n",
       " '_126',\n",
       " '_127',\n",
       " '_128',\n",
       " '_129',\n",
       " '_130',\n",
       " '_131',\n",
       " '_133',\n",
       " '_136',\n",
       " '_137',\n",
       " '_138',\n",
       " '_139',\n",
       " '_141',\n",
       " '_143',\n",
       " '_145',\n",
       " '_147',\n",
       " '_148',\n",
       " '_149',\n",
       " '_150',\n",
       " '_151',\n",
       " '_16',\n",
       " '_163',\n",
       " '_165',\n",
       " '_167',\n",
       " '_168',\n",
       " '_169',\n",
       " '_170',\n",
       " '_173',\n",
       " '_175',\n",
       " '_176',\n",
       " '_177',\n",
       " '_178',\n",
       " '_179',\n",
       " '_18',\n",
       " '_180',\n",
       " '_182',\n",
       " '_183',\n",
       " '_184',\n",
       " '_185',\n",
       " '_186',\n",
       " '_188',\n",
       " '_189',\n",
       " '_19',\n",
       " '_191',\n",
       " '_192',\n",
       " '_193',\n",
       " '_194',\n",
       " '_200',\n",
       " '_203',\n",
       " '_205',\n",
       " '_206',\n",
       " '_210',\n",
       " '_211',\n",
       " '_213',\n",
       " '_215',\n",
       " '_217',\n",
       " '_22',\n",
       " '_221',\n",
       " '_225',\n",
       " '_228',\n",
       " '_23',\n",
       " '_231',\n",
       " '_233',\n",
       " '_237',\n",
       " '_24',\n",
       " '_242',\n",
       " '_25',\n",
       " '_28',\n",
       " '_3',\n",
       " '_31',\n",
       " '_32',\n",
       " '_36',\n",
       " '_37',\n",
       " '_38',\n",
       " '_42',\n",
       " '_45',\n",
       " '_46',\n",
       " '_47',\n",
       " '_48',\n",
       " '_50',\n",
       " '_51',\n",
       " '_52',\n",
       " '_55',\n",
       " '_56',\n",
       " '_58',\n",
       " '_61',\n",
       " '_62',\n",
       " '_63',\n",
       " '_64',\n",
       " '_66',\n",
       " '_67',\n",
       " '_68',\n",
       " '_69',\n",
       " '_70',\n",
       " '_73',\n",
       " '_74',\n",
       " '_76',\n",
       " '_77',\n",
       " '_78',\n",
       " '_79',\n",
       " '_80',\n",
       " '_82',\n",
       " '_83',\n",
       " '_87',\n",
       " '_88',\n",
       " '_9',\n",
       " '_90',\n",
       " '_91',\n",
       " '_94',\n",
       " '_96',\n",
       " '_97',\n",
       " '_98',\n",
       " '__',\n",
       " '___',\n",
       " '__builtin__',\n",
       " '__builtins__',\n",
       " '__doc__',\n",
       " '__loader__',\n",
       " '__name__',\n",
       " '__package__',\n",
       " '__spec__',\n",
       " '_dh',\n",
       " '_exit_code',\n",
       " '_i',\n",
       " '_i1',\n",
       " '_i10',\n",
       " '_i100',\n",
       " '_i101',\n",
       " '_i102',\n",
       " '_i103',\n",
       " '_i104',\n",
       " '_i105',\n",
       " '_i106',\n",
       " '_i107',\n",
       " '_i108',\n",
       " '_i109',\n",
       " '_i11',\n",
       " '_i110',\n",
       " '_i111',\n",
       " '_i112',\n",
       " '_i113',\n",
       " '_i114',\n",
       " '_i115',\n",
       " '_i116',\n",
       " '_i117',\n",
       " '_i118',\n",
       " '_i119',\n",
       " '_i12',\n",
       " '_i120',\n",
       " '_i121',\n",
       " '_i122',\n",
       " '_i123',\n",
       " '_i124',\n",
       " '_i125',\n",
       " '_i126',\n",
       " '_i127',\n",
       " '_i128',\n",
       " '_i129',\n",
       " '_i13',\n",
       " '_i130',\n",
       " '_i131',\n",
       " '_i132',\n",
       " '_i133',\n",
       " '_i134',\n",
       " '_i135',\n",
       " '_i136',\n",
       " '_i137',\n",
       " '_i138',\n",
       " '_i139',\n",
       " '_i14',\n",
       " '_i140',\n",
       " '_i141',\n",
       " '_i142',\n",
       " '_i143',\n",
       " '_i144',\n",
       " '_i145',\n",
       " '_i146',\n",
       " '_i147',\n",
       " '_i148',\n",
       " '_i149',\n",
       " '_i15',\n",
       " '_i150',\n",
       " '_i151',\n",
       " '_i152',\n",
       " '_i153',\n",
       " '_i154',\n",
       " '_i155',\n",
       " '_i156',\n",
       " '_i157',\n",
       " '_i158',\n",
       " '_i159',\n",
       " '_i16',\n",
       " '_i160',\n",
       " '_i161',\n",
       " '_i162',\n",
       " '_i163',\n",
       " '_i164',\n",
       " '_i165',\n",
       " '_i166',\n",
       " '_i167',\n",
       " '_i168',\n",
       " '_i169',\n",
       " '_i17',\n",
       " '_i170',\n",
       " '_i171',\n",
       " '_i172',\n",
       " '_i173',\n",
       " '_i174',\n",
       " '_i175',\n",
       " '_i176',\n",
       " '_i177',\n",
       " '_i178',\n",
       " '_i179',\n",
       " '_i18',\n",
       " '_i180',\n",
       " '_i181',\n",
       " '_i182',\n",
       " '_i183',\n",
       " '_i184',\n",
       " '_i185',\n",
       " '_i186',\n",
       " '_i187',\n",
       " '_i188',\n",
       " '_i189',\n",
       " '_i19',\n",
       " '_i190',\n",
       " '_i191',\n",
       " '_i192',\n",
       " '_i193',\n",
       " '_i194',\n",
       " '_i195',\n",
       " '_i196',\n",
       " '_i197',\n",
       " '_i198',\n",
       " '_i199',\n",
       " '_i2',\n",
       " '_i20',\n",
       " '_i200',\n",
       " '_i201',\n",
       " '_i202',\n",
       " '_i203',\n",
       " '_i204',\n",
       " '_i205',\n",
       " '_i206',\n",
       " '_i207',\n",
       " '_i208',\n",
       " '_i209',\n",
       " '_i21',\n",
       " '_i210',\n",
       " '_i211',\n",
       " '_i212',\n",
       " '_i213',\n",
       " '_i214',\n",
       " '_i215',\n",
       " '_i216',\n",
       " '_i217',\n",
       " '_i218',\n",
       " '_i219',\n",
       " '_i22',\n",
       " '_i220',\n",
       " '_i221',\n",
       " '_i222',\n",
       " '_i223',\n",
       " '_i224',\n",
       " '_i225',\n",
       " '_i226',\n",
       " '_i227',\n",
       " '_i228',\n",
       " '_i229',\n",
       " '_i23',\n",
       " '_i230',\n",
       " '_i231',\n",
       " '_i232',\n",
       " '_i233',\n",
       " '_i234',\n",
       " '_i235',\n",
       " '_i236',\n",
       " '_i237',\n",
       " '_i238',\n",
       " '_i239',\n",
       " '_i24',\n",
       " '_i240',\n",
       " '_i241',\n",
       " '_i242',\n",
       " '_i243',\n",
       " '_i25',\n",
       " '_i26',\n",
       " '_i27',\n",
       " '_i28',\n",
       " '_i29',\n",
       " '_i3',\n",
       " '_i30',\n",
       " '_i31',\n",
       " '_i32',\n",
       " '_i33',\n",
       " '_i34',\n",
       " '_i35',\n",
       " '_i36',\n",
       " '_i37',\n",
       " '_i38',\n",
       " '_i39',\n",
       " '_i4',\n",
       " '_i40',\n",
       " '_i41',\n",
       " '_i42',\n",
       " '_i43',\n",
       " '_i44',\n",
       " '_i45',\n",
       " '_i46',\n",
       " '_i47',\n",
       " '_i48',\n",
       " '_i49',\n",
       " '_i5',\n",
       " '_i50',\n",
       " '_i51',\n",
       " '_i52',\n",
       " '_i53',\n",
       " '_i54',\n",
       " '_i55',\n",
       " '_i56',\n",
       " '_i57',\n",
       " '_i58',\n",
       " '_i59',\n",
       " '_i6',\n",
       " '_i60',\n",
       " '_i61',\n",
       " '_i62',\n",
       " '_i63',\n",
       " '_i64',\n",
       " '_i65',\n",
       " '_i66',\n",
       " '_i67',\n",
       " '_i68',\n",
       " '_i69',\n",
       " '_i7',\n",
       " '_i70',\n",
       " '_i71',\n",
       " '_i72',\n",
       " '_i73',\n",
       " '_i74',\n",
       " '_i75',\n",
       " '_i76',\n",
       " '_i77',\n",
       " '_i78',\n",
       " '_i79',\n",
       " '_i8',\n",
       " '_i80',\n",
       " '_i81',\n",
       " '_i82',\n",
       " '_i83',\n",
       " '_i84',\n",
       " '_i85',\n",
       " '_i86',\n",
       " '_i87',\n",
       " '_i88',\n",
       " '_i89',\n",
       " '_i9',\n",
       " '_i90',\n",
       " '_i91',\n",
       " '_i92',\n",
       " '_i93',\n",
       " '_i94',\n",
       " '_i95',\n",
       " '_i96',\n",
       " '_i97',\n",
       " '_i98',\n",
       " '_i99',\n",
       " '_ih',\n",
       " '_ii',\n",
       " '_iii',\n",
       " '_oh',\n",
       " 'exit',\n",
       " 'f',\n",
       " 'get_ipython',\n",
       " 'i',\n",
       " 'l',\n",
       " 'l1',\n",
       " 'line',\n",
       " 'os',\n",
       " 'quit']"
      ]
     },
     "execution_count": 243,
     "metadata": {},
     "output_type": "execute_result"
    }
   ],
   "source": [
    "dir()"
   ]
  },
  {
   "cell_type": "code",
   "execution_count": 244,
   "id": "e1a5bd8a",
   "metadata": {},
   "outputs": [
    {
     "data": {
      "text/plain": [
       "['.ipynb_checkpoints',\n",
       " '.ipython',\n",
       " '.jupyter',\n",
       " '.vscode',\n",
       " 'anaconda3',\n",
       " 'anand.txt',\n",
       " 'AppData',\n",
       " 'Application Data',\n",
       " 'Contacts',\n",
       " 'Cookies',\n",
       " 'Desktop',\n",
       " 'Documents',\n",
       " 'Downloads',\n",
       " 'facebook.txt',\n",
       " 'Favorites',\n",
       " 'filewrite.txt',\n",
       " 'file_System.ipynb',\n",
       " 'free.txt',\n",
       " 'goo.txt',\n",
       " 'google.txt',\n",
       " 'IntelGraphicsProfiles',\n",
       " 'Links',\n",
       " 'Local Settings',\n",
       " 'Music',\n",
       " 'My Documents',\n",
       " 'NetHood',\n",
       " 'NTUSER.DAT',\n",
       " 'ntuser.dat.LOG1',\n",
       " 'ntuser.dat.LOG2',\n",
       " 'NTUSER.DAT{1c2b59c6-c5f5-11eb-bacb-000d3a96488e}.TM.blf',\n",
       " 'NTUSER.DAT{1c2b59c6-c5f5-11eb-bacb-000d3a96488e}.TMContainer00000000000000000001.regtrans-ms',\n",
       " 'NTUSER.DAT{1c2b59c6-c5f5-11eb-bacb-000d3a96488e}.TMContainer00000000000000000002.regtrans-ms',\n",
       " 'ntuser.ini',\n",
       " 'OneDrive',\n",
       " 'Pictures',\n",
       " 'PrintHood',\n",
       " 'Recent',\n",
       " 'sanjutest.txt',\n",
       " 'Saved Games',\n",
       " 'ScStore',\n",
       " 'Searches',\n",
       " 'SendTo',\n",
       " 'Start Menu',\n",
       " 'Templates',\n",
       " 'test1.txt',\n",
       " 'test4.txt',\n",
       " 'Untitled.ipynb',\n",
       " 'Untitled1.ipynb',\n",
       " 'Videos']"
      ]
     },
     "execution_count": 244,
     "metadata": {},
     "output_type": "execute_result"
    }
   ],
   "source": [
    "os.listdir()"
   ]
  },
  {
   "cell_type": "code",
   "execution_count": 245,
   "id": "d233ff20",
   "metadata": {},
   "outputs": [],
   "source": [
    "f.flush()   # clears all the internal bluff of file"
   ]
  },
  {
   "cell_type": "code",
   "execution_count": 246,
   "id": "09318160",
   "metadata": {},
   "outputs": [],
   "source": [
    " f = open(\"sanjay.txt\",\"w\")"
   ]
  },
  {
   "cell_type": "code",
   "execution_count": 247,
   "id": "d499b8d5",
   "metadata": {},
   "outputs": [
    {
     "data": {
      "text/plain": [
       "776"
      ]
     },
     "execution_count": 247,
     "metadata": {},
     "output_type": "execute_result"
    }
   ],
   "source": [
    "f.write(\"\"\"\n",
    "\n",
    "An electronic document management system (EDMS) manage\n",
    "s the creation, use, and storage of documents in most, if not all formats. While\n",
    "electronic document management systems share similarities with enterprise c\n",
    "ontent management (ECM) systems, it can be important to differentiate them,\n",
    "especially when shopping for solutions. Most ECM systems can be considered EDMS platforms, \n",
    "but not the other way around. EDMS platforms lack some of the functionality of ECM systems, in\n",
    "cluding intelligent content capture, business process automation and records management features.\n",
    "\n",
    "However, even on its own, an electronic document management system offers a \n",
    "comprehensive solution to help knowledge workers efficiently organize and distribute documents across their organizations.\n",
    "\"\"\")"
   ]
  },
  {
   "cell_type": "code",
   "execution_count": 248,
   "id": "408a6608",
   "metadata": {},
   "outputs": [
    {
     "ename": "UnsupportedOperation",
     "evalue": "not readable",
     "output_type": "error",
     "traceback": [
      "\u001b[1;31m---------------------------------------------------------------------------\u001b[0m",
      "\u001b[1;31mUnsupportedOperation\u001b[0m                      Traceback (most recent call last)",
      "\u001b[1;32m~\\AppData\\Local\\Temp\\ipykernel_14252\\3059900045.py\u001b[0m in \u001b[0;36m<module>\u001b[1;34m\u001b[0m\n\u001b[1;32m----> 1\u001b[1;33m \u001b[0mf\u001b[0m\u001b[1;33m.\u001b[0m\u001b[0mread\u001b[0m\u001b[1;33m(\u001b[0m\u001b[1;33m)\u001b[0m\u001b[1;33m\u001b[0m\u001b[1;33m\u001b[0m\u001b[0m\n\u001b[0m",
      "\u001b[1;31mUnsupportedOperation\u001b[0m: not readable"
     ]
    }
   ],
   "source": [
    "f.read()"
   ]
  },
  {
   "cell_type": "code",
   "execution_count": 249,
   "id": "9aa2f9bd",
   "metadata": {},
   "outputs": [],
   "source": [
    "f.close()"
   ]
  },
  {
   "cell_type": "code",
   "execution_count": 250,
   "id": "01a1bff0",
   "metadata": {},
   "outputs": [],
   "source": [
    "f = open(\"sanjay.txt\",\"r+\")"
   ]
  },
  {
   "cell_type": "code",
   "execution_count": 251,
   "id": "cb7bea4f",
   "metadata": {},
   "outputs": [
    {
     "data": {
      "text/plain": [
       "'An electronic document management system (EDMS) manage\\ns the creation, use, and storage of documents in most, if not all formats. While\\nelectronic document management systems share similarities with enterprise c\\nontent management (ECM) systems, it can be important to differentiate them,\\nespecially when shopping for solutions. Most ECM systems can be considered EDMS platforms, \\nbut not the other way around. EDMS platforms lack some of the functionality of ECM systems, in\\ncluding intelligent content capture, business process automation and records management features.\\n\\nHowever, even on its own, an electronic document management system offers a \\ncomprehensive solution to help knowledge workers efficiently organize and distribute documents across their organizations.\\n'"
      ]
     },
     "execution_count": 251,
     "metadata": {},
     "output_type": "execute_result"
    }
   ],
   "source": [
    "f.read()"
   ]
  },
  {
   "cell_type": "code",
   "execution_count": 252,
   "id": "3ca8d628",
   "metadata": {},
   "outputs": [
    {
     "data": {
      "text/plain": [
       "''"
      ]
     },
     "execution_count": 252,
     "metadata": {},
     "output_type": "execute_result"
    }
   ],
   "source": [
    "f.readline()"
   ]
  },
  {
   "cell_type": "code",
   "execution_count": 253,
   "id": "05ce91ea",
   "metadata": {},
   "outputs": [
    {
     "data": {
      "text/plain": [
       "784"
      ]
     },
     "execution_count": 253,
     "metadata": {},
     "output_type": "execute_result"
    }
   ],
   "source": [
    "f.tell()"
   ]
  },
  {
   "cell_type": "code",
   "execution_count": 255,
   "id": "3213520d",
   "metadata": {},
   "outputs": [
    {
     "data": {
      "text/plain": [
       "20"
      ]
     },
     "execution_count": 255,
     "metadata": {},
     "output_type": "execute_result"
    }
   ],
   "source": [
    "f.seek(20)"
   ]
  },
  {
   "cell_type": "code",
   "execution_count": 256,
   "id": "0f57b68d",
   "metadata": {},
   "outputs": [
    {
     "data": {
      "text/plain": [
       "'nt management system (EDMS) manage\\n'"
      ]
     },
     "execution_count": 256,
     "metadata": {},
     "output_type": "execute_result"
    }
   ],
   "source": [
    "f.readline()"
   ]
  },
  {
   "cell_type": "code",
   "execution_count": 257,
   "id": "fa131379",
   "metadata": {},
   "outputs": [
    {
     "data": {
      "text/plain": [
       "'s the creation, use, and storage of documents in most, if not all formats. While\\n'"
      ]
     },
     "execution_count": 257,
     "metadata": {},
     "output_type": "execute_result"
    }
   ],
   "source": [
    "f.readline()"
   ]
  },
  {
   "cell_type": "code",
   "execution_count": 263,
   "id": "6b71391e",
   "metadata": {},
   "outputs": [],
   "source": [
    "for i in f:\n",
    "    print(i, end =\" \")"
   ]
  },
  {
   "cell_type": "code",
   "execution_count": 264,
   "id": "3095e1aa",
   "metadata": {},
   "outputs": [
    {
     "data": {
      "text/plain": [
       "[]"
      ]
     },
     "execution_count": 264,
     "metadata": {},
     "output_type": "execute_result"
    }
   ],
   "source": [
    "f.readlines()"
   ]
  },
  {
   "cell_type": "code",
   "execution_count": 265,
   "id": "e27c2428",
   "metadata": {},
   "outputs": [
    {
     "data": {
      "text/plain": [
       "784"
      ]
     },
     "execution_count": 265,
     "metadata": {},
     "output_type": "execute_result"
    }
   ],
   "source": [
    "f.tell()"
   ]
  },
  {
   "cell_type": "code",
   "execution_count": 266,
   "id": "f501c0ca",
   "metadata": {},
   "outputs": [
    {
     "data": {
      "text/plain": [
       "30"
      ]
     },
     "execution_count": 266,
     "metadata": {},
     "output_type": "execute_result"
    }
   ],
   "source": [
    "f.seek(30)"
   ]
  },
  {
   "cell_type": "code",
   "execution_count": 267,
   "id": "573b0920",
   "metadata": {},
   "outputs": [
    {
     "data": {
      "text/plain": [
       "['ent system (EDMS) manage\\n',\n",
       " 's the creation, use, and storage of documents in most, if not all formats. While\\n',\n",
       " 'electronic document management systems share similarities with enterprise c\\n',\n",
       " 'ontent management (ECM) systems, it can be important to differentiate them,\\n',\n",
       " 'especially when shopping for solutions. Most ECM systems can be considered EDMS platforms, \\n',\n",
       " 'but not the other way around. EDMS platforms lack some of the functionality of ECM systems, in\\n',\n",
       " 'cluding intelligent content capture, business process automation and records management features.\\n',\n",
       " '\\n',\n",
       " 'However, even on its own, an electronic document management system offers a \\n',\n",
       " 'comprehensive solution to help knowledge workers efficiently organize and distribute documents across their organizations.\\n']"
      ]
     },
     "execution_count": 267,
     "metadata": {},
     "output_type": "execute_result"
    }
   ],
   "source": [
    "f.readlines()"
   ]
  },
  {
   "cell_type": "code",
   "execution_count": 268,
   "id": "4ce2ac2a",
   "metadata": {},
   "outputs": [],
   "source": [
    "l = f.readlines()"
   ]
  },
  {
   "cell_type": "code",
   "execution_count": 269,
   "id": "096703cc",
   "metadata": {},
   "outputs": [
    {
     "data": {
      "text/plain": [
       "[]"
      ]
     },
     "execution_count": 269,
     "metadata": {},
     "output_type": "execute_result"
    }
   ],
   "source": [
    "l"
   ]
  },
  {
   "cell_type": "code",
   "execution_count": 270,
   "id": "be6f9ab6",
   "metadata": {},
   "outputs": [
    {
     "data": {
      "text/plain": [
       "20"
      ]
     },
     "execution_count": 270,
     "metadata": {},
     "output_type": "execute_result"
    }
   ],
   "source": [
    "f.seek(20)"
   ]
  },
  {
   "cell_type": "code",
   "execution_count": 271,
   "id": "11177ccf",
   "metadata": {},
   "outputs": [],
   "source": [
    "l = f.readlines()"
   ]
  },
  {
   "cell_type": "code",
   "execution_count": 272,
   "id": "2cf44507",
   "metadata": {},
   "outputs": [
    {
     "data": {
      "text/plain": [
       "0"
      ]
     },
     "execution_count": 272,
     "metadata": {},
     "output_type": "execute_result"
    }
   ],
   "source": [
    "len(f.readlines())"
   ]
  },
  {
   "cell_type": "code",
   "execution_count": 273,
   "id": "0e54d43b",
   "metadata": {},
   "outputs": [
    {
     "data": {
      "text/plain": [
       "15"
      ]
     },
     "execution_count": 273,
     "metadata": {},
     "output_type": "execute_result"
    }
   ],
   "source": [
    "f.seek(15)"
   ]
  },
  {
   "cell_type": "code",
   "execution_count": 274,
   "id": "eddf9d91",
   "metadata": {},
   "outputs": [
    {
     "data": {
      "text/plain": [
       "15"
      ]
     },
     "execution_count": 274,
     "metadata": {},
     "output_type": "execute_result"
    }
   ],
   "source": [
    "f.tell()"
   ]
  },
  {
   "cell_type": "code",
   "execution_count": 275,
   "id": "3743b23a",
   "metadata": {},
   "outputs": [
    {
     "data": {
      "text/plain": [
       "10"
      ]
     },
     "execution_count": 275,
     "metadata": {},
     "output_type": "execute_result"
    }
   ],
   "source": [
    "len(f.readlines())"
   ]
  },
  {
   "cell_type": "code",
   "execution_count": 277,
   "id": "c894bd92",
   "metadata": {},
   "outputs": [],
   "source": [
    "l = f.readlines()"
   ]
  },
  {
   "cell_type": "code",
   "execution_count": 278,
   "id": "e6c3107d",
   "metadata": {},
   "outputs": [
    {
     "data": {
      "text/plain": [
       "[]"
      ]
     },
     "execution_count": 278,
     "metadata": {},
     "output_type": "execute_result"
    }
   ],
   "source": [
    "l"
   ]
  },
  {
   "cell_type": "code",
   "execution_count": 282,
   "id": "fd647b13",
   "metadata": {},
   "outputs": [
    {
     "data": {
      "text/plain": [
       "'sanjay.txt'"
      ]
     },
     "execution_count": 282,
     "metadata": {},
     "output_type": "execute_result"
    }
   ],
   "source": [
    "f.name"
   ]
  },
  {
   "cell_type": "code",
   "execution_count": 283,
   "id": "5a532a36",
   "metadata": {},
   "outputs": [
    {
     "data": {
      "text/plain": [
       "[]"
      ]
     },
     "execution_count": 283,
     "metadata": {},
     "output_type": "execute_result"
    }
   ],
   "source": [
    "f.readlines()"
   ]
  },
  {
   "cell_type": "code",
   "execution_count": 284,
   "id": "e2ccb825",
   "metadata": {},
   "outputs": [
    {
     "data": {
      "text/plain": [
       "10"
      ]
     },
     "execution_count": 284,
     "metadata": {},
     "output_type": "execute_result"
    }
   ],
   "source": [
    "f.seek(10)"
   ]
  },
  {
   "cell_type": "code",
   "execution_count": 285,
   "id": "3b69c43d",
   "metadata": {},
   "outputs": [
    {
     "data": {
      "text/plain": [
       "10"
      ]
     },
     "execution_count": 285,
     "metadata": {},
     "output_type": "execute_result"
    }
   ],
   "source": [
    "len(f.readlines())"
   ]
  },
  {
   "cell_type": "code",
   "execution_count": 286,
   "id": "cc6f0cf2",
   "metadata": {},
   "outputs": [],
   "source": [
    "l = f.readlines()"
   ]
  },
  {
   "cell_type": "code",
   "execution_count": 287,
   "id": "a85b3f1e",
   "metadata": {},
   "outputs": [
    {
     "data": {
      "text/plain": [
       "[]"
      ]
     },
     "execution_count": 287,
     "metadata": {},
     "output_type": "execute_result"
    }
   ],
   "source": [
    "l"
   ]
  },
  {
   "cell_type": "code",
   "execution_count": 288,
   "id": "5f82c9db",
   "metadata": {},
   "outputs": [
    {
     "data": {
      "text/plain": [
       "20"
      ]
     },
     "execution_count": 288,
     "metadata": {},
     "output_type": "execute_result"
    }
   ],
   "source": [
    "f.seek(20)"
   ]
  },
  {
   "cell_type": "code",
   "execution_count": 289,
   "id": "9fb1a882",
   "metadata": {},
   "outputs": [],
   "source": [
    "l = f.readlines()"
   ]
  },
  {
   "cell_type": "code",
   "execution_count": 290,
   "id": "dfe835f6",
   "metadata": {},
   "outputs": [
    {
     "data": {
      "text/plain": [
       "['nt management system (EDMS) manage\\n',\n",
       " 's the creation, use, and storage of documents in most, if not all formats. While\\n',\n",
       " 'electronic document management systems share similarities with enterprise c\\n',\n",
       " 'ontent management (ECM) systems, it can be important to differentiate them,\\n',\n",
       " 'especially when shopping for solutions. Most ECM systems can be considered EDMS platforms, \\n',\n",
       " 'but not the other way around. EDMS platforms lack some of the functionality of ECM systems, in\\n',\n",
       " 'cluding intelligent content capture, business process automation and records management features.\\n',\n",
       " '\\n',\n",
       " 'However, even on its own, an electronic document management system offers a \\n',\n",
       " 'comprehensive solution to help knowledge workers efficiently organize and distribute documents across their organizations.\\n']"
      ]
     },
     "execution_count": 290,
     "metadata": {},
     "output_type": "execute_result"
    }
   ],
   "source": [
    "l"
   ]
  },
  {
   "cell_type": "code",
   "execution_count": 291,
   "id": "1a24cef4",
   "metadata": {},
   "outputs": [
    {
     "data": {
      "text/plain": [
       "'nt management system (EDMS) manage\\n'"
      ]
     },
     "execution_count": 291,
     "metadata": {},
     "output_type": "execute_result"
    }
   ],
   "source": [
    "l[0]"
   ]
  },
  {
   "cell_type": "code",
   "execution_count": 292,
   "id": "d05eaf28",
   "metadata": {},
   "outputs": [
    {
     "data": {
      "text/plain": [
       "['nt', 'management', 'system', '(EDMS)', 'manage']"
      ]
     },
     "execution_count": 292,
     "metadata": {},
     "output_type": "execute_result"
    }
   ],
   "source": [
    "l[0].split()"
   ]
  },
  {
   "cell_type": "code",
   "execution_count": 293,
   "id": "32d03972",
   "metadata": {},
   "outputs": [
    {
     "name": "stdout",
     "output_type": "stream",
     "text": [
      "s\n",
      "t\n",
      "c\n",
      "u\n",
      "a\n",
      "s\n",
      "o\n",
      "d\n",
      "i\n",
      "m\n",
      "i\n",
      "n\n",
      "a\n",
      "f\n",
      "W\n"
     ]
    }
   ],
   "source": [
    "for i in l[1].split():\n",
    "    print(i[0])"
   ]
  },
  {
   "cell_type": "code",
   "execution_count": 294,
   "id": "5c13d220",
   "metadata": {},
   "outputs": [
    {
     "name": "stdout",
     "output_type": "stream",
     "text": [
      "Overwriting sanjay.txt\n"
     ]
    }
   ],
   "source": [
    "%%writefile sanjay.txt\n",
    "this is information"
   ]
  },
  {
   "cell_type": "code",
   "execution_count": 295,
   "id": "1bc03124",
   "metadata": {},
   "outputs": [],
   "source": [
    "l = [\"Helloo 2\",\"Hellooo 3\",\"Hello 4\"]"
   ]
  },
  {
   "cell_type": "code",
   "execution_count": 296,
   "id": "3b22299d",
   "metadata": {},
   "outputs": [
    {
     "data": {
      "text/plain": [
       "7"
      ]
     },
     "execution_count": 296,
     "metadata": {},
     "output_type": "execute_result"
    }
   ],
   "source": [
    "f.write(\"Hello1 \")"
   ]
  },
  {
   "cell_type": "code",
   "execution_count": 297,
   "id": "45e41c48",
   "metadata": {},
   "outputs": [],
   "source": [
    "f.writelines(l)"
   ]
  },
  {
   "cell_type": "code",
   "execution_count": 298,
   "id": "50e8083e",
   "metadata": {},
   "outputs": [],
   "source": [
    "f.close()"
   ]
  },
  {
   "cell_type": "code",
   "execution_count": 299,
   "id": "19a166b0",
   "metadata": {},
   "outputs": [],
   "source": [
    "f = open(\"sanjay.txt\",\"r+\")"
   ]
  },
  {
   "cell_type": "code",
   "execution_count": 300,
   "id": "d0cf1791",
   "metadata": {},
   "outputs": [],
   "source": [
    "l = [\"Helloo 2\",\"Hellooo 3\",\"Hello 4\"]"
   ]
  },
  {
   "cell_type": "code",
   "execution_count": 301,
   "id": "147b0811",
   "metadata": {},
   "outputs": [
    {
     "data": {
      "text/plain": [
       "7"
      ]
     },
     "execution_count": 301,
     "metadata": {},
     "output_type": "execute_result"
    }
   ],
   "source": [
    "f.write(\"Hello1 \")"
   ]
  },
  {
   "cell_type": "code",
   "execution_count": 302,
   "id": "b775611e",
   "metadata": {},
   "outputs": [],
   "source": [
    "f.close()"
   ]
  },
  {
   "cell_type": "code",
   "execution_count": 304,
   "id": "f6d953f6",
   "metadata": {},
   "outputs": [
    {
     "ename": "ValueError",
     "evalue": "I/O operation on closed file.",
     "output_type": "error",
     "traceback": [
      "\u001b[1;31m---------------------------------------------------------------------------\u001b[0m",
      "\u001b[1;31mValueError\u001b[0m                                Traceback (most recent call last)",
      "\u001b[1;32m~\\AppData\\Local\\Temp\\ipykernel_14252\\2185485302.py\u001b[0m in \u001b[0;36m<module>\u001b[1;34m\u001b[0m\n\u001b[1;32m----> 1\u001b[1;33m \u001b[0mf\u001b[0m\u001b[1;33m.\u001b[0m\u001b[0mflush\u001b[0m\u001b[1;33m(\u001b[0m\u001b[1;33m)\u001b[0m\u001b[1;33m\u001b[0m\u001b[1;33m\u001b[0m\u001b[0m\n\u001b[0m",
      "\u001b[1;31mValueError\u001b[0m: I/O operation on closed file."
     ]
    }
   ],
   "source": [
    "f.flush()"
   ]
  },
  {
   "cell_type": "code",
   "execution_count": 305,
   "id": "fda462af",
   "metadata": {},
   "outputs": [],
   "source": [
    "f = open(\"sanjay.txt\",\"r+\")"
   ]
  },
  {
   "cell_type": "code",
   "execution_count": 306,
   "id": "58a79c0f",
   "metadata": {},
   "outputs": [],
   "source": [
    "l = [\"Helloo 2\",\"Hellooo 3\",\"Hello 4\"]"
   ]
  },
  {
   "cell_type": "code",
   "execution_count": 307,
   "id": "12a6e069",
   "metadata": {},
   "outputs": [
    {
     "data": {
      "text/plain": [
       "7"
      ]
     },
     "execution_count": 307,
     "metadata": {},
     "output_type": "execute_result"
    }
   ],
   "source": [
    "f.write(\"Hello1 \")"
   ]
  },
  {
   "cell_type": "code",
   "execution_count": 308,
   "id": "1fa7f641",
   "metadata": {},
   "outputs": [],
   "source": [
    "f.writelines(l)"
   ]
  },
  {
   "cell_type": "code",
   "execution_count": 309,
   "id": "7c87401f",
   "metadata": {},
   "outputs": [],
   "source": [
    "f.close()"
   ]
  },
  {
   "cell_type": "code",
   "execution_count": 310,
   "id": "d7693305",
   "metadata": {},
   "outputs": [
    {
     "ename": "ValueError",
     "evalue": "I/O operation on closed file",
     "output_type": "error",
     "traceback": [
      "\u001b[1;31m---------------------------------------------------------------------------\u001b[0m",
      "\u001b[1;31mValueError\u001b[0m                                Traceback (most recent call last)",
      "\u001b[1;32m~\\AppData\\Local\\Temp\\ipykernel_14252\\2575569948.py\u001b[0m in \u001b[0;36m<module>\u001b[1;34m\u001b[0m\n\u001b[1;32m----> 1\u001b[1;33m \u001b[0mf\u001b[0m\u001b[1;33m.\u001b[0m\u001b[0mfileno\u001b[0m\u001b[1;33m(\u001b[0m\u001b[1;33m)\u001b[0m\u001b[1;33m\u001b[0m\u001b[1;33m\u001b[0m\u001b[0m\n\u001b[0m",
      "\u001b[1;31mValueError\u001b[0m: I/O operation on closed file"
     ]
    }
   ],
   "source": [
    "f.fileno()"
   ]
  },
  {
   "cell_type": "code",
   "execution_count": 311,
   "id": "55af8a51",
   "metadata": {},
   "outputs": [],
   "source": [
    "f = open(\"sanjay.txt\",\"r+\")"
   ]
  },
  {
   "cell_type": "code",
   "execution_count": 313,
   "id": "0ce686a4",
   "metadata": {},
   "outputs": [
    {
     "data": {
      "text/plain": [
       "5"
      ]
     },
     "execution_count": 313,
     "metadata": {},
     "output_type": "execute_result"
    }
   ],
   "source": [
    "f.fileno()"
   ]
  },
  {
   "cell_type": "code",
   "execution_count": 314,
   "id": "83fb9f3e",
   "metadata": {},
   "outputs": [
    {
     "name": "stdout",
     "output_type": "stream",
     "text": [
      " Volume in drive C has no label.\n",
      " Volume Serial Number is DA2F-0459\n",
      "\n",
      " Directory of C:\\Users\\user\n",
      "\n",
      "11/03/2022  02:54 PM    <DIR>          .\n",
      "10/29/2022  01:31 PM    <DIR>          ..\n",
      "11/03/2022  02:29 PM    <DIR>          .ipynb_checkpoints\n",
      "11/01/2022  06:02 AM    <DIR>          .ipython\n",
      "11/03/2022  09:30 AM    <DIR>          .jupyter\n",
      "10/30/2022  12:00 PM    <DIR>          .vscode\n",
      "10/31/2022  08:56 PM    <DIR>          anaconda3\n",
      "11/03/2022  02:14 PM                 0 anand.txt\n",
      "10/30/2022  01:50 AM    <DIR>          Contacts\n",
      "11/01/2022  04:50 PM    <DIR>          Desktop\n",
      "11/01/2022  07:56 AM    <DIR>          Documents\n",
      "11/03/2022  02:25 PM    <DIR>          Downloads\n",
      "11/03/2022  11:54 AM               658 facebook.txt\n",
      "10/30/2022  01:50 AM    <DIR>          Favorites\n",
      "11/03/2022  02:54 PM           156,345 file_System.ipynb\n",
      "11/03/2022  02:29 PM           138,082 file_System-Copy1.ipynb\n",
      "11/03/2022  02:11 PM                55 filewrite.txt\n",
      "11/03/2022  02:16 PM                 0 free.txt\n",
      "11/03/2022  01:53 PM                 0 goo.txt\n",
      "11/03/2022  11:41 AM               904 google.txt\n",
      "10/30/2022  01:50 AM    <DIR>          Links\n",
      "10/30/2022  01:50 AM    <DIR>          Music\n",
      "11/03/2022  08:05 AM    <DIR>          OneDrive\n",
      "10/30/2022  10:18 AM    <DIR>          Pictures\n",
      "11/03/2022  02:55 PM               815 sanjay.txt\n",
      "11/03/2022  10:04 AM               145 sanjutest.txt\n",
      "10/30/2022  01:50 AM    <DIR>          Saved Games\n",
      "10/29/2022  01:31 PM    <DIR>          Searches\n",
      "11/03/2022  02:15 PM                 0 test1.txt\n",
      "11/03/2022  09:36 AM                32 test4.txt\n",
      "11/01/2022  06:02 AM                72 Untitled.ipynb\n",
      "11/03/2022  08:55 AM                72 Untitled1.ipynb\n",
      "10/30/2022  10:09 AM    <DIR>          Videos\n",
      "              14 File(s)        297,180 bytes\n",
      "              19 Dir(s)  208,106,049,536 bytes free\n"
     ]
    }
   ],
   "source": [
    "%ls"
   ]
  },
  {
   "cell_type": "code",
   "execution_count": 316,
   "id": "3a96f5be",
   "metadata": {},
   "outputs": [
    {
     "data": {
      "text/plain": [
       "'C:\\\\Users\\\\user'"
      ]
     },
     "execution_count": 316,
     "metadata": {},
     "output_type": "execute_result"
    }
   ],
   "source": [
    "import os\n",
    "os.getcwd()"
   ]
  },
  {
   "cell_type": "code",
   "execution_count": 317,
   "id": "5fcf8720",
   "metadata": {},
   "outputs": [],
   "source": [
    "import os\n",
    "os.remove(\"sanjutest.txt\")"
   ]
  },
  {
   "cell_type": "code",
   "execution_count": 318,
   "id": "e92024f6",
   "metadata": {},
   "outputs": [
    {
     "data": {
      "text/plain": [
       "['.ipynb_checkpoints',\n",
       " '.ipython',\n",
       " '.jupyter',\n",
       " '.vscode',\n",
       " 'anaconda3',\n",
       " 'anand.txt',\n",
       " 'AppData',\n",
       " 'Application Data',\n",
       " 'Contacts',\n",
       " 'Cookies',\n",
       " 'Desktop',\n",
       " 'Documents',\n",
       " 'Downloads',\n",
       " 'facebook.txt',\n",
       " 'Favorites',\n",
       " 'filewrite.txt',\n",
       " 'file_System-Copy1.ipynb',\n",
       " 'file_System.ipynb',\n",
       " 'free.txt',\n",
       " 'goo.txt',\n",
       " 'google.txt',\n",
       " 'IntelGraphicsProfiles',\n",
       " 'Links',\n",
       " 'Local Settings',\n",
       " 'Music',\n",
       " 'My Documents',\n",
       " 'NetHood',\n",
       " 'NTUSER.DAT',\n",
       " 'ntuser.dat.LOG1',\n",
       " 'ntuser.dat.LOG2',\n",
       " 'NTUSER.DAT{1c2b59c6-c5f5-11eb-bacb-000d3a96488e}.TM.blf',\n",
       " 'NTUSER.DAT{1c2b59c6-c5f5-11eb-bacb-000d3a96488e}.TMContainer00000000000000000001.regtrans-ms',\n",
       " 'NTUSER.DAT{1c2b59c6-c5f5-11eb-bacb-000d3a96488e}.TMContainer00000000000000000002.regtrans-ms',\n",
       " 'ntuser.ini',\n",
       " 'OneDrive',\n",
       " 'Pictures',\n",
       " 'PrintHood',\n",
       " 'Recent',\n",
       " 'sanjay.txt',\n",
       " 'Saved Games',\n",
       " 'ScStore',\n",
       " 'Searches',\n",
       " 'SendTo',\n",
       " 'Start Menu',\n",
       " 'Templates',\n",
       " 'test1.txt',\n",
       " 'test4.txt',\n",
       " 'Untitled.ipynb',\n",
       " 'Untitled1.ipynb',\n",
       " 'Videos']"
      ]
     },
     "execution_count": 318,
     "metadata": {},
     "output_type": "execute_result"
    }
   ],
   "source": [
    "os.listdir()"
   ]
  },
  {
   "cell_type": "code",
   "execution_count": 319,
   "id": "dcf65374",
   "metadata": {},
   "outputs": [],
   "source": [
    "f.flush()"
   ]
  },
  {
   "cell_type": "code",
   "execution_count": null,
   "id": "ee89a237",
   "metadata": {},
   "outputs": [],
   "source": []
  }
 ],
 "metadata": {
  "kernelspec": {
   "display_name": "Python 3 (ipykernel)",
   "language": "python",
   "name": "python3"
  },
  "language_info": {
   "codemirror_mode": {
    "name": "ipython",
    "version": 3
   },
   "file_extension": ".py",
   "mimetype": "text/x-python",
   "name": "python",
   "nbconvert_exporter": "python",
   "pygments_lexer": "ipython3",
   "version": "3.9.13"
  }
 },
 "nbformat": 4,
 "nbformat_minor": 5
}
