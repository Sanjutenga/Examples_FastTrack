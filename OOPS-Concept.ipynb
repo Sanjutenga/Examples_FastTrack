{
 "cells": [
  {
   "cell_type": "code",
   "execution_count": 16,
   "id": "c3d5730c",
   "metadata": {},
   "outputs": [],
   "source": [
    "class car:\n",
    "    def __init__(self, brand, color, fuel):\n",
    "        self.brand = brand\n",
    "        self.color = color\n",
    "        self.fuel = fuel\n",
    "    def car_access(self):\n",
    "        print(self.brand,self.color,self.fuel)\n",
    "    "
   ]
  },
  {
   "cell_type": "code",
   "execution_count": 17,
   "id": "476366e5",
   "metadata": {},
   "outputs": [],
   "source": [
    "swift = car(\"hz\",\"green\",\"petrol\")"
   ]
  },
  {
   "cell_type": "code",
   "execution_count": 18,
   "id": "be1d0c94",
   "metadata": {},
   "outputs": [
    {
     "name": "stdout",
     "output_type": "stream",
     "text": [
      "hz green petrol\n"
     ]
    }
   ],
   "source": [
    "swift.car_access()"
   ]
  },
  {
   "cell_type": "code",
   "execution_count": 38,
   "id": "7e72562f",
   "metadata": {},
   "outputs": [],
   "source": [
    "class car:          # We can replace self with anyname it acts as a pointer of instance of class\n",
    "    def __init__(sanju, brand, color, fuel):\n",
    "        sanju.brand1 = brand\n",
    "        sanju.color = color\n",
    "        sanju.fuel = fuel\n",
    "    def car_access(sanju):\n",
    "        print(sanju.brand,sanju.color,sanju.fuel)\n",
    "    "
   ]
  },
  {
   "cell_type": "code",
   "execution_count": 39,
   "id": "f91f7a28",
   "metadata": {},
   "outputs": [],
   "source": [
    "swift = car(\"hz\",\"green\",\"petrol\")"
   ]
  },
  {
   "cell_type": "code",
   "execution_count": 40,
   "id": "751fd936",
   "metadata": {},
   "outputs": [
    {
     "name": "stdout",
     "output_type": "stream",
     "text": [
      "hz green petrol\n"
     ]
    }
   ],
   "source": [
    "swift.car_access()"
   ]
  },
  {
   "cell_type": "code",
   "execution_count": 33,
   "id": "8743d301",
   "metadata": {},
   "outputs": [
    {
     "data": {
      "text/plain": [
       "'green'"
      ]
     },
     "execution_count": 33,
     "metadata": {},
     "output_type": "execute_result"
    }
   ],
   "source": [
    "swift.color      # this will call only sanju.color"
   ]
  },
  {
   "cell_type": "code",
   "execution_count": 35,
   "id": "0d42f2ed",
   "metadata": {},
   "outputs": [
    {
     "data": {
      "text/plain": [
       "'hz'"
      ]
     },
     "execution_count": 35,
     "metadata": {},
     "output_type": "execute_result"
    }
   ],
   "source": [
    "swift.brand1     # car will understand only self.brand1"
   ]
  },
  {
   "cell_type": "code",
   "execution_count": 41,
   "id": "9d8693dc",
   "metadata": {},
   "outputs": [],
   "source": [
    "class car:          # We can replace self with anyname it acts as a pointer of instance of class\n",
    "    def __init__(sanju, brand, color, fuel):\n",
    "        sanju.a = brand\n",
    "        sanju.b = color\n",
    "        sanju.c = fuel\n",
    "    def car_access(sanju):             # (sanju) this will acts pointer\n",
    "        print(sanju.a,sanju.b,sanju.c)"
   ]
  },
  {
   "cell_type": "code",
   "execution_count": 43,
   "id": "9d771a52",
   "metadata": {},
   "outputs": [],
   "source": [
    "swift = car(\"hz\",\"green\",\"petrol\")    # left side sanju.brand1 where brand1 we can replace any name  it is only for refrence"
   ]
  },
  {
   "cell_type": "code",
   "execution_count": 44,
   "id": "a4586113",
   "metadata": {},
   "outputs": [
    {
     "data": {
      "text/plain": [
       "'green'"
      ]
     },
     "execution_count": 44,
     "metadata": {},
     "output_type": "execute_result"
    }
   ],
   "source": [
    "swift.b"
   ]
  },
  {
   "cell_type": "code",
   "execution_count": 47,
   "id": "903c7ae4",
   "metadata": {},
   "outputs": [
    {
     "name": "stdout",
     "output_type": "stream",
     "text": [
      "hz green petrol\n"
     ]
    }
   ],
   "source": [
    "swift.car_access()"
   ]
  },
  {
   "cell_type": "code",
   "execution_count": 119,
   "id": "1c6b294a",
   "metadata": {},
   "outputs": [],
   "source": [
    "class car:\n",
    "    def test(sanju): \n",
    "        print(\"this is meessage\")\n",
    "        print(sanju)\n",
    "        # in this case missing positional arguement \n",
    "    "
   ]
  },
  {
   "cell_type": "code",
   "execution_count": 120,
   "id": "f4d94f46",
   "metadata": {},
   "outputs": [],
   "source": [
    "b = car()"
   ]
  },
  {
   "cell_type": "code",
   "execution_count": 121,
   "id": "b8d1747d",
   "metadata": {},
   "outputs": [
    {
     "name": "stdout",
     "output_type": "stream",
     "text": [
      "this is meessage\n",
      "<__main__.car object at 0x0000027D8B2F8640>\n"
     ]
    }
   ],
   "source": [
    "b.test()"
   ]
  },
  {
   "cell_type": "code",
   "execution_count": 122,
   "id": "211026b2",
   "metadata": {},
   "outputs": [],
   "source": [
    "def test(sanju):    # in this case missing positional arguement \n",
    "    print(\"this is meessage\")\n",
    "    print(sanju)"
   ]
  },
  {
   "cell_type": "code",
   "execution_count": null,
   "id": "941b5da8",
   "metadata": {},
   "outputs": [],
   "source": []
  },
  {
   "cell_type": "code",
   "execution_count": 123,
   "id": "31f7645d",
   "metadata": {},
   "outputs": [
    {
     "name": "stdout",
     "output_type": "stream",
     "text": [
      "this is meessage\n",
      "<__main__.car object at 0x0000027D8B2F8640>\n"
     ]
    }
   ],
   "source": [
    "b.test()"
   ]
  },
  {
   "cell_type": "code",
   "execution_count": 66,
   "id": "40d378b1",
   "metadata": {},
   "outputs": [],
   "source": [
    "def test(a,b):\n",
    "    return a + b"
   ]
  },
  {
   "cell_type": "code",
   "execution_count": 67,
   "id": "3d84a31a",
   "metadata": {},
   "outputs": [
    {
     "data": {
      "text/plain": [
       "8"
      ]
     },
     "execution_count": 67,
     "metadata": {},
     "output_type": "execute_result"
    }
   ],
   "source": [
    "test(8,0)"
   ]
  },
  {
   "cell_type": "code",
   "execution_count": 101,
   "id": "cc541ccf",
   "metadata": {},
   "outputs": [],
   "source": [
    "class car:\n",
    "    def test(a):\n",
    "        return \"sanjay\"\n",
    "      \n",
    "    \n"
   ]
  },
  {
   "cell_type": "code",
   "execution_count": 102,
   "id": "d29e035e",
   "metadata": {},
   "outputs": [
    {
     "data": {
      "text/plain": [
       "'sanjay'"
      ]
     },
     "execution_count": 102,
     "metadata": {},
     "output_type": "execute_result"
    }
   ],
   "source": [
    "x = car()\n",
    "x.test()"
   ]
  },
  {
   "cell_type": "code",
   "execution_count": 78,
   "id": "3567f5dd",
   "metadata": {},
   "outputs": [],
   "source": [
    "class car:\n",
    "    \n",
    "    def car_access(self):\n",
    "        print(self.brand,self.color,self.fuel)\n",
    "     "
   ]
  },
  {
   "cell_type": "code",
   "execution_count": 145,
   "id": "705a5ac6",
   "metadata": {},
   "outputs": [],
   "source": [
    "class car:\n",
    "    def test(a, b , c ):\n",
    "        print(\"this is message\")"
   ]
  },
  {
   "cell_type": "code",
   "execution_count": 146,
   "id": "9bbc4554",
   "metadata": {},
   "outputs": [],
   "source": [
    "b = car()"
   ]
  },
  {
   "cell_type": "code",
   "execution_count": 150,
   "id": "d1c607ac",
   "metadata": {},
   "outputs": [
    {
     "ename": "TypeError",
     "evalue": "test() takes 3 positional arguments but 4 were given",
     "output_type": "error",
     "traceback": [
      "\u001b[1;31m---------------------------------------------------------------------------\u001b[0m",
      "\u001b[1;31mTypeError\u001b[0m                                 Traceback (most recent call last)",
      "\u001b[1;32m~\\AppData\\Local\\Temp\\ipykernel_11260\\2656435406.py\u001b[0m in \u001b[0;36m<module>\u001b[1;34m\u001b[0m\n\u001b[1;32m----> 1\u001b[1;33m \u001b[0mb\u001b[0m\u001b[1;33m.\u001b[0m\u001b[0mtest\u001b[0m\u001b[1;33m(\u001b[0m\u001b[1;34m\"sanju\"\u001b[0m\u001b[1;33m,\u001b[0m\u001b[1;36m78\u001b[0m\u001b[1;33m,\u001b[0m\u001b[1;36m90\u001b[0m\u001b[1;33m)\u001b[0m\u001b[1;33m\u001b[0m\u001b[1;33m\u001b[0m\u001b[0m\n\u001b[0m",
      "\u001b[1;31mTypeError\u001b[0m: test() takes 3 positional arguments but 4 were given"
     ]
    }
   ],
   "source": [
    "b.test(\"sanju\",78,90)    # by default first one will be treated as self  or pointer"
   ]
  },
  {
   "cell_type": "code",
   "execution_count": 148,
   "id": "a870e2de",
   "metadata": {},
   "outputs": [],
   "source": [
    "class car:\n",
    "    def test(a):\n",
    "        print(\"Hello\")"
   ]
  },
  {
   "cell_type": "code",
   "execution_count": 149,
   "id": "e783f7e0",
   "metadata": {},
   "outputs": [],
   "source": [
    "z = car()"
   ]
  },
  {
   "cell_type": "code",
   "execution_count": 129,
   "id": "0de8651c",
   "metadata": {},
   "outputs": [
    {
     "name": "stdout",
     "output_type": "stream",
     "text": [
      "Hello\n"
     ]
    }
   ],
   "source": [
    "z.test()"
   ]
  },
  {
   "cell_type": "code",
   "execution_count": 162,
   "id": "8a6f7d07",
   "metadata": {},
   "outputs": [],
   "source": [
    "class listme:    # we need to pass again and again with list for every actions  so we need to use __init__\n",
    "    def test(self, a): \n",
    "        for i in a:\n",
    "            if type(a) == list:\n",
    "                print(i)\n",
    "    \n",
    "    def reverse(self, b):\n",
    "        if type(b) == list:\n",
    "            return b[::-1]\n",
    "        \n",
    "            \n",
    "    "
   ]
  },
  {
   "cell_type": "code",
   "execution_count": 156,
   "id": "d04e7f04",
   "metadata": {},
   "outputs": [
    {
     "name": "stdout",
     "output_type": "stream",
     "text": [
      "43\n",
      "5\n",
      "3\n",
      "53\n",
      "5\n",
      "3\n",
      "5\n",
      "4\n"
     ]
    }
   ],
   "source": [
    "c = listme() # class object which is assigning an variable\n",
    "c.test([43,5,3,53,5,3,5,4]) "
   ]
  },
  {
   "cell_type": "code",
   "execution_count": 154,
   "id": "f614265e",
   "metadata": {},
   "outputs": [
    {
     "data": {
      "text/plain": [
       "<__main__.listme at 0x27d8b2d9340>"
      ]
     },
     "execution_count": 154,
     "metadata": {},
     "output_type": "execute_result"
    }
   ],
   "source": [
    "c"
   ]
  },
  {
   "cell_type": "code",
   "execution_count": 163,
   "id": "a7c39a19",
   "metadata": {},
   "outputs": [
    {
     "data": {
      "text/plain": [
       "[4, 4, 2, 5, 2, 5, 3]"
      ]
     },
     "execution_count": 163,
     "metadata": {},
     "output_type": "execute_result"
    }
   ],
   "source": [
    "c = listme()   # reverse\n",
    "c.reverse([3,5,2,5,2,4,4]) "
   ]
  },
  {
   "cell_type": "code",
   "execution_count": 173,
   "id": "56c829f8",
   "metadata": {},
   "outputs": [],
   "source": [
    "class listmine():             #  list we can assign directly to the class\n",
    "    def __init__(self, l):\n",
    "        self.l = l    # self.brand = brand  by pointing self for all cases of functions\n",
    "        \n",
    "    def test1(self):\n",
    "        for i in  self.l:\n",
    "            if type(self.l) == list:\n",
    "                print(i)\n",
    "    \n",
    "    def reverse(self):\n",
    "        if type(self.l) == list:\n",
    "            return self.l[::-1]\n",
    "                \n",
    "        "
   ]
  },
  {
   "cell_type": "code",
   "execution_count": 174,
   "id": "958687f2",
   "metadata": {},
   "outputs": [
    {
     "name": "stdout",
     "output_type": "stream",
     "text": [
      "4\n",
      "4\n",
      "2\n",
      "5\n",
      "3\n",
      "45\n",
      "2\n"
     ]
    }
   ],
   "source": [
    "c = listmine([4,4,2,5,3,45,2])  # assign class object\n",
    "c.test1()"
   ]
  },
  {
   "cell_type": "code",
   "execution_count": 175,
   "id": "3395dc48",
   "metadata": {},
   "outputs": [
    {
     "data": {
      "text/plain": [
       "[2, 45, 3, 5, 2, 4, 4]"
      ]
     },
     "execution_count": 175,
     "metadata": {},
     "output_type": "execute_result"
    }
   ],
   "source": [
    "c.reverse()"
   ]
  },
  {
   "cell_type": "code",
   "execution_count": 168,
   "id": "e5a8c30d",
   "metadata": {},
   "outputs": [],
   "source": [
    "class listmine():     # without __init___   def test(self, l):\n",
    "        self.l = l    # self.brand = brand  by pointing self for all cases of functions\n",
    "        \n",
    "    def test1(self):\n",
    "        for i in  self.l:\n",
    "            if type(self.l) == list:\n",
    "                print(i)"
   ]
  },
  {
   "cell_type": "code",
   "execution_count": 169,
   "id": "4fcd97a9",
   "metadata": {},
   "outputs": [
    {
     "ename": "TypeError",
     "evalue": "listmine() takes no arguments",
     "output_type": "error",
     "traceback": [
      "\u001b[1;31m---------------------------------------------------------------------------\u001b[0m",
      "\u001b[1;31mTypeError\u001b[0m                                 Traceback (most recent call last)",
      "\u001b[1;32m~\\AppData\\Local\\Temp\\ipykernel_11260\\293526235.py\u001b[0m in \u001b[0;36m<module>\u001b[1;34m\u001b[0m\n\u001b[1;32m----> 1\u001b[1;33m \u001b[0mc\u001b[0m \u001b[1;33m=\u001b[0m \u001b[0mlistmine\u001b[0m\u001b[1;33m(\u001b[0m\u001b[1;33m[\u001b[0m\u001b[1;36m4\u001b[0m\u001b[1;33m,\u001b[0m\u001b[1;36m4\u001b[0m\u001b[1;33m,\u001b[0m\u001b[1;36m2\u001b[0m\u001b[1;33m,\u001b[0m\u001b[1;36m5\u001b[0m\u001b[1;33m,\u001b[0m\u001b[1;36m3\u001b[0m\u001b[1;33m,\u001b[0m\u001b[1;36m45\u001b[0m\u001b[1;33m,\u001b[0m\u001b[1;36m2\u001b[0m\u001b[1;33m]\u001b[0m\u001b[1;33m)\u001b[0m  \u001b[1;31m# assign class object\u001b[0m\u001b[1;33m\u001b[0m\u001b[1;33m\u001b[0m\u001b[0m\n\u001b[0m\u001b[0;32m      2\u001b[0m \u001b[0mc\u001b[0m\u001b[1;33m.\u001b[0m\u001b[0mtest1\u001b[0m\u001b[1;33m(\u001b[0m\u001b[1;33m)\u001b[0m\u001b[1;33m\u001b[0m\u001b[1;33m\u001b[0m\u001b[0m\n",
      "\u001b[1;31mTypeError\u001b[0m: listmine() takes no arguments"
     ]
    }
   ],
   "source": [
    "c = listmine([4,4,2,5,3,45,2])  # assign class object\n",
    "c.test1()"
   ]
  },
  {
   "cell_type": "code",
   "execution_count": 178,
   "id": "d2bea53e",
   "metadata": {},
   "outputs": [],
   "source": [
    "class listee():\n",
    "    def __init__(self,l):\n",
    "        self.l = l\n",
    "    def test(self):\n",
    "        for i in self.l:\n",
    "            if type(self.l) == list:\n",
    "                print(i)\n",
    "    def test1(self):\n",
    "        if type(self.l) == list:\n",
    "            return self.l[::-1]"
   ]
  },
  {
   "cell_type": "code",
   "execution_count": 180,
   "id": "a5b0026c",
   "metadata": {},
   "outputs": [
    {
     "name": "stdout",
     "output_type": "stream",
     "text": [
      "4\n",
      "5634\n",
      "5\n",
      "35\n",
      "3\n"
     ]
    }
   ],
   "source": [
    "c = listee([4,5634,5,35,3])\n",
    "c.test()"
   ]
  },
  {
   "cell_type": "code",
   "execution_count": 181,
   "id": "edef9fe7",
   "metadata": {},
   "outputs": [
    {
     "data": {
      "text/plain": [
       "[3, 35, 5, 5634, 4]"
      ]
     },
     "execution_count": 181,
     "metadata": {},
     "output_type": "execute_result"
    }
   ],
   "source": [
    "c.test1()"
   ]
  },
  {
   "cell_type": "code",
   "execution_count": 243,
   "id": "f06884c5",
   "metadata": {},
   "outputs": [],
   "source": [
    "# Dictionary cases\n",
    "class dict_case():\n",
    "    def __init__(self, d):\n",
    "        self.d = d\n",
    "    \n",
    "    def keys(self):\n",
    "        if type(self.d) == dict:\n",
    "            return self.d.keys()\n",
    "        \n",
    "    def values(self):\n",
    "        if type(self.d) == dict:\n",
    "            return self.d.values()\n",
    "        \n",
    "    def check(self):\n",
    "        if type(self.d) != dict:\n",
    "            raise Exception(self.d,\"Not a dictionary\")\n",
    "            \n",
    "    def user(self):\n",
    "        self.d = eval(input())\n",
    "        print(self.d,type(self.d))\n",
    "        print(self.keys())\n",
    "        print(self.values())\n",
    "    def insertion(self,k,v):\n",
    "        self.d[k] = v"
   ]
  },
  {
   "cell_type": "code",
   "execution_count": 254,
   "id": "a8c0d4b8",
   "metadata": {},
   "outputs": [],
   "source": [
    "c = dict_case({\"key1\": 45,\"key2\":55})\n",
    "c.insertion(\"key1\", 67)\n"
   ]
  },
  {
   "cell_type": "code",
   "execution_count": 221,
   "id": "b04af594",
   "metadata": {},
   "outputs": [
    {
     "data": {
      "text/plain": [
       "dict_keys(['key1', 'key2'])"
      ]
     },
     "execution_count": 221,
     "metadata": {},
     "output_type": "execute_result"
    }
   ],
   "source": [
    "c.keys()"
   ]
  },
  {
   "cell_type": "code",
   "execution_count": 256,
   "id": "70db25ae",
   "metadata": {},
   "outputs": [
    {
     "ename": "NameError",
     "evalue": "name 'd' is not defined",
     "output_type": "error",
     "traceback": [
      "\u001b[1;31m---------------------------------------------------------------------------\u001b[0m",
      "\u001b[1;31mNameError\u001b[0m                                 Traceback (most recent call last)",
      "\u001b[1;32m~\\AppData\\Local\\Temp\\ipykernel_11260\\373584632.py\u001b[0m in \u001b[0;36m<module>\u001b[1;34m\u001b[0m\n\u001b[1;32m----> 1\u001b[1;33m \u001b[0mdict_case\u001b[0m\u001b[1;33m(\u001b[0m\u001b[0md\u001b[0m\u001b[1;33m)\u001b[0m\u001b[1;33m\u001b[0m\u001b[1;33m\u001b[0m\u001b[0m\n\u001b[0m",
      "\u001b[1;31mNameError\u001b[0m: name 'd' is not defined"
     ]
    }
   ],
   "source": [
    "dict_case(d)"
   ]
  },
  {
   "cell_type": "code",
   "execution_count": 222,
   "id": "9def0998",
   "metadata": {},
   "outputs": [
    {
     "data": {
      "text/plain": [
       "dict_values([45, 55])"
      ]
     },
     "execution_count": 222,
     "metadata": {},
     "output_type": "execute_result"
    }
   ],
   "source": [
    "c.values()"
   ]
  },
  {
   "cell_type": "code",
   "execution_count": 238,
   "id": "8accda2e",
   "metadata": {},
   "outputs": [
    {
     "ename": "Exception",
     "evalue": "([5, 6, 79, 8], 'Not a dictionary')",
     "output_type": "error",
     "traceback": [
      "\u001b[1;31m---------------------------------------------------------------------------\u001b[0m",
      "\u001b[1;31mException\u001b[0m                                 Traceback (most recent call last)",
      "\u001b[1;32m~\\AppData\\Local\\Temp\\ipykernel_11260\\4144701260.py\u001b[0m in \u001b[0;36m<module>\u001b[1;34m\u001b[0m\n\u001b[0;32m      1\u001b[0m \u001b[0mc\u001b[0m \u001b[1;33m=\u001b[0m \u001b[0mdict_case\u001b[0m\u001b[1;33m(\u001b[0m\u001b[1;33m[\u001b[0m\u001b[1;36m5\u001b[0m\u001b[1;33m,\u001b[0m\u001b[1;36m6\u001b[0m\u001b[1;33m,\u001b[0m\u001b[1;36m79\u001b[0m\u001b[1;33m,\u001b[0m\u001b[1;36m8\u001b[0m\u001b[1;33m]\u001b[0m\u001b[1;33m)\u001b[0m\u001b[1;33m\u001b[0m\u001b[1;33m\u001b[0m\u001b[0m\n\u001b[1;32m----> 2\u001b[1;33m \u001b[0mc\u001b[0m\u001b[1;33m.\u001b[0m\u001b[0mcheck\u001b[0m\u001b[1;33m(\u001b[0m\u001b[1;33m)\u001b[0m\u001b[1;33m\u001b[0m\u001b[1;33m\u001b[0m\u001b[0m\n\u001b[0m",
      "\u001b[1;32m~\\AppData\\Local\\Temp\\ipykernel_11260\\4076312622.py\u001b[0m in \u001b[0;36mcheck\u001b[1;34m(self)\u001b[0m\n\u001b[0;32m     14\u001b[0m     \u001b[1;32mdef\u001b[0m \u001b[0mcheck\u001b[0m\u001b[1;33m(\u001b[0m\u001b[0mself\u001b[0m\u001b[1;33m)\u001b[0m\u001b[1;33m:\u001b[0m\u001b[1;33m\u001b[0m\u001b[1;33m\u001b[0m\u001b[0m\n\u001b[0;32m     15\u001b[0m         \u001b[1;32mif\u001b[0m \u001b[0mtype\u001b[0m\u001b[1;33m(\u001b[0m\u001b[0mself\u001b[0m\u001b[1;33m.\u001b[0m\u001b[0md\u001b[0m\u001b[1;33m)\u001b[0m \u001b[1;33m!=\u001b[0m \u001b[0mdict\u001b[0m\u001b[1;33m:\u001b[0m\u001b[1;33m\u001b[0m\u001b[1;33m\u001b[0m\u001b[0m\n\u001b[1;32m---> 16\u001b[1;33m             \u001b[1;32mraise\u001b[0m \u001b[0mException\u001b[0m\u001b[1;33m(\u001b[0m\u001b[0mself\u001b[0m\u001b[1;33m.\u001b[0m\u001b[0md\u001b[0m\u001b[1;33m,\u001b[0m\u001b[1;34m\"Not a dictionary\"\u001b[0m\u001b[1;33m)\u001b[0m\u001b[1;33m\u001b[0m\u001b[1;33m\u001b[0m\u001b[0m\n\u001b[0m\u001b[0;32m     17\u001b[0m \u001b[1;33m\u001b[0m\u001b[0m\n\u001b[0;32m     18\u001b[0m \u001b[1;33m\u001b[0m\u001b[0m\n",
      "\u001b[1;31mException\u001b[0m: ([5, 6, 79, 8], 'Not a dictionary')"
     ]
    }
   ],
   "source": [
    "c = dict_case([5,6,79,8])\n",
    "c.check()"
   ]
  },
  {
   "cell_type": "code",
   "execution_count": 331,
   "id": "2b439c04",
   "metadata": {},
   "outputs": [],
   "source": [
    "# dictionary cases solve by using oops\n",
    "class dict_cases():\n",
    "    def __init__(self,d):\n",
    "        self.d = d\n",
    "    \n",
    "    def Keys(self):      # extracting the keys\n",
    "        if type(self.d) == dict:\n",
    "            return self.d.keys()\n",
    "        \n",
    "    def Values(self):\n",
    "        if type(self.d) == dict:   # notdict()\n",
    "            return self.d.values()\n",
    "        \n",
    "    def userinput(self):\n",
    "        self.d = eval(input())\n",
    "        print(self.d,type(self.d))\n",
    "        print(self.d.keys())\n",
    "        print(self.d.values())\n",
    "        \n",
    "    def exception(self):\n",
    "        if type(self.d) != dict:\n",
    "            raise Exception (self.d,\"Not an dictionary\")\n",
    "            \n",
    "    def insertion(self,k,v):\n",
    "        self.d[k] = v\n",
    "        \n",
    "    def insert(self,**kwargs):\n",
    "        for k, v in kwargs.items():\n",
    "            self.d[k] = v\n",
    "            print(\"value inserted\")\n",
    "        \n",
    "        "
   ]
  },
  {
   "cell_type": "code",
   "execution_count": 332,
   "id": "8e7d6508",
   "metadata": {},
   "outputs": [],
   "source": [
    "c = dict_cases({\"key1\":\"sanju\",\"key2\":56})"
   ]
  },
  {
   "cell_type": "code",
   "execution_count": 305,
   "id": "576391fc",
   "metadata": {},
   "outputs": [
    {
     "data": {
      "text/plain": [
       "dict_keys(['key1', 'key2'])"
      ]
     },
     "execution_count": 305,
     "metadata": {},
     "output_type": "execute_result"
    }
   ],
   "source": [
    "c.Keys()"
   ]
  },
  {
   "cell_type": "code",
   "execution_count": 306,
   "id": "8f4e5683",
   "metadata": {},
   "outputs": [
    {
     "data": {
      "text/plain": [
       "dict_values(['sanju', 56])"
      ]
     },
     "execution_count": 306,
     "metadata": {},
     "output_type": "execute_result"
    }
   ],
   "source": [
    "c.Values()"
   ]
  },
  {
   "cell_type": "code",
   "execution_count": 307,
   "id": "6aafc2ab",
   "metadata": {},
   "outputs": [
    {
     "name": "stdout",
     "output_type": "stream",
     "text": [
      "{\"key1\":\"sanju\"}\n",
      "{'key1': 'sanju'} <class 'dict'>\n",
      "dict_keys(['key1'])\n",
      "dict_values(['sanju'])\n"
     ]
    }
   ],
   "source": [
    "c.userinput()   # user input"
   ]
  },
  {
   "cell_type": "code",
   "execution_count": 309,
   "id": "633682cf",
   "metadata": {},
   "outputs": [
    {
     "ename": "Exception",
     "evalue": "([5, 5, 3, 534, 5, 4], 'Not an dictionary')",
     "output_type": "error",
     "traceback": [
      "\u001b[1;31m---------------------------------------------------------------------------\u001b[0m",
      "\u001b[1;31mException\u001b[0m                                 Traceback (most recent call last)",
      "\u001b[1;32m~\\AppData\\Local\\Temp\\ipykernel_11260\\3016930770.py\u001b[0m in \u001b[0;36m<module>\u001b[1;34m\u001b[0m\n\u001b[0;32m      1\u001b[0m \u001b[0mc\u001b[0m \u001b[1;33m=\u001b[0m \u001b[0mdict_cases\u001b[0m\u001b[1;33m(\u001b[0m\u001b[1;33m[\u001b[0m\u001b[1;36m5\u001b[0m\u001b[1;33m,\u001b[0m\u001b[1;36m5\u001b[0m\u001b[1;33m,\u001b[0m\u001b[1;36m3\u001b[0m\u001b[1;33m,\u001b[0m\u001b[1;36m534\u001b[0m\u001b[1;33m,\u001b[0m\u001b[1;36m5\u001b[0m\u001b[1;33m,\u001b[0m\u001b[1;36m4\u001b[0m\u001b[1;33m]\u001b[0m\u001b[1;33m)\u001b[0m\u001b[1;33m\u001b[0m\u001b[1;33m\u001b[0m\u001b[0m\n\u001b[1;32m----> 2\u001b[1;33m \u001b[0mc\u001b[0m\u001b[1;33m.\u001b[0m\u001b[0mexception\u001b[0m\u001b[1;33m(\u001b[0m\u001b[1;33m)\u001b[0m\u001b[1;33m\u001b[0m\u001b[1;33m\u001b[0m\u001b[0m\n\u001b[0m",
      "\u001b[1;32m~\\AppData\\Local\\Temp\\ipykernel_11260\\2996471889.py\u001b[0m in \u001b[0;36mexception\u001b[1;34m(self)\u001b[0m\n\u001b[0;32m     20\u001b[0m     \u001b[1;32mdef\u001b[0m \u001b[0mexception\u001b[0m\u001b[1;33m(\u001b[0m\u001b[0mself\u001b[0m\u001b[1;33m)\u001b[0m\u001b[1;33m:\u001b[0m\u001b[1;33m\u001b[0m\u001b[1;33m\u001b[0m\u001b[0m\n\u001b[0;32m     21\u001b[0m         \u001b[1;32mif\u001b[0m \u001b[0mtype\u001b[0m\u001b[1;33m(\u001b[0m\u001b[0mself\u001b[0m\u001b[1;33m.\u001b[0m\u001b[0md\u001b[0m\u001b[1;33m)\u001b[0m \u001b[1;33m!=\u001b[0m \u001b[0mdict\u001b[0m\u001b[1;33m:\u001b[0m\u001b[1;33m\u001b[0m\u001b[1;33m\u001b[0m\u001b[0m\n\u001b[1;32m---> 22\u001b[1;33m             \u001b[1;32mraise\u001b[0m \u001b[0mException\u001b[0m \u001b[1;33m(\u001b[0m\u001b[0mself\u001b[0m\u001b[1;33m.\u001b[0m\u001b[0md\u001b[0m\u001b[1;33m,\u001b[0m\u001b[1;34m\"Not an dictionary\"\u001b[0m\u001b[1;33m)\u001b[0m\u001b[1;33m\u001b[0m\u001b[1;33m\u001b[0m\u001b[0m\n\u001b[0m\u001b[0;32m     23\u001b[0m \u001b[1;33m\u001b[0m\u001b[0m\n",
      "\u001b[1;31mException\u001b[0m: ([5, 5, 3, 534, 5, 4], 'Not an dictionary')"
     ]
    }
   ],
   "source": [
    "c = dict_cases([5,5,3,534,5,4])   # this is not an dictionary\n",
    "c.exception()"
   ]
  },
  {
   "cell_type": "code",
   "execution_count": 310,
   "id": "0d76a347",
   "metadata": {},
   "outputs": [],
   "source": [
    "c = dict_cases({\"key1\":\"sanju\",\"key2\":56})\n",
    "c.exception()"
   ]
  },
  {
   "cell_type": "code",
   "execution_count": 320,
   "id": "3c8d92a7",
   "metadata": {},
   "outputs": [],
   "source": [
    "c.insertion(\"key3\", 890)"
   ]
  },
  {
   "cell_type": "code",
   "execution_count": 333,
   "id": "f28a66e6",
   "metadata": {},
   "outputs": [
    {
     "ename": "TypeError",
     "evalue": "insert() takes 1 positional argument but 3 were given",
     "output_type": "error",
     "traceback": [
      "\u001b[1;31m---------------------------------------------------------------------------\u001b[0m",
      "\u001b[1;31mTypeError\u001b[0m                                 Traceback (most recent call last)",
      "\u001b[1;32m~\\AppData\\Local\\Temp\\ipykernel_11260\\1383468357.py\u001b[0m in \u001b[0;36m<module>\u001b[1;34m\u001b[0m\n\u001b[1;32m----> 1\u001b[1;33m \u001b[0mc\u001b[0m\u001b[1;33m.\u001b[0m\u001b[0minsert\u001b[0m\u001b[1;33m(\u001b[0m\u001b[1;34m\"key12\"\u001b[0m\u001b[1;33m,\u001b[0m\u001b[1;36m78\u001b[0m\u001b[1;33m)\u001b[0m\u001b[1;33m\u001b[0m\u001b[1;33m\u001b[0m\u001b[0m\n\u001b[0m",
      "\u001b[1;31mTypeError\u001b[0m: insert() takes 1 positional argument but 3 were given"
     ]
    }
   ],
   "source": [
    "c.insert(\"key12\",78)"
   ]
  },
  {
   "cell_type": "code",
   "execution_count": 334,
   "id": "8250ac1d",
   "metadata": {},
   "outputs": [
    {
     "data": {
      "text/plain": [
       "<_io.TextIOWrapper name='mydict.py' mode='w' encoding='cp1252'>"
      ]
     },
     "execution_count": 334,
     "metadata": {},
     "output_type": "execute_result"
    }
   ],
   "source": [
    "open(\"mydict.py\",\"w\")"
   ]
  },
  {
   "cell_type": "code",
   "execution_count": 335,
   "id": "36f1a6da",
   "metadata": {},
   "outputs": [
    {
     "name": "stdout",
     "output_type": "stream",
     "text": [
      " Volume in drive C is Windows\n",
      " Volume Serial Number is 9048-2C9E\n",
      "\n",
      " Directory of C:\\Users\\bhavi\n",
      "\n",
      "08-11-2022  12:09    <DIR>          .\n",
      "07-11-2022  05:34    <DIR>          ..\n",
      "08-11-2022  07:52    <DIR>          .ipynb_checkpoints\n",
      "08-11-2022  07:32    <DIR>          .ipython\n",
      "08-11-2022  07:31    <DIR>          .jupyter\n",
      "07-11-2022  15:40    <DIR>          anaconda3\n",
      "02-11-2022  20:20    <DIR>          Contacts\n",
      "07-11-2022  05:24    <DIR>          Desktop\n",
      "07-11-2022  15:40    <DIR>          Documents\n",
      "07-11-2022  15:33    <DIR>          Downloads\n",
      "02-11-2022  20:20    <DIR>          Favorites\n",
      "02-11-2022  20:20    <DIR>          Links\n",
      "02-11-2022  20:20    <DIR>          Music\n",
      "08-11-2022  12:09                 0 mydict.py\n",
      "07-11-2022  19:21    <DIR>          OneDrive\n",
      "08-11-2022  12:04            27,979 OOPS-Concept.ipynb\n",
      "06-11-2022  19:44    <DIR>          Pictures\n",
      "02-11-2022  20:20    <DIR>          Saved Games\n",
      "02-11-2022  20:38    <DIR>          Searches\n",
      "05-11-2022  20:21    <DIR>          Videos\n",
      "               2 File(s)         27,979 bytes\n",
      "              18 Dir(s)  442,826,260,480 bytes free\n"
     ]
    }
   ],
   "source": [
    "%ls"
   ]
  },
  {
   "cell_type": "code",
   "execution_count": 1,
   "id": "f7e48d57",
   "metadata": {},
   "outputs": [],
   "source": [
    "import mydict"
   ]
  },
  {
   "cell_type": "code",
   "execution_count": 5,
   "id": "385a6e32",
   "metadata": {},
   "outputs": [
    {
     "data": {
      "text/plain": [
       "mydict.dict_cases"
      ]
     },
     "execution_count": 5,
     "metadata": {},
     "output_type": "execute_result"
    }
   ],
   "source": [
    "mydict.dict_cases   # passing class"
   ]
  },
  {
   "cell_type": "code",
   "execution_count": 10,
   "id": "5cfdd531",
   "metadata": {},
   "outputs": [],
   "source": [
    "from mydict import dict_cases"
   ]
  },
  {
   "cell_type": "code",
   "execution_count": 11,
   "id": "7fadd5db",
   "metadata": {},
   "outputs": [],
   "source": [
    "l = mydict.dict_cases({\"key1\":89})"
   ]
  },
  {
   "cell_type": "code",
   "execution_count": 12,
   "id": "1c548fc2",
   "metadata": {},
   "outputs": [
    {
     "data": {
      "text/plain": [
       "dict_keys(['key1'])"
      ]
     },
     "execution_count": 12,
     "metadata": {},
     "output_type": "execute_result"
    }
   ],
   "source": [
    "l.Keys()"
   ]
  },
  {
   "cell_type": "code",
   "execution_count": 14,
   "id": "1a8c2f2a",
   "metadata": {},
   "outputs": [],
   "source": [
    "l.exception()"
   ]
  },
  {
   "cell_type": "code",
   "execution_count": 24,
   "id": "19e73a9b",
   "metadata": {},
   "outputs": [],
   "source": [
    "from mydict import dict_cases"
   ]
  },
  {
   "cell_type": "code",
   "execution_count": 25,
   "id": "3b250d77",
   "metadata": {},
   "outputs": [],
   "source": [
    "o = mydict.dict_cases({\"key1\":56,\"key3\":90})"
   ]
  },
  {
   "cell_type": "code",
   "execution_count": 26,
   "id": "6b56d574",
   "metadata": {},
   "outputs": [
    {
     "data": {
      "text/plain": [
       "dict_values([56, 90])"
      ]
     },
     "execution_count": 26,
     "metadata": {},
     "output_type": "execute_result"
    }
   ],
   "source": [
    "o.Values()"
   ]
  },
  {
   "cell_type": "code",
   "execution_count": 1,
   "id": "3f3770df",
   "metadata": {},
   "outputs": [],
   "source": [
    "from mydict import dict_cases1"
   ]
  },
  {
   "cell_type": "code",
   "execution_count": 2,
   "id": "7f46e5b4",
   "metadata": {},
   "outputs": [],
   "source": [
    "from mydict import dict_cases2"
   ]
  },
  {
   "cell_type": "code",
   "execution_count": 3,
   "id": "4e8816bc",
   "metadata": {},
   "outputs": [
    {
     "ename": "ImportError",
     "evalue": "cannot import name 'dict_cases3' from 'mydict' (C:\\Users\\bhavi\\mydict.py)",
     "output_type": "error",
     "traceback": [
      "\u001b[1;31m---------------------------------------------------------------------------\u001b[0m",
      "\u001b[1;31mImportError\u001b[0m                               Traceback (most recent call last)",
      "\u001b[1;32m~\\AppData\\Local\\Temp\\ipykernel_10412\\109120641.py\u001b[0m in \u001b[0;36m<module>\u001b[1;34m\u001b[0m\n\u001b[1;32m----> 1\u001b[1;33m \u001b[1;32mfrom\u001b[0m \u001b[0mmydict\u001b[0m \u001b[1;32mimport\u001b[0m \u001b[0mdict_cases3\u001b[0m\u001b[1;33m\u001b[0m\u001b[1;33m\u001b[0m\u001b[0m\n\u001b[0m",
      "\u001b[1;31mImportError\u001b[0m: cannot import name 'dict_cases3' from 'mydict' (C:\\Users\\bhavi\\mydict.py)"
     ]
    }
   ],
   "source": [
    "from mydict import dict_cases3   # this dict_case3 is not there in mydict file"
   ]
  },
  {
   "cell_type": "code",
   "execution_count": 4,
   "id": "59335ef4",
   "metadata": {},
   "outputs": [
    {
     "data": {
      "text/plain": [
       "'C:\\\\Users\\\\bhavi'"
      ]
     },
     "execution_count": 4,
     "metadata": {},
     "output_type": "execute_result"
    }
   ],
   "source": [
    "pwd()"
   ]
  },
  {
   "cell_type": "code",
   "execution_count": 6,
   "id": "a010519c",
   "metadata": {},
   "outputs": [],
   "source": [
    "import os\n",
    "    "
   ]
  },
  {
   "cell_type": "code",
   "execution_count": 10,
   "id": "3d5dfb76",
   "metadata": {},
   "outputs": [
    {
     "data": {
      "text/plain": [
       "'C:\\\\Users\\\\bhavi'"
      ]
     },
     "execution_count": 10,
     "metadata": {},
     "output_type": "execute_result"
    }
   ],
   "source": [
    "os.getcwd()"
   ]
  },
  {
   "cell_type": "markdown",
   "id": "b9ccf38f",
   "metadata": {},
   "source": [
    "# INHERITANCE\n",
    "Inheritance is mainly defined the class, and inherits all the properties and method of other another class\n",
    "Parent class = base class or master class\n",
    "child class = derived class - derived or inherits from another class\n",
    "\n",
    "__init__ is an constructor which mainly object will be created by an class which will pass the data to the class"
   ]
  },
  {
   "cell_type": "code",
   "execution_count": 1,
   "id": "713905f9",
   "metadata": {},
   "outputs": [],
   "source": [
    "class xyz:    # parent class\n",
    "    def __init__(self, a, b,c):\n",
    "        self.a = a\n",
    "        self.b = b\n",
    "        self.c = c\n",
    "    \n",
    "    def test(self):\n",
    "        print(\"this is message1\")\n",
    "    \n",
    "    def test1(self):\n",
    "        print(\"this is message2\")\n",
    "    \n",
    "    def test2(self):\n",
    "        print(\"this is message3\")"
   ]
  },
  {
   "cell_type": "code",
   "execution_count": 4,
   "id": "6b8e22c1",
   "metadata": {},
   "outputs": [
    {
     "name": "stdout",
     "output_type": "stream",
     "text": [
      "this is message2\n"
     ]
    }
   ],
   "source": [
    "l = xyz(2,3,4)\n",
    "l.test1()"
   ]
  },
  {
   "cell_type": "code",
   "execution_count": 5,
   "id": "5582fdd5",
   "metadata": {},
   "outputs": [
    {
     "data": {
      "text/plain": [
       "2"
      ]
     },
     "execution_count": 5,
     "metadata": {},
     "output_type": "execute_result"
    }
   ],
   "source": [
    "l.a"
   ]
  },
  {
   "cell_type": "code",
   "execution_count": 23,
   "id": "9af0ff8f",
   "metadata": {},
   "outputs": [],
   "source": [
    "# inheritance - inherits properties and methods for another class\n",
    "class xyz1(xyz):   # child class\n",
    "    pass\n"
   ]
  },
  {
   "cell_type": "code",
   "execution_count": 25,
   "id": "fcb5fac4",
   "metadata": {},
   "outputs": [
    {
     "ename": "TypeError",
     "evalue": "__init__() missing 3 required positional arguments: 'a', 'b', and 'c'",
     "output_type": "error",
     "traceback": [
      "\u001b[1;31m---------------------------------------------------------------------------\u001b[0m",
      "\u001b[1;31mTypeError\u001b[0m                                 Traceback (most recent call last)",
      "\u001b[1;32m~\\AppData\\Local\\Temp\\ipykernel_21388\\3285914344.py\u001b[0m in \u001b[0;36m<module>\u001b[1;34m\u001b[0m\n\u001b[1;32m----> 1\u001b[1;33m \u001b[0mz\u001b[0m \u001b[1;33m=\u001b[0m \u001b[0mxyz1\u001b[0m\u001b[1;33m(\u001b[0m\u001b[1;33m)\u001b[0m\u001b[1;33m\u001b[0m\u001b[1;33m\u001b[0m\u001b[0m\n\u001b[0m",
      "\u001b[1;31mTypeError\u001b[0m: __init__() missing 3 required positional arguments: 'a', 'b', and 'c'"
     ]
    }
   ],
   "source": [
    "z = xyz1()"
   ]
  },
  {
   "cell_type": "code",
   "execution_count": 16,
   "id": "492c9975",
   "metadata": {},
   "outputs": [],
   "source": [
    "z = xyz1(3,5,7)"
   ]
  },
  {
   "cell_type": "code",
   "execution_count": 19,
   "id": "77ad7818",
   "metadata": {},
   "outputs": [
    {
     "name": "stdout",
     "output_type": "stream",
     "text": [
      "this is message3\n"
     ]
    }
   ],
   "source": [
    "z.test2()"
   ]
  },
  {
   "cell_type": "code",
   "execution_count": 10,
   "id": "b32f2646",
   "metadata": {},
   "outputs": [
    {
     "data": {
      "text/plain": [
       "7"
      ]
     },
     "execution_count": 10,
     "metadata": {},
     "output_type": "execute_result"
    }
   ],
   "source": [
    "z.c"
   ]
  },
  {
   "cell_type": "code",
   "execution_count": 27,
   "id": "08b73711",
   "metadata": {},
   "outputs": [],
   "source": [
    "class xyz1(xyz):\n",
    "    def test(self):\n",
    "        print(\"HELLOO HOW DO U DO\")"
   ]
  },
  {
   "cell_type": "code",
   "execution_count": 30,
   "id": "0036739f",
   "metadata": {},
   "outputs": [],
   "source": [
    "f = xyz1(9,5,6)"
   ]
  },
  {
   "cell_type": "code",
   "execution_count": 31,
   "id": "b1cdbc1f",
   "metadata": {},
   "outputs": [
    {
     "name": "stdout",
     "output_type": "stream",
     "text": [
      "HELLOO HOW DO U DO\n"
     ]
    }
   ],
   "source": [
    "f.test()  # now it will take it up with child class"
   ]
  },
  {
   "cell_type": "code",
   "execution_count": 20,
   "id": "38d75b54",
   "metadata": {},
   "outputs": [],
   "source": [
    "class xyc:   # this is isolated class it wont affect\n",
    "    pass"
   ]
  },
  {
   "cell_type": "code",
   "execution_count": 22,
   "id": "779fa040",
   "metadata": {},
   "outputs": [],
   "source": [
    "x = xyc()"
   ]
  },
  {
   "cell_type": "code",
   "execution_count": 43,
   "id": "027c39a8",
   "metadata": {},
   "outputs": [],
   "source": [
    "# MULTIPLE INHERITANCE\n",
    "class xyz:   # parent\n",
    "    def __init__(self,a,b,c):\n",
    "        self.a = a\n",
    "        self.b = b\n",
    "        self.c = c\n",
    "    \n",
    "    def test(self):\n",
    "        print(\"this is the message of xyz\")\n",
    "                \n",
    "class xyz1:    # parent\n",
    "    def __init__(self,p,q,r):\n",
    "        self.p = p\n",
    "        self.q = q\n",
    "        self.r = r\n",
    "    \n",
    "    def test1(self):\n",
    "          print(\"this is the message of xyz1\")\n",
    "\n",
    "class child(xyz,xyz1):   # child\n",
    "        pass\n",
    "              \n",
    "            "
   ]
  },
  {
   "cell_type": "code",
   "execution_count": 44,
   "id": "f0bb5a47",
   "metadata": {},
   "outputs": [],
   "source": [
    "n = child(4,7,8)"
   ]
  },
  {
   "cell_type": "code",
   "execution_count": 45,
   "id": "eb8b240c",
   "metadata": {},
   "outputs": [
    {
     "name": "stdout",
     "output_type": "stream",
     "text": [
      "this is the message of xyz1\n"
     ]
    }
   ],
   "source": [
    "n.test1()"
   ]
  },
  {
   "cell_type": "code",
   "execution_count": 46,
   "id": "00ed6393",
   "metadata": {},
   "outputs": [
    {
     "ename": "SyntaxError",
     "evalue": "invalid syntax (395983660.py, line 1)",
     "output_type": "error",
     "traceback": [
      "\u001b[1;36m  File \u001b[1;32m\"C:\\Users\\bhavi\\AppData\\Local\\Temp\\ipykernel_21388\\395983660.py\"\u001b[1;36m, line \u001b[1;32m1\u001b[0m\n\u001b[1;33m    n.\u001b[0m\n\u001b[1;37m      ^\u001b[0m\n\u001b[1;31mSyntaxError\u001b[0m\u001b[1;31m:\u001b[0m invalid syntax\n"
     ]
    }
   ],
   "source": [
    "n."
   ]
  },
  {
   "cell_type": "code",
   "execution_count": 47,
   "id": "9266602a",
   "metadata": {},
   "outputs": [],
   "source": [
    "class xyz:   # parent        BUT WE NEED TO SHOW 6 VARIABLE AS A RESULT\n",
    "    def __init__(self,a,b,c):\n",
    "        self.a = a\n",
    "        self.b = b\n",
    "        self.c = c\n",
    "    \n",
    "    def test(self):\n",
    "        print(\"this is the message of xyz\")\n",
    "                \n",
    "class xyz1:    # parent\n",
    "    def __init__(self,p,q,r):\n",
    "        self.p = p\n",
    "        self.q = q\n",
    "        self.r = r\n",
    "    \n",
    "    def test1(self):\n",
    "          print(\"this is the message of xyz1\")\n",
    "\n",
    "class child(xyz,xyz1):\n",
    "    def __init__(self,*args):\n",
    "        xyz.__init__(self,*args)\n",
    "        xyz1.__init__(self,*args)\n",
    "    \n",
    "        \n",
    "              "
   ]
  },
  {
   "cell_type": "code",
   "execution_count": 48,
   "id": "e71bc4dc",
   "metadata": {},
   "outputs": [],
   "source": [
    "n = child(7,5,6)"
   ]
  },
  {
   "cell_type": "code",
   "execution_count": 49,
   "id": "01379423",
   "metadata": {},
   "outputs": [
    {
     "data": {
      "text/plain": [
       "7"
      ]
     },
     "execution_count": 49,
     "metadata": {},
     "output_type": "execute_result"
    }
   ],
   "source": [
    "n.a   # n. TAB BUTTON we can see all 6 variables"
   ]
  },
  {
   "cell_type": "code",
   "execution_count": 51,
   "id": "e1947141",
   "metadata": {},
   "outputs": [
    {
     "name": "stdout",
     "output_type": "stream",
     "text": [
      "this is the message of xyz\n"
     ]
    }
   ],
   "source": [
    "n.test()"
   ]
  },
  {
   "cell_type": "code",
   "execution_count": 52,
   "id": "05a18f21",
   "metadata": {},
   "outputs": [],
   "source": [
    "class xyz():\n",
    "    def __init__(self,a,b,c):\n",
    "        self.a = a\n",
    "        self.b = b\n",
    "        self.c = c\n",
    "        \n",
    "    def test():\n",
    "        print(\"this is the message of 1xyz\")\n",
    "\n",
    "class xyz1():\n",
    "    def __init__(self,p,q,r):\n",
    "        self.p = p\n",
    "        self.q = q\n",
    "        self.r = r\n",
    "    def test1():\n",
    "        print(\"this is the message of xyz1\")\n",
    "\n",
    "class child(xyz,xyz1):\n",
    "    def __init__(self,*args):\n",
    "        xyz.__init__(self,*args)\n",
    "        xyz1.__init__(self,*args)\n",
    "    "
   ]
  },
  {
   "cell_type": "code",
   "execution_count": 53,
   "id": "92efaa5b",
   "metadata": {},
   "outputs": [],
   "source": [
    "n = child(4,6,8)"
   ]
  },
  {
   "cell_type": "code",
   "execution_count": 54,
   "id": "a9750ac6",
   "metadata": {},
   "outputs": [
    {
     "data": {
      "text/plain": [
       "6"
      ]
     },
     "execution_count": 54,
     "metadata": {},
     "output_type": "execute_result"
    }
   ],
   "source": [
    "n.q"
   ]
  },
  {
   "cell_type": "code",
   "execution_count": 3,
   "id": "5b77c3e9",
   "metadata": {},
   "outputs": [],
   "source": [
    "class xyz():    # MULTIPLE INHERITANCE\n",
    "    def __init__(self,a,b,c):\n",
    "        self.a = a\n",
    "        self.b = b\n",
    "        self.c = c\n",
    "        \n",
    "    def test():\n",
    "        print(\"this is the message of 1xyz\")\n",
    "\n",
    "class xyz1():\n",
    "    def __init__(self,p,q,r):\n",
    "        self.p = p\n",
    "        self.q = q\n",
    "        self.r = r\n",
    "    def test1():\n",
    "        print(\"this is the message of xyz1\")\n",
    "\n",
    "class child(xyz,xyz1):\n",
    "    def __init__(self,*args,**kwargs):\n",
    "        xyz.__init__(self,*args)\n",
    "        xyz1.__init__(self,**kwargs)\n",
    "    "
   ]
  },
  {
   "cell_type": "code",
   "execution_count": 7,
   "id": "d36018b2",
   "metadata": {},
   "outputs": [],
   "source": [
    "n = child(4,6,8,p = 8,q = 90,r = 8)"
   ]
  },
  {
   "cell_type": "code",
   "execution_count": 9,
   "id": "89f34f93",
   "metadata": {},
   "outputs": [],
   "source": [
    "# MULTI LEVEL INHERITANCE\n",
    "class xyz():                        # Grand-grand parents superclass\n",
    "    def __init__(self,a,b,c):\n",
    "        self.a = a\n",
    "        self.b = b\n",
    "        self.c = c\n",
    "        \n",
    "    def test(self):                # subclass    grand parents\n",
    "        print(\"this is message of test\")\n",
    "\n",
    "class xyz1(xyz):\n",
    "    def test1(self):                   # parents\n",
    "        print(\"this is message of test2\")\n",
    "\n",
    "class xyz2(xyz1):\n",
    "    def test2(self):                   #childer\n",
    "        print(\"this is message of test3\")\n",
    "class xyz3(xyz2):                      #child\n",
    "    def test3(self):\n",
    "        print(\"this is message of test4\")"
   ]
  },
  {
   "cell_type": "code",
   "execution_count": 12,
   "id": "438ae331",
   "metadata": {},
   "outputs": [],
   "source": [
    "n = xyz3(4,6,8)"
   ]
  },
  {
   "cell_type": "code",
   "execution_count": 13,
   "id": "cbbe4bd9",
   "metadata": {},
   "outputs": [
    {
     "data": {
      "text/plain": [
       "4"
      ]
     },
     "execution_count": 13,
     "metadata": {},
     "output_type": "execute_result"
    }
   ],
   "source": [
    "n.a\n"
   ]
  },
  {
   "cell_type": "code",
   "execution_count": 21,
   "id": "6907cd23",
   "metadata": {},
   "outputs": [],
   "source": [
    "class fileoperation:\n",
    "    def __init__(self,filepath):\n",
    "        self.filepath = filepath\n",
    "    \n",
    "    def read(self):\n",
    "        try:\n",
    "            f = open(self.filepath,\"r+\")\n",
    "            print(f.read())\n",
    "        except Exception as e:\n",
    "                print(e)\n",
    "                f.close()\n",
    "    def write(self,writing=\"\"):\n",
    "        try:\n",
    "            f = open(self.filepath,\"w\")\n",
    "        except Exception as e:\n",
    "            print(e)\n",
    "            f.write(writing)\n",
    "            f.close()\n",
    "class child(fileoperation):\n",
    "    pass\n",
    "        \n",
    "        "
   ]
  },
  {
   "cell_type": "code",
   "execution_count": 39,
   "id": "d4af1881",
   "metadata": {},
   "outputs": [],
   "source": [
    "class test():     #parent class\n",
    "    def __init__(self,a,b,c):\n",
    "        self.a = a\n",
    "        self.b = b\n",
    "        self.c = c\n",
    "        \n",
    "class test1(test):     # child class\n",
    "    pass"
   ]
  },
  {
   "cell_type": "code",
   "execution_count": 40,
   "id": "4b0078a5",
   "metadata": {},
   "outputs": [],
   "source": [
    "n = test(3,6,8)"
   ]
  },
  {
   "cell_type": "code",
   "execution_count": 41,
   "id": "335c48af",
   "metadata": {},
   "outputs": [
    {
     "data": {
      "text/plain": [
       "3"
      ]
     },
     "execution_count": 41,
     "metadata": {},
     "output_type": "execute_result"
    }
   ],
   "source": [
    "n.a"
   ]
  },
  {
   "cell_type": "code",
   "execution_count": 44,
   "id": "f7182f8b",
   "metadata": {},
   "outputs": [],
   "source": [
    "am = test1(4,6,8)   # this will overwriiten of in place of test to test1"
   ]
  },
  {
   "cell_type": "code",
   "execution_count": 45,
   "id": "df337dac",
   "metadata": {},
   "outputs": [
    {
     "data": {
      "text/plain": [
       "4"
      ]
     },
     "execution_count": 45,
     "metadata": {},
     "output_type": "execute_result"
    }
   ],
   "source": [
    "m.a"
   ]
  },
  {
   "cell_type": "code",
   "execution_count": 46,
   "id": "3fb178df",
   "metadata": {},
   "outputs": [
    {
     "data": {
      "text/plain": [
       "6"
      ]
     },
     "execution_count": 46,
     "metadata": {},
     "output_type": "execute_result"
    }
   ],
   "source": [
    "m.b"
   ]
  },
  {
   "cell_type": "code",
   "execution_count": 48,
   "id": "2dea8a44",
   "metadata": {},
   "outputs": [],
   "source": [
    "class test():    # parent\n",
    "    def __init__(self):\n",
    "        self.a = 44\n",
    "        \n",
    "class test1(test):  # child\n",
    "    pass\n",
    "    "
   ]
  },
  {
   "cell_type": "code",
   "execution_count": 49,
   "id": "9d67803d",
   "metadata": {},
   "outputs": [],
   "source": [
    "n = test()"
   ]
  },
  {
   "cell_type": "code",
   "execution_count": 50,
   "id": "902b9b86",
   "metadata": {},
   "outputs": [
    {
     "data": {
      "text/plain": [
       "44"
      ]
     },
     "execution_count": 50,
     "metadata": {},
     "output_type": "execute_result"
    }
   ],
   "source": [
    "n.a"
   ]
  },
  {
   "cell_type": "code",
   "execution_count": 58,
   "id": "a8f685b0",
   "metadata": {},
   "outputs": [],
   "source": [
    "m = test()"
   ]
  },
  {
   "cell_type": "code",
   "execution_count": 59,
   "id": "5e2218ea",
   "metadata": {},
   "outputs": [
    {
     "data": {
      "text/plain": [
       "44"
      ]
     },
     "execution_count": 59,
     "metadata": {},
     "output_type": "execute_result"
    }
   ],
   "source": [
    "m.a"
   ]
  },
  {
   "cell_type": "code",
   "execution_count": 61,
   "id": "8d653283",
   "metadata": {},
   "outputs": [],
   "source": [
    "class test():    # parent\n",
    "    def __init__(self):\n",
    "        self.a = 44\n",
    "        \n",
    "class test1(test):\n",
    "    def __init__(self):\n",
    "        self.a = 90# child\n",
    "      \n",
    "        \n",
    "   \n",
    "    "
   ]
  },
  {
   "cell_type": "code",
   "execution_count": 62,
   "id": "5f8d82fa",
   "metadata": {},
   "outputs": [],
   "source": [
    "n = test()    # both are different value"
   ]
  },
  {
   "cell_type": "code",
   "execution_count": 63,
   "id": "1b99cd80",
   "metadata": {},
   "outputs": [
    {
     "data": {
      "text/plain": [
       "44"
      ]
     },
     "execution_count": 63,
     "metadata": {},
     "output_type": "execute_result"
    }
   ],
   "source": [
    "n.a"
   ]
  },
  {
   "cell_type": "code",
   "execution_count": 65,
   "id": "265581b2",
   "metadata": {},
   "outputs": [],
   "source": [
    "n = test1()    # both are different value"
   ]
  },
  {
   "cell_type": "code",
   "execution_count": 66,
   "id": "c6aab4c4",
   "metadata": {},
   "outputs": [
    {
     "data": {
      "text/plain": [
       "90"
      ]
     },
     "execution_count": 66,
     "metadata": {},
     "output_type": "execute_result"
    }
   ],
   "source": [
    "n.a"
   ]
  },
  {
   "cell_type": "code",
   "execution_count": 69,
   "id": "5ba2653e",
   "metadata": {},
   "outputs": [],
   "source": [
    "class test():\n",
    "    def __init__(self):\n",
    "        self.a = 90\n",
    "        \n",
    "class test1(test):\n",
    "    def __init__(self):\n",
    "        test.__init__(self)\n",
    "        self.a = 80\n",
    "            \n",
    "       \n",
    "        "
   ]
  },
  {
   "cell_type": "code",
   "execution_count": 70,
   "id": "b50f5558",
   "metadata": {},
   "outputs": [],
   "source": [
    "n = test()"
   ]
  },
  {
   "cell_type": "code",
   "execution_count": 71,
   "id": "6173c8da",
   "metadata": {},
   "outputs": [
    {
     "data": {
      "text/plain": [
       "90"
      ]
     },
     "execution_count": 71,
     "metadata": {},
     "output_type": "execute_result"
    }
   ],
   "source": [
    "n.a"
   ]
  },
  {
   "cell_type": "code",
   "execution_count": 72,
   "id": "3c6aea3b",
   "metadata": {},
   "outputs": [],
   "source": [
    "n = test1()"
   ]
  },
  {
   "cell_type": "code",
   "execution_count": 73,
   "id": "d6f4f5e1",
   "metadata": {},
   "outputs": [
    {
     "data": {
      "text/plain": [
       "80"
      ]
     },
     "execution_count": 73,
     "metadata": {},
     "output_type": "execute_result"
    }
   ],
   "source": [
    "n.a"
   ]
  },
  {
   "cell_type": "code",
   "execution_count": 75,
   "id": "f94070bf",
   "metadata": {},
   "outputs": [],
   "source": [
    "class test():                    # self._a is the protected notation in encapsulation\n",
    "    def __init__(self):\n",
    "        self._a = 3\n",
    "\n",
    "class test1(test):\n",
    "     def __init__(self):\n",
    "        self._a = 90"
   ]
  },
  {
   "cell_type": "code",
   "execution_count": 76,
   "id": "3acbc324",
   "metadata": {},
   "outputs": [],
   "source": [
    "n = test()"
   ]
  },
  {
   "cell_type": "code",
   "execution_count": 77,
   "id": "611e9004",
   "metadata": {},
   "outputs": [
    {
     "data": {
      "text/plain": [
       "3"
      ]
     },
     "execution_count": 77,
     "metadata": {},
     "output_type": "execute_result"
    }
   ],
   "source": [
    "n._a"
   ]
  },
  {
   "cell_type": "code",
   "execution_count": 78,
   "id": "26280bc2",
   "metadata": {},
   "outputs": [],
   "source": [
    "v = test1()"
   ]
  },
  {
   "cell_type": "code",
   "execution_count": 79,
   "id": "f3b7a050",
   "metadata": {},
   "outputs": [
    {
     "data": {
      "text/plain": [
       "90"
      ]
     },
     "execution_count": 79,
     "metadata": {},
     "output_type": "execute_result"
    }
   ],
   "source": [
    "v._a"
   ]
  },
  {
   "cell_type": "code",
   "execution_count": 80,
   "id": "cc34e8d2",
   "metadata": {},
   "outputs": [],
   "source": [
    "class test():\n",
    "    def __init__(self,a,b,c):\n",
    "        self._a = a    # PROTECTED\n",
    "        self.__b = b   # PRIVATE\n",
    "        self.c = c      # PUBLIC\n",
    "    \n",
    "    "
   ]
  },
  {
   "cell_type": "code",
   "execution_count": 85,
   "id": "62aa792e",
   "metadata": {},
   "outputs": [],
   "source": [
    "n = test(4,6,8)"
   ]
  },
  {
   "cell_type": "code",
   "execution_count": 86,
   "id": "fcf1fc8e",
   "metadata": {},
   "outputs": [
    {
     "data": {
      "text/plain": [
       "4"
      ]
     },
     "execution_count": 86,
     "metadata": {},
     "output_type": "execute_result"
    }
   ],
   "source": [
    "n._a    # protected"
   ]
  },
  {
   "cell_type": "code",
   "execution_count": 87,
   "id": "46f907c9",
   "metadata": {},
   "outputs": [
    {
     "ename": "AttributeError",
     "evalue": "'test' object has no attribute '__b'",
     "output_type": "error",
     "traceback": [
      "\u001b[1;31m---------------------------------------------------------------------------\u001b[0m",
      "\u001b[1;31mAttributeError\u001b[0m                            Traceback (most recent call last)",
      "\u001b[1;32m~\\AppData\\Local\\Temp\\ipykernel_14916\\787853500.py\u001b[0m in \u001b[0;36m<module>\u001b[1;34m\u001b[0m\n\u001b[1;32m----> 1\u001b[1;33m \u001b[0mn\u001b[0m\u001b[1;33m.\u001b[0m\u001b[0m__b\u001b[0m\u001b[1;33m\u001b[0m\u001b[1;33m\u001b[0m\u001b[0m\n\u001b[0m",
      "\u001b[1;31mAttributeError\u001b[0m: 'test' object has no attribute '__b'"
     ]
    }
   ],
   "source": [
    "n.__b"
   ]
  },
  {
   "cell_type": "code",
   "execution_count": 88,
   "id": "d764ec89",
   "metadata": {},
   "outputs": [
    {
     "data": {
      "text/plain": [
       "6"
      ]
     },
     "execution_count": 88,
     "metadata": {},
     "output_type": "execute_result"
    }
   ],
   "source": [
    "n._test__b   # Private"
   ]
  },
  {
   "cell_type": "code",
   "execution_count": 90,
   "id": "30b56714",
   "metadata": {},
   "outputs": [
    {
     "data": {
      "text/plain": [
       "6"
      ]
     },
     "execution_count": 90,
     "metadata": {},
     "output_type": "execute_result"
    }
   ],
   "source": [
    "n._test__b   #Private"
   ]
  },
  {
   "cell_type": "code",
   "execution_count": 91,
   "id": "a3a1a543",
   "metadata": {},
   "outputs": [
    {
     "data": {
      "text/plain": [
       "8"
      ]
     },
     "execution_count": 91,
     "metadata": {},
     "output_type": "execute_result"
    }
   ],
   "source": [
    "n.c    # Public"
   ]
  },
  {
   "cell_type": "code",
   "execution_count": 92,
   "id": "ce947875",
   "metadata": {},
   "outputs": [],
   "source": [
    "class test():\n",
    "    def __init__(self,a,b,c):\n",
    "        self._a = a\n",
    "        self.__b = b\n",
    "        self.c = c\n",
    "    \n",
    "# inheritance of test to test1\n",
    "class test1(test):\n",
    "    pass\n"
   ]
  },
  {
   "cell_type": "code",
   "execution_count": 94,
   "id": "e24e2fae",
   "metadata": {},
   "outputs": [],
   "source": [
    "n = test(3,4,5)"
   ]
  },
  {
   "cell_type": "code",
   "execution_count": 95,
   "id": "47f39aa5",
   "metadata": {},
   "outputs": [
    {
     "data": {
      "text/plain": [
       "3"
      ]
     },
     "execution_count": 95,
     "metadata": {},
     "output_type": "execute_result"
    }
   ],
   "source": [
    "n._a"
   ]
  },
  {
   "cell_type": "code",
   "execution_count": 105,
   "id": "61c1354e",
   "metadata": {},
   "outputs": [
    {
     "data": {
      "text/plain": [
       "7"
      ]
     },
     "execution_count": 105,
     "metadata": {},
     "output_type": "execute_result"
    }
   ],
   "source": [
    "v._test__b   # NOTE THIS IS THE CASE WILL VARIED ON CHILD CLASS TO PARENT CLASS in private"
   ]
  },
  {
   "cell_type": "code",
   "execution_count": 107,
   "id": "893cad89",
   "metadata": {},
   "outputs": [
    {
     "ename": "AttributeError",
     "evalue": "'test1' object has no attribute '_test1__b'",
     "output_type": "error",
     "traceback": [
      "\u001b[1;31m---------------------------------------------------------------------------\u001b[0m",
      "\u001b[1;31mAttributeError\u001b[0m                            Traceback (most recent call last)",
      "\u001b[1;32m~\\AppData\\Local\\Temp\\ipykernel_14916\\2245651001.py\u001b[0m in \u001b[0;36m<module>\u001b[1;34m\u001b[0m\n\u001b[1;32m----> 1\u001b[1;33m \u001b[0mv\u001b[0m\u001b[1;33m.\u001b[0m\u001b[0m_test1__b\u001b[0m\u001b[1;33m\u001b[0m\u001b[1;33m\u001b[0m\u001b[0m\n\u001b[0m",
      "\u001b[1;31mAttributeError\u001b[0m: 'test1' object has no attribute '_test1__b'"
     ]
    }
   ],
   "source": [
    "v._test1__b  # private"
   ]
  },
  {
   "cell_type": "code",
   "execution_count": 106,
   "id": "19ef04ef",
   "metadata": {},
   "outputs": [
    {
     "data": {
      "text/plain": [
       "4"
      ]
     },
     "execution_count": 106,
     "metadata": {},
     "output_type": "execute_result"
    }
   ],
   "source": [
    "n._test__b"
   ]
  },
  {
   "cell_type": "code",
   "execution_count": 98,
   "id": "e26c8d7a",
   "metadata": {},
   "outputs": [
    {
     "data": {
      "text/plain": [
       "5"
      ]
     },
     "execution_count": 98,
     "metadata": {},
     "output_type": "execute_result"
    }
   ],
   "source": [
    "n.c"
   ]
  },
  {
   "cell_type": "code",
   "execution_count": 100,
   "id": "32c0f481",
   "metadata": {},
   "outputs": [],
   "source": [
    "v = test1(3,7,8)"
   ]
  },
  {
   "cell_type": "code",
   "execution_count": 101,
   "id": "8e755cf3",
   "metadata": {},
   "outputs": [
    {
     "data": {
      "text/plain": [
       "8"
      ]
     },
     "execution_count": 101,
     "metadata": {},
     "output_type": "execute_result"
    }
   ],
   "source": [
    " v.c  # PUBLIC"
   ]
  },
  {
   "cell_type": "code",
   "execution_count": 102,
   "id": "28a8cc5a",
   "metadata": {},
   "outputs": [
    {
     "data": {
      "text/plain": [
       "3"
      ]
     },
     "execution_count": 102,
     "metadata": {},
     "output_type": "execute_result"
    }
   ],
   "source": [
    "v._a    #Protected"
   ]
  },
  {
   "cell_type": "code",
   "execution_count": 103,
   "id": "5159c36e",
   "metadata": {},
   "outputs": [
    {
     "ename": "AttributeError",
     "evalue": "'test1' object has no attribute '_test1__b'",
     "output_type": "error",
     "traceback": [
      "\u001b[1;31m---------------------------------------------------------------------------\u001b[0m",
      "\u001b[1;31mAttributeError\u001b[0m                            Traceback (most recent call last)",
      "\u001b[1;32m~\\AppData\\Local\\Temp\\ipykernel_14916\\2138063513.py\u001b[0m in \u001b[0;36m<module>\u001b[1;34m\u001b[0m\n\u001b[1;32m----> 1\u001b[1;33m \u001b[0mv\u001b[0m\u001b[1;33m.\u001b[0m\u001b[0m_test1__b\u001b[0m\u001b[1;33m\u001b[0m\u001b[1;33m\u001b[0m\u001b[0m\n\u001b[0m",
      "\u001b[1;31mAttributeError\u001b[0m: 'test1' object has no attribute '_test1__b'"
     ]
    }
   ],
   "source": [
    "v._test1__b   # private\n",
    "  "
   ]
  },
  {
   "cell_type": "code",
   "execution_count": 115,
   "id": "15fd7664",
   "metadata": {},
   "outputs": [],
   "source": [
    "class bonus():\n",
    "    def __init__(self,empid,empsuccess):\n",
    "        self.empid = empid\n",
    "        self.empsuccess = empsuccess\n",
    "        self.__bonusA = \"100%\"\n",
    "        self.__bonusB = \"90%\"\n",
    "        self.__bonusC = \"80%\"\n",
    "        \n",
    "    def bonus(self):\n",
    "        if self.empsuccess  == \"A\":\n",
    "            bonus = self.__bonusA\n",
    "            return bonus\n",
    "        elif self.empsuccess == \"B\":\n",
    "            bonus = self.__bonusB\n",
    "            return bonus\n",
    "        else:\n",
    "            bonus = self.__bonusC\n",
    "            return bonus\n",
    "        \n",
    "        "
   ]
  },
  {
   "cell_type": "code",
   "execution_count": 116,
   "id": "476146ee",
   "metadata": {},
   "outputs": [],
   "source": [
    "emp1 = bonus(150,\"A\")\n",
    "emp2 = bonus(160,\"B\")\n",
    "emp3 = bonus(170,\"C\")"
   ]
  },
  {
   "cell_type": "code",
   "execution_count": 117,
   "id": "85719d39",
   "metadata": {},
   "outputs": [
    {
     "data": {
      "text/plain": [
       "'100%'"
      ]
     },
     "execution_count": 117,
     "metadata": {},
     "output_type": "execute_result"
    }
   ],
   "source": [
    "emp1.bonus()"
   ]
  },
  {
   "cell_type": "code",
   "execution_count": 118,
   "id": "e41166ae",
   "metadata": {},
   "outputs": [
    {
     "data": {
      "text/plain": [
       "'90%'"
      ]
     },
     "execution_count": 118,
     "metadata": {},
     "output_type": "execute_result"
    }
   ],
   "source": [
    "emp2.bonus()"
   ]
  },
  {
   "cell_type": "code",
   "execution_count": 119,
   "id": "c73597d4",
   "metadata": {},
   "outputs": [
    {
     "data": {
      "text/plain": [
       "'80%'"
      ]
     },
     "execution_count": 119,
     "metadata": {},
     "output_type": "execute_result"
    }
   ],
   "source": [
    "emp3.bonus()"
   ]
  },
  {
   "cell_type": "code",
   "execution_count": 130,
   "id": "f359af35",
   "metadata": {},
   "outputs": [],
   "source": [
    "emp1.empid = 90   # overwritten"
   ]
  },
  {
   "cell_type": "code",
   "execution_count": 134,
   "id": "e184daea",
   "metadata": {},
   "outputs": [
    {
     "data": {
      "text/plain": [
       "90"
      ]
     },
     "execution_count": 134,
     "metadata": {},
     "output_type": "execute_result"
    }
   ],
   "source": [
    "emp1.empid"
   ]
  },
  {
   "cell_type": "code",
   "execution_count": 135,
   "id": "550bed39",
   "metadata": {},
   "outputs": [],
   "source": [
    "emp1.empsuccess = \"B\""
   ]
  },
  {
   "cell_type": "code",
   "execution_count": 136,
   "id": "839eeed1",
   "metadata": {},
   "outputs": [
    {
     "data": {
      "text/plain": [
       "'90%'"
      ]
     },
     "execution_count": 136,
     "metadata": {},
     "output_type": "execute_result"
    }
   ],
   "source": [
    "emp1.bonus()"
   ]
  },
  {
   "cell_type": "code",
   "execution_count": 137,
   "id": "4213e542",
   "metadata": {},
   "outputs": [],
   "source": [
    "emp1.__bonus = \"150%\""
   ]
  },
  {
   "cell_type": "code",
   "execution_count": 138,
   "id": "6cd00ff8",
   "metadata": {},
   "outputs": [
    {
     "data": {
      "text/plain": [
       "'90%'"
      ]
     },
     "execution_count": 138,
     "metadata": {},
     "output_type": "execute_result"
    }
   ],
   "source": [
    "emp1.bonus()"
   ]
  },
  {
   "cell_type": "code",
   "execution_count": 139,
   "id": "7b830b71",
   "metadata": {},
   "outputs": [
    {
     "data": {
      "text/plain": [
       "'B'"
      ]
     },
     "execution_count": 139,
     "metadata": {},
     "output_type": "execute_result"
    }
   ],
   "source": [
    "emp2.empsuccess"
   ]
  },
  {
   "cell_type": "code",
   "execution_count": 147,
   "id": "8ba57b91",
   "metadata": {},
   "outputs": [
    {
     "data": {
      "text/plain": [
       "'90%'"
      ]
     },
     "execution_count": 147,
     "metadata": {},
     "output_type": "execute_result"
    }
   ],
   "source": [
    "emp2.bonus()"
   ]
  },
  {
   "cell_type": "code",
   "execution_count": 148,
   "id": "4c381a90",
   "metadata": {},
   "outputs": [],
   "source": [
    "def test(a,b):\n",
    "    return a + b"
   ]
  },
  {
   "cell_type": "code",
   "execution_count": 149,
   "id": "a2339d4a",
   "metadata": {},
   "outputs": [
    {
     "data": {
      "text/plain": [
       "15"
      ]
     },
     "execution_count": 149,
     "metadata": {},
     "output_type": "execute_result"
    }
   ],
   "source": [
    "test(6,9)"
   ]
  },
  {
   "cell_type": "code",
   "execution_count": 153,
   "id": "7b7a6a53",
   "metadata": {},
   "outputs": [
    {
     "data": {
      "text/plain": [
       "'sanjugowda'"
      ]
     },
     "execution_count": 153,
     "metadata": {},
     "output_type": "execute_result"
    }
   ],
   "source": [
    "test(\"sanju\",\"gowda\")"
   ]
  },
  {
   "cell_type": "markdown",
   "id": "cdd7f5ef",
   "metadata": {},
   "source": [
    "# POLYMORPHISM"
   ]
  },
  {
   "cell_type": "code",
   "execution_count": 7,
   "id": "bfca4ade",
   "metadata": {},
   "outputs": [],
   "source": [
    "class insta():\n",
    "    def share_story(self):\n",
    "        print(\"insta\")\n",
    "        \n",
    "class facebook():\n",
    "    def share_story(self):\n",
    "        print(\"facebook\")"
   ]
  },
  {
   "cell_type": "code",
   "execution_count": 8,
   "id": "af1b2db8",
   "metadata": {},
   "outputs": [],
   "source": [
    "def sharestory(app):   # Method is same but this behaviour is different\n",
    "    app.share_story()   # OBJECT.FUNCTION"
   ]
  },
  {
   "cell_type": "code",
   "execution_count": 9,
   "id": "34809d90",
   "metadata": {},
   "outputs": [],
   "source": [
    "i = insta()\n",
    "f = facebook()"
   ]
  },
  {
   "cell_type": "code",
   "execution_count": 10,
   "id": "5685ee8e",
   "metadata": {},
   "outputs": [
    {
     "name": "stdout",
     "output_type": "stream",
     "text": [
      "insta\n"
     ]
    }
   ],
   "source": [
    "sharestory(i)"
   ]
  },
  {
   "cell_type": "code",
   "execution_count": 11,
   "id": "21cc2438",
   "metadata": {},
   "outputs": [
    {
     "name": "stdout",
     "output_type": "stream",
     "text": [
      "facebook\n"
     ]
    }
   ],
   "source": [
    "sharestory(f)"
   ]
  },
  {
   "cell_type": "code",
   "execution_count": 12,
   "id": "0dd490d6",
   "metadata": {},
   "outputs": [],
   "source": [
    "class social():      # Polymorphism behaves in inheritance\n",
    "    def upload(self):\n",
    "        print(\"uploading ur images\")\n",
    "    def download(self):\n",
    "        print(\"downloading ur images\")\n",
    "        \n",
    "class insta(social):   # it will be  overwritted social\n",
    "    def upload(self):\n",
    "        print(\"uploading to insta\")\n",
    "    \n",
    "    \n",
    "class facebook(social):   # it will be overwritted social\n",
    "    def upload(self):\n",
    "        print(\"uploading to facebook\")\n"
   ]
  },
  {
   "cell_type": "code",
   "execution_count": 13,
   "id": "16a7bf19",
   "metadata": {},
   "outputs": [],
   "source": [
    "i = insta()"
   ]
  },
  {
   "cell_type": "code",
   "execution_count": 14,
   "id": "99b0ee52",
   "metadata": {},
   "outputs": [],
   "source": [
    "f = facebook()"
   ]
  },
  {
   "cell_type": "code",
   "execution_count": 16,
   "id": "13931eb5",
   "metadata": {},
   "outputs": [
    {
     "name": "stdout",
     "output_type": "stream",
     "text": [
      "uploading to insta\n"
     ]
    }
   ],
   "source": [
    "i.upload()"
   ]
  },
  {
   "cell_type": "code",
   "execution_count": 17,
   "id": "d7cc7147",
   "metadata": {},
   "outputs": [
    {
     "name": "stdout",
     "output_type": "stream",
     "text": [
      "downloading ur images\n"
     ]
    }
   ],
   "source": [
    "f.download()"
   ]
  },
  {
   "cell_type": "code",
   "execution_count": 18,
   "id": "ad74e665",
   "metadata": {},
   "outputs": [
    {
     "name": "stdout",
     "output_type": "stream",
     "text": [
      "uploading to facebook\n"
     ]
    }
   ],
   "source": [
    "f.upload()"
   ]
  },
  {
   "cell_type": "code",
   "execution_count": 34,
   "id": "ebe555b6",
   "metadata": {},
   "outputs": [],
   "source": [
    "class insta():\n",
    "    def share_story(self):\n",
    "        print(\"share story to insta\")\n",
    "\n",
    "class facebook():\n",
    "    def share_story(self):\n",
    "        print(\"share story to facebook\")"
   ]
  },
  {
   "cell_type": "code",
   "execution_count": 38,
   "id": "af314236",
   "metadata": {},
   "outputs": [],
   "source": [
    "def sharestory(app):\n",
    "     app.share_story"
   ]
  },
  {
   "cell_type": "code",
   "execution_count": 39,
   "id": "a0fb3524",
   "metadata": {},
   "outputs": [],
   "source": [
    "i = insta\n",
    "f = facebook"
   ]
  },
  {
   "cell_type": "code",
   "execution_count": 40,
   "id": "07ea26fe",
   "metadata": {},
   "outputs": [],
   "source": [
    "sharestory(i)"
   ]
  },
  {
   "cell_type": "code",
   "execution_count": 41,
   "id": "edd624b3",
   "metadata": {},
   "outputs": [],
   "source": [
    "class insta():\n",
    "    def share_story(self):\n",
    "        print(\"insta\")\n",
    "        \n",
    "class facebook():\n",
    "    def share_story(self):\n",
    "        print(\"facebook\")"
   ]
  },
  {
   "cell_type": "code",
   "execution_count": 47,
   "id": "fa57342b",
   "metadata": {},
   "outputs": [],
   "source": [
    "def sharestory(app):\n",
    "    app.share_story"
   ]
  },
  {
   "cell_type": "code",
   "execution_count": 48,
   "id": "43eaeeb8",
   "metadata": {},
   "outputs": [],
   "source": [
    "i = insta"
   ]
  },
  {
   "cell_type": "code",
   "execution_count": 49,
   "id": "33d32c78",
   "metadata": {},
   "outputs": [],
   "source": [
    "f = facebook"
   ]
  },
  {
   "cell_type": "code",
   "execution_count": 50,
   "id": "fa033e78",
   "metadata": {},
   "outputs": [],
   "source": [
    "sharestory(i)"
   ]
  },
  {
   "cell_type": "markdown",
   "id": "ec01b347",
   "metadata": {},
   "source": [
    "# CUSTOM MESSAGE BY EXCEPTION IN CLASS"
   ]
  },
  {
   "cell_type": "code",
   "execution_count": 59,
   "id": "95cecd2c",
   "metadata": {},
   "outputs": [],
   "source": [
    "class test(Exception):  \n",
    "    def __init__(self,msg):\n",
    "        self.msg = msg"
   ]
  },
  {
   "cell_type": "code",
   "execution_count": 60,
   "id": "4adf3f35",
   "metadata": {},
   "outputs": [
    {
     "name": "stdout",
     "output_type": "stream",
     "text": [
      "msg here\n"
     ]
    }
   ],
   "source": [
    "try:\n",
    "    raise(test(\"msg here\"))\n",
    "except test as e:    # WE CALLED TEST AS A CLASS AND WE PASSED EXCEPTION\n",
    "    print(e)"
   ]
  },
  {
   "cell_type": "code",
   "execution_count": 69,
   "id": "b996a90f",
   "metadata": {},
   "outputs": [],
   "source": [
    "class test(Exception):\n",
    "    def __init__(self,msg):\n",
    "        self.msg = msg"
   ]
  },
  {
   "cell_type": "code",
   "execution_count": 70,
   "id": "d9de53de",
   "metadata": {},
   "outputs": [
    {
     "name": "stdout",
     "output_type": "stream",
     "text": [
      "msggg is heree\n"
     ]
    }
   ],
   "source": [
    "try:\n",
    "    raise(test(\"msggg is heree\"))\n",
    "except Exception as e:\n",
    "    print(e)"
   ]
  },
  {
   "cell_type": "code",
   "execution_count": 71,
   "id": "600077bd",
   "metadata": {},
   "outputs": [],
   "source": [
    "class test(Exception):\n",
    "    def __init__(self,msg,value):\n",
    "        self.msg = msg\n",
    "        self.value = value"
   ]
  },
  {
   "cell_type": "code",
   "execution_count": 72,
   "id": "71441595",
   "metadata": {},
   "outputs": [
    {
     "name": "stdout",
     "output_type": "stream",
     "text": [
      "('hello this is', 90)\n"
     ]
    }
   ],
   "source": [
    "try:\n",
    "    raise(test(\"hello this is\",90))\n",
    "except Exception as e:\n",
    "    print(e)"
   ]
  },
  {
   "cell_type": "code",
   "execution_count": 74,
   "id": "02823112",
   "metadata": {},
   "outputs": [],
   "source": [
    "# multiple inheritance\n",
    "#PARENT\n",
    "class Batch():  \n",
    "    batchnumber = \"\" # static\n",
    "    def batch(self):\n",
    "        print(self.batchnumber)\n",
    "    \n",
    "#PARENT\n",
    "class coursing():\n",
    "    cname = \"\"\n",
    "    def course(self):\n",
    "        print(self,cname)\n",
    "        \n",
    "#Child\n",
    "class test(Batch,coursing):\n",
    "    def data(self):\n",
    "        print(self.batchnumber)\n",
    "        print(self.cname)"
   ]
  },
  {
   "cell_type": "code",
   "execution_count": 75,
   "id": "6033b2db",
   "metadata": {},
   "outputs": [],
   "source": [
    "n = test()"
   ]
  },
  {
   "cell_type": "code",
   "execution_count": 77,
   "id": "5b9e68f3",
   "metadata": {},
   "outputs": [
    {
     "name": "stdout",
     "output_type": "stream",
     "text": [
      "\n"
     ]
    }
   ],
   "source": [
    "n.batch()"
   ]
  },
  {
   "cell_type": "code",
   "execution_count": 79,
   "id": "d9313a0d",
   "metadata": {},
   "outputs": [
    {
     "data": {
      "text/plain": [
       "''"
      ]
     },
     "execution_count": 79,
     "metadata": {},
     "output_type": "execute_result"
    }
   ],
   "source": [
    "n.batchnumber"
   ]
  },
  {
   "cell_type": "code",
   "execution_count": 80,
   "id": "8cd3bf94",
   "metadata": {},
   "outputs": [
    {
     "data": {
      "text/plain": [
       "<bound method coursing.course of <__main__.test object at 0x00000194209E2CD0>>"
      ]
     },
     "execution_count": 80,
     "metadata": {},
     "output_type": "execute_result"
    }
   ],
   "source": [
    "n.course"
   ]
  },
  {
   "cell_type": "code",
   "execution_count": 81,
   "id": "58ad3c85",
   "metadata": {},
   "outputs": [
    {
     "data": {
      "text/plain": [
       "''"
      ]
     },
     "execution_count": 81,
     "metadata": {},
     "output_type": "execute_result"
    }
   ],
   "source": [
    "n.cname"
   ]
  },
  {
   "cell_type": "code",
   "execution_count": 95,
   "id": "27d91259",
   "metadata": {},
   "outputs": [
    {
     "data": {
      "text/plain": [
       "<bound method Batch.batch of <__main__.test object at 0x0000019422BE9A90>>"
      ]
     },
     "execution_count": 95,
     "metadata": {},
     "output_type": "execute_result"
    }
   ],
   "source": [
    "a.batch"
   ]
  },
  {
   "cell_type": "code",
   "execution_count": 97,
   "id": "3be2646c",
   "metadata": {},
   "outputs": [],
   "source": [
    "class Batch():  \n",
    "    batchnumber = \"\"# static  VARIABLE  - DECLARE A VARIABLE INSIDE A CLASS OUTSIDE A METHOID\n",
    "    def __init__(self,a,b,c):\n",
    "        self.a =a\n",
    "        self.b =b\n",
    "        self.c =c\n",
    "       \n",
    "    def batch(self):\n",
    "        print(self.batchnumber)\n",
    "    \n",
    "#PARENT\n",
    "class coursing():\n",
    "    cname = \"\"\n",
    "    def course(self):\n",
    "        print(self,cname)\n",
    "        \n",
    "#Child\n",
    "class test(Batch,coursing):\n",
    "    def data(self):\n",
    "        print(self.batchnumber)\n",
    "        print(self.cname)"
   ]
  },
  {
   "cell_type": "code",
   "execution_count": 99,
   "id": "56ebc23e",
   "metadata": {},
   "outputs": [],
   "source": [
    "n =test(3,5,6)"
   ]
  },
  {
   "cell_type": "code",
   "execution_count": 100,
   "id": "d03e3752",
   "metadata": {},
   "outputs": [
    {
     "data": {
      "text/plain": [
       "3"
      ]
     },
     "execution_count": 100,
     "metadata": {},
     "output_type": "execute_result"
    }
   ],
   "source": [
    "n.a"
   ]
  },
  {
   "cell_type": "code",
   "execution_count": 101,
   "id": "b0a2c431",
   "metadata": {},
   "outputs": [],
   "source": [
    "bn = Batch(5,7,89)   # class variable"
   ]
  },
  {
   "cell_type": "code",
   "execution_count": 102,
   "id": "c16b99da",
   "metadata": {},
   "outputs": [
    {
     "data": {
      "text/plain": [
       "5"
      ]
     },
     "execution_count": 102,
     "metadata": {},
     "output_type": "execute_result"
    }
   ],
   "source": [
    "bn.a"
   ]
  },
  {
   "cell_type": "code",
   "execution_count": 103,
   "id": "5b720aa6",
   "metadata": {},
   "outputs": [
    {
     "data": {
      "text/plain": [
       "7"
      ]
     },
     "execution_count": 103,
     "metadata": {},
     "output_type": "execute_result"
    }
   ],
   "source": [
    "bn.b"
   ]
  },
  {
   "cell_type": "code",
   "execution_count": 104,
   "id": "43b130d6",
   "metadata": {},
   "outputs": [],
   "source": [
    "bn1 = Batch(7,8,9)"
   ]
  },
  {
   "cell_type": "code",
   "execution_count": 105,
   "id": "a0fe256b",
   "metadata": {},
   "outputs": [
    {
     "data": {
      "text/plain": [
       "7"
      ]
     },
     "execution_count": 105,
     "metadata": {},
     "output_type": "execute_result"
    }
   ],
   "source": [
    "bn1.a"
   ]
  },
  {
   "cell_type": "code",
   "execution_count": 110,
   "id": "70c505bc",
   "metadata": {},
   "outputs": [
    {
     "name": "stdout",
     "output_type": "stream",
     "text": [
      "<class '__main__.xyz'>\n"
     ]
    }
   ],
   "source": [
    "class xyz:   # parent\n",
    "    def __init__(self,a,b,c):\n",
    "        self.a = a\n",
    "        self.b = b\n",
    "        self.c = c\n",
    "    \n",
    "    def test(self):\n",
    "        print(self.a,self.b,self.c)\n",
    "                \n",
    "class xyz1:    # parent\n",
    "    def __init__(self,p,q,r):\n",
    "        self.p = p\n",
    "        self.q = q\n",
    "        self.r = r\n",
    "    \n",
    "    def test1(self):\n",
    "          print(self.p,self,q,self.r)\n",
    "\n",
    "class child(xyz,xyz1):   # child\n",
    "        print(xyz)\n",
    "              "
   ]
  },
  {
   "cell_type": "code",
   "execution_count": 111,
   "id": "1462c08e",
   "metadata": {},
   "outputs": [],
   "source": [
    "n = child(1,2,3)"
   ]
  },
  {
   "cell_type": "code",
   "execution_count": 113,
   "id": "9f6b88e4",
   "metadata": {},
   "outputs": [
    {
     "data": {
      "text/plain": [
       "1"
      ]
     },
     "execution_count": 113,
     "metadata": {},
     "output_type": "execute_result"
    }
   ],
   "source": [
    "n.a"
   ]
  },
  {
   "cell_type": "code",
   "execution_count": null,
   "id": "2da4c0bd",
   "metadata": {},
   "outputs": [],
   "source": [
    "class Batch():  \n",
    "    batchnumber = \"\"# static  VARIABLE  - DECLARE A VARIABLE INSIDE A CLASS OUTSIDE A METHOID\n",
    "    def __init__(self,a,b,c):\n",
    "        self.a =a\n",
    "        self.b =b\n",
    "        self.c =c\n",
    "       \n",
    "    def batch(self):\n",
    "        print(self.batchnumber)\n",
    "    \n",
    "#PARENT\n",
    "class coursing():\n",
    "    cname = \"\"\n",
    "    def course(self):\n",
    "        print(self,cname)\n",
    "        \n",
    "#Child\n",
    "class test(Batch,coursing):\n",
    "    def data(self):\n",
    "        print(self.batchnumber)\n",
    "        print(self.cname)"
   ]
  },
  {
   "cell_type": "code",
   "execution_count": 114,
   "id": "3de318b8",
   "metadata": {},
   "outputs": [],
   "source": [
    "class Batch():  \n",
    "    batchnumber = \"\"# static  VARIABLE  - DECLARE A VARIABLE INSIDE A CLASS OUTSIDE A METHOID\n",
    "    def __init__(self,a,b,c):\n",
    "        self.a =a\n",
    "        self.b =b\n",
    "        self.c =c\n",
    "       \n",
    "    def batch(self):\n",
    "        print(self.batchnumber)"
   ]
  },
  {
   "cell_type": "code",
   "execution_count": 116,
   "id": "9f64b45a",
   "metadata": {},
   "outputs": [],
   "source": [
    "bn = Batch(3,5,7)"
   ]
  },
  {
   "cell_type": "code",
   "execution_count": 117,
   "id": "8d7f33e4",
   "metadata": {},
   "outputs": [
    {
     "data": {
      "text/plain": [
       "3"
      ]
     },
     "execution_count": 117,
     "metadata": {},
     "output_type": "execute_result"
    }
   ],
   "source": [
    "bn.a"
   ]
  },
  {
   "cell_type": "code",
   "execution_count": 121,
   "id": "7fd88a6a",
   "metadata": {},
   "outputs": [],
   "source": [
    "class Batch():  \n",
    "    batchnumber = \"\"# static  VARIABLE  - DECLARE A VARIABLE INSIDE A CLASS OUTSIDE A METHOID\n",
    "    def __init__(self,a,b,c):\n",
    "        self.a =a\n",
    "        self.b =b\n",
    "        self.c = c\n",
    "    @staticmethod    # decorator always add new functionality to an existing object without modifying structure\n",
    "    def batch():\n",
    "        print(\"this is static\")"
   ]
  },
  {
   "cell_type": "code",
   "execution_count": 123,
   "id": "9cc14bbf",
   "metadata": {},
   "outputs": [],
   "source": [
    "bn = Batch(5,6,7)"
   ]
  },
  {
   "cell_type": "code",
   "execution_count": 125,
   "id": "d0948b26",
   "metadata": {},
   "outputs": [
    {
     "name": "stdout",
     "output_type": "stream",
     "text": [
      "this is static\n"
     ]
    }
   ],
   "source": [
    "bn.batch()"
   ]
  },
  {
   "cell_type": "code",
   "execution_count": 126,
   "id": "95442fd6",
   "metadata": {},
   "outputs": [
    {
     "name": "stdout",
     "output_type": "stream",
     "text": [
      "\n"
     ]
    }
   ],
   "source": [
    "a.batch()"
   ]
  },
  {
   "cell_type": "code",
   "execution_count": 138,
   "id": "ce1a3fa6",
   "metadata": {},
   "outputs": [],
   "source": [
    "class xyz:   # parent\n",
    "    def __init__(self,a,b,c):\n",
    "        self.a = a\n",
    "        self.b = b\n",
    "        self.c = c\n",
    "    @staticmethod   - # whitout self keyword\n",
    "    def test():\n",
    "        print(\"this is static method\")"
   ]
  },
  {
   "cell_type": "code",
   "execution_count": 139,
   "id": "5b35cee4",
   "metadata": {},
   "outputs": [],
   "source": [
    "bn = xyz(3,4,5)"
   ]
  },
  {
   "cell_type": "code",
   "execution_count": 140,
   "id": "df028b2a",
   "metadata": {},
   "outputs": [
    {
     "name": "stdout",
     "output_type": "stream",
     "text": [
      "this is static method\n"
     ]
    }
   ],
   "source": [
    "bn.test()"
   ]
  },
  {
   "cell_type": "code",
   "execution_count": 151,
   "id": "267489a1",
   "metadata": {},
   "outputs": [],
   "source": [
    "class xyz1:    # parent\n",
    "    def __init__(self,p,q,r):\n",
    "        self.p = p\n",
    "        self.q = q\n",
    "        self.r = r\n",
    "    @staticmethod\n",
    "    def test1():\n",
    "          print(\"this is static keyword\")"
   ]
  },
  {
   "cell_type": "code",
   "execution_count": 152,
   "id": "6b158d3b",
   "metadata": {},
   "outputs": [],
   "source": [
    "\n",
    "\n",
    "bn = xyz1"
   ]
  },
  {
   "cell_type": "code",
   "execution_count": 153,
   "id": "176f5528",
   "metadata": {},
   "outputs": [
    {
     "name": "stdout",
     "output_type": "stream",
     "text": [
      "this is static keyword\n"
     ]
    }
   ],
   "source": [
    "bn.test1()"
   ]
  },
  {
   "cell_type": "code",
   "execution_count": 156,
   "id": "de61dca4",
   "metadata": {},
   "outputs": [
    {
     "ename": "SyntaxError",
     "evalue": "invalid syntax (3987035479.py, line 1)",
     "output_type": "error",
     "traceback": [
      "\u001b[1;36m  File \u001b[1;32m\"C:\\Users\\bhavi\\AppData\\Local\\Temp\\ipykernel_18648\\3987035479.py\"\u001b[1;36m, line \u001b[1;32m1\u001b[0m\n\u001b[1;33m    @staticmethod():\u001b[0m\n\u001b[1;37m                   ^\u001b[0m\n\u001b[1;31mSyntaxError\u001b[0m\u001b[1;31m:\u001b[0m invalid syntax\n"
     ]
    }
   ],
   "source": [
    "@staticmethod"
   ]
  },
  {
   "cell_type": "code",
   "execution_count": 157,
   "id": "121d883b",
   "metadata": {},
   "outputs": [],
   "source": [
    "class xyz1:    # parent\n",
    "    BATCH = \"fSDS\"   # STATIC VARIABLE\n",
    "    def __init__(self,p,q,r):\n",
    "        self.p = p\n",
    "        self.q = q   #INSTANCE VARIABLE\n",
    "        self.r = r\n",
    "    @staticmethod\n",
    "    def test1():\n",
    "          print(\"this is static keyword\")"
   ]
  },
  {
   "cell_type": "code",
   "execution_count": 158,
   "id": "c4b98893",
   "metadata": {},
   "outputs": [
    {
     "data": {
      "text/plain": [
       "'fSDS'"
      ]
     },
     "execution_count": 158,
     "metadata": {},
     "output_type": "execute_result"
    }
   ],
   "source": [
    "xyz1.BATCH"
   ]
  },
  {
   "cell_type": "code",
   "execution_count": 171,
   "id": "15b8538e",
   "metadata": {},
   "outputs": [],
   "source": [
    "class xyz():\n",
    "    name = \"sanju\" # STATIC VARIABLE\n",
    "    def __init__(self,a,b,c):\n",
    "        self.a = a   # INSTANCE VARIABLE\n",
    "        self.b = b\n",
    "        self.c = c\n",
    "    \n",
    "    @staticmethod    # DECORATOR\n",
    "    def test():\n",
    "        print(\"this is the message of test\")\n",
    "    \n",
    "    \n",
    "    def test1(self):\n",
    "         print(\"this is the message of test1\")"
   ]
  },
  {
   "cell_type": "code",
   "execution_count": 161,
   "id": "68dd1fff",
   "metadata": {},
   "outputs": [
    {
     "data": {
      "text/plain": [
       "'sanju'"
      ]
     },
     "execution_count": 161,
     "metadata": {},
     "output_type": "execute_result"
    }
   ],
   "source": [
    "xyz.name  # class name.vqariblename without creating n = object"
   ]
  },
  {
   "cell_type": "code",
   "execution_count": 177,
   "id": "d2d399c9",
   "metadata": {},
   "outputs": [
    {
     "ename": "AttributeError",
     "evalue": "type object 'xyz' has no attribute 'a'",
     "output_type": "error",
     "traceback": [
      "\u001b[1;31m---------------------------------------------------------------------------\u001b[0m",
      "\u001b[1;31mAttributeError\u001b[0m                            Traceback (most recent call last)",
      "\u001b[1;32m~\\AppData\\Local\\Temp\\ipykernel_18648\\2635240657.py\u001b[0m in \u001b[0;36m<module>\u001b[1;34m\u001b[0m\n\u001b[1;32m----> 1\u001b[1;33m \u001b[0mxyz\u001b[0m\u001b[1;33m.\u001b[0m\u001b[0ma\u001b[0m\u001b[1;33m\u001b[0m\u001b[1;33m\u001b[0m\u001b[0m\n\u001b[0m",
      "\u001b[1;31mAttributeError\u001b[0m: type object 'xyz' has no attribute 'a'"
     ]
    }
   ],
   "source": [
    "xyz.a"
   ]
  },
  {
   "cell_type": "code",
   "execution_count": 163,
   "id": "5dba1e78",
   "metadata": {},
   "outputs": [],
   "source": [
    "N = xyz(3,5,7)   # assigning object"
   ]
  },
  {
   "cell_type": "code",
   "execution_count": 164,
   "id": "1f7d5adc",
   "metadata": {},
   "outputs": [
    {
     "data": {
      "text/plain": [
       "3"
      ]
     },
     "execution_count": 164,
     "metadata": {},
     "output_type": "execute_result"
    }
   ],
   "source": [
    "N.a"
   ]
  },
  {
   "cell_type": "code",
   "execution_count": 165,
   "id": "fddc0227",
   "metadata": {},
   "outputs": [
    {
     "data": {
      "text/plain": [
       "'sanju'"
      ]
     },
     "execution_count": 165,
     "metadata": {},
     "output_type": "execute_result"
    }
   ],
   "source": [
    "N.name"
   ]
  },
  {
   "cell_type": "code",
   "execution_count": 172,
   "id": "2c89c193",
   "metadata": {},
   "outputs": [
    {
     "name": "stdout",
     "output_type": "stream",
     "text": [
      "this is the message of test\n"
     ]
    }
   ],
   "source": [
    "xyz.test()   # without creating the object we can declare get the result"
   ]
  },
  {
   "cell_type": "code",
   "execution_count": 173,
   "id": "7bfe631a",
   "metadata": {},
   "outputs": [
    {
     "ename": "TypeError",
     "evalue": "test1() missing 1 required positional argument: 'self'",
     "output_type": "error",
     "traceback": [
      "\u001b[1;31m---------------------------------------------------------------------------\u001b[0m",
      "\u001b[1;31mTypeError\u001b[0m                                 Traceback (most recent call last)",
      "\u001b[1;32m~\\AppData\\Local\\Temp\\ipykernel_18648\\2006940402.py\u001b[0m in \u001b[0;36m<module>\u001b[1;34m\u001b[0m\n\u001b[1;32m----> 1\u001b[1;33m \u001b[0mxyz\u001b[0m\u001b[1;33m.\u001b[0m\u001b[0mtest1\u001b[0m\u001b[1;33m(\u001b[0m\u001b[1;33m)\u001b[0m\u001b[1;33m\u001b[0m\u001b[1;33m\u001b[0m\u001b[0m\n\u001b[0m",
      "\u001b[1;31mTypeError\u001b[0m: test1() missing 1 required positional argument: 'self'"
     ]
    }
   ],
   "source": [
    "xyz.test1()   # missing of argument self"
   ]
  },
  {
   "cell_type": "code",
   "execution_count": 174,
   "id": "daa0fd22",
   "metadata": {},
   "outputs": [],
   "source": [
    "N = xyz(4,6,7)    # class variable we need to assign a,b,c variable values than only test1 will take"
   ]
  },
  {
   "cell_type": "code",
   "execution_count": 176,
   "id": "aa3eab2b",
   "metadata": {},
   "outputs": [
    {
     "name": "stdout",
     "output_type": "stream",
     "text": [
      "this is the message of test1\n"
     ]
    }
   ],
   "source": [
    "N.test1() "
   ]
  },
  {
   "cell_type": "code",
   "execution_count": 180,
   "id": "3311879e",
   "metadata": {},
   "outputs": [],
   "source": [
    "#MULTI LEVEL\n",
    "class xyz():\n",
    "    def __init__(self,a,b,c):\n",
    "        self.a = a\n",
    "        self.b = b\n",
    "        self.c = c\n",
    "    \n",
    "    def test(self):\n",
    "        print(\"this is the message of test\")\n",
    "        \n",
    "class xyz1(xyz):\n",
    "    def test1(self):\n",
    "        print(\"this is the message of test1\")\n",
    "\n",
    "class xyz2(xyz1):\n",
    "    def test2(self):\n",
    "        print(\"this is the message of test2\")\n",
    "    "
   ]
  },
  {
   "cell_type": "code",
   "execution_count": 183,
   "id": "14f1d621",
   "metadata": {},
   "outputs": [],
   "source": [
    "n = xyz(3,5,8)"
   ]
  },
  {
   "cell_type": "code",
   "execution_count": 185,
   "id": "3898c8d8",
   "metadata": {},
   "outputs": [
    {
     "name": "stdout",
     "output_type": "stream",
     "text": [
      "this is the message of test\n"
     ]
    }
   ],
   "source": [
    "n.test()"
   ]
  },
  {
   "cell_type": "code",
   "execution_count": 193,
   "id": "7c3b0fb8",
   "metadata": {},
   "outputs": [],
   "source": [
    "n = xyz1(4,6,8)"
   ]
  },
  {
   "cell_type": "code",
   "execution_count": 194,
   "id": "4ba933df",
   "metadata": {},
   "outputs": [
    {
     "name": "stdout",
     "output_type": "stream",
     "text": [
      "this is the message of test1\n"
     ]
    }
   ],
   "source": [
    "n.test1()"
   ]
  },
  {
   "cell_type": "code",
   "execution_count": 200,
   "id": "6d3cd3f7",
   "metadata": {},
   "outputs": [
    {
     "name": "stdout",
     "output_type": "stream",
     "text": [
      "enter a4\n",
      "enyer b0\n",
      "division by zero\n"
     ]
    }
   ],
   "source": [
    "# CUSTOM EXCEPTION \n",
    "class divisible():\n",
    "    def __init__(self,msg):\n",
    "        self.msg = msg\n",
    "        \n",
    "try:\n",
    "    a = int(input(\"enter a\"))\n",
    "    b = int(input(\"enyer b\"))\n",
    "    \n",
    "    if b == 2:\n",
    "        raise Exception (\"It is not divisible so divisible error\")\n",
    "        \n",
    "except ValueError as msg:\n",
    "    print(msg)\n",
    "except ZeroDivisionError as msg:\n",
    "    print(msg)\n",
    "else:\n",
    "    try:\n",
    "        result = a/b\n",
    "        print(result)\n",
    "    except Exception as e:\n",
    "        print(e)\n",
    "    "
   ]
  },
  {
   "cell_type": "code",
   "execution_count": 203,
   "id": "ac41d796",
   "metadata": {},
   "outputs": [
    {
     "name": "stdout",
     "output_type": "stream",
     "text": [
      "enter a4\n",
      "enyer b0\n",
      "division by zero\n"
     ]
    }
   ],
   "source": [
    "# CUSTOM EXCEPTION \n",
    "class divisible():\n",
    "    def __init__(self,msg):\n",
    "        self.msg = msg\n",
    "        \n",
    "try:\n",
    "    a = int(input(\"enter a\"))\n",
    "    b = int(input(\"enyer b\"))\n",
    "    \n",
    "    a/b    # this is difference before it is outside the block\n",
    "    if b == 2:\n",
    "        raise Exception (\"It is not divisible so divisible error\")\n",
    "        \n",
    "except ValueError as msg:\n",
    "    print(msg)\n",
    "except ZeroDivisionError as msg:\n",
    "    print(msg)\n"
   ]
  },
  {
   "cell_type": "markdown",
   "id": "3e06bc9a",
   "metadata": {},
   "source": [
    "# ABSTRACTION = creating blueprint"
   ]
  },
  {
   "cell_type": "code",
   "execution_count": 204,
   "id": "3a8ca1f3",
   "metadata": {},
   "outputs": [],
   "source": [
    "class xyz:  # abstraction - which will be hiding some of information from users\n",
    "    pass"
   ]
  },
  {
   "cell_type": "code",
   "execution_count": 205,
   "id": "d1909dd7",
   "metadata": {},
   "outputs": [],
   "source": [
    "class datascience():          #Complexity of hiding some of the information from users\n",
    "    def write(): \n",
    "        pass\n",
    "    def read():\n",
    "        pass\n",
    "    def writeandread():\n",
    "        pass\n",
    "    def source():\n",
    "        pass"
   ]
  },
  {
   "cell_type": "code",
   "execution_count": 216,
   "id": "f75d149b",
   "metadata": {},
   "outputs": [],
   "source": [
    "# OVERLOADING\n",
    "class xyz():\n",
    "    def test(self):\n",
    "        print(\"this is sample\")\n"
   ]
  },
  {
   "cell_type": "code",
   "execution_count": 217,
   "id": "b1363f3b",
   "metadata": {},
   "outputs": [],
   "source": [
    "n = xyz()"
   ]
  },
  {
   "cell_type": "code",
   "execution_count": 218,
   "id": "5e97be04",
   "metadata": {},
   "outputs": [
    {
     "name": "stdout",
     "output_type": "stream",
     "text": [
      "<__main__.xyz object at 0x0000019422BDCCA0>\n"
     ]
    }
   ],
   "source": [
    "print(n)     # hexadecimal to string"
   ]
  },
  {
   "cell_type": "code",
   "execution_count": 223,
   "id": "8e1f3332",
   "metadata": {},
   "outputs": [],
   "source": [
    "# OVERLOADING\n",
    "class xyz():\n",
    "    def test(self):\n",
    "        print(\"this is sample\")\n",
    "    def __str__(self):\n",
    "        return (\"this is sample111\")"
   ]
  },
  {
   "cell_type": "code",
   "execution_count": 224,
   "id": "0df84554",
   "metadata": {},
   "outputs": [],
   "source": [
    "n = xyz()"
   ]
  },
  {
   "cell_type": "code",
   "execution_count": 225,
   "id": "04d4901a",
   "metadata": {},
   "outputs": [
    {
     "name": "stdout",
     "output_type": "stream",
     "text": [
      "this is sample111\n"
     ]
    }
   ],
   "source": [
    "print(n)"
   ]
  },
  {
   "cell_type": "code",
   "execution_count": null,
   "id": "0f31acb7",
   "metadata": {},
   "outputs": [],
   "source": []
  }
 ],
 "metadata": {
  "kernelspec": {
   "display_name": "Python 3 (ipykernel)",
   "language": "python",
   "name": "python3"
  },
  "language_info": {
   "codemirror_mode": {
    "name": "ipython",
    "version": 3
   },
   "file_extension": ".py",
   "mimetype": "text/x-python",
   "name": "python",
   "nbconvert_exporter": "python",
   "pygments_lexer": "ipython3",
   "version": "3.9.13"
  }
 },
 "nbformat": 4,
 "nbformat_minor": 5
}
