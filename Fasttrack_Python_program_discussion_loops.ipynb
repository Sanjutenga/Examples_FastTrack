{
  "nbformat": 4,
  "nbformat_minor": 0,
  "metadata": {
    "colab": {
      "provenance": []
    },
    "kernelspec": {
      "name": "python3",
      "display_name": "Python 3"
    },
    "language_info": {
      "name": "python"
    }
  },
  "cells": [
    {
      "cell_type": "code",
      "execution_count": null,
      "metadata": {
        "id": "vqhlG032coV9",
        "colab": {
          "base_uri": "https://localhost:8080/"
        },
        "outputId": "be9af1ac-9cf5-4314-830d-4647d0334756"
      },
      "outputs": [
        {
          "output_type": "execute_result",
          "data": {
            "text/plain": [
              "78"
            ]
          },
          "metadata": {},
          "execution_count": 1
        }
      ],
      "source": [
        "s = \"this is python class and explains about the overview of programming technology\"\n",
        "len(s)"
      ]
    },
    {
      "cell_type": "code",
      "source": [
        "for i in s:\n",
        "  print(i)"
      ],
      "metadata": {
        "colab": {
          "base_uri": "https://localhost:8080/"
        },
        "id": "qntsqHiX4KB3",
        "outputId": "fb028896-03fb-4bde-e725-a8b6450caf6e"
      },
      "execution_count": null,
      "outputs": [
        {
          "output_type": "stream",
          "name": "stdout",
          "text": [
            "t\n",
            "h\n",
            "i\n",
            "s\n",
            " \n",
            "i\n",
            "s\n",
            " \n",
            "p\n",
            "y\n",
            "t\n",
            "h\n",
            "o\n",
            "n\n",
            " \n",
            "c\n",
            "l\n",
            "a\n",
            "s\n",
            "s\n",
            " \n",
            "a\n",
            "n\n",
            "d\n",
            " \n",
            "e\n",
            "x\n",
            "p\n",
            "l\n",
            "a\n",
            "i\n",
            "n\n",
            "s\n",
            " \n",
            "a\n",
            "b\n",
            "o\n",
            "u\n",
            "t\n",
            " \n",
            "t\n",
            "h\n",
            "e\n",
            " \n",
            "o\n",
            "v\n",
            "e\n",
            "r\n",
            "v\n",
            "i\n",
            "e\n",
            "w\n",
            " \n",
            "o\n",
            "f\n",
            " \n",
            "p\n",
            "r\n",
            "o\n",
            "g\n",
            "r\n",
            "a\n",
            "m\n",
            "m\n",
            "i\n",
            "n\n",
            "g\n",
            " \n",
            "t\n",
            "e\n",
            "c\n",
            "h\n",
            "n\n",
            "o\n",
            "l\n",
            "o\n",
            "g\n",
            "y\n"
          ]
        }
      ]
    },
    {
      "cell_type": "code",
      "source": [
        "s\n"
      ],
      "metadata": {
        "colab": {
          "base_uri": "https://localhost:8080/",
          "height": 36
        },
        "id": "tDgonsw_4aMz",
        "outputId": "681c0a19-c31f-4d11-81b3-4253aa68207c"
      },
      "execution_count": null,
      "outputs": [
        {
          "output_type": "execute_result",
          "data": {
            "text/plain": [
              "'this is python class and explains about the overview of programming technology'"
            ],
            "application/vnd.google.colaboratory.intrinsic+json": {
              "type": "string"
            }
          },
          "metadata": {},
          "execution_count": 3
        }
      ]
    },
    {
      "cell_type": "code",
      "source": [
        "count = 0      # this is mainly counting of whole length without using built in function\n",
        "for i in s:\n",
        "  count = count+1\n",
        "print(count)"
      ],
      "metadata": {
        "colab": {
          "base_uri": "https://localhost:8080/"
        },
        "id": "BRu6htdU4wKk",
        "outputId": "199ec467-eeb3-4f6d-99c0-b0e277daf90f"
      },
      "execution_count": null,
      "outputs": [
        {
          "output_type": "stream",
          "name": "stdout",
          "text": [
            "78\n"
          ]
        }
      ]
    },
    {
      "cell_type": "code",
      "source": [
        "l = \"sanjay is very good in experimental way of approach\"\n",
        "len(l)"
      ],
      "metadata": {
        "colab": {
          "base_uri": "https://localhost:8080/"
        },
        "id": "6piEOVAX44nd",
        "outputId": "01dc71f7-1d91-43f6-f553-80d8ee21db8f"
      },
      "execution_count": null,
      "outputs": [
        {
          "output_type": "execute_result",
          "data": {
            "text/plain": [
              "51"
            ]
          },
          "metadata": {},
          "execution_count": 6
        }
      ]
    },
    {
      "cell_type": "code",
      "source": [
        "# without using len()\n",
        "count = 0\n",
        "for i in l:\n",
        "  count = count + 1\n",
        "print(count)"
      ],
      "metadata": {
        "colab": {
          "base_uri": "https://localhost:8080/"
        },
        "id": "0a91p8AL5Nkx",
        "outputId": "0a6dfb29-d5a9-4cdb-81ba-15956b05745b"
      },
      "execution_count": null,
      "outputs": [
        {
          "output_type": "stream",
          "name": "stdout",
          "text": [
            "51\n"
          ]
        }
      ]
    },
    {
      "cell_type": "code",
      "source": [
        "l = \"this is!!!\"\n",
        "\n",
        "count = 0\n",
        "for i in l:\n",
        "  count+= 1\n",
        "print(count)"
      ],
      "metadata": {
        "colab": {
          "base_uri": "https://localhost:8080/"
        },
        "id": "J9RjwCpL5ZY4",
        "outputId": "4fb309ea-3e8a-4c2f-ad48-9a253667a511"
      },
      "execution_count": null,
      "outputs": [
        {
          "output_type": "stream",
          "name": "stdout",
          "text": [
            "10\n"
          ]
        }
      ]
    },
    {
      "cell_type": "code",
      "source": [
        "# reverse the string without using slicing\n",
        "l = \"Hello!!! this is the anouncement\"\n",
        "l[::-1]"
      ],
      "metadata": {
        "colab": {
          "base_uri": "https://localhost:8080/",
          "height": 36
        },
        "id": "fy73VKu-6GHS",
        "outputId": "5ef0f44b-13a4-4b4e-e10a-9a0abff48f08"
      },
      "execution_count": null,
      "outputs": [
        {
          "output_type": "execute_result",
          "data": {
            "text/plain": [
              "'tnemecnuona eht si siht !!!olleH'"
            ],
            "application/vnd.google.colaboratory.intrinsic+json": {
              "type": "string"
            }
          },
          "metadata": {},
          "execution_count": 11
        }
      ]
    },
    {
      "cell_type": "code",
      "source": [
        "import pathlib\n",
        "for i in range(len(l)-1,-1,-1):\n",
        "  print(l[i])"
      ],
      "metadata": {
        "colab": {
          "base_uri": "https://localhost:8080/"
        },
        "id": "R3taywBV6pDE",
        "outputId": "4dc8b56a-d349-43b2-8050-a0213bb8b6c1"
      },
      "execution_count": null,
      "outputs": [
        {
          "output_type": "stream",
          "name": "stdout",
          "text": [
            "t\n",
            "n\n",
            "e\n",
            "m\n",
            "e\n",
            "c\n",
            "n\n",
            "u\n",
            "o\n",
            "n\n",
            "a\n",
            " \n",
            "e\n",
            "h\n",
            "t\n",
            " \n",
            "s\n",
            "i\n",
            " \n",
            "s\n",
            "i\n",
            "h\n",
            "t\n",
            " \n",
            "!\n",
            "!\n",
            "!\n",
            "o\n",
            "l\n",
            "l\n",
            "e\n",
            "H\n"
          ]
        }
      ]
    },
    {
      "cell_type": "code",
      "source": [
        "# reverse of an string without using slicing\n",
        "l = \"Hello!!!! maang\"\n",
        "for i in range(len(l)-1,-1,-1):\n",
        "  print(l[i])"
      ],
      "metadata": {
        "colab": {
          "base_uri": "https://localhost:8080/"
        },
        "id": "WYpCYp7l7FDC",
        "outputId": "5657b963-f2e6-495d-bd96-059acd0c5275"
      },
      "execution_count": null,
      "outputs": [
        {
          "output_type": "stream",
          "name": "stdout",
          "text": [
            "g\n",
            "n\n",
            "a\n",
            "a\n",
            "m\n",
            " \n",
            "!\n",
            "!\n",
            "!\n",
            "!\n",
            "o\n",
            "l\n",
            "l\n",
            "e\n",
            "H\n"
          ]
        }
      ]
    },
    {
      "cell_type": "code",
      "source": [],
      "metadata": {
        "id": "-iCNEE0X7UKN"
      },
      "execution_count": null,
      "outputs": []
    },
    {
      "cell_type": "code",
      "source": [
        "# By using while loop reverse the string or tuple or list\n",
        "l = \"Hello!1 this is sunny\"\n",
        "\n",
        "i= len(l)-1\n",
        "while i>=0 :\n",
        "  print(s[i],end=\"\")\n",
        "  i = i -1"
      ],
      "metadata": {
        "colab": {
          "base_uri": "https://localhost:8080/"
        },
        "id": "qK_8ex1k8gMC",
        "outputId": "33ecb0ae-5afe-44bb-ba3a-3a0c945056d2"
      },
      "execution_count": null,
      "outputs": [
        {
          "output_type": "stream",
          "name": "stdout",
          "text": [
            " ssalc nohtyp si siht"
          ]
        }
      ]
    },
    {
      "cell_type": "code",
      "source": [
        "l = [45,6,4,5,4,5,3,5,3,53,5,5,5,4,5,35,3,5,435,35]   # reverse by using while loop in an list\n",
        "\n",
        "i = len(l)-1\n",
        "while i>=0:\n",
        "  print(l[i], end=\",\")\n",
        "  i = i-1"
      ],
      "metadata": {
        "colab": {
          "base_uri": "https://localhost:8080/"
        },
        "id": "43H8xRQ69CZn",
        "outputId": "d6cfda18-4c17-485c-d077-ecbf8d78d64d"
      },
      "execution_count": null,
      "outputs": [
        {
          "output_type": "stream",
          "name": "stdout",
          "text": [
            "35,435,5,3,35,5,4,5,5,5,53,3,5,3,5,4,5,4,6,45,"
          ]
        }
      ]
    },
    {
      "cell_type": "code",
      "source": [
        "l = [45,6,4,5,4,5,3,5,3,53,5,5,5,4,5,35,3,5,435,35]\n",
        "\n",
        "i = len[l]-1"
      ],
      "metadata": {
        "id": "Fhu_LUAId_ck"
      },
      "execution_count": null,
      "outputs": []
    },
    {
      "cell_type": "code",
      "source": [
        "t = (45,5,3,5,3,5,3,5,4,4,3,3,43,45,3,4,3,43,4,3,4,3,4,3,45,3,4,3,43,4,43,4,3,4)\n",
        "\n",
        "i =len(t) -1\n",
        "while i>=0:\n",
        "  print(t[i], end=\",\")\n",
        "  i = i-1"
      ],
      "metadata": {
        "colab": {
          "base_uri": "https://localhost:8080/"
        },
        "id": "eR-gsTuo95lO",
        "outputId": "4e71ff35-1ff1-4f2e-e2d2-70b627c1e413"
      },
      "execution_count": null,
      "outputs": [
        {
          "output_type": "stream",
          "name": "stdout",
          "text": [
            "4,3,4,43,4,43,3,4,3,45,3,4,3,4,3,4,43,3,4,3,45,43,3,3,4,4,5,3,5,3,5,3,5,45,"
          ]
        }
      ]
    },
    {
      "cell_type": "code",
      "source": [
        "s = {45,5,3,4,34,3,4,3,43,3,4,34,3,43,3,4,3,4,3,4,3,43,4,3,4,3,4,3,4,4}\n",
        "\n",
        "i = len(s)-1\n",
        "while i>=0:\n",
        "  print(s[i], end=\",\")\n",
        "  i = i - 1"
      ],
      "metadata": {
        "colab": {
          "base_uri": "https://localhost:8080/",
          "height": 223
        },
        "id": "tP9ma436-Nsx",
        "outputId": "87b45794-9a50-482e-eeea-4d58d02a13ce"
      },
      "execution_count": null,
      "outputs": [
        {
          "output_type": "error",
          "ename": "TypeError",
          "evalue": "ignored",
          "traceback": [
            "\u001b[0;31m---------------------------------------------------------------------------\u001b[0m",
            "\u001b[0;31mTypeError\u001b[0m                                 Traceback (most recent call last)",
            "\u001b[0;32m<ipython-input-20-a9d16d7f0617>\u001b[0m in \u001b[0;36m<module>\u001b[0;34m\u001b[0m\n\u001b[1;32m      3\u001b[0m \u001b[0mi\u001b[0m \u001b[0;34m=\u001b[0m \u001b[0mlen\u001b[0m\u001b[0;34m(\u001b[0m\u001b[0ms\u001b[0m\u001b[0;34m)\u001b[0m\u001b[0;34m-\u001b[0m\u001b[0;36m1\u001b[0m\u001b[0;34m\u001b[0m\u001b[0;34m\u001b[0m\u001b[0m\n\u001b[1;32m      4\u001b[0m \u001b[0;32mwhile\u001b[0m \u001b[0mi\u001b[0m\u001b[0;34m>=\u001b[0m\u001b[0;36m0\u001b[0m\u001b[0;34m:\u001b[0m\u001b[0;34m\u001b[0m\u001b[0;34m\u001b[0m\u001b[0m\n\u001b[0;32m----> 5\u001b[0;31m   \u001b[0mprint\u001b[0m\u001b[0;34m(\u001b[0m\u001b[0ms\u001b[0m\u001b[0;34m[\u001b[0m\u001b[0mi\u001b[0m\u001b[0;34m]\u001b[0m\u001b[0;34m,\u001b[0m \u001b[0mend\u001b[0m\u001b[0;34m=\u001b[0m\u001b[0;34m\",\"\u001b[0m\u001b[0;34m)\u001b[0m\u001b[0;34m\u001b[0m\u001b[0;34m\u001b[0m\u001b[0m\n\u001b[0m\u001b[1;32m      6\u001b[0m   \u001b[0mi\u001b[0m \u001b[0;34m=\u001b[0m \u001b[0mi\u001b[0m \u001b[0;34m-\u001b[0m \u001b[0;36m1\u001b[0m\u001b[0;34m\u001b[0m\u001b[0;34m\u001b[0m\u001b[0m\n",
            "\u001b[0;31mTypeError\u001b[0m: 'set' object is not subscriptable"
          ]
        }
      ]
    },
    {
      "cell_type": "code",
      "source": [
        "######\n",
        "s = \"Sanjaygowda\"\n",
        "v = \"AaEeIiOoUu\"\n",
        "\n",
        "for i in s:\n",
        "  if i in v:\n",
        "    print(\"its an vowel\",i)\n",
        "  else:\n",
        "    print(\"its not an vowel\",i)"
      ],
      "metadata": {
        "colab": {
          "base_uri": "https://localhost:8080/"
        },
        "id": "DSOy6DSt-qCZ",
        "outputId": "4f09be03-d010-43f0-b844-cb4c3fc0e477"
      },
      "execution_count": null,
      "outputs": [
        {
          "output_type": "stream",
          "name": "stdout",
          "text": [
            "its not an vowel S\n",
            "its an vowel a\n",
            "its not an vowel n\n",
            "its not an vowel j\n",
            "its an vowel a\n",
            "its not an vowel y\n",
            "its not an vowel g\n",
            "its an vowel o\n",
            "its not an vowel w\n",
            "its not an vowel d\n",
            "its an vowel a\n"
          ]
        }
      ]
    },
    {
      "cell_type": "code",
      "source": [
        "##### Vowel or not\n",
        "\n",
        "a = \"Anandgowda K\"\n",
        "v = \"AaEeIiOoUu\"\n",
        "\n",
        "for i in a:\n",
        "  if i in v:\n",
        "    print(\"its an vowel\",i)\n",
        "  else:\n",
        "    print(\"its not an vowel\",i)"
      ],
      "metadata": {
        "colab": {
          "base_uri": "https://localhost:8080/"
        },
        "id": "OHe7L7ttAcw6",
        "outputId": "cf09f9fa-52ca-4783-9c02-6320bbba32a7"
      },
      "execution_count": null,
      "outputs": [
        {
          "output_type": "stream",
          "name": "stdout",
          "text": [
            "its an vowel A\n",
            "its not an vowel n\n",
            "its an vowel a\n",
            "its not an vowel n\n",
            "its not an vowel d\n",
            "its not an vowel g\n",
            "its an vowel o\n",
            "its not an vowel w\n",
            "its not an vowel d\n",
            "its an vowel a\n",
            "its not an vowel  \n",
            "its not an vowel K\n"
          ]
        }
      ]
    },
    {
      "cell_type": "code",
      "source": [
        "\"s\" in \"sanjay\""
      ],
      "metadata": {
        "colab": {
          "base_uri": "https://localhost:8080/"
        },
        "id": "PU6GPXIUBYIz",
        "outputId": "695ce159-0534-471f-b91c-8eed0583768f"
      },
      "execution_count": null,
      "outputs": [
        {
          "output_type": "execute_result",
          "data": {
            "text/plain": [
              "True"
            ]
          },
          "metadata": {},
          "execution_count": 34
        }
      ]
    },
    {
      "cell_type": "code",
      "source": [
        "\"a\" in \"sanjay\""
      ],
      "metadata": {
        "colab": {
          "base_uri": "https://localhost:8080/"
        },
        "id": "zxdJZWsWB_kP",
        "outputId": "21189cec-1297-4330-bd19-3873283356c7"
      },
      "execution_count": null,
      "outputs": [
        {
          "output_type": "execute_result",
          "data": {
            "text/plain": [
              "True"
            ]
          },
          "metadata": {},
          "execution_count": 35
        }
      ]
    },
    {
      "cell_type": "code",
      "source": [
        "a in \"Anandgowda K\""
      ],
      "metadata": {
        "colab": {
          "base_uri": "https://localhost:8080/"
        },
        "id": "YnFMeMCQCDkN",
        "outputId": "216e8e9f-d0e1-4f76-fcd6-fd34a397c5c9"
      },
      "execution_count": null,
      "outputs": [
        {
          "output_type": "execute_result",
          "data": {
            "text/plain": [
              "True"
            ]
          },
          "metadata": {},
          "execution_count": 36
        }
      ]
    },
    {
      "cell_type": "code",
      "source": [
        "\"n\" in \"Anandgowda K\""
      ],
      "metadata": {
        "colab": {
          "base_uri": "https://localhost:8080/"
        },
        "id": "G4cNp9eOCOWp",
        "outputId": "7c80080b-e78a-45b2-a184-121b3fb7b30a"
      },
      "execution_count": null,
      "outputs": [
        {
          "output_type": "execute_result",
          "data": {
            "text/plain": [
              "True"
            ]
          },
          "metadata": {},
          "execution_count": 38
        }
      ]
    },
    {
      "cell_type": "code",
      "source": [
        "# string is Palindrome or not\n",
        "s = input(\"enter a value\")\n",
        "v = s[::-1]\n",
        "if v == s:\n",
        "  print(\"its a palindrome\",s)\n",
        "else:\n",
        "    print(\"Its not a palindrome\",s)"
      ],
      "metadata": {
        "colab": {
          "base_uri": "https://localhost:8080/"
        },
        "id": "5nqSA6aiCbEe",
        "outputId": "d222317d-3a41-4d19-a3c2-ab6231d8bbee"
      },
      "execution_count": null,
      "outputs": [
        {
          "output_type": "stream",
          "name": "stdout",
          "text": [
            "enter a valuetrjskj\n",
            "Its not a palindrome\n"
          ]
        }
      ]
    },
    {
      "cell_type": "code",
      "source": [
        "s = input()\n",
        "v = s[::-1]\n",
        "\n",
        "if s == v:\n",
        "  print(\"its an PALINDROME: \",v)\n",
        "else:\n",
        "  print(\" its not an PALINDROME: \",v)"
      ],
      "metadata": {
        "colab": {
          "base_uri": "https://localhost:8080/"
        },
        "id": "Kvr9gboFD7hA",
        "outputId": "aabe8955-9dfc-4082-858c-c4de72efe21d"
      },
      "execution_count": null,
      "outputs": [
        {
          "output_type": "stream",
          "name": "stdout",
          "text": [
            "madam\n",
            "its an PALINDROME:  madam\n"
          ]
        }
      ]
    },
    {
      "cell_type": "code",
      "source": [
        "a = \"madam\"\n",
        "b = \"voot\"\n",
        " \n",
        "if a == a[::-1]:\n",
        "  print(\"Its an Palindrome\",a)\n",
        "else:\n",
        "  print(\"Its not an Palindrome\",a)"
      ],
      "metadata": {
        "colab": {
          "base_uri": "https://localhost:8080/"
        },
        "id": "wW1xTrcIFbCa",
        "outputId": "0509c8dd-ae22-4df1-b3b2-c36da362c973"
      },
      "execution_count": null,
      "outputs": [
        {
          "output_type": "stream",
          "name": "stdout",
          "text": [
            "Its an Palindrome madam\n"
          ]
        }
      ]
    },
    {
      "cell_type": "code",
      "source": [
        "a = input()\n",
        "b = a[::-1]\n",
        "\n",
        "if a == b:\n",
        "  print(\"Its an palindrome\",a)\n",
        "else:\n",
        "  print(\"Its not an palindrome\",a)"
      ],
      "metadata": {
        "colab": {
          "base_uri": "https://localhost:8080/"
        },
        "id": "m5xInveKGarz",
        "outputId": "8294effb-2d64-4161-e023-acd8ab4c0f7b"
      },
      "execution_count": null,
      "outputs": [
        {
          "output_type": "stream",
          "name": "stdout",
          "text": [
            "madam\n",
            "Its an palindrome madam\n"
          ]
        }
      ]
    },
    {
      "cell_type": "code",
      "source": [
        "# By using for loop\n",
        "a = \"madam\"\n",
        " \n",
        "for i in range(len(a)):\n",
        "  if a[i] != a[len(a)-i-1]:  \n",
        "    print(\"Its not a palindrome\",a)\n",
        "    break\n",
        "  else:\n",
        "    print(\"Its  a palindrome\",a)\n",
        "   "
      ],
      "metadata": {
        "colab": {
          "base_uri": "https://localhost:8080/"
        },
        "id": "ZgiTFjpBIpEu",
        "outputId": "585f7545-d00a-4fa3-a1a9-401f8722ec1e"
      },
      "execution_count": null,
      "outputs": [
        {
          "output_type": "stream",
          "name": "stdout",
          "text": [
            "Its  a palindrome madam\n",
            "Its  a palindrome madam\n",
            "Its  a palindrome madam\n",
            "Its  a palindrome madam\n",
            "Its  a palindrome madam\n"
          ]
        }
      ]
    },
    {
      "cell_type": "code",
      "source": [
        "a = \"tte\"\n",
        "\n",
        "for i in range(len(a)):\n",
        " if a[i] != a[len(a)-i-1]:\n",
        "    print(\"its not an palindrome\",a)\n",
        "    break\n",
        " else:\n",
        "    print(\"its a palindrome\",a)"
      ],
      "metadata": {
        "colab": {
          "base_uri": "https://localhost:8080/"
        },
        "id": "uZXYBGphJXWb",
        "outputId": "ef825ee0-d492-4c02-d276-b0114d843626"
      },
      "execution_count": null,
      "outputs": [
        {
          "output_type": "stream",
          "name": "stdout",
          "text": [
            "its not an palindrome tte\n"
          ]
        }
      ]
    },
    {
      "cell_type": "code",
      "source": [
        "# while loop\n",
        "s = input()\n",
        "i = len(s)-1\n",
        "while i>=0:\n",
        "  l1 =[]\n",
        "  l1.append(s[i])\n",
        "  i = i-1\n",
        "if s==l1:\n",
        "  print(\"palindrome\")\n",
        "else:\n",
        "  print(\"not apalind\")"
      ],
      "metadata": {
        "colab": {
          "base_uri": "https://localhost:8080/"
        },
        "id": "ZJphLpNoK2y7",
        "outputId": "a63210d0-6e45-4ee1-ebba-ced901711599"
      },
      "execution_count": null,
      "outputs": [
        {
          "output_type": "stream",
          "name": "stdout",
          "text": [
            "eye\n",
            "not apalind\n"
          ]
        }
      ]
    },
    {
      "cell_type": "code",
      "source": [
        "a = input()    # simplest of reverse\n",
        "b = a[::-1]\n",
        "\n",
        "if a == b:\n",
        "  print(\"Its a palindrome\",a)\n",
        "else:\n",
        "  print(\"Its not a palindrome\",a)"
      ],
      "metadata": {
        "colab": {
          "base_uri": "https://localhost:8080/"
        },
        "id": "BbzGUguMRMrS",
        "outputId": "564df15d-05df-400e-edeb-4df9bfa32ce7"
      },
      "execution_count": null,
      "outputs": [
        {
          "output_type": "stream",
          "name": "stdout",
          "text": [
            "madam\n",
            "Its a palindrome madam\n"
          ]
        }
      ]
    },
    {
      "cell_type": "code",
      "source": [
        "a = \"madam\"  # for loop\n",
        "\n",
        "for i in range(len(a)):\n",
        " if a[i] != a[len(a)-i-1]:\n",
        "    break\n",
        "    print(\"its not a palindrome\",a)\n",
        "else:\n",
        "    print(\"its a palindrome\",a)\n",
        "\n"
      ],
      "metadata": {
        "colab": {
          "base_uri": "https://localhost:8080/"
        },
        "id": "Kyc4rpptRxOb",
        "outputId": "eaab9f1e-a585-454b-92d7-ba04e6e844b5"
      },
      "execution_count": null,
      "outputs": [
        {
          "output_type": "stream",
          "name": "stdout",
          "text": [
            "its a palindrome madam\n"
          ]
        }
      ]
    },
    {
      "cell_type": "code",
      "source": [
        "a = input()\n",
        "b = a[::-1]\n",
        "\n",
        "if a == b:\n",
        "  print(\"Its palindrome\",a)\n",
        "else:\n",
        "  print(\"Its not palindrome\",a)"
      ],
      "metadata": {
        "id": "ZPOvwQhjSLHb",
        "colab": {
          "base_uri": "https://localhost:8080/"
        },
        "outputId": "def11293-5587-48c3-ccbf-9023d193a765"
      },
      "execution_count": null,
      "outputs": [
        {
          "output_type": "stream",
          "name": "stdout",
          "text": [
            "madam\n",
            "Its palindrome madam\n"
          ]
        }
      ]
    },
    {
      "cell_type": "code",
      "source": [
        "s = \"Hello !! this is sanjay\"\n",
        "len(s)"
      ],
      "metadata": {
        "id": "FGv940qQdoPR",
        "colab": {
          "base_uri": "https://localhost:8080/"
        },
        "outputId": "84268f81-2a12-47b2-a354-44f9bfbda4eb"
      },
      "execution_count": null,
      "outputs": [
        {
          "output_type": "execute_result",
          "data": {
            "text/plain": [
              "23"
            ]
          },
          "metadata": {},
          "execution_count": 3
        }
      ]
    },
    {
      "cell_type": "code",
      "source": [
        "for i in range(len(s)-1,-1,-1):\n",
        "  print(s[i])\n"
      ],
      "metadata": {
        "colab": {
          "base_uri": "https://localhost:8080/"
        },
        "id": "h6ldFHebez3m",
        "outputId": "07b5f256-6a88-4315-face-2dc20140a5bc"
      },
      "execution_count": null,
      "outputs": [
        {
          "output_type": "stream",
          "name": "stdout",
          "text": [
            "y\n",
            "a\n",
            "j\n",
            "n\n",
            "a\n",
            "s\n",
            " \n",
            "s\n",
            "i\n",
            " \n",
            "s\n",
            "i\n",
            "h\n",
            "t\n",
            " \n",
            "!\n",
            "!\n",
            " \n",
            "o\n",
            "l\n",
            "l\n",
            "e\n",
            "H\n"
          ]
        }
      ]
    },
    {
      "cell_type": "code",
      "source": [
        "s\n"
      ],
      "metadata": {
        "colab": {
          "base_uri": "https://localhost:8080/",
          "height": 36
        },
        "id": "Esr9tJIYfF8Y",
        "outputId": "8b39b6c2-cae0-42bf-98af-3fa9f3300610"
      },
      "execution_count": null,
      "outputs": [
        {
          "output_type": "execute_result",
          "data": {
            "text/plain": [
              "'Hello !! this is sanjay'"
            ],
            "application/vnd.google.colaboratory.intrinsic+json": {
              "type": "string"
            }
          },
          "metadata": {},
          "execution_count": 5
        }
      ]
    },
    {
      "cell_type": "code",
      "source": [
        "count = 0\n",
        "for i in s:\n",
        "  count = count + 1\n",
        "  print(count)"
      ],
      "metadata": {
        "colab": {
          "base_uri": "https://localhost:8080/"
        },
        "id": "FEudrkfMfIVa",
        "outputId": "72bac778-0c4e-4ce6-9d38-62bf35562810"
      },
      "execution_count": null,
      "outputs": [
        {
          "output_type": "stream",
          "name": "stdout",
          "text": [
            "1\n",
            "2\n",
            "3\n",
            "4\n",
            "5\n",
            "6\n",
            "7\n",
            "8\n",
            "9\n",
            "10\n",
            "11\n",
            "12\n",
            "13\n",
            "14\n",
            "15\n",
            "16\n",
            "17\n",
            "18\n",
            "19\n",
            "20\n",
            "21\n",
            "22\n",
            "23\n"
          ]
        }
      ]
    },
    {
      "cell_type": "code",
      "source": [
        "s"
      ],
      "metadata": {
        "colab": {
          "base_uri": "https://localhost:8080/",
          "height": 36
        },
        "id": "s-pMPi8EfQPv",
        "outputId": "388cc92f-4680-480c-eb2e-506c89fad9cd"
      },
      "execution_count": null,
      "outputs": [
        {
          "output_type": "execute_result",
          "data": {
            "text/plain": [
              "'Hello !! this is sanjay'"
            ],
            "application/vnd.google.colaboratory.intrinsic+json": {
              "type": "string"
            }
          },
          "metadata": {},
          "execution_count": 7
        }
      ]
    },
    {
      "cell_type": "code",
      "source": [
        "# while loop\n",
        "i = len(s)-1\n",
        "while i>=0:\n",
        "  print(s[i], end =\"\")\n",
        "  i = i-1"
      ],
      "metadata": {
        "colab": {
          "base_uri": "https://localhost:8080/"
        },
        "id": "Xx3fFtpBfbdg",
        "outputId": "4b9e681c-c770-42b7-9506-553fe706fbb6"
      },
      "execution_count": null,
      "outputs": [
        {
          "output_type": "stream",
          "name": "stdout",
          "text": [
            "yajnas si siht !! olleH"
          ]
        }
      ]
    },
    {
      "cell_type": "code",
      "source": [
        "t = (78,4,5,3,45,3,5,353,45,4,5,4,54,5,45,5,4,5,4)\n",
        "\n",
        "i = len(t)-1\n",
        "while i>=0:\n",
        "  print(t[i], end=\",\")\n",
        "  i = i-1\n",
        "  "
      ],
      "metadata": {
        "colab": {
          "base_uri": "https://localhost:8080/"
        },
        "id": "Z4HAr2C1fqS-",
        "outputId": "3501f460-4feb-4534-c100-c56ff73d39b1"
      },
      "execution_count": null,
      "outputs": [
        {
          "output_type": "stream",
          "name": "stdout",
          "text": [
            "4,5,4,5,45,5,54,4,5,4,45,353,5,3,45,3,5,4,78,"
          ]
        }
      ]
    },
    {
      "cell_type": "code",
      "source": [
        "l = [3,4,4,5,3,54,3,5,3,45,3,5,3,5,3,5,3,5,3,5,3,45,3,5]\n",
        "# while loop we need to reverse\n",
        "\n",
        "i = len(l)-1\n",
        "while i>=0:\n",
        "  print(l[i], end=\",\")\n",
        "  i = i - 1"
      ],
      "metadata": {
        "colab": {
          "base_uri": "https://localhost:8080/"
        },
        "id": "q-kBgKnugBYO",
        "outputId": "04259c91-18a5-4c42-9a67-38919697c416"
      },
      "execution_count": null,
      "outputs": [
        {
          "output_type": "stream",
          "name": "stdout",
          "text": [
            "5,3,45,3,5,3,5,3,5,3,5,3,5,3,45,3,5,3,54,3,5,4,4,3,"
          ]
        }
      ]
    },
    {
      "cell_type": "code",
      "source": [
        "# palindrome or not\n",
        "a = input()\n",
        "b = a[::-1]\n",
        "if a == b:\n",
        "  print(\"its palindrome\", a)\n",
        "else:\n",
        "  print(\"its not palindrome\",a)"
      ],
      "metadata": {
        "colab": {
          "base_uri": "https://localhost:8080/"
        },
        "id": "nB_SPKZKgdIs",
        "outputId": "fd003e31-ae03-4e77-e14f-4f402e4a3d10"
      },
      "execution_count": null,
      "outputs": [
        {
          "output_type": "stream",
          "name": "stdout",
          "text": [
            "madam\n",
            "its palindrome madam\n"
          ]
        }
      ]
    },
    {
      "cell_type": "code",
      "source": [
        "# vowel or not\n",
        "a = \"Sanjay Gowda A\"\n",
        "v = \"AaEeIiOoUu\"\n",
        "for i in a:\n",
        "  if i in v:\n",
        "    print(\"Its an vowel\",i)\n",
        "  else:\n",
        "    print(\"Its not an vowel\",i)"
      ],
      "metadata": {
        "colab": {
          "base_uri": "https://localhost:8080/"
        },
        "id": "LILPaxHng3Wd",
        "outputId": "3016900f-3522-4092-8382-2d3470c49177"
      },
      "execution_count": null,
      "outputs": [
        {
          "output_type": "stream",
          "name": "stdout",
          "text": [
            "Its not an vowel S\n",
            "Its an vowel a\n",
            "Its not an vowel n\n",
            "Its not an vowel j\n",
            "Its an vowel a\n",
            "Its not an vowel y\n",
            "Its not an vowel  \n",
            "Its not an vowel G\n",
            "Its an vowel o\n",
            "Its not an vowel w\n",
            "Its not an vowel d\n",
            "Its an vowel a\n",
            "Its not an vowel  \n",
            "Its an vowel A\n"
          ]
        }
      ]
    },
    {
      "cell_type": "code",
      "source": [
        "l = [33,4,3,54,3,43,4,3,4,3,4,3,4,3,4,32,4,4]\n",
        "i = len(l)-1\n",
        "while i>=0:\n",
        "  print(l[i],end = \",\")\n",
        "  i =i -1"
      ],
      "metadata": {
        "colab": {
          "base_uri": "https://localhost:8080/"
        },
        "id": "WcYopvQ0hbw4",
        "outputId": "8b86fc30-30b4-41ed-d0cb-2f5d790055b0"
      },
      "execution_count": null,
      "outputs": [
        {
          "output_type": "stream",
          "name": "stdout",
          "text": [
            "4,4,32,4,3,4,3,4,3,4,3,4,43,3,54,3,4,33,"
          ]
        }
      ]
    },
    {
      "cell_type": "code",
      "source": [
        "a = \"madam\"\n",
        "\n",
        "for i in range(len(a)):\n",
        " if a[i] != a[len(a)-i-1]:\n",
        "    break\n",
        "    print(\"its not a palindrome\",a)\n",
        "else:\n",
        "    print(\"its a palindrome\",a)\n",
        "\n",
        " "
      ],
      "metadata": {
        "colab": {
          "base_uri": "https://localhost:8080/"
        },
        "id": "P5y8uQVzhunc",
        "outputId": "a98b9739-e3ac-4fa4-d75e-42812acd18b9"
      },
      "execution_count": null,
      "outputs": [
        {
          "output_type": "stream",
          "name": "stdout",
          "text": [
            "its a palindrome madam\n"
          ]
        }
      ]
    },
    {
      "cell_type": "code",
      "source": [
        "a = \"madam\"\n",
        "\n",
        "for i in range(len(a)):\n",
        " if a[i] != a[len(a)-i-1]:\n",
        "    break\n",
        "    print(\"its not a palindrome\",a)\n",
        "else:\n",
        "    print(\"its a palindrome\",a)\n"
      ],
      "metadata": {
        "colab": {
          "base_uri": "https://localhost:8080/"
        },
        "id": "DiAePukoiZ6l",
        "outputId": "e44a4660-cd8c-4291-b6c2-7e0196b5e6f5"
      },
      "execution_count": null,
      "outputs": [
        {
          "output_type": "stream",
          "name": "stdout",
          "text": [
            "its a palindrome madam\n"
          ]
        }
      ]
    },
    {
      "cell_type": "code",
      "source": [
        "l = (4,4,4,4,3,4,34,3,4,3,4,3,4,3,45)\n",
        "i = len(l)-1\n",
        "while i>=0:\n",
        "  print(l[i], end=\",\")\n",
        "  i = i-1"
      ],
      "metadata": {
        "colab": {
          "base_uri": "https://localhost:8080/"
        },
        "id": "YAhMQU6ei2Hx",
        "outputId": "4a2c1559-b5aa-45d8-f890-5451c681a826"
      },
      "execution_count": null,
      "outputs": [
        {
          "output_type": "stream",
          "name": "stdout",
          "text": [
            "45,3,4,3,4,3,4,3,34,4,3,4,4,4,4,"
          ]
        }
      ]
    },
    {
      "cell_type": "code",
      "source": [
        "# dictionary\n",
        "d = {\"India\" : \"IN\",\n",
        "      \"China\" :  \"CH\",\n",
        "      \"America\" : \"AM\",\n",
        "      \"canada\" : \"CN\"\n",
        "      }"
      ],
      "metadata": {
        "id": "ix51qKDBjmQw"
      },
      "execution_count": 4,
      "outputs": []
    },
    {
      "cell_type": "code",
      "source": [
        "d.keys()"
      ],
      "metadata": {
        "colab": {
          "base_uri": "https://localhost:8080/"
        },
        "id": "UyRuwS8akhbo",
        "outputId": "c34454db-ed6c-4fc9-97a6-fd0b09a52a20"
      },
      "execution_count": null,
      "outputs": [
        {
          "output_type": "execute_result",
          "data": {
            "text/plain": [
              "dict_keys(['India', 'China', 'America', 'canada'])"
            ]
          },
          "metadata": {},
          "execution_count": 34
        }
      ]
    },
    {
      "cell_type": "code",
      "source": [
        "d.values()"
      ],
      "metadata": {
        "colab": {
          "base_uri": "https://localhost:8080/"
        },
        "id": "CZgNMowRkxGD",
        "outputId": "ac41968d-d149-4efe-dc2a-eced49fb38d7"
      },
      "execution_count": null,
      "outputs": [
        {
          "output_type": "execute_result",
          "data": {
            "text/plain": [
              "dict_values(['IN', 'CH', 'AM', 'CN'])"
            ]
          },
          "metadata": {},
          "execution_count": 35
        }
      ]
    },
    {
      "cell_type": "code",
      "source": [
        "\"India\" in d"
      ],
      "metadata": {
        "colab": {
          "base_uri": "https://localhost:8080/"
        },
        "id": "LCUKSSURkz1l",
        "outputId": "f23f3801-f6b5-44de-c734-d828e5c2ab80"
      },
      "execution_count": null,
      "outputs": [
        {
          "output_type": "execute_result",
          "data": {
            "text/plain": [
              "True"
            ]
          },
          "metadata": {},
          "execution_count": 36
        }
      ]
    },
    {
      "cell_type": "code",
      "source": [
        "\"chaina\" in d\n"
      ],
      "metadata": {
        "colab": {
          "base_uri": "https://localhost:8080/"
        },
        "id": "gaLRNGHHk81O",
        "outputId": "5c2850d0-8e02-434f-b08a-6bef22f242ce"
      },
      "execution_count": null,
      "outputs": [
        {
          "output_type": "execute_result",
          "data": {
            "text/plain": [
              "False"
            ]
          },
          "metadata": {},
          "execution_count": 37
        }
      ]
    },
    {
      "cell_type": "code",
      "source": [
        "d"
      ],
      "metadata": {
        "colab": {
          "base_uri": "https://localhost:8080/"
        },
        "id": "y-bhVfgOlBMk",
        "outputId": "e24c12f1-5421-4bcf-b8aa-8fa224df1abc"
      },
      "execution_count": null,
      "outputs": [
        {
          "output_type": "execute_result",
          "data": {
            "text/plain": [
              "{'India': 'IN', 'China': 'CH', 'America': 'AM', 'canada': 'CN'}"
            ]
          },
          "metadata": {},
          "execution_count": 38
        }
      ]
    },
    {
      "cell_type": "code",
      "source": [
        "for i in d:\n",
        "  print(i)"
      ],
      "metadata": {
        "colab": {
          "base_uri": "https://localhost:8080/"
        },
        "id": "TSoS-BUslmcs",
        "outputId": "f9dfc156-b57c-4cd1-c303-4067f1dd78ff"
      },
      "execution_count": null,
      "outputs": [
        {
          "output_type": "stream",
          "name": "stdout",
          "text": [
            "India\n",
            "China\n",
            "America\n",
            "canada\n"
          ]
        }
      ]
    },
    {
      "cell_type": "code",
      "source": [
        "for i in d:\n",
        "  print(d[i])"
      ],
      "metadata": {
        "colab": {
          "base_uri": "https://localhost:8080/"
        },
        "id": "lq6dJE9Plp29",
        "outputId": "42947574-d278-4165-d333-762796bb8215"
      },
      "execution_count": null,
      "outputs": [
        {
          "output_type": "stream",
          "name": "stdout",
          "text": [
            "IN\n",
            "CH\n",
            "AM\n",
            "CN\n"
          ]
        }
      ]
    },
    {
      "cell_type": "code",
      "source": [
        "# filter out on basis of length by 5 and more on keys\n",
        "for i in d:\n",
        "  print(i)"
      ],
      "metadata": {
        "colab": {
          "base_uri": "https://localhost:8080/"
        },
        "id": "1_gT9RYQltcL",
        "outputId": "ea615f97-d520-4ed9-8574-c53b1fb902e5"
      },
      "execution_count": null,
      "outputs": [
        {
          "output_type": "stream",
          "name": "stdout",
          "text": [
            "India\n",
            "China\n",
            "America\n",
            "canada\n"
          ]
        }
      ]
    },
    {
      "cell_type": "code",
      "source": [
        "# filter with largest length and smallest length of an dictionary::\n",
        "for i in d:\n",
        "  print(i)"
      ],
      "metadata": {
        "colab": {
          "base_uri": "https://localhost:8080/"
        },
        "id": "hjHsCADjm3DZ",
        "outputId": "427e72f1-6fbd-403a-8e5c-edfe3085a167"
      },
      "execution_count": null,
      "outputs": [
        {
          "output_type": "stream",
          "name": "stdout",
          "text": [
            "India\n",
            "China\n",
            "America\n",
            "canada\n"
          ]
        }
      ]
    },
    {
      "cell_type": "code",
      "source": [
        "largest = []\n",
        "smallest = []\n",
        "\n",
        "for i in d:\n",
        "  if len(i) <= 5:\n",
        "    smallest.append(i)\n",
        "  else:\n",
        "    largest.append(i)"
      ],
      "metadata": {
        "id": "c0uANn94nql-"
      },
      "execution_count": null,
      "outputs": []
    },
    {
      "cell_type": "code",
      "source": [
        "largest\n",
        "smallest"
      ],
      "metadata": {
        "colab": {
          "base_uri": "https://localhost:8080/"
        },
        "id": "3Yc2aPi2ogC0",
        "outputId": "787d55c7-ada9-48c7-aa2b-f06096f7b9aa"
      },
      "execution_count": null,
      "outputs": [
        {
          "output_type": "execute_result",
          "data": {
            "text/plain": [
              "['India', 'China']"
            ]
          },
          "metadata": {},
          "execution_count": 60
        }
      ]
    },
    {
      "cell_type": "code",
      "source": [
        "largest"
      ],
      "metadata": {
        "id": "ZmVGGTkEovva",
        "outputId": "4f941721-cf55-4958-ed1f-d94584990e6d",
        "colab": {
          "base_uri": "https://localhost:8080/"
        }
      },
      "execution_count": null,
      "outputs": [
        {
          "output_type": "execute_result",
          "data": {
            "text/plain": [
              "['America', 'canada']"
            ]
          },
          "metadata": {},
          "execution_count": 61
        }
      ]
    },
    {
      "cell_type": "code",
      "source": [
        "d\n"
      ],
      "metadata": {
        "colab": {
          "base_uri": "https://localhost:8080/"
        },
        "id": "hOc3Ac6xLPRA",
        "outputId": "8e2fbe75-f596-44c5-cbc1-dbbe65ddc113"
      },
      "execution_count": 5,
      "outputs": [
        {
          "output_type": "execute_result",
          "data": {
            "text/plain": [
              "{'India': 'IN', 'China': 'CH', 'America': 'AM', 'canada': 'CN'}"
            ]
          },
          "metadata": {},
          "execution_count": 5
        }
      ]
    },
    {
      "cell_type": "code",
      "source": [
        "d.keys()"
      ],
      "metadata": {
        "colab": {
          "base_uri": "https://localhost:8080/"
        },
        "id": "pSsUP3x9Laq3",
        "outputId": "c2221abf-6806-40cb-e35b-75f0bea9be52"
      },
      "execution_count": 6,
      "outputs": [
        {
          "output_type": "execute_result",
          "data": {
            "text/plain": [
              "dict_keys(['India', 'China', 'America', 'canada'])"
            ]
          },
          "metadata": {},
          "execution_count": 6
        }
      ]
    },
    {
      "cell_type": "code",
      "source": [
        "l = { \"INDIA\" : \"IN\",\n",
        "     \"CANADA\" : \"CN\",\n",
        "     \"CHINA\" : \"CH\",\n",
        "     \"VIETNAM\" : \"VN\"\n",
        "}"
      ],
      "metadata": {
        "id": "rm-8sndDLxKP"
      },
      "execution_count": 11,
      "outputs": []
    },
    {
      "cell_type": "code",
      "source": [
        "smallest = []\n",
        "largest = []\n",
        "for i in l:\n",
        "  if len(i)<= 5:\n",
        "    smallest.append(i)\n",
        "  else:\n",
        "    largest.append(i)\n"
      ],
      "metadata": {
        "id": "SBhPKoCxMjv3"
      },
      "execution_count": 25,
      "outputs": []
    },
    {
      "cell_type": "code",
      "source": [
        "smallest"
      ],
      "metadata": {
        "colab": {
          "base_uri": "https://localhost:8080/"
        },
        "id": "zVbHqcJ9M7Yu",
        "outputId": "be0c32de-da54-4df8-da05-72acc0d58fad"
      },
      "execution_count": 26,
      "outputs": [
        {
          "output_type": "execute_result",
          "data": {
            "text/plain": [
              "['INDIA', 'CHINA']"
            ]
          },
          "metadata": {},
          "execution_count": 26
        }
      ]
    },
    {
      "cell_type": "code",
      "source": [
        "largest"
      ],
      "metadata": {
        "colab": {
          "base_uri": "https://localhost:8080/"
        },
        "id": "vREUBEIeNBZK",
        "outputId": "dc047b52-1ab7-480d-8eab-149c85a978f4"
      },
      "execution_count": 14,
      "outputs": [
        {
          "output_type": "execute_result",
          "data": {
            "text/plain": [
              "['CANADA', 'VIETNAM']"
            ]
          },
          "metadata": {},
          "execution_count": 14
        }
      ]
    },
    {
      "cell_type": "code",
      "source": [
        " # maximum value in dictionary --- values as the maximum range\n",
        "a = {\"ineuron\": { \"a\" : 34,\n",
        "                 \"b\" : 45,\n",
        "                 \"c\"  : 100\n",
        "                       },  \n",
        "    \"course\" : {  \"d\" : 45,\n",
        "                  \"e\" : 70,\n",
        "                \"f\" : 150\n",
        "        \n",
        "    }\n",
        "}"
      ],
      "metadata": {
        "id": "1tzofWsKNDK4"
      },
      "execution_count": 27,
      "outputs": []
    },
    {
      "cell_type": "code",
      "source": [
        "for i in a.keys():\n",
        "  print(i)"
      ],
      "metadata": {
        "colab": {
          "base_uri": "https://localhost:8080/"
        },
        "id": "BAabc6TgQGfL",
        "outputId": "47a9b286-4ccd-488d-da36-10f028f57a42"
      },
      "execution_count": 32,
      "outputs": [
        {
          "output_type": "stream",
          "name": "stdout",
          "text": [
            "ineuron\n",
            "course\n"
          ]
        }
      ]
    },
    {
      "cell_type": "code",
      "source": [
        "for i in a.values():   # values()\n",
        "  print(i)"
      ],
      "metadata": {
        "colab": {
          "base_uri": "https://localhost:8080/"
        },
        "id": "w60qB37UQYli",
        "outputId": "3e971e50-3adb-44e8-85b2-3808041de98b"
      },
      "execution_count": 30,
      "outputs": [
        {
          "output_type": "stream",
          "name": "stdout",
          "text": [
            "{'a': 34, 'b': 45, 'c': 100}\n",
            "{'d': 45, 'e': 70, 'f': 150}\n"
          ]
        }
      ]
    },
    {
      "cell_type": "code",
      "source": [
        "l = []\n",
        "for i in a.values():\n",
        "  for j in i.values():\n",
        "    l.append(j)\n",
        "  print(max(l))"
      ],
      "metadata": {
        "colab": {
          "base_uri": "https://localhost:8080/"
        },
        "id": "tcqQlAJCQb_5",
        "outputId": "86bbdaee-7742-4ba3-bc20-9e4f2fb4ccd2"
      },
      "execution_count": 35,
      "outputs": [
        {
          "output_type": "stream",
          "name": "stdout",
          "text": [
            "100\n",
            "150\n"
          ]
        }
      ]
    },
    {
      "cell_type": "code",
      "source": [
        "# Dictionary for largest and smallest in keys and largest or maximum values\n",
        "d = { \"INDIA\" : \"IN\",\n",
        "      \"CANADA\" : \"CN\",\n",
        "      \"CHAINA\" : \"CH\",\n",
        "     \"GERMANY\" : \"GM\"\n",
        "}"
      ],
      "metadata": {
        "id": "CYgboWq8RAok"
      },
      "execution_count": 36,
      "outputs": []
    },
    {
      "cell_type": "code",
      "source": [
        "largest = []\n",
        "smallest = []\n",
        "for i in d:\n",
        "  if len(i) <= 5:\n",
        "    smallest.append(i)\n",
        "  else:\n",
        "    largest.append(i)"
      ],
      "metadata": {
        "id": "ePwZ7rGSUULi"
      },
      "execution_count": 37,
      "outputs": []
    },
    {
      "cell_type": "code",
      "source": [
        "smallest\n"
      ],
      "metadata": {
        "colab": {
          "base_uri": "https://localhost:8080/"
        },
        "id": "5GADdN6tUj6-",
        "outputId": "49f4b421-4e6a-4c51-d681-6e5efaca8cfa"
      },
      "execution_count": 38,
      "outputs": [
        {
          "output_type": "execute_result",
          "data": {
            "text/plain": [
              "['INDIA']"
            ]
          },
          "metadata": {},
          "execution_count": 38
        }
      ]
    },
    {
      "cell_type": "code",
      "source": [
        "largest"
      ],
      "metadata": {
        "colab": {
          "base_uri": "https://localhost:8080/"
        },
        "id": "Km-2pCeWUnUT",
        "outputId": "a40e84b4-092e-4a5d-c750-a2037292947f"
      },
      "execution_count": 39,
      "outputs": [
        {
          "output_type": "execute_result",
          "data": {
            "text/plain": [
              "['CANADA', 'CHAINA', 'GERMANY']"
            ]
          },
          "metadata": {},
          "execution_count": 39
        }
      ]
    },
    {
      "cell_type": "code",
      "source": [
        "# maximum values\n",
        "l = {\"neuron\" : { \"a\" : 34,\n",
        "               \"b\" :80,\n",
        "               \"c\" :120    \n",
        "               },\n",
        "     \"courses\" : { \"a\" :56,\n",
        "                  \"b\" :500,\n",
        "                  \"c\" :800\n",
        "     }\n",
        "    \n",
        "}"
      ],
      "metadata": {
        "id": "5a8ToxDeUsDb"
      },
      "execution_count": 48,
      "outputs": []
    },
    {
      "cell_type": "code",
      "source": [
        "l1 = []\n",
        "for i in l.values():\n",
        "  for j in i.values():\n",
        "    l1.append(j)\n",
        "print(max(l))\n",
        "  "
      ],
      "metadata": {
        "colab": {
          "base_uri": "https://localhost:8080/"
        },
        "id": "PZClvt8IUocz",
        "outputId": "82bd9ddc-e684-4a3d-9d2f-38177ee595fd"
      },
      "execution_count": 49,
      "outputs": [
        {
          "output_type": "stream",
          "name": "stdout",
          "text": [
            "neuron\n"
          ]
        }
      ]
    },
    {
      "cell_type": "code",
      "source": [
        " # maximum value in dictionary --- values as the maximum range\n",
        "a = {\"ineuron\": { \"a\" : 34,\n",
        "                 \"b\" : 45,\n",
        "                 \"c\"  : 100\n",
        "                       },  \n",
        "    \"course\" : {  \"d\" : 45,\n",
        "                  \"e\" : 70,\n",
        "                \"f\" : 150\n",
        "        \n",
        "    }\n",
        "}"
      ],
      "metadata": {
        "id": "je30edm0VJVX"
      },
      "execution_count": 67,
      "outputs": []
    },
    {
      "cell_type": "code",
      "source": [
        "l = []\n",
        "for i in a.values():\n",
        "  for j in i.values():\n",
        "    l.append(j)\n",
        "  print(max(l))"
      ],
      "metadata": {
        "colab": {
          "base_uri": "https://localhost:8080/"
        },
        "id": "OlNSgqcLVza0",
        "outputId": "86f4bee1-03e2-4386-e689-9f592ae38392"
      },
      "execution_count": 62,
      "outputs": [
        {
          "output_type": "stream",
          "name": "stdout",
          "text": [
            "100\n",
            "150\n"
          ]
        }
      ]
    },
    {
      "cell_type": "code",
      "source": [
        "l = []\n",
        "for i in a.values():\n",
        "  for j in i.values():\n",
        "    l.append(j)\n",
        "  print(max(l))"
      ],
      "metadata": {
        "colab": {
          "base_uri": "https://localhost:8080/"
        },
        "id": "WMiIuk1GWVLl",
        "outputId": "ccd4f812-254a-4c6b-e49f-429975ff997e"
      },
      "execution_count": 58,
      "outputs": [
        {
          "output_type": "stream",
          "name": "stdout",
          "text": [
            "100\n",
            "150\n"
          ]
        }
      ]
    },
    {
      "cell_type": "code",
      "source": [
        "for i in a.keys():\n",
        "  print(max(a[i].values()))"
      ],
      "metadata": {
        "colab": {
          "base_uri": "https://localhost:8080/"
        },
        "id": "3R0Y-_NPWmfS",
        "outputId": "271d88df-67f7-45bc-be0e-53f35d1fae2c"
      },
      "execution_count": 65,
      "outputs": [
        {
          "output_type": "stream",
          "name": "stdout",
          "text": [
            "100\n",
            "150\n"
          ]
        }
      ]
    },
    {
      "cell_type": "code",
      "source": [
        "a[i]"
      ],
      "metadata": {
        "colab": {
          "base_uri": "https://localhost:8080/"
        },
        "id": "dfcSWKIhWxkG",
        "outputId": "a4dc98ac-2081-4c91-bb4e-141e7f6b84e5"
      },
      "execution_count": 66,
      "outputs": [
        {
          "output_type": "execute_result",
          "data": {
            "text/plain": [
              "{'d': 45, 'e': 70, 'f': 150}"
            ]
          },
          "metadata": {},
          "execution_count": 66
        }
      ]
    },
    {
      "cell_type": "code",
      "source": [
        "a"
      ],
      "metadata": {
        "colab": {
          "base_uri": "https://localhost:8080/"
        },
        "id": "WPdfnp_TZS8w",
        "outputId": "dc6791b1-3a0f-407d-861d-18ab8bf5cbe4"
      },
      "execution_count": 68,
      "outputs": [
        {
          "output_type": "execute_result",
          "data": {
            "text/plain": [
              "{'ineuron': {'a': 34, 'b': 45, 'c': 100},\n",
              " 'course': {'d': 45, 'e': 70, 'f': 150}}"
            ]
          },
          "metadata": {},
          "execution_count": 68
        }
      ]
    },
    {
      "cell_type": "code",
      "source": [
        "d = {\"ineuron\" : {34,56,4,5,34,5}, \"course\":{45,6,4,6,4,6,46}, \"s\":\"sanjay\",\"a\" :70, \"g\":90}\n",
        "\n",
        "l = []\n",
        "for i in d.values():\n",
        "  if type(i) == int:\n",
        "    l.append(max(i.values()))\n",
        "print(max(l))"
      ],
      "metadata": {
        "colab": {
          "base_uri": "https://localhost:8080/",
          "height": 223
        },
        "id": "03fmdH54ZXEu",
        "outputId": "b38562cd-d5c7-4302-fa00-06402283d11f"
      },
      "execution_count": 78,
      "outputs": [
        {
          "output_type": "error",
          "ename": "AttributeError",
          "evalue": "ignored",
          "traceback": [
            "\u001b[0;31m---------------------------------------------------------------------------\u001b[0m",
            "\u001b[0;31mAttributeError\u001b[0m                            Traceback (most recent call last)",
            "\u001b[0;32m<ipython-input-78-f0180194ffd9>\u001b[0m in \u001b[0;36m<module>\u001b[0;34m\u001b[0m\n\u001b[1;32m      4\u001b[0m \u001b[0;32mfor\u001b[0m \u001b[0mi\u001b[0m \u001b[0;32min\u001b[0m \u001b[0md\u001b[0m\u001b[0;34m.\u001b[0m\u001b[0mvalues\u001b[0m\u001b[0;34m(\u001b[0m\u001b[0;34m)\u001b[0m\u001b[0;34m:\u001b[0m\u001b[0;34m\u001b[0m\u001b[0;34m\u001b[0m\u001b[0m\n\u001b[1;32m      5\u001b[0m   \u001b[0;32mif\u001b[0m \u001b[0mtype\u001b[0m\u001b[0;34m(\u001b[0m\u001b[0mi\u001b[0m\u001b[0;34m)\u001b[0m \u001b[0;34m==\u001b[0m \u001b[0mint\u001b[0m\u001b[0;34m:\u001b[0m\u001b[0;34m\u001b[0m\u001b[0;34m\u001b[0m\u001b[0m\n\u001b[0;32m----> 6\u001b[0;31m     \u001b[0ml\u001b[0m\u001b[0;34m.\u001b[0m\u001b[0mappend\u001b[0m\u001b[0;34m(\u001b[0m\u001b[0mmax\u001b[0m\u001b[0;34m(\u001b[0m\u001b[0mi\u001b[0m\u001b[0;34m.\u001b[0m\u001b[0mvalues\u001b[0m\u001b[0;34m(\u001b[0m\u001b[0;34m)\u001b[0m\u001b[0;34m)\u001b[0m\u001b[0;34m)\u001b[0m\u001b[0;34m\u001b[0m\u001b[0;34m\u001b[0m\u001b[0m\n\u001b[0m\u001b[1;32m      7\u001b[0m \u001b[0mprint\u001b[0m\u001b[0;34m(\u001b[0m\u001b[0mmax\u001b[0m\u001b[0;34m(\u001b[0m\u001b[0ml\u001b[0m\u001b[0;34m)\u001b[0m\u001b[0;34m)\u001b[0m\u001b[0;34m\u001b[0m\u001b[0;34m\u001b[0m\u001b[0m\n",
            "\u001b[0;31mAttributeError\u001b[0m: 'int' object has no attribute 'values'"
          ]
        }
      ]
    },
    {
      "cell_type": "code",
      "source": [
        "d = {\"ineuron\" : {34,56,4,5,34,5}, \"course\":{45,6,4,6,4,6,46}, \"s\":\"sanjay\",\"a\" :70, \"g\":90}    # maximum value \n",
        "\n",
        "l = []\n",
        "for i in d.values():\n",
        "  if type(i) == int:\n",
        "    l.append(i)\n",
        "  elif type(i) == list or type(i) == tuple:\n",
        "    l.extend(i)\n",
        "  elif type(i) == dict:\n",
        "    for j in i.values():\n",
        "      l.append(j)\n",
        "print(max(l))\n"
      ],
      "metadata": {
        "colab": {
          "base_uri": "https://localhost:8080/"
        },
        "id": "PSasqiFBd2i4",
        "outputId": "2280aa52-ccbf-4a2f-e86d-df99d6a52c8c"
      },
      "execution_count": 79,
      "outputs": [
        {
          "output_type": "stream",
          "name": "stdout",
          "text": [
            "90\n"
          ]
        }
      ]
    },
    {
      "cell_type": "code",
      "source": [],
      "metadata": {
        "id": "01d2xbhTiYD9"
      },
      "execution_count": null,
      "outputs": []
    }
  ]
}