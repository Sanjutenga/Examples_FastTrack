{
 "cells": [
  {
   "cell_type": "code",
   "execution_count": 1,
   "id": "6748b409",
   "metadata": {},
   "outputs": [
    {
     "data": {
      "text/plain": [
       "'C:\\\\Users\\\\user\\\\Desktop\\\\PYTHON'"
      ]
     },
     "execution_count": 1,
     "metadata": {},
     "output_type": "execute_result"
    }
   ],
   "source": [
    "pwd()   # present working directory"
   ]
  },
  {
   "cell_type": "code",
   "execution_count": 2,
   "id": "ff0692a0",
   "metadata": {},
   "outputs": [
    {
     "name": "stdout",
     "output_type": "stream",
     "text": [
      " Volume in drive C has no label.\n",
      " Volume Serial Number is DA2F-0459\n",
      "\n",
      " Directory of C:\\Users\\user\\Desktop\\PYTHON\n",
      "\n",
      "11/05/2022  05:00 PM    <DIR>          .\n",
      "11/04/2022  02:37 PM    <DIR>          ..\n",
      "11/05/2022  04:58 PM    <DIR>          .ipynb_checkpoints\n",
      "10/31/2022  01:29 PM         1,738,300 Analytics_Companies.xlsx\n",
      "10/31/2022  01:25 PM           170,365 freasher .pdf\n",
      "10/31/2022  01:29 PM         5,112,086 Linkedin_Masterclass_Guide.xlsx\n",
      "11/05/2022  05:00 PM               973 Modules_Packages.ipynb\n",
      "10/31/2022  01:21 PM         1,785,862 PYTHON_BASICS_CHEAT_SHEET_My_Fav.pdf\n",
      "10/31/2022  01:22 PM           248,523 Python_Cheat_Sheet.pdf\n",
      "10/31/2022  01:22 PM         2,463,716 Python_Cheat_Sheet_Ann_Felix-1.pdf\n",
      "10/31/2022  01:22 PM         6,221,691 Python_Notes_For_Professionals.pdf\n",
      "10/31/2022  01:22 PM           638,942 Python_Seaborn_Cheat_Sheet.pdf\n",
      "10/31/2022  01:22 PM         1,779,261 Python_Tutorial.pdf\n",
      "11/05/2022  04:53 PM                 0 test1.py\n",
      "              11 File(s)     20,159,719 bytes\n",
      "               3 Dir(s)  189,711,646,720 bytes free\n"
     ]
    }
   ],
   "source": [
    "%ls"
   ]
  },
  {
   "cell_type": "code",
   "execution_count": 1,
   "id": "054666da",
   "metadata": {},
   "outputs": [
    {
     "name": "stdout",
     "output_type": "stream",
     "text": [
      " Volume in drive C has no label.\n",
      " Volume Serial Number is DA2F-0459\n",
      "\n",
      " Directory of C:\\Users\\user\\Desktop\\PYTHON\n",
      "\n",
      "11/05/2022  05:07 PM    <DIR>          .\n",
      "11/05/2022  05:07 PM    <DIR>          ..\n",
      "11/05/2022  04:58 PM    <DIR>          .ipynb_checkpoints\n",
      "10/31/2022  01:29 PM         1,738,300 Analytics_Companies.xlsx\n",
      "10/31/2022  01:25 PM           170,365 freasher .pdf\n",
      "10/31/2022  01:29 PM         5,112,086 Linkedin_Masterclass_Guide.xlsx\n",
      "11/05/2022  05:02 PM             2,509 Modules_Packages.ipynb\n",
      "10/31/2022  01:21 PM         1,785,862 PYTHON_BASICS_CHEAT_SHEET_My_Fav.pdf\n",
      "10/31/2022  01:22 PM           248,523 Python_Cheat_Sheet.pdf\n",
      "10/31/2022  01:22 PM         2,463,716 Python_Cheat_Sheet_Ann_Felix-1.pdf\n",
      "10/31/2022  01:22 PM         6,221,691 Python_Notes_For_Professionals.pdf\n",
      "10/31/2022  01:22 PM           638,942 Python_Seaborn_Cheat_Sheet.pdf\n",
      "10/31/2022  01:22 PM         1,779,261 Python_Tutorial.pdf\n",
      "11/05/2022  05:07 PM                 0 test1.py\n",
      "              11 File(s)     20,161,255 bytes\n",
      "               3 Dir(s)  189,716,783,104 bytes free\n"
     ]
    }
   ],
   "source": [
    "ls"
   ]
  },
  {
   "cell_type": "code",
   "execution_count": 2,
   "id": "1b23cec4",
   "metadata": {},
   "outputs": [
    {
     "data": {
      "text/plain": [
       "<_io.TextIOWrapper name='test2.py' mode='w' encoding='cp1252'>"
      ]
     },
     "execution_count": 2,
     "metadata": {},
     "output_type": "execute_result"
    }
   ],
   "source": [
    "open(\"test2.py\",\"w\")"
   ]
  },
  {
   "cell_type": "code",
   "execution_count": 9,
   "id": "f97c0248",
   "metadata": {},
   "outputs": [
    {
     "name": "stdout",
     "output_type": "stream",
     "text": [
      " Volume in drive C has no label.\n",
      " Volume Serial Number is DA2F-0459\n",
      "\n",
      " Directory of C:\\Users\\user\\Desktop\\PYTHON\n",
      "\n",
      "11/05/2022  05:12 PM    <DIR>          .\n",
      "11/05/2022  05:07 PM    <DIR>          ..\n",
      "11/05/2022  04:58 PM    <DIR>          .ipynb_checkpoints\n",
      "10/31/2022  01:29 PM         1,738,300 Analytics_Companies.xlsx\n",
      "10/31/2022  01:25 PM           170,365 freasher .pdf\n",
      "10/31/2022  01:29 PM         5,112,086 Linkedin_Masterclass_Guide.xlsx\n",
      "11/05/2022  05:12 PM             6,428 Modules_Packages.ipynb\n",
      "10/31/2022  01:21 PM         1,785,862 PYTHON_BASICS_CHEAT_SHEET_My_Fav.pdf\n",
      "10/31/2022  01:22 PM           248,523 Python_Cheat_Sheet.pdf\n",
      "10/31/2022  01:22 PM         2,463,716 Python_Cheat_Sheet_Ann_Felix-1.pdf\n",
      "10/31/2022  01:22 PM         6,221,691 Python_Notes_For_Professionals.pdf\n",
      "10/31/2022  01:22 PM           638,942 Python_Seaborn_Cheat_Sheet.pdf\n",
      "10/31/2022  01:22 PM         1,779,261 Python_Tutorial.pdf\n",
      "11/05/2022  05:11 PM                 0 test1.py\n",
      "11/05/2022  05:10 PM                 0 test2.py\n",
      "              12 File(s)     20,165,174 bytes\n",
      "               3 Dir(s)  189,716,459,520 bytes free\n"
     ]
    }
   ],
   "source": [
    "%ls"
   ]
  },
  {
   "cell_type": "code",
   "execution_count": 4,
   "id": "17ed20c3",
   "metadata": {},
   "outputs": [
    {
     "data": {
      "text/plain": [
       "<_io.TextIOWrapper name='test1.py' mode='w' encoding='cp1252'>"
      ]
     },
     "execution_count": 4,
     "metadata": {},
     "output_type": "execute_result"
    }
   ],
   "source": [
    "open(\"test1.py\",\"w\")"
   ]
  },
  {
   "cell_type": "code",
   "execution_count": 13,
   "id": "6b5e9b69",
   "metadata": {},
   "outputs": [
    {
     "name": "stdout",
     "output_type": "stream",
     "text": [
      " Volume in drive C has no label.\n",
      " Volume Serial Number is DA2F-0459\n",
      "\n",
      " Directory of C:\\Users\\user\\Desktop\\PYTHON\n",
      "\n",
      "11/05/2022  05:16 PM    <DIR>          .\n",
      "11/05/2022  05:07 PM    <DIR>          ..\n",
      "11/05/2022  04:58 PM    <DIR>          .ipynb_checkpoints\n",
      "11/05/2022  05:16 PM    <DIR>          __pycache__\n",
      "10/31/2022  01:29 PM         1,738,300 Analytics_Companies.xlsx\n",
      "10/31/2022  01:25 PM           170,365 freasher .pdf\n",
      "10/31/2022  01:29 PM         5,112,086 Linkedin_Masterclass_Guide.xlsx\n",
      "11/05/2022  05:14 PM             6,425 Modules_Packages.ipynb\n",
      "10/31/2022  01:21 PM         1,785,862 PYTHON_BASICS_CHEAT_SHEET_My_Fav.pdf\n",
      "10/31/2022  01:22 PM           248,523 Python_Cheat_Sheet.pdf\n",
      "10/31/2022  01:22 PM         2,463,716 Python_Cheat_Sheet_Ann_Felix-1.pdf\n",
      "10/31/2022  01:22 PM         6,221,691 Python_Notes_For_Professionals.pdf\n",
      "10/31/2022  01:22 PM           638,942 Python_Seaborn_Cheat_Sheet.pdf\n",
      "10/31/2022  01:22 PM         1,779,261 Python_Tutorial.pdf\n",
      "11/05/2022  05:16 PM                32 test1.py\n",
      "11/05/2022  05:10 PM                 0 test2.py\n",
      "              12 File(s)     20,165,203 bytes\n",
      "               4 Dir(s)  189,712,519,168 bytes free\n"
     ]
    }
   ],
   "source": [
    "%ls"
   ]
  },
  {
   "cell_type": "code",
   "execution_count": 11,
   "id": "9457206a",
   "metadata": {},
   "outputs": [],
   "source": [
    "import test1"
   ]
  },
  {
   "cell_type": "code",
   "execution_count": 14,
   "id": "974bc4c9",
   "metadata": {},
   "outputs": [
    {
     "data": {
      "text/plain": [
       "<function test1.test(a, b)>"
      ]
     },
     "execution_count": 14,
     "metadata": {},
     "output_type": "execute_result"
    }
   ],
   "source": [
    "test1.test # module(function)"
   ]
  },
  {
   "cell_type": "code",
   "execution_count": 17,
   "id": "94a3ce8e",
   "metadata": {},
   "outputs": [
    {
     "data": {
      "text/plain": [
       "8"
      ]
     },
     "execution_count": 17,
     "metadata": {},
     "output_type": "execute_result"
    }
   ],
   "source": [
    "test1.test(3,5)"
   ]
  },
  {
   "cell_type": "code",
   "execution_count": 15,
   "id": "8c882951",
   "metadata": {},
   "outputs": [],
   "source": [
    "import test2\n"
   ]
  },
  {
   "cell_type": "code",
   "execution_count": 16,
   "id": "10650024",
   "metadata": {},
   "outputs": [
    {
     "data": {
      "text/plain": [
       "<function test2.fun(a)>"
      ]
     },
     "execution_count": 16,
     "metadata": {},
     "output_type": "execute_result"
    }
   ],
   "source": [
    "test2.fun"
   ]
  },
  {
   "cell_type": "code",
   "execution_count": 9,
   "id": "2a7732c1",
   "metadata": {},
   "outputs": [],
   "source": [
    "import test1"
   ]
  },
  {
   "cell_type": "code",
   "execution_count": 8,
   "id": "a0127df1",
   "metadata": {},
   "outputs": [
    {
     "data": {
      "text/plain": [
       "<function test1.test14(a, b)>"
      ]
     },
     "execution_count": 8,
     "metadata": {},
     "output_type": "execute_result"
    }
   ],
   "source": [
    "test1.test14"
   ]
  },
  {
   "cell_type": "code",
   "execution_count": 10,
   "id": "4e4e7cfd",
   "metadata": {},
   "outputs": [
    {
     "ename": "NameError",
     "evalue": "name 'a' is not defined",
     "output_type": "error",
     "traceback": [
      "\u001b[1;31m---------------------------------------------------------------------------\u001b[0m",
      "\u001b[1;31mNameError\u001b[0m                                 Traceback (most recent call last)",
      "\u001b[1;32m~\\AppData\\Local\\Temp\\ipykernel_18204\\3451809122.py\u001b[0m in \u001b[0;36m<module>\u001b[1;34m\u001b[0m\n\u001b[1;32m----> 1\u001b[1;33m \u001b[0mtest1\u001b[0m\u001b[1;33m.\u001b[0m\u001b[0mtest14\u001b[0m\u001b[1;33m(\u001b[0m\u001b[0ma\u001b[0m\u001b[1;33m,\u001b[0m\u001b[0mb\u001b[0m\u001b[1;33m)\u001b[0m\u001b[1;33m\u001b[0m\u001b[1;33m\u001b[0m\u001b[0m\n\u001b[0m",
      "\u001b[1;31mNameError\u001b[0m: name 'a' is not defined"
     ]
    }
   ],
   "source": [
    "test1.test14(a,b)"
   ]
  },
  {
   "cell_type": "code",
   "execution_count": 1,
   "id": "456b13b1",
   "metadata": {},
   "outputs": [],
   "source": [
    "import test1"
   ]
  },
  {
   "cell_type": "code",
   "execution_count": 2,
   "id": "1b7d6f80",
   "metadata": {},
   "outputs": [
    {
     "data": {
      "text/plain": [
       "<function test1.test14()>"
      ]
     },
     "execution_count": 2,
     "metadata": {},
     "output_type": "execute_result"
    }
   ],
   "source": [
    "test1.test14"
   ]
  },
  {
   "cell_type": "code",
   "execution_count": 3,
   "id": "e16697ae",
   "metadata": {},
   "outputs": [
    {
     "name": "stdout",
     "output_type": "stream",
     "text": [
      "hello!\n"
     ]
    }
   ],
   "source": [
    "test1.test14()"
   ]
  },
  {
   "cell_type": "code",
   "execution_count": 3,
   "id": "57867100",
   "metadata": {},
   "outputs": [
    {
     "data": {
      "text/plain": [
       "16"
      ]
     },
     "execution_count": 3,
     "metadata": {},
     "output_type": "execute_result"
    }
   ],
   "source": [
    "test1.test13(4,4)"
   ]
  },
  {
   "cell_type": "code",
   "execution_count": 4,
   "id": "a9261a77",
   "metadata": {},
   "outputs": [
    {
     "data": {
      "text/plain": [
       "0.05454545454545454"
      ]
     },
     "execution_count": 4,
     "metadata": {},
     "output_type": "execute_result"
    }
   ],
   "source": [
    "test1.test12(3,55)"
   ]
  },
  {
   "cell_type": "code",
   "execution_count": 7,
   "id": "a57f7f6a",
   "metadata": {},
   "outputs": [
    {
     "name": "stdout",
     "output_type": "stream",
     "text": [
      "hello!\n"
     ]
    }
   ],
   "source": [
    "test1.test14()"
   ]
  },
  {
   "cell_type": "code",
   "execution_count": 4,
   "id": "3aaa1798",
   "metadata": {},
   "outputs": [],
   "source": [
    "from test1 import test14"
   ]
  },
  {
   "cell_type": "code",
   "execution_count": 6,
   "id": "1f56c9e5",
   "metadata": {},
   "outputs": [
    {
     "name": "stdout",
     "output_type": "stream",
     "text": [
      "hello!\n"
     ]
    }
   ],
   "source": [
    "test14()"
   ]
  },
  {
   "cell_type": "code",
   "execution_count": 7,
   "id": "e0331bc7",
   "metadata": {},
   "outputs": [],
   "source": [
    "from test1 import test15"
   ]
  },
  {
   "cell_type": "code",
   "execution_count": 8,
   "id": "59f140ff",
   "metadata": {},
   "outputs": [
    {
     "name": "stdout",
     "output_type": "stream",
     "text": [
      "Hiiii!\n"
     ]
    }
   ],
   "source": [
    "test15()"
   ]
  },
  {
   "cell_type": "code",
   "execution_count": 1,
   "id": "7c9c12cd",
   "metadata": {},
   "outputs": [],
   "source": [
    "from test1 import *    # this will import all function by the notepad\n",
    "\n"
   ]
  },
  {
   "cell_type": "code",
   "execution_count": 3,
   "id": "3ed619bb",
   "metadata": {},
   "outputs": [
    {
     "data": {
      "text/plain": [
       "9"
      ]
     },
     "execution_count": 3,
     "metadata": {},
     "output_type": "execute_result"
    }
   ],
   "source": [
    "test(4,5)"
   ]
  },
  {
   "cell_type": "code",
   "execution_count": 4,
   "id": "416ba0a2",
   "metadata": {},
   "outputs": [
    {
     "data": {
      "text/plain": [
       "1.0"
      ]
     },
     "execution_count": 4,
     "metadata": {},
     "output_type": "execute_result"
    }
   ],
   "source": [
    "test12(2,2)"
   ]
  },
  {
   "cell_type": "code",
   "execution_count": 5,
   "id": "036258fe",
   "metadata": {},
   "outputs": [
    {
     "name": "stdout",
     "output_type": "stream",
     "text": [
      "Hiiii!\n"
     ]
    }
   ],
   "source": [
    "test15()"
   ]
  },
  {
   "cell_type": "code",
   "execution_count": 6,
   "id": "60139fb1",
   "metadata": {},
   "outputs": [
    {
     "data": {
      "text/plain": [
       "<_io.TextIOWrapper name='sanju.txt' mode='w' encoding='cp1252'>"
      ]
     },
     "execution_count": 6,
     "metadata": {},
     "output_type": "execute_result"
    }
   ],
   "source": [
    "open(\"sanju.txt\",\"w\")"
   ]
  },
  {
   "cell_type": "code",
   "execution_count": 7,
   "id": "4b2f3dab",
   "metadata": {},
   "outputs": [
    {
     "name": "stdout",
     "output_type": "stream",
     "text": [
      " Volume in drive C has no label.\n",
      " Volume Serial Number is DA2F-0459\n",
      "\n",
      " Directory of C:\\Users\\user\\Desktop\\PYTHON\n",
      "\n",
      "11/05/2022  05:44 PM    <DIR>          .\n",
      "11/05/2022  05:07 PM    <DIR>          ..\n",
      "11/05/2022  04:58 PM    <DIR>          .ipynb_checkpoints\n",
      "11/05/2022  05:38 PM    <DIR>          __pycache__\n",
      "10/31/2022  01:29 PM         1,738,300 Analytics_Companies.xlsx\n",
      "10/31/2022  01:25 PM           170,365 freasher .pdf\n",
      "10/31/2022  01:29 PM         5,112,086 Linkedin_Masterclass_Guide.xlsx\n",
      "11/05/2022  05:44 PM            14,581 Modules_Packages.ipynb\n",
      "10/31/2022  01:21 PM         1,785,862 PYTHON_BASICS_CHEAT_SHEET_My_Fav.pdf\n",
      "10/31/2022  01:22 PM           248,523 Python_Cheat_Sheet.pdf\n",
      "10/31/2022  01:22 PM         2,463,716 Python_Cheat_Sheet_Ann_Felix-1.pdf\n",
      "10/31/2022  01:22 PM         6,221,691 Python_Notes_For_Professionals.pdf\n",
      "10/31/2022  01:22 PM           638,942 Python_Seaborn_Cheat_Sheet.pdf\n",
      "10/31/2022  01:22 PM         1,779,261 Python_Tutorial.pdf\n",
      "11/05/2022  05:44 PM                 0 sanju.txt\n",
      "11/05/2022  05:35 PM               179 test1.py\n",
      "11/05/2022  05:20 PM                46 test2.py\n",
      "              13 File(s)     20,173,552 bytes\n",
      "               4 Dir(s)  189,713,268,736 bytes free\n"
     ]
    }
   ],
   "source": [
    "%ls"
   ]
  },
  {
   "cell_type": "code",
   "execution_count": 1,
   "id": "de3076da",
   "metadata": {},
   "outputs": [
    {
     "name": "stdout",
     "output_type": "stream",
     "text": [
      " Volume in drive C has no label.\n",
      " Volume Serial Number is DA2F-0459\n",
      "\n",
      " Directory of C:\\Users\\user\\Desktop\\PYTHON\n",
      "\n",
      "11/05/2022  05:50 PM    <DIR>          .\n",
      "11/05/2022  05:07 PM    <DIR>          ..\n",
      "11/05/2022  04:58 PM    <DIR>          .ipynb_checkpoints\n",
      "11/05/2022  05:38 PM    <DIR>          __pycache__\n",
      "10/31/2022  01:29 PM         1,738,300 Analytics_Companies.xlsx\n",
      "10/31/2022  01:25 PM           170,365 freasher .pdf\n",
      "10/31/2022  01:29 PM         5,112,086 Linkedin_Masterclass_Guide.xlsx\n",
      "11/05/2022  05:50 PM            20,333 Modules_Packages.ipynb\n",
      "10/31/2022  01:21 PM         1,785,862 PYTHON_BASICS_CHEAT_SHEET_My_Fav.pdf\n",
      "10/31/2022  01:22 PM           248,523 Python_Cheat_Sheet.pdf\n",
      "10/31/2022  01:22 PM         2,463,716 Python_Cheat_Sheet_Ann_Felix-1.pdf\n",
      "10/31/2022  01:22 PM         6,221,691 Python_Notes_For_Professionals.pdf\n",
      "10/31/2022  01:22 PM           638,942 Python_Seaborn_Cheat_Sheet.pdf\n",
      "10/31/2022  01:22 PM         1,779,261 Python_Tutorial.pdf\n",
      "11/05/2022  05:35 PM               179 test1.py\n",
      "11/05/2022  05:20 PM                46 test2.py\n",
      "11/05/2022  05:49 PM               166 test22.txt\n",
      "              13 File(s)     20,179,470 bytes\n",
      "               4 Dir(s)  189,710,524,416 bytes free\n"
     ]
    }
   ],
   "source": [
    "%ls"
   ]
  },
  {
   "cell_type": "code",
   "execution_count": 2,
   "id": "4e6b0adb",
   "metadata": {},
   "outputs": [
    {
     "ename": "ModuleNotFoundError",
     "evalue": "No module named 'test22'",
     "output_type": "error",
     "traceback": [
      "\u001b[1;31m---------------------------------------------------------------------------\u001b[0m",
      "\u001b[1;31mModuleNotFoundError\u001b[0m                       Traceback (most recent call last)",
      "\u001b[1;32m~\\AppData\\Local\\Temp\\ipykernel_10668\\1835513964.py\u001b[0m in \u001b[0;36m<module>\u001b[1;34m\u001b[0m\n\u001b[1;32m----> 1\u001b[1;33m \u001b[1;32mimport\u001b[0m \u001b[0mtest22\u001b[0m\u001b[1;33m\u001b[0m\u001b[1;33m\u001b[0m\u001b[0m\n\u001b[0m",
      "\u001b[1;31mModuleNotFoundError\u001b[0m: No module named 'test22'"
     ]
    }
   ],
   "source": [
    "import test22"
   ]
  },
  {
   "cell_type": "code",
   "execution_count": 5,
   "id": "d3789cd4",
   "metadata": {},
   "outputs": [],
   "source": [
    "import test1"
   ]
  },
  {
   "cell_type": "code",
   "execution_count": 6,
   "id": "959f8352",
   "metadata": {},
   "outputs": [],
   "source": [
    "from test1 import *"
   ]
  },
  {
   "cell_type": "code",
   "execution_count": 7,
   "id": "8db1ebaa",
   "metadata": {},
   "outputs": [
    {
     "name": "stdout",
     "output_type": "stream",
     "text": [
      "Hii hello rammu\n"
     ]
    }
   ],
   "source": [
    "sanju1()"
   ]
  },
  {
   "cell_type": "code",
   "execution_count": 8,
   "id": "1d0a9e63",
   "metadata": {},
   "outputs": [
    {
     "data": {
      "text/plain": [
       "<_io.TextIOWrapper name='testing.py' mode='w' encoding='cp1252'>"
      ]
     },
     "execution_count": 8,
     "metadata": {},
     "output_type": "execute_result"
    }
   ],
   "source": [
    "open(\"testing.py\",\"w\")"
   ]
  },
  {
   "cell_type": "code",
   "execution_count": 9,
   "id": "ef6bab12",
   "metadata": {},
   "outputs": [
    {
     "name": "stdout",
     "output_type": "stream",
     "text": [
      " Volume in drive C has no label.\n",
      " Volume Serial Number is DA2F-0459\n",
      "\n",
      " Directory of C:\\Users\\user\\Desktop\\PYTHON\n",
      "\n",
      "11/05/2022  05:53 PM    <DIR>          .\n",
      "11/05/2022  05:07 PM    <DIR>          ..\n",
      "11/05/2022  04:58 PM    <DIR>          .ipynb_checkpoints\n",
      "11/05/2022  05:52 PM    <DIR>          __pycache__\n",
      "10/31/2022  01:29 PM         1,738,300 Analytics_Companies.xlsx\n",
      "10/31/2022  01:25 PM           170,365 freasher .pdf\n",
      "10/31/2022  01:29 PM         5,112,086 Linkedin_Masterclass_Guide.xlsx\n",
      "11/05/2022  05:52 PM            20,508 Modules_Packages.ipynb\n",
      "10/31/2022  01:21 PM         1,785,862 PYTHON_BASICS_CHEAT_SHEET_My_Fav.pdf\n",
      "10/31/2022  01:22 PM           248,523 Python_Cheat_Sheet.pdf\n",
      "10/31/2022  01:22 PM         2,463,716 Python_Cheat_Sheet_Ann_Felix-1.pdf\n",
      "10/31/2022  01:22 PM         6,221,691 Python_Notes_For_Professionals.pdf\n",
      "10/31/2022  01:22 PM           638,942 Python_Seaborn_Cheat_Sheet.pdf\n",
      "10/31/2022  01:22 PM         1,779,261 Python_Tutorial.pdf\n",
      "11/05/2022  05:52 PM               263 test1.py\n",
      "11/05/2022  05:20 PM                46 test2.py\n",
      "11/05/2022  05:53 PM                 0 testing.py\n",
      "              13 File(s)     20,179,563 bytes\n",
      "               4 Dir(s)  189,711,925,248 bytes free\n"
     ]
    }
   ],
   "source": [
    "%ls"
   ]
  },
  {
   "cell_type": "code",
   "execution_count": 3,
   "id": "0c30216c",
   "metadata": {},
   "outputs": [],
   "source": [
    "from testing import *"
   ]
  },
  {
   "cell_type": "code",
   "execution_count": 4,
   "id": "e1d9cc9c",
   "metadata": {},
   "outputs": [
    {
     "name": "stdout",
     "output_type": "stream",
     "text": [
      "(1, 0)\n",
      "(1, 1)\n",
      "(1, 2)\n",
      "(1, 3)\n",
      "(1, 4)\n",
      "(1, 5)\n",
      "(1, 6)\n",
      "(1, 7)\n",
      "(1, 8)\n",
      "(1, 9)\n",
      "(1, 10)\n",
      "(1, 11)\n",
      "(1, 12)\n",
      "(1, 13)\n",
      "(1, 14)\n",
      "(1, 15)\n",
      "(1, 16)\n",
      "(1, 17)\n",
      "(1, 18)\n",
      "(1, 19)\n",
      "(1, 20)\n",
      "(1, 21)\n",
      "(1, 22)\n",
      "(1, 23)\n",
      "(1, 24)\n",
      "(1, 25)\n",
      "(1, 26)\n",
      "(1, 27)\n",
      "(1, 28)\n",
      "(1, 29)\n",
      "(1, 30)\n",
      "(1, 31)\n",
      "(1, 32)\n",
      "(1, 33)\n",
      "(1, 34)\n",
      "(1, 35)\n",
      "(1, 36)\n",
      "(1, 37)\n",
      "(1, 38)\n",
      "(1, 39)\n",
      "(1, 40)\n",
      "(1, 41)\n",
      "(1, 42)\n",
      "(1, 43)\n",
      "(1, 44)\n",
      "(1, 45)\n",
      "(1, 46)\n",
      "(1, 47)\n",
      "(1, 48)\n",
      "(1, 49)\n",
      "(1, 50)\n",
      "(1, 51)\n",
      "(1, 52)\n",
      "(1, 53)\n",
      "(1, 54)\n",
      "(1, 55)\n",
      "(1, 56)\n",
      "(1, 57)\n",
      "(1, 58)\n",
      "(1, 59)\n",
      "(1, 60)\n",
      "(1, 61)\n",
      "(1, 62)\n",
      "(1, 63)\n",
      "(1, 64)\n",
      "(1, 65)\n",
      "(1, 66)\n",
      "(1, 67)\n",
      "(1, 68)\n",
      "(1, 69)\n",
      "(1, 70)\n",
      "(1, 71)\n",
      "(1, 72)\n",
      "(1, 73)\n",
      "(1, 74)\n",
      "(1, 75)\n",
      "(1, 76)\n",
      "(1, 77)\n",
      "(1, 78)\n",
      "(1, 79)\n",
      "(1, 80)\n",
      "(1, 81)\n",
      "(1, 82)\n",
      "(1, 83)\n",
      "(1, 84)\n",
      "(1, 85)\n",
      "(1, 86)\n",
      "(1, 87)\n"
     ]
    }
   ],
   "source": [
    "for i in fib(88):\n",
    "    print(i)"
   ]
  },
  {
   "cell_type": "code",
   "execution_count": 5,
   "id": "9656ee3f",
   "metadata": {},
   "outputs": [],
   "source": [
    "import testing"
   ]
  },
  {
   "cell_type": "code",
   "execution_count": 10,
   "id": "7e4267ff",
   "metadata": {},
   "outputs": [
    {
     "ename": "NameError",
     "evalue": "name 'logging' is not defined",
     "output_type": "error",
     "traceback": [
      "\u001b[1;31m---------------------------------------------------------------------------\u001b[0m",
      "\u001b[1;31mNameError\u001b[0m                                 Traceback (most recent call last)",
      "\u001b[1;32m~\\AppData\\Local\\Temp\\ipykernel_19040\\2754323109.py\u001b[0m in \u001b[0;36m<module>\u001b[1;34m\u001b[0m\n\u001b[0;32m      1\u001b[0m \u001b[1;32mimport\u001b[0m \u001b[0mlogging\u001b[0m\u001b[1;33m\u001b[0m\u001b[1;33m\u001b[0m\u001b[0m\n\u001b[1;32m----> 2\u001b[1;33m \u001b[0mtesting\u001b[0m\u001b[1;33m.\u001b[0m\u001b[0mtest1\u001b[0m\u001b[1;33m(\u001b[0m\u001b[1;33m)\u001b[0m\u001b[1;33m\u001b[0m\u001b[1;33m\u001b[0m\u001b[0m\n\u001b[0m",
      "\u001b[1;32m~\\Desktop\\PYTHON\\testing.py\u001b[0m in \u001b[0;36mtest1\u001b[1;34m()\u001b[0m\n\u001b[0;32m     11\u001b[0m   \u001b[0mlogging\u001b[0m\u001b[1;33m.\u001b[0m\u001b[0minfo\u001b[0m\u001b[1;33m(\u001b[0m\u001b[1;34m\"this is done\"\u001b[0m\u001b[1;33m)\u001b[0m\u001b[1;33m\u001b[0m\u001b[1;33m\u001b[0m\u001b[0m\n",
      "\u001b[1;31mNameError\u001b[0m: name 'logging' is not defined"
     ]
    }
   ],
   "source": [
    "import logging\n",
    "testing.test1()\n"
   ]
  },
  {
   "cell_type": "code",
   "execution_count": 11,
   "id": "2bbe69eb",
   "metadata": {},
   "outputs": [
    {
     "name": "stdout",
     "output_type": "stream",
     "text": [
      " Volume in drive C has no label.\n",
      " Volume Serial Number is DA2F-0459\n",
      "\n",
      " Directory of C:\\Users\\user\\Desktop\\PYTHON\n",
      "\n",
      "11/05/2022  06:00 PM    <DIR>          .\n",
      "11/05/2022  05:07 PM    <DIR>          ..\n",
      "11/05/2022  04:58 PM    <DIR>          .ipynb_checkpoints\n",
      "11/05/2022  05:57 PM    <DIR>          __pycache__\n",
      "10/31/2022  01:29 PM         1,738,300 Analytics_Companies.xlsx\n",
      "10/31/2022  01:25 PM           170,365 freasher .pdf\n",
      "10/31/2022  01:29 PM         5,112,086 Linkedin_Masterclass_Guide.xlsx\n",
      "11/05/2022  06:00 PM            25,941 Modules_Packages.ipynb\n",
      "10/31/2022  01:21 PM         1,785,862 PYTHON_BASICS_CHEAT_SHEET_My_Fav.pdf\n",
      "10/31/2022  01:22 PM           248,523 Python_Cheat_Sheet.pdf\n",
      "10/31/2022  01:22 PM         2,463,716 Python_Cheat_Sheet_Ann_Felix-1.pdf\n",
      "10/31/2022  01:22 PM         6,221,691 Python_Notes_For_Professionals.pdf\n",
      "10/31/2022  01:22 PM           638,942 Python_Seaborn_Cheat_Sheet.pdf\n",
      "10/31/2022  01:22 PM         1,779,261 Python_Tutorial.pdf\n",
      "11/05/2022  05:52 PM               263 test1.py\n",
      "11/05/2022  05:20 PM                46 test2.py\n",
      "11/05/2022  06:00 PM               154 testing.py\n",
      "              13 File(s)     20,185,150 bytes\n",
      "               4 Dir(s)  189,708,779,520 bytes free\n"
     ]
    }
   ],
   "source": [
    "%ls"
   ]
  },
  {
   "cell_type": "code",
   "execution_count": 3,
   "id": "c7102048",
   "metadata": {},
   "outputs": [
    {
     "data": {
      "text/plain": [
       "<_io.TextIOWrapper name='right.py' mode='w' encoding='cp1252'>"
      ]
     },
     "execution_count": 3,
     "metadata": {},
     "output_type": "execute_result"
    }
   ],
   "source": [
    "open(\"right.py\",\"w\")"
   ]
  },
  {
   "cell_type": "code",
   "execution_count": 2,
   "id": "2291eebe",
   "metadata": {},
   "outputs": [],
   "source": [
    "from right import *"
   ]
  },
  {
   "cell_type": "code",
   "execution_count": 4,
   "id": "7b44fc6a",
   "metadata": {},
   "outputs": [
    {
     "ename": "NameError",
     "evalue": "name 'gencube' is not defined",
     "output_type": "error",
     "traceback": [
      "\u001b[1;31m---------------------------------------------------------------------------\u001b[0m",
      "\u001b[1;31mNameError\u001b[0m                                 Traceback (most recent call last)",
      "\u001b[1;32m~\\AppData\\Local\\Temp\\ipykernel_14168\\1661445044.py\u001b[0m in \u001b[0;36m<module>\u001b[1;34m\u001b[0m\n\u001b[1;32m----> 1\u001b[1;33m \u001b[1;32mfor\u001b[0m \u001b[0mi\u001b[0m \u001b[1;32min\u001b[0m \u001b[0mgencube\u001b[0m\u001b[1;33m(\u001b[0m\u001b[1;36m30\u001b[0m\u001b[1;33m)\u001b[0m\u001b[1;33m:\u001b[0m\u001b[1;33m\u001b[0m\u001b[1;33m\u001b[0m\u001b[0m\n\u001b[0m\u001b[0;32m      2\u001b[0m     \u001b[0mprint\u001b[0m\u001b[1;33m(\u001b[0m\u001b[0mi\u001b[0m\u001b[1;33m)\u001b[0m\u001b[1;33m\u001b[0m\u001b[1;33m\u001b[0m\u001b[0m\n",
      "\u001b[1;31mNameError\u001b[0m: name 'gencube' is not defined"
     ]
    }
   ],
   "source": [
    "for i in gencube(30):\n",
    "    print(i)"
   ]
  },
  {
   "cell_type": "code",
   "execution_count": null,
   "id": "e3141de8",
   "metadata": {},
   "outputs": [],
   "source": [
    "l = [4,5,3,5,3]    # write an list and press tab\n",
    "l.copy"
   ]
  },
  {
   "cell_type": "code",
   "execution_count": null,
   "id": "ba820f77",
   "metadata": {},
   "outputs": [],
   "source": [
    "d = {\"das\":34}    # write an tuple and press tab\n",
    "d.values"
   ]
  },
  {
   "cell_type": "code",
   "execution_count": null,
   "id": "2646a04f",
   "metadata": {},
   "outputs": [],
   "source": [
    "test1(1,4)   # shift tab for docstring"
   ]
  },
  {
   "cell_type": "code",
   "execution_count": 1,
   "id": "796dc0f5",
   "metadata": {},
   "outputs": [],
   "source": [
    "from right import *   # creating docstring"
   ]
  },
  {
   "cell_type": "code",
   "execution_count": 2,
   "id": "15a383d8",
   "metadata": {},
   "outputs": [
    {
     "name": "stdout",
     "output_type": "stream",
     "text": [
      "0\n",
      "1\n",
      "8\n",
      "27\n",
      "64\n",
      "125\n"
     ]
    }
   ],
   "source": [
    "for i in gencube(6):\n",
    "    print(i)"
   ]
  },
  {
   "cell_type": "code",
   "execution_count": 6,
   "id": "3f13d01e",
   "metadata": {},
   "outputs": [],
   "source": [
    "from test1 import *    # this will represents the docstring with respect to file"
   ]
  },
  {
   "cell_type": "code",
   "execution_count": 8,
   "id": "8b6e707b",
   "metadata": {},
   "outputs": [
    {
     "data": {
      "text/plain": [
       "15"
      ]
     },
     "execution_count": 8,
     "metadata": {},
     "output_type": "execute_result"
    }
   ],
   "source": [
    "test(9,6)"
   ]
  },
  {
   "cell_type": "code",
   "execution_count": 10,
   "id": "1e35be45",
   "metadata": {},
   "outputs": [
    {
     "data": {
      "text/plain": [
       "<_io.TextIOWrapper name='git.py' mode='w' encoding='cp1252'>"
      ]
     },
     "execution_count": 10,
     "metadata": {},
     "output_type": "execute_result"
    }
   ],
   "source": [
    "open(\"git.py\",\"w\")\n"
   ]
  },
  {
   "cell_type": "code",
   "execution_count": 11,
   "id": "6538011c",
   "metadata": {},
   "outputs": [],
   "source": [
    "from git import *  # docstring"
   ]
  },
  {
   "cell_type": "code",
   "execution_count": 12,
   "id": "fa1439df",
   "metadata": {},
   "outputs": [
    {
     "data": {
      "text/plain": [
       "10"
      ]
     },
     "execution_count": 12,
     "metadata": {},
     "output_type": "execute_result"
    }
   ],
   "source": [
    "test(4,6)"
   ]
  },
  {
   "cell_type": "code",
   "execution_count": null,
   "id": "d48659fd",
   "metadata": {},
   "outputs": [],
   "source": [
    "l = [2,4,2,4,5]\n",
    "l."
   ]
  },
  {
   "cell_type": "code",
   "execution_count": 13,
   "id": "03681c6e",
   "metadata": {},
   "outputs": [
    {
     "data": {
      "text/plain": [
       "<_io.TextIOWrapper name='tee.py' mode='w' encoding='cp1252'>"
      ]
     },
     "execution_count": 13,
     "metadata": {},
     "output_type": "execute_result"
    }
   ],
   "source": [
    "open(\"tee.py\",\"w\")"
   ]
  },
  {
   "cell_type": "code",
   "execution_count": 14,
   "id": "8682d7d8",
   "metadata": {},
   "outputs": [
    {
     "name": "stdout",
     "output_type": "stream",
     "text": [
      " Volume in drive C has no label.\n",
      " Volume Serial Number is DA2F-0459\n",
      "\n",
      " Directory of C:\\Users\\user\\Desktop\\PYTHON\n",
      "\n",
      "11/05/2022  07:38 PM    <DIR>          .\n",
      "11/05/2022  07:37 PM    <DIR>          ..\n",
      "11/05/2022  04:58 PM    <DIR>          .ipynb_checkpoints\n",
      "11/05/2022  07:05 PM    <DIR>          __pycache__\n",
      "10/31/2022  01:29 PM         1,738,300 Analytics_Companies.xlsx\n",
      "10/31/2022  01:25 PM           170,365 freasher .pdf\n",
      "11/05/2022  07:04 PM                 0 git.py\n",
      "11/05/2022  07:05 PM                83 git.txt\n",
      "10/31/2022  01:29 PM         5,112,086 Linkedin_Masterclass_Guide.xlsx\n",
      "11/05/2022  07:38 PM            31,919 Modules_Packages.ipynb\n",
      "10/31/2022  01:21 PM         1,785,862 PYTHON_BASICS_CHEAT_SHEET_My_Fav.pdf\n",
      "10/31/2022  01:22 PM           248,523 Python_Cheat_Sheet.pdf\n",
      "10/31/2022  01:22 PM         2,463,716 Python_Cheat_Sheet_Ann_Felix-1.pdf\n",
      "10/31/2022  01:22 PM         6,221,691 Python_Notes_For_Professionals.pdf\n",
      "10/31/2022  01:22 PM           638,942 Python_Seaborn_Cheat_Sheet.pdf\n",
      "10/31/2022  01:22 PM         1,779,261 Python_Tutorial.pdf\n",
      "11/05/2022  06:57 PM                80 rate.txt\n",
      "11/05/2022  06:53 PM               101 right.py\n",
      "11/05/2022  07:38 PM                 0 tee.py\n",
      "11/05/2022  07:02 PM               286 test1.py\n",
      "11/05/2022  05:20 PM                46 test2.py\n",
      "11/05/2022  06:00 PM               154 testing.py\n",
      "              18 File(s)     20,191,415 bytes\n",
      "               4 Dir(s)  189,709,344,768 bytes free\n"
     ]
    }
   ],
   "source": [
    "\n",
    "%ls"
   ]
  },
  {
   "cell_type": "code",
   "execution_count": 16,
   "id": "3921fcac",
   "metadata": {},
   "outputs": [],
   "source": [
    "from tee import *"
   ]
  },
  {
   "cell_type": "code",
   "execution_count": 17,
   "id": "862cb08b",
   "metadata": {},
   "outputs": [
    {
     "data": {
      "text/plain": [
       "10"
      ]
     },
     "execution_count": 17,
     "metadata": {},
     "output_type": "execute_result"
    }
   ],
   "source": [
    "test(4,6)     # docstring is mainly gives information"
   ]
  },
  {
   "cell_type": "code",
   "execution_count": 1,
   "id": "6c451a85",
   "metadata": {},
   "outputs": [
    {
     "data": {
      "text/plain": [
       "['In',\n",
       " 'Out',\n",
       " '_',\n",
       " '__',\n",
       " '___',\n",
       " '__builtin__',\n",
       " '__builtins__',\n",
       " '__doc__',\n",
       " '__loader__',\n",
       " '__name__',\n",
       " '__package__',\n",
       " '__spec__',\n",
       " '_dh',\n",
       " '_i',\n",
       " '_i1',\n",
       " '_ih',\n",
       " '_ii',\n",
       " '_iii',\n",
       " '_oh',\n",
       " 'exit',\n",
       " 'get_ipython',\n",
       " 'quit']"
      ]
     },
     "execution_count": 1,
     "metadata": {},
     "output_type": "execute_result"
    }
   ],
   "source": [
    "dir()"
   ]
  },
  {
   "cell_type": "code",
   "execution_count": 1,
   "id": "34ee3a49",
   "metadata": {},
   "outputs": [
    {
     "data": {
      "text/plain": [
       "['In',\n",
       " 'Out',\n",
       " '_',\n",
       " '__',\n",
       " '___',\n",
       " '__builtin__',\n",
       " '__builtins__',\n",
       " '__doc__',\n",
       " '__loader__',\n",
       " '__name__',\n",
       " '__package__',\n",
       " '__spec__',\n",
       " '_dh',\n",
       " '_i',\n",
       " '_i1',\n",
       " '_ih',\n",
       " '_ii',\n",
       " '_iii',\n",
       " '_oh',\n",
       " 'exit',\n",
       " 'get_ipython',\n",
       " 'quit']"
      ]
     },
     "execution_count": 1,
     "metadata": {},
     "output_type": "execute_result"
    }
   ],
   "source": [
    "dir()"
   ]
  },
  {
   "cell_type": "code",
   "execution_count": 2,
   "id": "d22c2c56",
   "metadata": {},
   "outputs": [
    {
     "data": {
      "text/plain": [
       "<_io.TextIOWrapper name='module.py' mode='w' encoding='cp1252'>"
      ]
     },
     "execution_count": 2,
     "metadata": {},
     "output_type": "execute_result"
    }
   ],
   "source": [
    "open(\"module.py\",\"w\")"
   ]
  },
  {
   "cell_type": "code",
   "execution_count": 5,
   "id": "831c72e8",
   "metadata": {},
   "outputs": [],
   "source": [
    "import module"
   ]
  },
  {
   "cell_type": "code",
   "execution_count": 7,
   "id": "e8b78253",
   "metadata": {},
   "outputs": [
    {
     "data": {
      "text/plain": [
       "'iNeuron'"
      ]
     },
     "execution_count": 7,
     "metadata": {},
     "output_type": "execute_result"
    }
   ],
   "source": [
    "module.institute()"
   ]
  },
  {
   "cell_type": "code",
   "execution_count": 8,
   "id": "835de19a",
   "metadata": {},
   "outputs": [
    {
     "data": {
      "text/plain": [
       "['datascience', 'dataanalytics', 'blockchain', 'UI']"
      ]
     },
     "execution_count": 8,
     "metadata": {},
     "output_type": "execute_result"
    }
   ],
   "source": [
    "module.get_course()"
   ]
  },
  {
   "cell_type": "code",
   "execution_count": null,
   "id": "43b7b95b",
   "metadata": {},
   "outputs": [],
   "source": [
    "# packages -  collection of module  [placing files in 1 folder]\n",
    "# module - single file"
   ]
  },
  {
   "cell_type": "code",
   "execution_count": 1,
   "id": "6ee1c0f3",
   "metadata": {},
   "outputs": [],
   "source": [
    "import os"
   ]
  },
  {
   "cell_type": "code",
   "execution_count": 3,
   "id": "dfb32ee3",
   "metadata": {},
   "outputs": [
    {
     "data": {
      "text/plain": [
       "'C:\\\\Users\\\\user\\\\Desktop\\\\PYTHON'"
      ]
     },
     "execution_count": 3,
     "metadata": {},
     "output_type": "execute_result"
    }
   ],
   "source": [
    "os.getcwd()                       # current working directory"
   ]
  },
  {
   "cell_type": "code",
   "execution_count": null,
   "id": "d52fe128",
   "metadata": {},
   "outputs": [],
   "source": []
  }
 ],
 "metadata": {
  "kernelspec": {
   "display_name": "Python 3 (ipykernel)",
   "language": "python",
   "name": "python3"
  },
  "language_info": {
   "codemirror_mode": {
    "name": "ipython",
    "version": 3
   },
   "file_extension": ".py",
   "mimetype": "text/x-python",
   "name": "python",
   "nbconvert_exporter": "python",
   "pygments_lexer": "ipython3",
   "version": "3.9.13"
  }
 },
 "nbformat": 4,
 "nbformat_minor": 5
}
